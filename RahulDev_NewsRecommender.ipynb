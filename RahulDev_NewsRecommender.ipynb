{
 "cells": [
  {
   "cell_type": "code",
   "execution_count": 1,
   "metadata": {},
   "outputs": [],
   "source": [
    "import numpy as np\n",
    "import pandas as pd\n",
    "import matplotlib.pyplot as plt\n",
    "\n",
    "import seaborn as sns\n"
   ]
  },
  {
   "cell_type": "code",
   "execution_count": 2,
   "metadata": {},
   "outputs": [],
   "source": [
    "from nltk.tokenize import word_tokenize\n",
    "from nltk.corpus import stopwords"
   ]
  },
  {
   "cell_type": "code",
   "execution_count": 1,
   "metadata": {},
   "outputs": [],
   "source": [
    "# Problem statement\n",
    "# iPrint being a cutting-edge company, is trying to solve this issue of revenue leakage by personalising user tastes \n",
    "# and introducing new content to its users at the start of the day on the home page of the application. \n",
    "# iPrint is planning to assess these recommendations by tracking whether the user clicks on those items or not. \n",
    "# Moreover, once the user clicks on any news item A, it wants to recommend news similar to the news A, at the bottom of the page of \n",
    "# the news item A. \n",
    "# Two data sets are available \n",
    "# 1. consumer_transactions\n",
    "# 2. platform_content\n"
   ]
  },
  {
   "cell_type": "markdown",
   "metadata": {},
   "source": [
    "# Consumer Transanctions analysis"
   ]
  },
  {
   "cell_type": "code",
   "execution_count": 3,
   "metadata": {},
   "outputs": [
    {
     "name": "stderr",
     "output_type": "stream",
     "text": [
      "C:\\Users\\Admin\\anaconda3\\lib\\site-packages\\IPython\\core\\interactiveshell.py:3063: DtypeWarning: Columns (4) have mixed types.Specify dtype option on import or set low_memory=False.\n",
      "  interactivity=interactivity, compiler=compiler, result=result)\n"
     ]
    }
   ],
   "source": [
    "# Read the conssumer transaction data\n",
    "consuTrx = pd.read_csv(\"./data/consumer_transanctions.csv\")"
   ]
  },
  {
   "cell_type": "code",
   "execution_count": 4,
   "metadata": {},
   "outputs": [
    {
     "data": {
      "text/html": [
       "<div>\n",
       "<style scoped>\n",
       "    .dataframe tbody tr th:only-of-type {\n",
       "        vertical-align: middle;\n",
       "    }\n",
       "\n",
       "    .dataframe tbody tr th {\n",
       "        vertical-align: top;\n",
       "    }\n",
       "\n",
       "    .dataframe thead th {\n",
       "        text-align: right;\n",
       "    }\n",
       "</style>\n",
       "<table border=\"1\" class=\"dataframe\">\n",
       "  <thead>\n",
       "    <tr style=\"text-align: right;\">\n",
       "      <th></th>\n",
       "      <th>event_timestamp</th>\n",
       "      <th>interaction_type</th>\n",
       "      <th>item_id</th>\n",
       "      <th>consumer_id</th>\n",
       "      <th>consumer_session_id</th>\n",
       "      <th>consumer_device_info</th>\n",
       "      <th>consumer_location</th>\n",
       "      <th>country</th>\n",
       "    </tr>\n",
       "  </thead>\n",
       "  <tbody>\n",
       "    <tr>\n",
       "      <th>0</th>\n",
       "      <td>1465413032</td>\n",
       "      <td>content_watched</td>\n",
       "      <td>-3499919498720038879</td>\n",
       "      <td>-8845298781299428018</td>\n",
       "      <td>1264196770339959068</td>\n",
       "      <td>NaN</td>\n",
       "      <td>NaN</td>\n",
       "      <td>NaN</td>\n",
       "    </tr>\n",
       "    <tr>\n",
       "      <th>1</th>\n",
       "      <td>1465412560</td>\n",
       "      <td>content_watched</td>\n",
       "      <td>8890720798209849691</td>\n",
       "      <td>-1032019229384696495</td>\n",
       "      <td>3621737643587579081</td>\n",
       "      <td>Mozilla/5.0 (Macintosh; Intel Mac OS X 10_11_2...</td>\n",
       "      <td>NY</td>\n",
       "      <td>US</td>\n",
       "    </tr>\n",
       "    <tr>\n",
       "      <th>2</th>\n",
       "      <td>1465416190</td>\n",
       "      <td>content_watched</td>\n",
       "      <td>310515487419366995</td>\n",
       "      <td>-1130272294246983140</td>\n",
       "      <td>2631864456530402479</td>\n",
       "      <td>NaN</td>\n",
       "      <td>NaN</td>\n",
       "      <td>NaN</td>\n",
       "    </tr>\n",
       "    <tr>\n",
       "      <th>3</th>\n",
       "      <td>1465413895</td>\n",
       "      <td>content_followed</td>\n",
       "      <td>310515487419366995</td>\n",
       "      <td>344280948527967603</td>\n",
       "      <td>-3167637573980064150</td>\n",
       "      <td>NaN</td>\n",
       "      <td>NaN</td>\n",
       "      <td>NaN</td>\n",
       "    </tr>\n",
       "    <tr>\n",
       "      <th>4</th>\n",
       "      <td>1465412290</td>\n",
       "      <td>content_watched</td>\n",
       "      <td>-7820640624231356730</td>\n",
       "      <td>-445337111692715325</td>\n",
       "      <td>561148 1178424124714</td>\n",
       "      <td>NaN</td>\n",
       "      <td>NaN</td>\n",
       "      <td>NaN</td>\n",
       "    </tr>\n",
       "    <tr>\n",
       "      <th>5</th>\n",
       "      <td>1465413742</td>\n",
       "      <td>content_watched</td>\n",
       "      <td>310515487419366995</td>\n",
       "      <td>-8763398617720485024</td>\n",
       "      <td>1395789369402380392</td>\n",
       "      <td>Mozilla/5.0 (Windows NT 10.0; WOW64) AppleWebK...</td>\n",
       "      <td>MG</td>\n",
       "      <td>BR</td>\n",
       "    </tr>\n",
       "    <tr>\n",
       "      <th>6</th>\n",
       "      <td>1465415950</td>\n",
       "      <td>content_watched</td>\n",
       "      <td>-8864073373672512525</td>\n",
       "      <td>3609194402293569455</td>\n",
       "      <td>1143207167886864524</td>\n",
       "      <td>NaN</td>\n",
       "      <td>NaN</td>\n",
       "      <td>NaN</td>\n",
       "    </tr>\n",
       "    <tr>\n",
       "      <th>7</th>\n",
       "      <td>1465415066</td>\n",
       "      <td>content_watched</td>\n",
       "      <td>-1492913151930215984</td>\n",
       "      <td>4254153380739593270</td>\n",
       "      <td>8743229464706506141</td>\n",
       "      <td>Mozilla/5.0 (X11; Linux x86_64) AppleWebKit/53...</td>\n",
       "      <td>SP</td>\n",
       "      <td>BR</td>\n",
       "    </tr>\n",
       "    <tr>\n",
       "      <th>8</th>\n",
       "      <td>1465413762</td>\n",
       "      <td>content_watched</td>\n",
       "      <td>310515487419366995</td>\n",
       "      <td>344280948527967603</td>\n",
       "      <td>-3167637573980064150</td>\n",
       "      <td>NaN</td>\n",
       "      <td>NaN</td>\n",
       "      <td>NaN</td>\n",
       "    </tr>\n",
       "    <tr>\n",
       "      <th>9</th>\n",
       "      <td>1465413771</td>\n",
       "      <td>content_watched</td>\n",
       "      <td>3064370296170038610</td>\n",
       "      <td>3609194402293569455</td>\n",
       "      <td>1143207167886864524</td>\n",
       "      <td>NaN</td>\n",
       "      <td>NaN</td>\n",
       "      <td>NaN</td>\n",
       "    </tr>\n",
       "  </tbody>\n",
       "</table>\n",
       "</div>"
      ],
      "text/plain": [
       "   event_timestamp  interaction_type              item_id  \\\n",
       "0       1465413032   content_watched -3499919498720038879   \n",
       "1       1465412560   content_watched  8890720798209849691   \n",
       "2       1465416190   content_watched   310515487419366995   \n",
       "3       1465413895  content_followed   310515487419366995   \n",
       "4       1465412290   content_watched -7820640624231356730   \n",
       "5       1465413742   content_watched   310515487419366995   \n",
       "6       1465415950   content_watched -8864073373672512525   \n",
       "7       1465415066   content_watched -1492913151930215984   \n",
       "8       1465413762   content_watched   310515487419366995   \n",
       "9       1465413771   content_watched  3064370296170038610   \n",
       "\n",
       "           consumer_id   consumer_session_id  \\\n",
       "0 -8845298781299428018   1264196770339959068   \n",
       "1 -1032019229384696495   3621737643587579081   \n",
       "2 -1130272294246983140   2631864456530402479   \n",
       "3   344280948527967603  -3167637573980064150   \n",
       "4  -445337111692715325  561148 1178424124714   \n",
       "5 -8763398617720485024   1395789369402380392   \n",
       "6  3609194402293569455   1143207167886864524   \n",
       "7  4254153380739593270   8743229464706506141   \n",
       "8   344280948527967603  -3167637573980064150   \n",
       "9  3609194402293569455   1143207167886864524   \n",
       "\n",
       "                                consumer_device_info consumer_location country  \n",
       "0                                                NaN               NaN     NaN  \n",
       "1  Mozilla/5.0 (Macintosh; Intel Mac OS X 10_11_2...                NY      US  \n",
       "2                                                NaN               NaN     NaN  \n",
       "3                                                NaN               NaN     NaN  \n",
       "4                                                NaN               NaN     NaN  \n",
       "5  Mozilla/5.0 (Windows NT 10.0; WOW64) AppleWebK...                MG      BR  \n",
       "6                                                NaN               NaN     NaN  \n",
       "7  Mozilla/5.0 (X11; Linux x86_64) AppleWebKit/53...                SP      BR  \n",
       "8                                                NaN               NaN     NaN  \n",
       "9                                                NaN               NaN     NaN  "
      ]
     },
     "execution_count": 4,
     "metadata": {},
     "output_type": "execute_result"
    }
   ],
   "source": [
    "consuTrx.head(10)"
   ]
  },
  {
   "cell_type": "code",
   "execution_count": 5,
   "metadata": {},
   "outputs": [
    {
     "data": {
      "text/html": [
       "<div>\n",
       "<style scoped>\n",
       "    .dataframe tbody tr th:only-of-type {\n",
       "        vertical-align: middle;\n",
       "    }\n",
       "\n",
       "    .dataframe tbody tr th {\n",
       "        vertical-align: top;\n",
       "    }\n",
       "\n",
       "    .dataframe thead th {\n",
       "        text-align: right;\n",
       "    }\n",
       "</style>\n",
       "<table border=\"1\" class=\"dataframe\">\n",
       "  <thead>\n",
       "    <tr style=\"text-align: right;\">\n",
       "      <th></th>\n",
       "      <th>event_timestamp</th>\n",
       "      <th>item_id</th>\n",
       "      <th>consumer_id</th>\n",
       "    </tr>\n",
       "  </thead>\n",
       "  <tbody>\n",
       "    <tr>\n",
       "      <th>count</th>\n",
       "      <td>7.231200e+04</td>\n",
       "      <td>7.231200e+04</td>\n",
       "      <td>7.231200e+04</td>\n",
       "    </tr>\n",
       "    <tr>\n",
       "      <th>mean</th>\n",
       "      <td>1.470103e+09</td>\n",
       "      <td>-3.033423e+16</td>\n",
       "      <td>1.252026e+16</td>\n",
       "    </tr>\n",
       "    <tr>\n",
       "      <th>std</th>\n",
       "      <td>7.258130e+06</td>\n",
       "      <td>5.344755e+18</td>\n",
       "      <td>5.022333e+18</td>\n",
       "    </tr>\n",
       "    <tr>\n",
       "      <th>min</th>\n",
       "      <td>1.457964e+09</td>\n",
       "      <td>-9.222795e+18</td>\n",
       "      <td>-9.223122e+18</td>\n",
       "    </tr>\n",
       "    <tr>\n",
       "      <th>25%</th>\n",
       "      <td>1.464876e+09</td>\n",
       "      <td>-4.726309e+18</td>\n",
       "      <td>-3.596627e+18</td>\n",
       "    </tr>\n",
       "    <tr>\n",
       "      <th>50%</th>\n",
       "      <td>1.468343e+09</td>\n",
       "      <td>1.893099e+16</td>\n",
       "      <td>-1.088422e+17</td>\n",
       "    </tr>\n",
       "    <tr>\n",
       "      <th>75%</th>\n",
       "      <td>1.474461e+09</td>\n",
       "      <td>4.441012e+18</td>\n",
       "      <td>3.766319e+18</td>\n",
       "    </tr>\n",
       "    <tr>\n",
       "      <th>max</th>\n",
       "      <td>1.488310e+09</td>\n",
       "      <td>9.222265e+18</td>\n",
       "      <td>9.210531e+18</td>\n",
       "    </tr>\n",
       "  </tbody>\n",
       "</table>\n",
       "</div>"
      ],
      "text/plain": [
       "       event_timestamp       item_id   consumer_id\n",
       "count     7.231200e+04  7.231200e+04  7.231200e+04\n",
       "mean      1.470103e+09 -3.033423e+16  1.252026e+16\n",
       "std       7.258130e+06  5.344755e+18  5.022333e+18\n",
       "min       1.457964e+09 -9.222795e+18 -9.223122e+18\n",
       "25%       1.464876e+09 -4.726309e+18 -3.596627e+18\n",
       "50%       1.468343e+09  1.893099e+16 -1.088422e+17\n",
       "75%       1.474461e+09  4.441012e+18  3.766319e+18\n",
       "max       1.488310e+09  9.222265e+18  9.210531e+18"
      ]
     },
     "execution_count": 5,
     "metadata": {},
     "output_type": "execute_result"
    }
   ],
   "source": [
    "consuTrx.describe()"
   ]
  },
  {
   "cell_type": "code",
   "execution_count": 6,
   "metadata": {},
   "outputs": [
    {
     "name": "stdout",
     "output_type": "stream",
     "text": [
      "<class 'pandas.core.frame.DataFrame'>\n",
      "RangeIndex: 72312 entries, 0 to 72311\n",
      "Data columns (total 8 columns):\n",
      " #   Column                Non-Null Count  Dtype \n",
      "---  ------                --------------  ----- \n",
      " 0   event_timestamp       72312 non-null  int64 \n",
      " 1   interaction_type      72312 non-null  object\n",
      " 2   item_id               72312 non-null  int64 \n",
      " 3   consumer_id           72312 non-null  int64 \n",
      " 4   consumer_session_id   72312 non-null  object\n",
      " 5   consumer_device_info  56918 non-null  object\n",
      " 6   consumer_location     56907 non-null  object\n",
      " 7   country               56918 non-null  object\n",
      "dtypes: int64(3), object(5)\n",
      "memory usage: 4.4+ MB\n"
     ]
    }
   ],
   "source": [
    "consuTrx.info()"
   ]
  },
  {
   "cell_type": "code",
   "execution_count": 7,
   "metadata": {},
   "outputs": [
    {
     "data": {
      "text/plain": [
       "21.2883062285651"
      ]
     },
     "execution_count": 7,
     "metadata": {},
     "output_type": "execute_result"
    }
   ],
   "source": [
    "## % of non null in  consumer_device_info  \n",
    "(1 - 56918 /72312 )*100\n"
   ]
  },
  {
   "cell_type": "code",
   "execution_count": 8,
   "metadata": {},
   "outputs": [
    {
     "data": {
      "image/png": "[encoded data removed]",
      "text/plain": [
       "<Figure size 432x288 with 1 Axes>"
      ]
     },
     "metadata": {
      "needs_background": "light"
     },
     "output_type": "display_data"
    }
   ],
   "source": [
    "inxType  =  sns.countplot(x=\"interaction_type\", data=consuTrx[['interaction_type']])\n",
    "inxType.set_xticklabels(inxType.get_xticklabels(), rotation=45,horizontalalignment='right')\n",
    "plt.show()"
   ]
  },
  {
   "cell_type": "code",
   "execution_count": 9,
   "metadata": {},
   "outputs": [],
   "source": [
    "# Most of the content is watched. It seems other intraction types may be sub set of watched content we will check this latter"
   ]
  },
  {
   "cell_type": "code",
   "execution_count": 10,
   "metadata": {},
   "outputs": [
    {
     "data": {
      "text/plain": [
       "array(['NY', 'MG', 'SP', 'RJ', 'GA', 'CA', '?', 'NJ', 'TX', '49', 'MH',\n",
       "       'D', 'PA', 'VA', 'BE', 'AZ', 'IL', 'MI', 'FL', 'ES', 'BW', 'MA',\n",
       "       'PR', 'BC', 'NSW', 'DF', 'C', 'HE', 'ON', 'MS', '13', '11', 'DC',\n",
       "       'NE', 'NC', '33', 'CO', 'LA', 'ENG', 'GO', '14', 'IN', 'CT', '45',\n",
       "       '27', 'WA', 'PE', 'MO', 'MN', 'RS', 'NH', '41', 'SC', 'BA', 'WI',\n",
       "       'RM', 'OK', 'OH', 'CE', 'RI', 'AB', 'R', 'BOL', 'NV', 'OR', 'KS',\n",
       "       'ZH', 'MT', 'QLD', 'PI', 'CL'], dtype=object)"
      ]
     },
     "execution_count": 10,
     "metadata": {},
     "output_type": "execute_result"
    }
   ],
   "source": [
    "consuTrx[consuTrx['consumer_location'].notna()]['consumer_location'].unique()"
   ]
  },
  {
   "cell_type": "code",
   "execution_count": 11,
   "metadata": {},
   "outputs": [],
   "source": [
    "consuTrx['consumer_location'] = consuTrx['consumer_location'].fillna('NaN')"
   ]
  },
  {
   "cell_type": "code",
   "execution_count": 12,
   "metadata": {},
   "outputs": [],
   "source": [
    "consuTrx['consumer_location'] = consuTrx['consumer_location'].replace('?','NaN')"
   ]
  },
  {
   "cell_type": "code",
   "execution_count": 13,
   "metadata": {},
   "outputs": [
    {
     "data": {
      "image/png": "[encoded data removed]",
      "text/plain": [
       "<Figure size 432x288 with 1 Axes>"
      ]
     },
     "metadata": {
      "needs_background": "light"
     },
     "output_type": "display_data"
    }
   ],
   "source": [
    "conLoc  =  sns.countplot(x=\"consumer_location\", data=consuTrx.groupby('consumer_location').filter(lambda x: len(x) >100))\n",
    "conLoc.set_xticklabels(conLoc.get_xticklabels(), rotation=45,horizontalalignment='right')\n",
    "xticks=conLoc.xaxis.get_major_ticks()\n",
    "plt.show()"
   ]
  },
  {
   "cell_type": "code",
   "execution_count": 14,
   "metadata": {},
   "outputs": [],
   "source": [
    "# Keeping 'NaN' values as we dont want to lose data also we see that most of the data is consumed at 'SP'"
   ]
  },
  {
   "cell_type": "code",
   "execution_count": 15,
   "metadata": {},
   "outputs": [
    {
     "data": {
      "text/plain": [
       "array(['US', 'BR', 'JP', 'KR', 'IN', 'IE', 'SG', 'DE', 'CA', 'IS', 'AU',\n",
       "       'ZZ', 'ES', 'CN', 'GB', 'MY', 'AR', 'NL', 'CL', 'IT', 'CO', 'PT',\n",
       "       'CH'], dtype=object)"
      ]
     },
     "execution_count": 15,
     "metadata": {},
     "output_type": "execute_result"
    }
   ],
   "source": [
    "consuTrx[consuTrx['country'].notna()]['country'].unique()"
   ]
  },
  {
   "cell_type": "code",
   "execution_count": 16,
   "metadata": {},
   "outputs": [],
   "source": [
    "consuTrx['country'] = consuTrx['country'].fillna('NaN')"
   ]
  },
  {
   "cell_type": "code",
   "execution_count": 17,
   "metadata": {},
   "outputs": [
    {
     "data": {
      "image/png": "[encoded data removed]",
      "text/plain": [
       "<Figure size 432x288 with 1 Axes>"
      ]
     },
     "metadata": {
      "needs_background": "light"
     },
     "output_type": "display_data"
    }
   ],
   "source": [
    "conLoc  =  sns.countplot(x=\"country\", data=consuTrx[['country']])\n",
    "conLoc.set_xticklabels(conLoc.get_xticklabels(), rotation=45,horizontalalignment='right')\n",
    "xticks=conLoc.xaxis.get_major_ticks()\n",
    "plt.show()"
   ]
  },
  {
   "cell_type": "markdown",
   "metadata": {},
   "source": [
    " #### ------------------------------------------- Create ratings column -------------------------------------------              "
   ]
  },
  {
   "cell_type": "code",
   "execution_count": 18,
   "metadata": {},
   "outputs": [
    {
     "data": {
      "text/plain": [
       "array(['content_watched', 'content_followed', 'content_saved',\n",
       "       'content_liked', 'content_commented_on'], dtype=object)"
      ]
     },
     "execution_count": 18,
     "metadata": {},
     "output_type": "execute_result"
    }
   ],
   "source": [
    "# ratins can be given based on intraction type :  content_followed=5,content_commented_on=4,content_saved=3,content_liked=2 and content_watched=1\n",
    "consuTrx['interaction_type'].unique()"
   ]
  },
  {
   "cell_type": "code",
   "execution_count": 19,
   "metadata": {},
   "outputs": [],
   "source": [
    "consuTrx.loc[consuTrx['interaction_type'] == 'content_followed', 'rating'] = 5\n",
    "consuTrx.loc[consuTrx['interaction_type'] == 'content_commented_on', 'rating'] = 4\n",
    "consuTrx.loc[consuTrx['interaction_type'] == 'content_saved', 'rating'] = 3\n",
    "consuTrx.loc[consuTrx['interaction_type'] == 'content_liked', 'rating'] = 2\n",
    "consuTrx.loc[consuTrx['interaction_type'] == 'content_watched', 'rating'] = 1"
   ]
  },
  {
   "cell_type": "code",
   "execution_count": 20,
   "metadata": {},
   "outputs": [
    {
     "data": {
      "text/html": [
       "<div>\n",
       "<style scoped>\n",
       "    .dataframe tbody tr th:only-of-type {\n",
       "        vertical-align: middle;\n",
       "    }\n",
       "\n",
       "    .dataframe tbody tr th {\n",
       "        vertical-align: top;\n",
       "    }\n",
       "\n",
       "    .dataframe thead th {\n",
       "        text-align: right;\n",
       "    }\n",
       "</style>\n",
       "<table border=\"1\" class=\"dataframe\">\n",
       "  <thead>\n",
       "    <tr style=\"text-align: right;\">\n",
       "      <th></th>\n",
       "      <th>event_timestamp</th>\n",
       "      <th>interaction_type</th>\n",
       "      <th>item_id</th>\n",
       "      <th>consumer_id</th>\n",
       "      <th>consumer_session_id</th>\n",
       "      <th>consumer_device_info</th>\n",
       "      <th>consumer_location</th>\n",
       "      <th>country</th>\n",
       "      <th>rating</th>\n",
       "    </tr>\n",
       "  </thead>\n",
       "  <tbody>\n",
       "    <tr>\n",
       "      <th>0</th>\n",
       "      <td>1465413032</td>\n",
       "      <td>content_watched</td>\n",
       "      <td>-3499919498720038879</td>\n",
       "      <td>-8845298781299428018</td>\n",
       "      <td>1264196770339959068</td>\n",
       "      <td>NaN</td>\n",
       "      <td>NaN</td>\n",
       "      <td>NaN</td>\n",
       "      <td>1.0</td>\n",
       "    </tr>\n",
       "    <tr>\n",
       "      <th>1</th>\n",
       "      <td>1465412560</td>\n",
       "      <td>content_watched</td>\n",
       "      <td>8890720798209849691</td>\n",
       "      <td>-1032019229384696495</td>\n",
       "      <td>3621737643587579081</td>\n",
       "      <td>Mozilla/5.0 (Macintosh; Intel Mac OS X 10_11_2...</td>\n",
       "      <td>NY</td>\n",
       "      <td>US</td>\n",
       "      <td>1.0</td>\n",
       "    </tr>\n",
       "    <tr>\n",
       "      <th>2</th>\n",
       "      <td>1465416190</td>\n",
       "      <td>content_watched</td>\n",
       "      <td>310515487419366995</td>\n",
       "      <td>-1130272294246983140</td>\n",
       "      <td>2631864456530402479</td>\n",
       "      <td>NaN</td>\n",
       "      <td>NaN</td>\n",
       "      <td>NaN</td>\n",
       "      <td>1.0</td>\n",
       "    </tr>\n",
       "    <tr>\n",
       "      <th>3</th>\n",
       "      <td>1465413895</td>\n",
       "      <td>content_followed</td>\n",
       "      <td>310515487419366995</td>\n",
       "      <td>344280948527967603</td>\n",
       "      <td>-3167637573980064150</td>\n",
       "      <td>NaN</td>\n",
       "      <td>NaN</td>\n",
       "      <td>NaN</td>\n",
       "      <td>5.0</td>\n",
       "    </tr>\n",
       "    <tr>\n",
       "      <th>4</th>\n",
       "      <td>1465412290</td>\n",
       "      <td>content_watched</td>\n",
       "      <td>-7820640624231356730</td>\n",
       "      <td>-445337111692715325</td>\n",
       "      <td>561148 1178424124714</td>\n",
       "      <td>NaN</td>\n",
       "      <td>NaN</td>\n",
       "      <td>NaN</td>\n",
       "      <td>1.0</td>\n",
       "    </tr>\n",
       "  </tbody>\n",
       "</table>\n",
       "</div>"
      ],
      "text/plain": [
       "   event_timestamp  interaction_type              item_id  \\\n",
       "0       1465413032   content_watched -3499919498720038879   \n",
       "1       1465412560   content_watched  8890720798209849691   \n",
       "2       1465416190   content_watched   310515487419366995   \n",
       "3       1465413895  content_followed   310515487419366995   \n",
       "4       1465412290   content_watched -7820640624231356730   \n",
       "\n",
       "           consumer_id   consumer_session_id  \\\n",
       "0 -8845298781299428018   1264196770339959068   \n",
       "1 -1032019229384696495   3621737643587579081   \n",
       "2 -1130272294246983140   2631864456530402479   \n",
       "3   344280948527967603  -3167637573980064150   \n",
       "4  -445337111692715325  561148 1178424124714   \n",
       "\n",
       "                                consumer_device_info consumer_location  \\\n",
       "0                                                NaN               NaN   \n",
       "1  Mozilla/5.0 (Macintosh; Intel Mac OS X 10_11_2...                NY   \n",
       "2                                                NaN               NaN   \n",
       "3                                                NaN               NaN   \n",
       "4                                                NaN               NaN   \n",
       "\n",
       "  country  rating  \n",
       "0     NaN     1.0  \n",
       "1      US     1.0  \n",
       "2     NaN     1.0  \n",
       "3     NaN     5.0  \n",
       "4     NaN     1.0  "
      ]
     },
     "execution_count": 20,
     "metadata": {},
     "output_type": "execute_result"
    }
   ],
   "source": [
    "consuTrx.head()"
   ]
  },
  {
   "cell_type": "code",
   "execution_count": 21,
   "metadata": {},
   "outputs": [],
   "source": [
    "## convert -ve item_id and Cunsumer_id in +ve integers\n",
    "\n",
    "consuTrx['consumer_code'] = consuTrx.consumer_id.astype('category').cat.codes\n",
    "consuTrx['item_code'] = consuTrx.item_id.astype('category').cat.codes"
   ]
  },
  {
   "cell_type": "code",
   "execution_count": 22,
   "metadata": {},
   "outputs": [
    {
     "data": {
      "text/html": [
       "<div>\n",
       "<style scoped>\n",
       "    .dataframe tbody tr th:only-of-type {\n",
       "        vertical-align: middle;\n",
       "    }\n",
       "\n",
       "    .dataframe tbody tr th {\n",
       "        vertical-align: top;\n",
       "    }\n",
       "\n",
       "    .dataframe thead th {\n",
       "        text-align: right;\n",
       "    }\n",
       "</style>\n",
       "<table border=\"1\" class=\"dataframe\">\n",
       "  <thead>\n",
       "    <tr style=\"text-align: right;\">\n",
       "      <th></th>\n",
       "      <th>event_timestamp</th>\n",
       "      <th>interaction_type</th>\n",
       "      <th>item_id</th>\n",
       "      <th>consumer_id</th>\n",
       "      <th>consumer_session_id</th>\n",
       "      <th>consumer_device_info</th>\n",
       "      <th>consumer_location</th>\n",
       "      <th>country</th>\n",
       "      <th>rating</th>\n",
       "      <th>consumer_code</th>\n",
       "      <th>item_code</th>\n",
       "    </tr>\n",
       "  </thead>\n",
       "  <tbody>\n",
       "    <tr>\n",
       "      <th>31165</th>\n",
       "      <td>1465914778</td>\n",
       "      <td>content_watched</td>\n",
       "      <td>-9222795471790223670</td>\n",
       "      <td>1895326251577378793</td>\n",
       "      <td>6308214842927573276</td>\n",
       "      <td>NaN</td>\n",
       "      <td>NaN</td>\n",
       "      <td>NaN</td>\n",
       "      <td>1.0</td>\n",
       "      <td>1142</td>\n",
       "      <td>0</td>\n",
       "    </tr>\n",
       "    <tr>\n",
       "      <th>21445</th>\n",
       "      <td>1466479101</td>\n",
       "      <td>content_watched</td>\n",
       "      <td>-9222795471790223670</td>\n",
       "      <td>-5868110530814399805</td>\n",
       "      <td>6952168570162227005</td>\n",
       "      <td>Mozilla/5.0 (Macintosh; Intel Mac OS X 10_11_5...</td>\n",
       "      <td>13</td>\n",
       "      <td>JP</td>\n",
       "      <td>1.0</td>\n",
       "      <td>333</td>\n",
       "      <td>0</td>\n",
       "    </tr>\n",
       "    <tr>\n",
       "      <th>21452</th>\n",
       "      <td>1466479101</td>\n",
       "      <td>content_watched</td>\n",
       "      <td>-9222795471790223670</td>\n",
       "      <td>-5868110530814399805</td>\n",
       "      <td>6952168570162227005</td>\n",
       "      <td>NaN</td>\n",
       "      <td>NaN</td>\n",
       "      <td>NaN</td>\n",
       "      <td>1.0</td>\n",
       "      <td>333</td>\n",
       "      <td>0</td>\n",
       "    </tr>\n",
       "    <tr>\n",
       "      <th>31161</th>\n",
       "      <td>1465914310</td>\n",
       "      <td>content_watched</td>\n",
       "      <td>-9222795471790223670</td>\n",
       "      <td>-1032019229384696495</td>\n",
       "      <td>5852254213536064219</td>\n",
       "      <td>Mozilla/5.0 (Macintosh; Intel Mac OS X 10_11_2...</td>\n",
       "      <td>NY</td>\n",
       "      <td>US</td>\n",
       "      <td>1.0</td>\n",
       "      <td>831</td>\n",
       "      <td>0</td>\n",
       "    </tr>\n",
       "    <tr>\n",
       "      <th>31163</th>\n",
       "      <td>1465914269</td>\n",
       "      <td>content_followed</td>\n",
       "      <td>-9222795471790223670</td>\n",
       "      <td>1895326251577378793</td>\n",
       "      <td>6308214842927573276</td>\n",
       "      <td>NaN</td>\n",
       "      <td>NaN</td>\n",
       "      <td>NaN</td>\n",
       "      <td>5.0</td>\n",
       "      <td>1142</td>\n",
       "      <td>0</td>\n",
       "    </tr>\n",
       "  </tbody>\n",
       "</table>\n",
       "</div>"
      ],
      "text/plain": [
       "       event_timestamp  interaction_type              item_id  \\\n",
       "31165       1465914778   content_watched -9222795471790223670   \n",
       "21445       1466479101   content_watched -9222795471790223670   \n",
       "21452       1466479101   content_watched -9222795471790223670   \n",
       "31161       1465914310   content_watched -9222795471790223670   \n",
       "31163       1465914269  content_followed -9222795471790223670   \n",
       "\n",
       "               consumer_id  consumer_session_id  \\\n",
       "31165  1895326251577378793  6308214842927573276   \n",
       "21445 -5868110530814399805  6952168570162227005   \n",
       "21452 -5868110530814399805  6952168570162227005   \n",
       "31161 -1032019229384696495  5852254213536064219   \n",
       "31163  1895326251577378793  6308214842927573276   \n",
       "\n",
       "                                    consumer_device_info consumer_location  \\\n",
       "31165                                                NaN               NaN   \n",
       "21445  Mozilla/5.0 (Macintosh; Intel Mac OS X 10_11_5...                13   \n",
       "21452                                                NaN               NaN   \n",
       "31161  Mozilla/5.0 (Macintosh; Intel Mac OS X 10_11_2...                NY   \n",
       "31163                                                NaN               NaN   \n",
       "\n",
       "      country  rating  consumer_code  item_code  \n",
       "31165     NaN     1.0           1142          0  \n",
       "21445      JP     1.0            333          0  \n",
       "21452     NaN     1.0            333          0  \n",
       "31161      US     1.0            831          0  \n",
       "31163     NaN     5.0           1142          0  "
      ]
     },
     "execution_count": 22,
     "metadata": {},
     "output_type": "execute_result"
    }
   ],
   "source": [
    "consuTrx.sort_values(by=['item_code']).head()"
   ]
  },
  {
   "cell_type": "code",
   "execution_count": null,
   "metadata": {},
   "outputs": [],
   "source": []
  },
  {
   "cell_type": "code",
   "execution_count": 23,
   "metadata": {},
   "outputs": [],
   "source": [
    "# remove columns which are not required\n",
    "consuTrxForCFilter = consuTrx.drop([\"event_timestamp\",\"interaction_type\",\"consumer_session_id\",\"consumer_device_info\",\"consumer_location\",\"country\"],axis=1)\n"
   ]
  },
  {
   "cell_type": "code",
   "execution_count": 24,
   "metadata": {},
   "outputs": [
    {
     "name": "stdout",
     "output_type": "stream",
     "text": [
      "<class 'pandas.core.frame.DataFrame'>\n",
      "RangeIndex: 72312 entries, 0 to 72311\n",
      "Data columns (total 5 columns):\n",
      " #   Column         Non-Null Count  Dtype  \n",
      "---  ------         --------------  -----  \n",
      " 0   item_id        72312 non-null  int64  \n",
      " 1   consumer_id    72312 non-null  int64  \n",
      " 2   rating         72312 non-null  float64\n",
      " 3   consumer_code  72312 non-null  int16  \n",
      " 4   item_code      72312 non-null  int16  \n",
      "dtypes: float64(1), int16(2), int64(2)\n",
      "memory usage: 1.9 MB\n"
     ]
    }
   ],
   "source": [
    "consuTrxForCFilter.info()"
   ]
  },
  {
   "cell_type": "code",
   "execution_count": 25,
   "metadata": {},
   "outputs": [
    {
     "data": {
      "text/plain": [
       "1895"
      ]
     },
     "execution_count": 25,
     "metadata": {},
     "output_type": "execute_result"
    }
   ],
   "source": [
    "len(consuTrxForCFilter['consumer_id'].unique())"
   ]
  },
  {
   "cell_type": "code",
   "execution_count": 26,
   "metadata": {},
   "outputs": [
    {
     "data": {
      "text/html": [
       "<div>\n",
       "<style scoped>\n",
       "    .dataframe tbody tr th:only-of-type {\n",
       "        vertical-align: middle;\n",
       "    }\n",
       "\n",
       "    .dataframe tbody tr th {\n",
       "        vertical-align: top;\n",
       "    }\n",
       "\n",
       "    .dataframe thead th {\n",
       "        text-align: right;\n",
       "    }\n",
       "</style>\n",
       "<table border=\"1\" class=\"dataframe\">\n",
       "  <thead>\n",
       "    <tr style=\"text-align: right;\">\n",
       "      <th></th>\n",
       "      <th>item_id</th>\n",
       "      <th>item_code</th>\n",
       "    </tr>\n",
       "  </thead>\n",
       "  <tbody>\n",
       "    <tr>\n",
       "      <th>0</th>\n",
       "      <td>-9222795471790223670</td>\n",
       "      <td>0</td>\n",
       "    </tr>\n",
       "    <tr>\n",
       "      <th>1</th>\n",
       "      <td>-9216926795620865886</td>\n",
       "      <td>1</td>\n",
       "    </tr>\n",
       "    <tr>\n",
       "      <th>2</th>\n",
       "      <td>-9194572880052200111</td>\n",
       "      <td>2</td>\n",
       "    </tr>\n",
       "    <tr>\n",
       "      <th>3</th>\n",
       "      <td>-9192549002213406534</td>\n",
       "      <td>3</td>\n",
       "    </tr>\n",
       "    <tr>\n",
       "      <th>4</th>\n",
       "      <td>-9190737901804729417</td>\n",
       "      <td>4</td>\n",
       "    </tr>\n",
       "  </tbody>\n",
       "</table>\n",
       "</div>"
      ],
      "text/plain": [
       "               item_id  item_code\n",
       "0 -9222795471790223670          0\n",
       "1 -9216926795620865886          1\n",
       "2 -9194572880052200111          2\n",
       "3 -9192549002213406534          3\n",
       "4 -9190737901804729417          4"
      ]
     },
     "execution_count": 26,
     "metadata": {},
     "output_type": "execute_result"
    }
   ],
   "source": [
    "# Since at end we need to map item code to item id we create the mapping \n",
    "#consuTrxForCFilter.info()\n",
    "consuTrx_for_merge = consuTrxForCFilter.drop(['consumer_id','consumer_code'],axis=1)\n",
    "\n",
    "#consuTrx_for_merge.info()\n",
    "\n",
    "original_grouped  = consuTrx_for_merge.groupby(['item_id','item_code'])\n",
    "\n",
    "original_grouped = original_grouped.max()\n",
    "\n",
    "original_grouped = original_grouped.reset_index()\n",
    "original_grouped = original_grouped.drop('rating',axis=1)\n",
    "\n",
    "original_grouped.head()"
   ]
  },
  {
   "cell_type": "code",
   "execution_count": 27,
   "metadata": {},
   "outputs": [
    {
     "data": {
      "text/plain": [
       "2987"
      ]
     },
     "execution_count": 27,
     "metadata": {},
     "output_type": "execute_result"
    }
   ],
   "source": [
    "len(original_grouped)"
   ]
  },
  {
   "cell_type": "code",
   "execution_count": 28,
   "metadata": {},
   "outputs": [
    {
     "data": {
      "text/html": [
       "<div>\n",
       "<style scoped>\n",
       "    .dataframe tbody tr th:only-of-type {\n",
       "        vertical-align: middle;\n",
       "    }\n",
       "\n",
       "    .dataframe tbody tr th {\n",
       "        vertical-align: top;\n",
       "    }\n",
       "\n",
       "    .dataframe thead th {\n",
       "        text-align: right;\n",
       "    }\n",
       "</style>\n",
       "<table border=\"1\" class=\"dataframe\">\n",
       "  <thead>\n",
       "    <tr style=\"text-align: right;\">\n",
       "      <th></th>\n",
       "      <th>item_id</th>\n",
       "      <th>item_code</th>\n",
       "    </tr>\n",
       "  </thead>\n",
       "  <tbody>\n",
       "    <tr>\n",
       "      <th>2357</th>\n",
       "      <td>5338677278233757627</td>\n",
       "      <td>2357</td>\n",
       "    </tr>\n",
       "  </tbody>\n",
       "</table>\n",
       "</div>"
      ],
      "text/plain": [
       "                  item_id  item_code\n",
       "2357  5338677278233757627       2357"
      ]
     },
     "execution_count": 28,
     "metadata": {},
     "output_type": "execute_result"
    }
   ],
   "source": [
    "original_grouped[original_grouped['item_code']==2357]"
   ]
  },
  {
   "cell_type": "code",
   "execution_count": 29,
   "metadata": {},
   "outputs": [
    {
     "data": {
      "text/plain": [
       "2357"
      ]
     },
     "execution_count": 29,
     "metadata": {},
     "output_type": "execute_result"
    }
   ],
   "source": [
    "original_grouped[original_grouped['item_id']==5338677278233757627].index[0]\n"
   ]
  },
  {
   "cell_type": "code",
   "execution_count": 30,
   "metadata": {},
   "outputs": [
    {
     "name": "stdout",
     "output_type": "stream",
     "text": [
      "<class 'pandas.core.frame.DataFrame'>\n",
      "Int64Index: 1895 entries, -9223121837663643404 to 9210530975708218054\n",
      "Data columns (total 1 columns):\n",
      " #   Column         Non-Null Count  Dtype\n",
      "---  ------         --------------  -----\n",
      " 0   consumer_code  1895 non-null   int16\n",
      "dtypes: int16(1)\n",
      "memory usage: 18.5 KB\n"
     ]
    }
   ],
   "source": [
    "# grouped over users\n",
    "\n",
    "consumer_for_merge = consuTrxForCFilter.drop(['item_id','item_code','rating'],axis=1)\n",
    "\n",
    "user_grouped  = consumer_for_merge.groupby(['consumer_id'])\n",
    "\n",
    "user_grouped = user_grouped.max()\n",
    "\n",
    "# original_grouped = original_grouped.reset_index()\n",
    "# original_grouped = original_grouped.drop('rating',axis=1)\n",
    "\n",
    "user_grouped.info()"
   ]
  },
  {
   "cell_type": "code",
   "execution_count": 31,
   "metadata": {},
   "outputs": [
    {
     "data": {
      "text/html": [
       "<div>\n",
       "<style scoped>\n",
       "    .dataframe tbody tr th:only-of-type {\n",
       "        vertical-align: middle;\n",
       "    }\n",
       "\n",
       "    .dataframe tbody tr th {\n",
       "        vertical-align: top;\n",
       "    }\n",
       "\n",
       "    .dataframe thead th {\n",
       "        text-align: right;\n",
       "    }\n",
       "</style>\n",
       "<table border=\"1\" class=\"dataframe\">\n",
       "  <thead>\n",
       "    <tr style=\"text-align: right;\">\n",
       "      <th></th>\n",
       "      <th>consumer_code</th>\n",
       "    </tr>\n",
       "    <tr>\n",
       "      <th>consumer_id</th>\n",
       "      <th></th>\n",
       "    </tr>\n",
       "  </thead>\n",
       "  <tbody>\n",
       "    <tr>\n",
       "      <th>-9223121837663643404</th>\n",
       "      <td>0</td>\n",
       "    </tr>\n",
       "    <tr>\n",
       "      <th>-9212075797126931087</th>\n",
       "      <td>1</td>\n",
       "    </tr>\n",
       "    <tr>\n",
       "      <th>-9207251133131336884</th>\n",
       "      <td>2</td>\n",
       "    </tr>\n",
       "    <tr>\n",
       "      <th>-9199575329909162940</th>\n",
       "      <td>3</td>\n",
       "    </tr>\n",
       "    <tr>\n",
       "      <th>-9196668942822132778</th>\n",
       "      <td>4</td>\n",
       "    </tr>\n",
       "    <tr>\n",
       "      <th>...</th>\n",
       "      <td>...</td>\n",
       "    </tr>\n",
       "    <tr>\n",
       "      <th>9165571805999894845</th>\n",
       "      <td>1890</td>\n",
       "    </tr>\n",
       "    <tr>\n",
       "      <th>9187866633451383747</th>\n",
       "      <td>1891</td>\n",
       "    </tr>\n",
       "    <tr>\n",
       "      <th>9191849144618614467</th>\n",
       "      <td>1892</td>\n",
       "    </tr>\n",
       "    <tr>\n",
       "      <th>9199170757466086545</th>\n",
       "      <td>1893</td>\n",
       "    </tr>\n",
       "    <tr>\n",
       "      <th>9210530975708218054</th>\n",
       "      <td>1894</td>\n",
       "    </tr>\n",
       "  </tbody>\n",
       "</table>\n",
       "<p>1895 rows × 1 columns</p>\n",
       "</div>"
      ],
      "text/plain": [
       "                      consumer_code\n",
       "consumer_id                        \n",
       "-9223121837663643404              0\n",
       "-9212075797126931087              1\n",
       "-9207251133131336884              2\n",
       "-9199575329909162940              3\n",
       "-9196668942822132778              4\n",
       "...                             ...\n",
       " 9165571805999894845           1890\n",
       " 9187866633451383747           1891\n",
       " 9191849144618614467           1892\n",
       " 9199170757466086545           1893\n",
       " 9210530975708218054           1894\n",
       "\n",
       "[1895 rows x 1 columns]"
      ]
     },
     "execution_count": 31,
     "metadata": {},
     "output_type": "execute_result"
    }
   ],
   "source": [
    "user_grouped"
   ]
  },
  {
   "cell_type": "code",
   "execution_count": 32,
   "metadata": {},
   "outputs": [
    {
     "data": {
      "text/html": [
       "<div>\n",
       "<style scoped>\n",
       "    .dataframe tbody tr th:only-of-type {\n",
       "        vertical-align: middle;\n",
       "    }\n",
       "\n",
       "    .dataframe tbody tr th {\n",
       "        vertical-align: top;\n",
       "    }\n",
       "\n",
       "    .dataframe thead th {\n",
       "        text-align: right;\n",
       "    }\n",
       "</style>\n",
       "<table border=\"1\" class=\"dataframe\">\n",
       "  <thead>\n",
       "    <tr style=\"text-align: right;\">\n",
       "      <th></th>\n",
       "      <th>consumer_code</th>\n",
       "    </tr>\n",
       "    <tr>\n",
       "      <th>consumer_id</th>\n",
       "      <th></th>\n",
       "    </tr>\n",
       "  </thead>\n",
       "  <tbody>\n",
       "    <tr>\n",
       "      <th>3636910968448833585</th>\n",
       "      <td>1323</td>\n",
       "    </tr>\n",
       "  </tbody>\n",
       "</table>\n",
       "</div>"
      ],
      "text/plain": [
       "                     consumer_code\n",
       "consumer_id                       \n",
       "3636910968448833585           1323"
      ]
     },
     "execution_count": 32,
     "metadata": {},
     "output_type": "execute_result"
    }
   ],
   "source": [
    "user_grouped[user_grouped['consumer_code'] == 1323]"
   ]
  },
  {
   "cell_type": "code",
   "execution_count": 33,
   "metadata": {},
   "outputs": [
    {
     "data": {
      "text/plain": [
       "1323"
      ]
     },
     "execution_count": 33,
     "metadata": {},
     "output_type": "execute_result"
    }
   ],
   "source": [
    "user_grouped.loc[3636910968448833585].consumer_code"
   ]
  },
  {
   "cell_type": "markdown",
   "metadata": {},
   "source": [
    "# ----------------- Platform content analysis -------------------"
   ]
  },
  {
   "cell_type": "code",
   "execution_count": 34,
   "metadata": {},
   "outputs": [
    {
     "data": {
      "text/html": [
       "<div>\n",
       "<style scoped>\n",
       "    .dataframe tbody tr th:only-of-type {\n",
       "        vertical-align: middle;\n",
       "    }\n",
       "\n",
       "    .dataframe tbody tr th {\n",
       "        vertical-align: top;\n",
       "    }\n",
       "\n",
       "    .dataframe thead th {\n",
       "        text-align: right;\n",
       "    }\n",
       "</style>\n",
       "<table border=\"1\" class=\"dataframe\">\n",
       "  <thead>\n",
       "    <tr style=\"text-align: right;\">\n",
       "      <th></th>\n",
       "      <th>event_timestamp</th>\n",
       "      <th>interaction_type</th>\n",
       "      <th>item_id</th>\n",
       "      <th>producer_id</th>\n",
       "      <th>producer_session_id</th>\n",
       "      <th>producer_device_info</th>\n",
       "      <th>producer_location</th>\n",
       "      <th>producer_country</th>\n",
       "      <th>item_type</th>\n",
       "      <th>item_url</th>\n",
       "      <th>title</th>\n",
       "      <th>text_description</th>\n",
       "      <th>language</th>\n",
       "    </tr>\n",
       "  </thead>\n",
       "  <tbody>\n",
       "    <tr>\n",
       "      <th>0</th>\n",
       "      <td>1459192779</td>\n",
       "      <td>content_pulled_out</td>\n",
       "      <td>-6451309518266745024</td>\n",
       "      <td>4340306774493623681</td>\n",
       "      <td>8940341205206233829</td>\n",
       "      <td>NaN</td>\n",
       "      <td>NaN</td>\n",
       "      <td>NaN</td>\n",
       "      <td>HTML</td>\n",
       "      <td>http://www.nytimes.com/2016/03/28/business/dea...</td>\n",
       "      <td>Ethereum, a Virtual Currency, Enables Transact...</td>\n",
       "      <td>All of this work is still very early. The firs...</td>\n",
       "      <td>en</td>\n",
       "    </tr>\n",
       "    <tr>\n",
       "      <th>1</th>\n",
       "      <td>1459193988</td>\n",
       "      <td>content_present</td>\n",
       "      <td>-4110354420726924665</td>\n",
       "      <td>4340306774493623681</td>\n",
       "      <td>8940341205206233829</td>\n",
       "      <td>NaN</td>\n",
       "      <td>NaN</td>\n",
       "      <td>NaN</td>\n",
       "      <td>HTML</td>\n",
       "      <td>http://www.nytimes.com/2016/03/28/business/dea...</td>\n",
       "      <td>Ethereum, a Virtual Currency, Enables Transact...</td>\n",
       "      <td>All of this work is still very early. The firs...</td>\n",
       "      <td>en</td>\n",
       "    </tr>\n",
       "    <tr>\n",
       "      <th>2</th>\n",
       "      <td>1459194146</td>\n",
       "      <td>content_present</td>\n",
       "      <td>-7292285110016212249</td>\n",
       "      <td>4340306774493623681</td>\n",
       "      <td>8940341205206233829</td>\n",
       "      <td>NaN</td>\n",
       "      <td>NaN</td>\n",
       "      <td>NaN</td>\n",
       "      <td>HTML</td>\n",
       "      <td>http://cointelegraph.com/news/bitcoin-future-w...</td>\n",
       "      <td>Bitcoin Future: When GBPcoin of Branson Wins O...</td>\n",
       "      <td>The alarm clock wakes me at 8:00 with stream o...</td>\n",
       "      <td>en</td>\n",
       "    </tr>\n",
       "    <tr>\n",
       "      <th>3</th>\n",
       "      <td>1459194474</td>\n",
       "      <td>content_present</td>\n",
       "      <td>-6151852268067518688</td>\n",
       "      <td>3891637997717104548</td>\n",
       "      <td>-1457532940883382585</td>\n",
       "      <td>NaN</td>\n",
       "      <td>NaN</td>\n",
       "      <td>NaN</td>\n",
       "      <td>HTML</td>\n",
       "      <td>https://cloudplatform.googleblog.com/2016/03/G...</td>\n",
       "      <td>Google Data Center 360° Tour</td>\n",
       "      <td>We're excited to share the Google Data Center ...</td>\n",
       "      <td>en</td>\n",
       "    </tr>\n",
       "    <tr>\n",
       "      <th>4</th>\n",
       "      <td>1459194497</td>\n",
       "      <td>content_present</td>\n",
       "      <td>2448026894306402386</td>\n",
       "      <td>4340306774493623681</td>\n",
       "      <td>8940341205206233829</td>\n",
       "      <td>NaN</td>\n",
       "      <td>NaN</td>\n",
       "      <td>NaN</td>\n",
       "      <td>HTML</td>\n",
       "      <td>https://bitcoinmagazine.com/articles/ibm-wants...</td>\n",
       "      <td>IBM Wants to \"Evolve the Internet\" With Blockc...</td>\n",
       "      <td>The Aite Group projects the blockchain market ...</td>\n",
       "      <td>en</td>\n",
       "    </tr>\n",
       "  </tbody>\n",
       "</table>\n",
       "</div>"
      ],
      "text/plain": [
       "   event_timestamp    interaction_type              item_id  \\\n",
       "0       1459192779  content_pulled_out -6451309518266745024   \n",
       "1       1459193988     content_present -4110354420726924665   \n",
       "2       1459194146     content_present -7292285110016212249   \n",
       "3       1459194474     content_present -6151852268067518688   \n",
       "4       1459194497     content_present  2448026894306402386   \n",
       "\n",
       "           producer_id  producer_session_id producer_device_info  \\\n",
       "0  4340306774493623681  8940341205206233829                  NaN   \n",
       "1  4340306774493623681  8940341205206233829                  NaN   \n",
       "2  4340306774493623681  8940341205206233829                  NaN   \n",
       "3  3891637997717104548 -1457532940883382585                  NaN   \n",
       "4  4340306774493623681  8940341205206233829                  NaN   \n",
       "\n",
       "  producer_location producer_country item_type  \\\n",
       "0               NaN              NaN      HTML   \n",
       "1               NaN              NaN      HTML   \n",
       "2               NaN              NaN      HTML   \n",
       "3               NaN              NaN      HTML   \n",
       "4               NaN              NaN      HTML   \n",
       "\n",
       "                                            item_url  \\\n",
       "0  http://www.nytimes.com/2016/03/28/business/dea...   \n",
       "1  http://www.nytimes.com/2016/03/28/business/dea...   \n",
       "2  http://cointelegraph.com/news/bitcoin-future-w...   \n",
       "3  https://cloudplatform.googleblog.com/2016/03/G...   \n",
       "4  https://bitcoinmagazine.com/articles/ibm-wants...   \n",
       "\n",
       "                                               title  \\\n",
       "0  Ethereum, a Virtual Currency, Enables Transact...   \n",
       "1  Ethereum, a Virtual Currency, Enables Transact...   \n",
       "2  Bitcoin Future: When GBPcoin of Branson Wins O...   \n",
       "3                       Google Data Center 360° Tour   \n",
       "4  IBM Wants to \"Evolve the Internet\" With Blockc...   \n",
       "\n",
       "                                    text_description language  \n",
       "0  All of this work is still very early. The firs...       en  \n",
       "1  All of this work is still very early. The firs...       en  \n",
       "2  The alarm clock wakes me at 8:00 with stream o...       en  \n",
       "3  We're excited to share the Google Data Center ...       en  \n",
       "4  The Aite Group projects the blockchain market ...       en  "
      ]
     },
     "execution_count": 34,
     "metadata": {},
     "output_type": "execute_result"
    }
   ],
   "source": [
    "# read platform content csv \n",
    "ptfmCont = pd.read_csv(\"./data/platform_content.csv\", error_bad_lines=False)\n",
    "ptfmCont.head()"
   ]
  },
  {
   "cell_type": "code",
   "execution_count": null,
   "metadata": {},
   "outputs": [],
   "source": []
  },
  {
   "cell_type": "code",
   "execution_count": 35,
   "metadata": {},
   "outputs": [
    {
     "name": "stdout",
     "output_type": "stream",
     "text": [
      "<class 'pandas.core.frame.DataFrame'>\n",
      "RangeIndex: 3122 entries, 0 to 3121\n",
      "Data columns (total 13 columns):\n",
      " #   Column                Non-Null Count  Dtype \n",
      "---  ------                --------------  ----- \n",
      " 0   event_timestamp       3122 non-null   int64 \n",
      " 1   interaction_type      3122 non-null   object\n",
      " 2   item_id               3122 non-null   int64 \n",
      " 3   producer_id           3122 non-null   int64 \n",
      " 4   producer_session_id   3122 non-null   int64 \n",
      " 5   producer_device_info  680 non-null    object\n",
      " 6   producer_location     680 non-null    object\n",
      " 7   producer_country      680 non-null    object\n",
      " 8   item_type             3122 non-null   object\n",
      " 9   item_url              3122 non-null   object\n",
      " 10  title                 3122 non-null   object\n",
      " 11  text_description      3122 non-null   object\n",
      " 12  language              3122 non-null   object\n",
      "dtypes: int64(4), object(9)\n",
      "memory usage: 317.2+ KB\n"
     ]
    }
   ],
   "source": [
    "ptfmCont.info()"
   ]
  },
  {
   "cell_type": "code",
   "execution_count": 36,
   "metadata": {},
   "outputs": [
    {
     "data": {
      "text/plain": [
       "array(['en', 'pt', 'es', 'la', 'ja'], dtype=object)"
      ]
     },
     "execution_count": 36,
     "metadata": {},
     "output_type": "execute_result"
    }
   ],
   "source": [
    "ptfmCont['language'].unique()"
   ]
  },
  {
   "cell_type": "code",
   "execution_count": 37,
   "metadata": {},
   "outputs": [],
   "source": [
    "# We need to check only for english language so filter the data\n",
    "ptfmCont = ptfmCont[ptfmCont['language'] == 'en']"
   ]
  },
  {
   "cell_type": "code",
   "execution_count": 38,
   "metadata": {},
   "outputs": [
    {
     "data": {
      "text/plain": [
       "array(['content_pulled_out', 'content_present'], dtype=object)"
      ]
     },
     "execution_count": 38,
     "metadata": {},
     "output_type": "execute_result"
    }
   ],
   "source": [
    "ptfmCont['interaction_type'].unique()"
   ]
  },
  {
   "cell_type": "code",
   "execution_count": 39,
   "metadata": {},
   "outputs": [],
   "source": [
    "# For recomandation pupose we are only interested in the data available on platform, filtering out content pulled out \n",
    "ptfmCont = ptfmCont[ptfmCont['interaction_type'] == 'content_present']\n",
    "\n"
   ]
  },
  {
   "cell_type": "code",
   "execution_count": 40,
   "metadata": {},
   "outputs": [
    {
     "name": "stdout",
     "output_type": "stream",
     "text": [
      "<class 'pandas.core.frame.DataFrame'>\n",
      "Int64Index: 2211 entries, 1 to 3121\n",
      "Data columns (total 13 columns):\n",
      " #   Column                Non-Null Count  Dtype \n",
      "---  ------                --------------  ----- \n",
      " 0   event_timestamp       2211 non-null   int64 \n",
      " 1   interaction_type      2211 non-null   object\n",
      " 2   item_id               2211 non-null   int64 \n",
      " 3   producer_id           2211 non-null   int64 \n",
      " 4   producer_session_id   2211 non-null   int64 \n",
      " 5   producer_device_info  467 non-null    object\n",
      " 6   producer_location     467 non-null    object\n",
      " 7   producer_country      467 non-null    object\n",
      " 8   item_type             2211 non-null   object\n",
      " 9   item_url              2211 non-null   object\n",
      " 10  title                 2211 non-null   object\n",
      " 11  text_description      2211 non-null   object\n",
      " 12  language              2211 non-null   object\n",
      "dtypes: int64(4), object(9)\n",
      "memory usage: 241.8+ KB\n"
     ]
    }
   ],
   "source": [
    "ptfmCont.info()"
   ]
  },
  {
   "cell_type": "code",
   "execution_count": 41,
   "metadata": {},
   "outputs": [
    {
     "data": {
      "text/plain": [
       "78.87833559475351"
      ]
     },
     "execution_count": 41,
     "metadata": {},
     "output_type": "execute_result"
    }
   ],
   "source": [
    "# % of null is column producer_device_info, other similar\n",
    "(1- 467/2211)*100"
   ]
  },
  {
   "cell_type": "code",
   "execution_count": 42,
   "metadata": {},
   "outputs": [],
   "source": [
    "# dropping these columns\n",
    "ptfmCont = ptfmCont.drop([\"producer_device_info\",\"producer_location\",\"producer_country\"],axis=1)"
   ]
  },
  {
   "cell_type": "code",
   "execution_count": 43,
   "metadata": {},
   "outputs": [
    {
     "name": "stdout",
     "output_type": "stream",
     "text": [
      "<class 'pandas.core.frame.DataFrame'>\n",
      "Int64Index: 2211 entries, 1 to 3121\n",
      "Data columns (total 10 columns):\n",
      " #   Column               Non-Null Count  Dtype \n",
      "---  ------               --------------  ----- \n",
      " 0   event_timestamp      2211 non-null   int64 \n",
      " 1   interaction_type     2211 non-null   object\n",
      " 2   item_id              2211 non-null   int64 \n",
      " 3   producer_id          2211 non-null   int64 \n",
      " 4   producer_session_id  2211 non-null   int64 \n",
      " 5   item_type            2211 non-null   object\n",
      " 6   item_url             2211 non-null   object\n",
      " 7   title                2211 non-null   object\n",
      " 8   text_description     2211 non-null   object\n",
      " 9   language             2211 non-null   object\n",
      "dtypes: int64(4), object(6)\n",
      "memory usage: 190.0+ KB\n"
     ]
    }
   ],
   "source": [
    "ptfmCont.info()"
   ]
  },
  {
   "cell_type": "code",
   "execution_count": 44,
   "metadata": {},
   "outputs": [],
   "source": [
    "pd.set_option('max_colwidth', 100)"
   ]
  },
  {
   "cell_type": "code",
   "execution_count": null,
   "metadata": {},
   "outputs": [],
   "source": []
  },
  {
   "cell_type": "code",
   "execution_count": 45,
   "metadata": {},
   "outputs": [
    {
     "data": {
      "text/html": [
       "<div>\n",
       "<style scoped>\n",
       "    .dataframe tbody tr th:only-of-type {\n",
       "        vertical-align: middle;\n",
       "    }\n",
       "\n",
       "    .dataframe tbody tr th {\n",
       "        vertical-align: top;\n",
       "    }\n",
       "\n",
       "    .dataframe thead th {\n",
       "        text-align: right;\n",
       "    }\n",
       "</style>\n",
       "<table border=\"1\" class=\"dataframe\">\n",
       "  <thead>\n",
       "    <tr style=\"text-align: right;\">\n",
       "      <th></th>\n",
       "      <th>event_timestamp</th>\n",
       "      <th>interaction_type</th>\n",
       "      <th>item_id</th>\n",
       "      <th>producer_id</th>\n",
       "      <th>producer_session_id</th>\n",
       "      <th>item_type</th>\n",
       "      <th>item_url</th>\n",
       "      <th>title</th>\n",
       "      <th>text_description</th>\n",
       "      <th>language</th>\n",
       "    </tr>\n",
       "  </thead>\n",
       "  <tbody>\n",
       "    <tr>\n",
       "      <th>1</th>\n",
       "      <td>1459193988</td>\n",
       "      <td>content_present</td>\n",
       "      <td>-4110354420726924665</td>\n",
       "      <td>4340306774493623681</td>\n",
       "      <td>8940341205206233829</td>\n",
       "      <td>HTML</td>\n",
       "      <td>http://www.nytimes.com/2016/03/28/business/dealbook/ethereum-a-virtual-currency-enables-transact...</td>\n",
       "      <td>Ethereum, a Virtual Currency, Enables Transactions That Rival Bitcoin's</td>\n",
       "      <td>All of this work is still very early. The first full public version of the Ethereum software was...</td>\n",
       "      <td>en</td>\n",
       "    </tr>\n",
       "    <tr>\n",
       "      <th>2</th>\n",
       "      <td>1459194146</td>\n",
       "      <td>content_present</td>\n",
       "      <td>-7292285110016212249</td>\n",
       "      <td>4340306774493623681</td>\n",
       "      <td>8940341205206233829</td>\n",
       "      <td>HTML</td>\n",
       "      <td>http://cointelegraph.com/news/bitcoin-future-when-gbpcoin-of-branson-wins-over-usdcoin-of-trump</td>\n",
       "      <td>Bitcoin Future: When GBPcoin of Branson Wins Over USDcoin of Trump</td>\n",
       "      <td>The alarm clock wakes me at 8:00 with stream of advert-free broadcasting, charged at one satoshi...</td>\n",
       "      <td>en</td>\n",
       "    </tr>\n",
       "    <tr>\n",
       "      <th>3</th>\n",
       "      <td>1459194474</td>\n",
       "      <td>content_present</td>\n",
       "      <td>-6151852268067518688</td>\n",
       "      <td>3891637997717104548</td>\n",
       "      <td>-1457532940883382585</td>\n",
       "      <td>HTML</td>\n",
       "      <td>https://cloudplatform.googleblog.com/2016/03/Google-Data-Center-360-Tour.html</td>\n",
       "      <td>Google Data Center 360° Tour</td>\n",
       "      <td>We're excited to share the Google Data Center 360° Tour - a YouTube 360° video that gives you an...</td>\n",
       "      <td>en</td>\n",
       "    </tr>\n",
       "    <tr>\n",
       "      <th>4</th>\n",
       "      <td>1459194497</td>\n",
       "      <td>content_present</td>\n",
       "      <td>2448026894306402386</td>\n",
       "      <td>4340306774493623681</td>\n",
       "      <td>8940341205206233829</td>\n",
       "      <td>HTML</td>\n",
       "      <td>https://bitcoinmagazine.com/articles/ibm-wants-to-evolve-the-internet-with-blockchain-technology...</td>\n",
       "      <td>IBM Wants to \"Evolve the Internet\" With Blockchain Technology</td>\n",
       "      <td>The Aite Group projects the blockchain market could be valued at $400 million by 2019. For that ...</td>\n",
       "      <td>en</td>\n",
       "    </tr>\n",
       "    <tr>\n",
       "      <th>5</th>\n",
       "      <td>1459194522</td>\n",
       "      <td>content_present</td>\n",
       "      <td>-2826566343807132236</td>\n",
       "      <td>4340306774493623681</td>\n",
       "      <td>8940341205206233829</td>\n",
       "      <td>HTML</td>\n",
       "      <td>http://www.coindesk.com/ieee-blockchain-oxford-cloud-computing/</td>\n",
       "      <td>IEEE to Talk Blockchain at Cloud Computing Oxford-Con - CoinDesk</td>\n",
       "      <td>One of the largest and oldest organizations for computing professionals will kick off its annual...</td>\n",
       "      <td>en</td>\n",
       "    </tr>\n",
       "  </tbody>\n",
       "</table>\n",
       "</div>"
      ],
      "text/plain": [
       "   event_timestamp interaction_type              item_id          producer_id  \\\n",
       "1       1459193988  content_present -4110354420726924665  4340306774493623681   \n",
       "2       1459194146  content_present -7292285110016212249  4340306774493623681   \n",
       "3       1459194474  content_present -6151852268067518688  3891637997717104548   \n",
       "4       1459194497  content_present  2448026894306402386  4340306774493623681   \n",
       "5       1459194522  content_present -2826566343807132236  4340306774493623681   \n",
       "\n",
       "   producer_session_id item_type  \\\n",
       "1  8940341205206233829      HTML   \n",
       "2  8940341205206233829      HTML   \n",
       "3 -1457532940883382585      HTML   \n",
       "4  8940341205206233829      HTML   \n",
       "5  8940341205206233829      HTML   \n",
       "\n",
       "                                                                                              item_url  \\\n",
       "1  http://www.nytimes.com/2016/03/28/business/dealbook/ethereum-a-virtual-currency-enables-transact...   \n",
       "2      http://cointelegraph.com/news/bitcoin-future-when-gbpcoin-of-branson-wins-over-usdcoin-of-trump   \n",
       "3                        https://cloudplatform.googleblog.com/2016/03/Google-Data-Center-360-Tour.html   \n",
       "4  https://bitcoinmagazine.com/articles/ibm-wants-to-evolve-the-internet-with-blockchain-technology...   \n",
       "5                                      http://www.coindesk.com/ieee-blockchain-oxford-cloud-computing/   \n",
       "\n",
       "                                                                     title  \\\n",
       "1  Ethereum, a Virtual Currency, Enables Transactions That Rival Bitcoin's   \n",
       "2       Bitcoin Future: When GBPcoin of Branson Wins Over USDcoin of Trump   \n",
       "3                                             Google Data Center 360° Tour   \n",
       "4            IBM Wants to \"Evolve the Internet\" With Blockchain Technology   \n",
       "5         IEEE to Talk Blockchain at Cloud Computing Oxford-Con - CoinDesk   \n",
       "\n",
       "                                                                                      text_description  \\\n",
       "1  All of this work is still very early. The first full public version of the Ethereum software was...   \n",
       "2  The alarm clock wakes me at 8:00 with stream of advert-free broadcasting, charged at one satoshi...   \n",
       "3  We're excited to share the Google Data Center 360° Tour - a YouTube 360° video that gives you an...   \n",
       "4  The Aite Group projects the blockchain market could be valued at $400 million by 2019. For that ...   \n",
       "5  One of the largest and oldest organizations for computing professionals will kick off its annual...   \n",
       "\n",
       "  language  \n",
       "1       en  \n",
       "2       en  \n",
       "3       en  \n",
       "4       en  \n",
       "5       en  "
      ]
     },
     "execution_count": 45,
     "metadata": {},
     "output_type": "execute_result"
    }
   ],
   "source": [
    "ptfmCont.head(5)"
   ]
  },
  {
   "cell_type": "code",
   "execution_count": 46,
   "metadata": {},
   "outputs": [],
   "source": [
    "# remove other columns that will not be used\n",
    "ptfmCont = ptfmCont.drop([\"event_timestamp\",\"producer_session_id\"],axis=1)"
   ]
  },
  {
   "cell_type": "code",
   "execution_count": 47,
   "metadata": {},
   "outputs": [],
   "source": [
    "# Since we already filtered data based on language and now we have only english description\n",
    "ptfmCont = ptfmCont.drop([\"language\"],axis=1)\n",
    "\n"
   ]
  },
  {
   "cell_type": "code",
   "execution_count": 48,
   "metadata": {},
   "outputs": [
    {
     "data": {
      "image/png": "[encoded data removed]",
      "text/plain": [
       "<Figure size 432x288 with 1 Axes>"
      ]
     },
     "metadata": {
      "needs_background": "light"
     },
     "output_type": "display_data"
    }
   ],
   "source": [
    "item_typ  =  sns.countplot(x=\"item_type\", data=ptfmCont[['item_type']])\n",
    "item_typ.set_xticklabels(item_typ.get_xticklabels(), rotation=45,horizontalalignment='right')\n",
    "plt.show()"
   ]
  },
  {
   "cell_type": "code",
   "execution_count": 49,
   "metadata": {},
   "outputs": [],
   "source": [
    "# get the domain names from URL \n",
    "ptfmCont['item_domain']=ptfmCont['item_url'].str.extract('^(?:https?:\\/\\/)?(?:[^@\\/\\n]+@)?(?:www\\.)?([^:\\/?\\n]+)')"
   ]
  },
  {
   "cell_type": "code",
   "execution_count": 50,
   "metadata": {},
   "outputs": [
    {
     "name": "stdout",
     "output_type": "stream",
     "text": [
      "<class 'pandas.core.frame.DataFrame'>\n",
      "Int64Index: 2211 entries, 1 to 3121\n",
      "Data columns (total 8 columns):\n",
      " #   Column            Non-Null Count  Dtype \n",
      "---  ------            --------------  ----- \n",
      " 0   interaction_type  2211 non-null   object\n",
      " 1   item_id           2211 non-null   int64 \n",
      " 2   producer_id       2211 non-null   int64 \n",
      " 3   item_type         2211 non-null   object\n",
      " 4   item_url          2211 non-null   object\n",
      " 5   title             2211 non-null   object\n",
      " 6   text_description  2211 non-null   object\n",
      " 7   item_domain       2211 non-null   object\n",
      "dtypes: int64(2), object(6)\n",
      "memory usage: 235.5+ KB\n"
     ]
    }
   ],
   "source": [
    "ptfmCont.info()"
   ]
  },
  {
   "cell_type": "code",
   "execution_count": 51,
   "metadata": {},
   "outputs": [
    {
     "data": {
      "image/png": "[encoded data removed]",
      "text/plain": [
       "<Figure size 432x288 with 1 Axes>"
      ]
     },
     "metadata": {
      "needs_background": "light"
     },
     "output_type": "display_data"
    }
   ],
   "source": [
    "lang  =  sns.countplot(x=\"item_domain\", data=ptfmCont.groupby('item_domain').filter(lambda x: len(x) >20))\n",
    "lang.set_xticklabels(lang.get_xticklabels(), rotation=45,horizontalalignment='right')\n",
    "plt.show()\n"
   ]
  },
  {
   "cell_type": "code",
   "execution_count": null,
   "metadata": {},
   "outputs": [],
   "source": []
  },
  {
   "cell_type": "code",
   "execution_count": 52,
   "metadata": {},
   "outputs": [],
   "source": [
    "ptfmContAfterEDA = ptfmCont.copy()"
   ]
  },
  {
   "cell_type": "code",
   "execution_count": 53,
   "metadata": {},
   "outputs": [],
   "source": [
    "# We will be using this for checking pullled out content and other things\n",
    "ptfmCont_to_merge = ptfmContAfterEDA[['interaction_type','item_id','title','item_domain','text_description']]"
   ]
  },
  {
   "cell_type": "code",
   "execution_count": null,
   "metadata": {},
   "outputs": [],
   "source": []
  },
  {
   "cell_type": "code",
   "execution_count": null,
   "metadata": {},
   "outputs": [],
   "source": []
  },
  {
   "cell_type": "markdown",
   "metadata": {},
   "source": [
    "# -------------------- Content-Based Filtering --------------------"
   ]
  },
  {
   "cell_type": "code",
   "execution_count": 54,
   "metadata": {},
   "outputs": [],
   "source": [
    "pd.set_option('max_colwidth', None)"
   ]
  },
  {
   "cell_type": "code",
   "execution_count": 55,
   "metadata": {},
   "outputs": [
    {
     "data": {
      "text/plain": [
       "1    All of this work is still very early. The first full public version of the Ethereum software was recently released, and the system could face some of the same technical and legal problems that have tarnished Bitcoin. Many Bitcoin advocates say Ethereum will face more security problems than Bitcoin because of the greater complexity of the software. Thus far, Ethereum has faced much less testing, and many fewer attacks, than Bitcoin. The novel design of Ethereum may also invite intense scrutiny by authorities given that potentially fraudulent contracts, like the Ponzi schemes, can be written directly into the Ethereum system. But the sophisticated capabilities of the system have made it fascinating to some executives in corporate America. IBM said last year that it was experimenting with Ethereum as a way to control real world objects in the so-called Internet of things. Microsoft has been working on several projects that make it easier to use Ethereum on its computing cloud, Azure. \"Ethereum is a general platform where you can solve problems in many industries using a fairly elegant solution - the most elegant solution we have seen to date,\" said Marley Gray, a director of business development and strategy at Microsoft. Mr. Gray is responsible for Microsoft's work with blockchains, the database concept that Bitcoin introduced. Blockchains are designed to store transactions and data without requiring any central authority or repository. Blockchain ledgers are generally maintained and updated by networks of computers working together - somewhat similar to the way that Wikipedia is updated and maintained by all its users. Many corporations, though, have created their own Ethereum networks with private blockchains, independent of the public system, and that could ultimately detract from the value of the individual unit in the Ethereum system - known as an Ether - that people have recently been buying. The interest in Ethereum is one sign of the corporate fascination with blockchains. Most major banks have expressed an interest in using them to make trading and money transfer faster and more efficient. On Tuesday, executives from the largest banks will gather for a conference, \"Blockchain: Tapping I nto the Real Potential , Cutting Through the Hype.\" Many of these banks have recently been looking at how some version of Ethereum might be put to use. JPMorgan, for instance, has created a specific tool, Masala, that allows some of its internal databases to interact with an Ethereum blockchain. Michael Novogratz, a former top executive at the private equity firm Fortress Investing Group, who helped lead Fortress's investment in Bitcoin, has been looking at Ethereum since he left Fortress last fall. Mr. Novogratz said that he made a \"significant\" purchase of Ether in January. He has also heard how the financial industry's chatter about the virtual currency has evolved. \"A lot of the more established players were thinking, 'It's still an experiment,' \" he said. \"It feels like in the last two to three months that experiment is at least getting a lot more validation.\" Since the beginning of the year, the value of an individual unit of Ether has soared as high as $12 from around $1. That has brought the value of all existing Ether to over $1 billion at times, significantly more than any virtual currency other than Bitcoin, which had over $6 billion in value outstanding last week. Since Bitcoin was invented, there have been many so-called alt-coins that have tried to improve on Bitcoin, but none have won the following of Ethereum. Unlike Bitcoin, which was released in 2009 by a mysterious creator known as Satoshi Nakamoto, Ethereum was created in a more transparent fashion by a 21-year-old Russian-Canadian, Vitalik Buterin, after he dropped out of Waterloo University in Ontario. The most basic aim of Ethereum was to make it possible to program binding agreements into the blockchain - the smart contract concept. Two people, for instance, could program a bet on a sports game directly into the Ethereum blockchain. Once the final score came in from a mutually agreed upon source - say, The Associated Press - the money would be automatically transferred to the winning party. Ether can be used as a currency in this system, but Ether are also necessary to pay for the network power needed to process the bet. The Ethereum system has sometimes been described as a single shared computer that is run by the network of users and on which resources are parceled out and paid for by Ether. A team of seven co-founders helped Mr. Buterin write up the software after he released the initial description of the system. Mr. Buterin's team raised $18 million in 2014 through a presale of Ether, which helped fund the Ethereum Foundation, which supports the software's development. Like Bitcoin, Ethereum has succeeded by attracting a dedicated network of followers who have helped support the software, partly in the hope that their Ether will increase in value if the system succeeds. Last week, there were 5,800 computers - or nodes - helping support the network around the world. The Bitcoin network had about 7,400 nodes. One of Mr. Buterin's co-founders, Joseph Lubin, has set up ConsenSys, a company based in Brooklyn that has hired over 50 developers to build applications on the Ethereum system, including one that enables music distribution and another that allows for a new kind of financial auditing. The ConsenSys offices are in an old industrial building in the Bushwick section of Brooklyn. The office is essentially one large room, with all the messy trademarks of a start-up operation, including white boards on the walls and computer parts lying around. Mr. Lubin said he had thrown himself into Ethereum after starting to think that it delivered on some of the failed promise of Bitcoin, especially when it came to allowing new kinds of online contracts and markets. \"Bitcoin presented the broad strokes vision, and Ethereum presented the crystallization of how to deliver that vision,\" he said. Joseph Bonneau, a computer science researcher at Stanford who studies so-called crypto-currencies, said Ethereum was the first system that had really caught his interest since Bitcoin. It is far from a sure thing, he cautioned. \"Bitcoin is still probably the safest bet, but Ethereum is certainly No. 2, and some folks will say it is more likely to be around in 10 years,\" Mr. Bonneau said. \"It will depend if any real markets develop around it. If there is some actual application.\"\n",
       "Name: text_description, dtype: object"
      ]
     },
     "execution_count": 55,
     "metadata": {},
     "output_type": "execute_result"
    }
   ],
   "source": [
    "# Check descriptiom column \n",
    "ptfmCont['text_description'].head(1)"
   ]
  },
  {
   "cell_type": "code",
   "execution_count": 56,
   "metadata": {},
   "outputs": [
    {
     "data": {
      "text/plain": [
       "1        6543\n",
       "2        1993\n",
       "3        1520\n",
       "4        8093\n",
       "5        1824\n",
       "        ...  \n",
       "3116     1006\n",
       "3118     1703\n",
       "3119    16970\n",
       "3120     6530\n",
       "3121      346\n",
       "Name: text_description, Length: 2211, dtype: int64"
      ]
     },
     "execution_count": 56,
     "metadata": {},
     "output_type": "execute_result"
    }
   ],
   "source": [
    "ptfmCont['text_description'].str.len()"
   ]
  },
  {
   "cell_type": "code",
   "execution_count": 57,
   "metadata": {},
   "outputs": [
    {
     "data": {
      "text/plain": [
       "6071.014925373134"
      ]
     },
     "execution_count": 57,
     "metadata": {},
     "output_type": "execute_result"
    }
   ],
   "source": [
    "# avrage length of test is ~6000 words\n",
    "np.mean(ptfmCont['text_description'].str.len())"
   ]
  },
  {
   "cell_type": "code",
   "execution_count": 58,
   "metadata": {},
   "outputs": [],
   "source": [
    "# remove the stop words from the description\n",
    "def preprocess(document):\n",
    "    'changes document to lower case and removes stopwords'\n",
    "\n",
    "    # change sentence to lower case\n",
    "    document = document.lower()\n",
    "\n",
    "    # tokenize into words\n",
    "    words = word_tokenize(document)\n",
    "\n",
    "    # remove stop words\n",
    "    words = [word for word in words if word not in stopwords.words(\"english\")]\n",
    "\n",
    "    # join words to make sentence\n",
    "    document = \" \".join(words)\n",
    "    \n",
    "    return document\n",
    "\n"
   ]
  },
  {
   "cell_type": "code",
   "execution_count": null,
   "metadata": {},
   "outputs": [],
   "source": []
  },
  {
   "cell_type": "code",
   "execution_count": 59,
   "metadata": {},
   "outputs": [],
   "source": [
    "ptfmCont['text_description'] = ptfmCont['text_description'].apply(lambda x: preprocess(x))"
   ]
  },
  {
   "cell_type": "code",
   "execution_count": 60,
   "metadata": {},
   "outputs": [
    {
     "data": {
      "text/plain": [
       "1        4951\n",
       "2        1643\n",
       "3        1118\n",
       "4        6048\n",
       "5        1443\n",
       "        ...  \n",
       "3116      828\n",
       "3118     1338\n",
       "3119    13821\n",
       "3120     5204\n",
       "3121      265\n",
       "Name: text_description, Length: 2211, dtype: int64"
      ]
     },
     "execution_count": 60,
     "metadata": {},
     "output_type": "execute_result"
    }
   ],
   "source": [
    "ptfmCont['text_description'].str.len()"
   ]
  },
  {
   "cell_type": "code",
   "execution_count": 61,
   "metadata": {},
   "outputs": [
    {
     "data": {
      "text/plain": [
       "4552.193125282677"
      ]
     },
     "execution_count": 61,
     "metadata": {},
     "output_type": "execute_result"
    }
   ],
   "source": [
    "# by preprocessing we reduced the average length of description \n",
    "np.mean(ptfmCont['text_description'].str.len())"
   ]
  },
  {
   "cell_type": "code",
   "execution_count": 62,
   "metadata": {},
   "outputs": [
    {
     "data": {
      "text/plain": [
       "1                                                                                                                                                                                                                                                                                                                                                                                                                                                                                                                                                                                                                                                                                                                                                                                                                                                                                                                                                                                                                                                                                                                                             work still early . first full public version ethereum software recently released , system could face technical legal problems tarnished bitcoin . many bitcoin advocates say ethereum face security problems bitcoin greater complexity software . thus far , ethereum faced much less testing , many fewer attacks , bitcoin . novel design ethereum may also invite intense scrutiny authorities given potentially fraudulent contracts , like ponzi schemes , written directly ethereum system . sophisticated capabilities system made fascinating executives corporate america . ibm said last year experimenting ethereum way control real world objects so-called internet things . microsoft working several projects make easier use ethereum computing cloud , azure . `` ethereum general platform solve problems many industries using fairly elegant solution - elegant solution seen date , '' said marley gray , director business development strategy microsoft . mr. gray responsible microsoft 's work blockchains , database concept bitcoin introduced . blockchains designed store transactions data without requiring central authority repository . blockchain ledgers generally maintained updated networks computers working together - somewhat similar way wikipedia updated maintained users . many corporations , though , created ethereum networks private blockchains , independent public system , could ultimately detract value individual unit ethereum system - known ether - people recently buying . interest ethereum one sign corporate fascination blockchains . major banks expressed interest using make trading money transfer faster efficient . tuesday , executives largest banks gather conference , `` blockchain : tapping nto real potential , cutting hype . '' many banks recently looking version ethereum might put use . jpmorgan , instance , created specific tool , masala , allows internal databases interact ethereum blockchain . michael novogratz , former top executive private equity firm fortress investing group , helped lead fortress 's investment bitcoin , looking ethereum since left fortress last fall . mr. novogratz said made `` significant '' purchase ether january . also heard financial industry 's chatter virtual currency evolved . `` lot established players thinking , 'it 's still experiment , ' `` said . `` feels like last two three months experiment least getting lot validation . '' since beginning year , value individual unit ether soared high $ 12 around $ 1 . brought value existing ether $ 1 billion times , significantly virtual currency bitcoin , $ 6 billion value outstanding last week . since bitcoin invented , many so-called alt-coins tried improve bitcoin , none following ethereum . unlike bitcoin , released 2009 mysterious creator known satoshi nakamoto , ethereum created transparent fashion 21-year-old russian-canadian , vitalik buterin , dropped waterloo university ontario . basic aim ethereum make possible program binding agreements blockchain - smart contract concept . two people , instance , could program bet sports game directly ethereum blockchain . final score came mutually agreed upon source - say , associated press - money would automatically transferred winning party . ether used currency system , ether also necessary pay network power needed process bet . ethereum system sometimes described single shared computer run network users resources parceled paid ether . team seven co-founders helped mr. buterin write software released initial description system . mr. buterin 's team raised $ 18 million 2014 presale ether , helped fund ethereum foundation , supports software 's development . like bitcoin , ethereum succeeded attracting dedicated network followers helped support software , partly hope ether increase value system succeeds . last week , 5,800 computers - nodes - helping support network around world . bitcoin network 7,400 nodes . one mr. buterin 's co-founders , joseph lubin , set consensys , company based brooklyn hired 50 developers build applications ethereum system , including one enables music distribution another allows new kind financial auditing . consensys offices old industrial building bushwick section brooklyn . office essentially one large room , messy trademarks start-up operation , including white boards walls computer parts lying around . mr. lubin said thrown ethereum starting think delivered failed promise bitcoin , especially came allowing new kinds online contracts markets . `` bitcoin presented broad strokes vision , ethereum presented crystallization deliver vision , '' said . joseph bonneau , computer science researcher stanford studies so-called crypto-currencies , said ethereum first system really caught interest since bitcoin . far sure thing , cautioned . `` bitcoin still probably safest bet , ethereum certainly . 2 , folks say likely around 10 years , '' mr. bonneau said . `` depend real markets develop around . actual application . ''\n",
       "2                                                                                                                                                                                                                                                                                                                                                                                                                                                                                                                                                                                                                                                                                                                                                                                                                                                                                                                                                                                                                                                                                                                                                                                                                                                                                                                                                                                                                                                                                                                                                                                                                                                                                                                                                                                                                                                                                                                                                                                                                                                                                                                                                                                                                                                                                                                                                                                                                                                                                                                                                                                                                                                                                                                                                                                                                                                                                                                                                                                                                                                                                                                                                                                                                                                                                                                                                                                                                                                                                                                                                                                                                                                                                                                                                                                                                                                                                                                                                                                                                                                                                                                                                                                                                                                                                                                                                                                                                                                                                                                                                                                         alarm clock wakes 8:00 stream advert-free broadcasting , charged one satoshi per second . current btc exchange rate makes snooze button costly proposition ! get , make coffee go computer check overnight performance bots . tradebot earns trump branson tradebot , allocates funds main chain various national currency side-chains , generated lucrative 0.24 btc return . tradebot reliably profitable ever since set trade usdcoin according political prediction market data . expected , latest poll numbers came highly supportive trump 's re-election usdcoin ceo . trump 's resistance de-anonymizing public spending , moving usdcoin confidential transactions layer , continues erode coin 's credibility . latest speech , trump maintains full ct-privacy essential `` combatting cnycoin 's sinister ring-signature scheming . '' make note increase long position gbpcoin . following ceo branson 's memo effect government finances national banks brought compliance public blockchain , british corruption indices flatlined . first national econmy `` go light , '' britain leads global recovery great debt default '20 . happy goatdata project check teachbot note 's performing in-line expectations . teachbot serves autonomous info-agent various contracting ais data providers . 0.5 btc bounty awarded team sherpas outfit herd tibetan mountain goats full motion-sensing rigs already repaid ... check latest figures ... four times ! best teachbot strategy date , goatdata project provides valuable data winterhoof , artificial general intelligence charge swiss military 's quadripedal robotics program . rate , 'll soon enough btc retire satoshi city mars !\n",
       "3                                                                                                                                                                                                                                                                                                                                                                                                                                                                                                                                                                                                                                                                                                                                                                                                                                                                                                                                                                                                                                                                                                                                                                                                                                                                                                                                                                                                                                                                                                                                                                                                                                                                                                                                                                                                                                                                                                                                                                                                                                                                                                                                                                                                                                                                                                                                                                                                                                                                                                                                                                                                                                                                                                                                                                                                                                                                                                                                                                                                                                                                                                                                                                                                                                                                                                                                                                                                                                                                                                                                                                                                                                                                                                                                                                                                                                                                                                                                                                                                                                                                                                                                                                                                                                                                                                                                                                                                                                                                                                                                                                                                                                                                                                                                                                                                                                                                                                                                                                                                                                                                                                                                      're excited share google data center 360° tour - youtube 360° video gives unprecedented immersive look inside one data centers . several ways view video : desktop using google chrome use mouse trackpad change view video plays youtube app mobile - move device around look angles video plays immersive way view - using google cardboard ( currently supported android youtube app , ios support coming soon ! ) load video youtube app tap cardboard icon video starts play . insert phone cardboard look around . little background . . . several months ago , us google cloud developer advocacy team rare opportunity tour google data center dalles , oregon . many us seen non-google data centers careers , experience beyond anything ever imagined . blown away scale , incredible attention security privacy , amazing efforts make data center extremely efficient green . additionally , proud meet brilliant people design , build maintain data centers . google cloud platform customer , data center much data center , want experience experienced . hope enjoy ! - posted greg wilson , head developer advocacy , google cloud platform\n",
       "4    aite group projects blockchain market could valued $ 400 million 2019. reason , biggest names banking , industry technology entered space evaluate technology could change financial world . ibm linux , instance , brought together brightest minds industry technology work blockchain technology hyperledger project . hyperledger project umbrella linux foundation , seeks incorporate findings blockchain projects blockstream , ripple , digital asset holdings others order make blockchain technology useful world 's biggest corporations . ibm also contributed code project . according john wolpert , ibm 's global blockchain offering director , ibm linux began working together blockchain project , linux made clear wanted `` disrupt disruption , '' part findings , well data gathered projects ripple , ethereum others exploring blockchain . linux foundation announced hyperledger project december 17 , 2015. one day later , 2,300 companies requested join . second-largest open source foundation history open source 450 inquiries . `` , 's either going holy mess 's going change world , '' wolpert said blockchain conference san francisco presented lighthouse partners . wolford puts , team ibmers `` quest '' understand `` something important '' blockchain technology . `` n't know got rap '70s , way back , cool , 're kind stodgy , ibm experience , '' wolpert , founded taxi service flywheel , explained . `` 're original crazy people . craziest people guys ibm '60s '70s -- imagine '60s -- wild-eyed revolutionaries . '' although image ibm markets , work quantum computing , quantum teleportation neuro semantic chips count among `` cool stuff '' ibm , says wolpert . ibm also approaches projects spirit open innovation , proprietarily . `` method operations open , 's often mo back not-our-thing , '' said ibm since 1990s . wolpert cites java one project : `` would know java today n't ibm . '' `` pretty young dude , '' wolpert room ibm made billion-dollar decision back linux technology . also cites ibm 's work xml example ibm 's dedication open innovation . currently , ibm employees working crypto-security distributed systems working consensus algorithms entire careers , 30 years . `` 're crazy smart , 're planetary , 've gone couple guys canoe , platoon approaching army people working blockchain , '' wolpert said . `` feels lot like first job ibm making java real business . '' led old new friends contact multinational technology consulting corporation . `` banks calling us constantly ... saying 'what 's view blockchain ? ' 'hey , let 's project together blockchain , ' '' wolpert said . `` 've crazy projects blockchain , every kind blockchain , learning lot , couple years really started accelerate last year . '' today , whole unit dedicated blockchain technology linux foundation . `` went all-in blockchain , '' explained . 's wolpert ? `` 's evolving internet . '' bitcoin important moving money around without single authority . `` [ bitcoin ] solution problem , specific problem , people need move money around environments n't trust government , '' wolpert said . `` think agree approaching end era single authority manages trust gets compensated risk . '' wolpert 's view , finance need go today 's system trust -- consumers trust institutions handle money -- one complete trustlessness , like bitcoin system protocol , centralized authority , manages movement value . `` n't follow , one single trust authority trustlessness everything , '' said . `` false dichotomy notion trust trustlessness , walled garden one side bitcoin . '' n't compare bitcoin internet , saying 's wrong analogy . `` apt say internet like bitcoin ; internet , perspective bitcoin , permissioned walled garden , '' said . `` ever heard icann ? 's permissive , 's permissioned . '' bitcoin , ripple ethereum `` iteration 1 '' blockchain technology , three time ibmer told audience . wolpert thinks blockchain technology soon evolve `` iteration 2 . '' problem ? `` internet constrained , '' wolpert said . `` fabric allows lots competition platforms huge amounts competition solutions applications top , need evolve internet become economically aware , internet n't going application , going fabric lots applications top . '' n't mean blockchain 2.0 technologies blockstream , ethereum ripple lost causes must completely retool . linux foundation , fact , works ethereum ripple employees . blockchain projects , ibm focused moving cryptocurrency . `` lots banks pay us lots money like , want radically improve , '' wolpert explained . `` [ bankers ] gon na try like heck radically improve going ahead disruption , disrupt . look things like [ overstock 's ] t0 , 's happening , might happen bitcoin protocol , might , 's plenty ways solve , commit . sure , bitcoin woken [ banks ] , 's job , 's disrupting thinking maybe necessary . '' wolpert wonders aloud speech world would itunes napster , netflix n't bittorrent . former head products ibm 's watson ecosystem says ibm currently `` boomtown giant numbers people ibm everywhere else '' investigating blockchain problem distributed technology made useful industry . details oftentimes ibm tinkers open innovations make technology ready industry . 's route taken bitcoin . bitcoin network par ireland energy consumption , mining consortiums could eventually dictate market , scares firm away dealing directly bitcoin . `` want see , want see , world full companies know , identify , spread , like internet , '' said . wolpert cites arab spring , role internet played uprising , permissioned , yet permissive , structure functions . websites , albeit technology permissioned icann , remained online protests played major role . 's risk experimenting blockchain ? `` risk go crazy , unruly mess , '' wolpert warned . `` [ ] 's linux foundation , 've movie . 's lot really smart guys working bitcoin startups , 've got equally amount people also 20 30 years experience open source open innovation , think good shot maintaining restraints , keeping scoped , keeping simple , getting something useful . ''\n",
       "5                                                                                                                                                                                                                                                                                                                                                                                                                                                                                                                                                                                                                                                                                                                                                                                                                                                                                                                                                                                                                                                                                                                                                                                                                                                                                                                                                                                                                                                                                                                                                                                                                                                                                                                                                                                                                                                                                                                                                                                                                                                                                                                                                                                                                                                                                                                                                                                                                                                                                                                                                                                                                                                                                                                                                                                                                                                                                                                                                                                                                                                                                                                                                                                                                                                                                                                                                                                                                                                                                                                                                                                                                                                                                                                                                                                                                                                                                                                                                                                                                                                                                                                                                                                                                                                                                                                                                                                                                                                                                                                                                                                                                                                                                                                                                                                                 one largest oldest organizations computing professionals kick annual conference future mobile cloud computing tomorrow , blockchain scheduled one attractions . 421,000 members 260 countries , institute electrical electronics engineers ( ieee ) holding high-profile event potential accelerate rate blockchain adoption engineering community . four-day conference , beginning tuesday , ieee host five blockchain seminars 702-year-old exeter college oxford . conference , ieee mobile cloud 2016 , organization 's fourth annual event dedicated mobile cloud computing services engineering . speaking event , hosted oxford university , professor wei-tek tsai school computing , informatics decision systems engineering arizona state university talk future blockchain technology academic topic research . computing shift looks first ieee conference deal closely blockchain , presence event dedicated cloud computing surprise . 2016 shaping year many stopped talking bitcoin decentralized ledger started talking database . last month , ibm made huge splash blockchain ecosystem announced among wide range news , would offering wide range blockchain-related initiatives . , november , microsoft coined term blockchain-as-a-service ( baas ) describe sandbox environment developers could experiment tools hosted company 's azure cloud platform . companies including consensys , augur , bitshares slock.it joined effort . oxford university via shutterstock\n",
       "Name: text_description, dtype: object"
      ]
     },
     "execution_count": 62,
     "metadata": {},
     "output_type": "execute_result"
    }
   ],
   "source": [
    "ptfmCont['text_description'].head()"
   ]
  },
  {
   "cell_type": "markdown",
   "metadata": {},
   "source": [
    "### Generate corpus of words "
   ]
  },
  {
   "cell_type": "code",
   "execution_count": 63,
   "metadata": {},
   "outputs": [],
   "source": [
    "#pip install gensim"
   ]
  },
  {
   "cell_type": "code",
   "execution_count": 64,
   "metadata": {},
   "outputs": [
    {
     "name": "stderr",
     "output_type": "stream",
     "text": [
      "C:\\Users\\Admin\\anaconda3\\lib\\site-packages\\gensim\\similarities\\__init__.py:15: UserWarning: The gensim.similarities.levenshtein submodule is disabled, because the optional Levenshtein package <https://pypi.org/project/python-Levenshtein/> is unavailable. Install Levenhstein (e.g. `pip install python-Levenshtein`) to suppress this warning.\n",
      "  warnings.warn(msg)\n"
     ]
    }
   ],
   "source": [
    "from gensim.corpora.dictionary import Dictionary"
   ]
  },
  {
   "cell_type": "code",
   "execution_count": 65,
   "metadata": {},
   "outputs": [],
   "source": [
    "# get the list of all words \n",
    "words_list = []\n",
    "for keyword in ptfmCont['text_description']:\n",
    "    splitted_words = word_tokenize(keyword)\n",
    "    words_list.append(splitted_words)"
   ]
  },
  {
   "cell_type": "code",
   "execution_count": 66,
   "metadata": {},
   "outputs": [
    {
     "data": {
      "text/plain": [
       "2211"
      ]
     },
     "execution_count": 66,
     "metadata": {},
     "output_type": "execute_result"
    }
   ],
   "source": [
    "# We have total items i.e. len of word_list\n",
    "len(words_list)"
   ]
  },
  {
   "cell_type": "code",
   "execution_count": 67,
   "metadata": {},
   "outputs": [
    {
     "data": {
      "text/plain": [
       "3076"
      ]
     },
     "execution_count": 67,
     "metadata": {},
     "output_type": "execute_result"
    }
   ],
   "source": [
    "# tenth item'description is of lenth\n",
    "len(words_list[10])"
   ]
  },
  {
   "cell_type": "code",
   "execution_count": 68,
   "metadata": {},
   "outputs": [],
   "source": [
    "# what is the size of all words in all items \n",
    "number_words = 0\n",
    "for word in words_list:\n",
    "    number_words = number_words + len(word)"
   ]
  },
  {
   "cell_type": "code",
   "execution_count": 69,
   "metadata": {},
   "outputs": [
    {
     "data": {
      "text/plain": [
       "1582568"
      ]
     },
     "execution_count": 69,
     "metadata": {},
     "output_type": "execute_result"
    }
   ],
   "source": [
    "\n",
    "number_words"
   ]
  },
  {
   "cell_type": "code",
   "execution_count": 70,
   "metadata": {},
   "outputs": [],
   "source": [
    "# create dictionary of word\n",
    "dictionary = Dictionary(words_list) "
   ]
  },
  {
   "cell_type": "code",
   "execution_count": 71,
   "metadata": {},
   "outputs": [
    {
     "data": {
      "text/plain": [
       "61077"
      ]
     },
     "execution_count": 71,
     "metadata": {},
     "output_type": "execute_result"
    }
   ],
   "source": [
    "# unique words in all item \n",
    "len(dictionary)"
   ]
  },
  {
   "cell_type": "code",
   "execution_count": 72,
   "metadata": {},
   "outputs": [
    {
     "data": {
      "text/plain": [
       "'depend'"
      ]
     },
     "execution_count": 72,
     "metadata": {},
     "output_type": "execute_result"
    }
   ],
   "source": [
    "dictionary.get(100)"
   ]
  },
  {
   "cell_type": "code",
   "execution_count": 73,
   "metadata": {},
   "outputs": [],
   "source": [
    "# create corpus using this list of items desciption\n",
    "corpus = [dictionary.doc2bow(doc) for doc in words_list] "
   ]
  },
  {
   "cell_type": "code",
   "execution_count": 74,
   "metadata": {},
   "outputs": [
    {
     "data": {
      "text/plain": [
       "(2211, 400, 175)"
      ]
     },
     "execution_count": 74,
     "metadata": {},
     "output_type": "execute_result"
    }
   ],
   "source": [
    "len(corpus), len(corpus[0]), len(corpus[1])"
   ]
  },
  {
   "cell_type": "markdown",
   "metadata": {},
   "source": [
    "### -------------------- TF-IDF Model & similarity matrix --------------------"
   ]
  },
  {
   "cell_type": "code",
   "execution_count": 75,
   "metadata": {},
   "outputs": [],
   "source": [
    "from gensim.models.tfidfmodel import TfidfModel\n",
    "from gensim.similarities import MatrixSimilarity"
   ]
  },
  {
   "cell_type": "code",
   "execution_count": 76,
   "metadata": {},
   "outputs": [],
   "source": [
    "# TF-IDF is a statistical measure that evaluates how relevant a word is to a document in a collection of documents. \n",
    "# This is done by multiplying two metrics: how many times a word appears in a document, and \n",
    "# the inverse document frequency of the word across a set of documents.\n",
    "tfidf = TfidfModel(corpus)"
   ]
  },
  {
   "cell_type": "code",
   "execution_count": 77,
   "metadata": {},
   "outputs": [],
   "source": [
    "# The similarity measure used is cosine between two vectors.\n",
    "sims = MatrixSimilarity(tfidf[corpus], num_features=len(dictionary))"
   ]
  },
  {
   "cell_type": "code",
   "execution_count": 78,
   "metadata": {},
   "outputs": [],
   "source": [
    "def content_tfidf_recommendation(item_id, number_results=5):\n",
    "    item = ptfmCont.loc[ptfmCont.item_id==item_id] \n",
    "    keywords = word_tokenize(item['text_description'].values[0])  \n",
    "    # get just the keywords string ([0]), and then convert to a list of keywords (.split(',') )\n",
    "    query_doc = keywords #set the query_doc to the list of keywords\n",
    "    \n",
    "    query_doc_bow = dictionary.doc2bow(query_doc) # get a bag of words from the query_doc\n",
    "    query_doc_tfidf = tfidf[query_doc_bow] #convert the regular bag of words model to a tf-idf model where we have tuples\n",
    "    # of the movie ID and it's tf-idf value for the movie\n",
    "\n",
    "    similarity_array = sims[query_doc_tfidf] # get the array of similarity values between our movie and every other movie. \n",
    "    #So the length is the number of movies we have. To do this, we pass our list of tf-idf tuples to sims.\n",
    "\n",
    "    similarity_series = pd.Series(similarity_array.tolist(), index=ptfmCont.item_id.values) #Convert to a Series\n",
    "    recommended_items = similarity_series.sort_values(ascending=False)[1:number_results+1] \n",
    "    \n",
    "    # Create dataframe of recommended ites\n",
    "    content_recomadations_df = pd.DataFrame(recommended_items)\n",
    "    content_recomadations_df = content_recomadations_df.reset_index()\n",
    "    content_recomadations_df.columns = ['item_id', 'score']\n",
    "    merged_content = pd.merge( content_recomadations_df,ptfmContAfterEDA, on='item_id', how='left')\n",
    "    \n",
    "    #get the top matching results, i.e. most similar movies; start from index 1 because every movie is most similar to itself\n",
    "    \n",
    "    print(\"Top Recommended Items along with Similarity Score: \")\n",
    "    return (merged_content,similarity_series)"
   ]
  },
  {
   "cell_type": "code",
   "execution_count": null,
   "metadata": {},
   "outputs": [],
   "source": []
  },
  {
   "cell_type": "markdown",
   "metadata": {},
   "source": [
    "### Top 10 items on content based filtering "
   ]
  },
  {
   "cell_type": "code",
   "execution_count": 79,
   "metadata": {},
   "outputs": [
    {
     "name": "stdout",
     "output_type": "stream",
     "text": [
      "Top Recommended Items along with Similarity Score: \n"
     ]
    }
   ],
   "source": [
    "top10_content,content_all = content_tfidf_recommendation(-4110354420726924665, number_results=10)"
   ]
  },
  {
   "cell_type": "code",
   "execution_count": 80,
   "metadata": {},
   "outputs": [
    {
     "data": {
      "text/html": [
       "<div>\n",
       "<style scoped>\n",
       "    .dataframe tbody tr th:only-of-type {\n",
       "        vertical-align: middle;\n",
       "    }\n",
       "\n",
       "    .dataframe tbody tr th {\n",
       "        vertical-align: top;\n",
       "    }\n",
       "\n",
       "    .dataframe thead th {\n",
       "        text-align: right;\n",
       "    }\n",
       "</style>\n",
       "<table border=\"1\" class=\"dataframe\">\n",
       "  <thead>\n",
       "    <tr style=\"text-align: right;\">\n",
       "      <th></th>\n",
       "      <th>item_id</th>\n",
       "      <th>score</th>\n",
       "      <th>interaction_type</th>\n",
       "      <th>producer_id</th>\n",
       "      <th>item_type</th>\n",
       "      <th>item_url</th>\n",
       "      <th>title</th>\n",
       "      <th>text_description</th>\n",
       "      <th>item_domain</th>\n",
       "    </tr>\n",
       "  </thead>\n",
       "  <tbody>\n",
       "    <tr>\n",
       "      <th>0</th>\n",
       "      <td>3353902017498793780</td>\n",
       "      <td>0.844943</td>\n",
       "      <td>content_present</td>\n",
       "      <td>4340306774493623681</td>\n",
       "      <td>HTML</td>\n",
       "      <td>https://www.cryptocoinsnews.com/ethereum-rise-growth-new-york-times/</td>\n",
       "      <td>The Rise And Growth of Ethereum Gets Mainstream Coverage</td>\n",
       "      <td>Ethereum, considered by many to be the most promising altcoin, has grabbed the attention of The New York Times. The \"newspaper of record\" has run a big feature story on Ethereum, noting its value has spiraled 1,000% in the last three months and is attracting interest from major financial companies that are using it for private blockchains and smart contracts. The story notes the first public version of Ethereum was recently released. The story noted there are numerous applications built on Ethereum that allow new ways to place bets, pay bills and even launch Ponzi schemes. Some cryptocurrency observers claim Ethereum will face more security issues than bitcoin due to its more complex software. The alt. currency system has faced less testing and suffered fewer attacks than bitcoin. The unusual design could also invite more regulatory scrutiny considering some potentially fraudulent contracts can be written into the system. Capabilities Draw Interest However, the system's capabilities have drawn interest from major corporations. Last year, IBM announced it was testing the alt.currency system as a way to manage real-world objects in the Internet of Things. Microsoft has been working on various projects that make it easier to use Ethereum on its Azure computing cloud. Marley Gray, a business development and strategy director at Microsoft, said Ethereum is a platform for solving problems in different industries. He called it the most \"elegant\" solution seen to date. Private Blockchains Expand Many companies have created private blockchains using Ethereum. These private blockchains could eventually undermine the value of the Ether, the individual unit in the alt.currency system that people have been buying. Major banks have shown interest in using blockchains to make transferring and trading money more efficient. Several banks have examined how to use Ethereum. JPMorgan has developed a tool called Masala that enables its internal databases to interact with an Ethereum-blockchain. Michael Novogratz, who helped lead Fortress Investing Group invest in bitcoin, has been examining Ethereum since leaving Fortress last fall. He said he has made a significant purchase of Ether. Novogratz said in the last few months that the alt.currency is getting more validation. Ethereum Value Soars Ether's value has increased to as high as $12 from $1 since the beginning of the year, taking the value of all Ether currency to above $1 billion at times. This surpasses the value of any virtual currency besides bitcoin, which claimed more than $6 billion in value last week. Ethereum leads all altcoins in the size of its following One difference between Ethereum and bitcoin is that the latter came into being in a more transparent fashion. Where bitcoin was created by Satoshi Nakamoto, whose identity remains a mystery, Ethereum was developed by Vitalik Buterin , a 21-year-old Russian, who created it after dropping out of Waterloo University in Ontario. Aim Was Smart Contracts Ethereum's basic aim was to make it possible to program agreements into the blockchain. This is the smart contract concept. Two people could, for instance, program a sport bet directly into the Ethereum blockchain. Once a mutually-accepted source announced the final score (such as the Associated Press), the winnings would transfer automatically to the winner. Ether can be used as currency. Ether is also necessary to pay for the network power required to process the bet. Ethereum has been characterized as a single-shared computer operated by the network of users on which resources are doled out and paid for by Ether. Buterin's team raised $18 million through an Ether presale in 2014 to help fund the Ethereum Foundation, which supports the development of the software. Also read: Ether co-founder Vitalik Buterin on public and private blockchains Ethereum's Following Ethereum has attracted followers who have supported the software and hope that Ether will rise in value. There were 5,800 nodes, or computers, last week supporting the network. The bitcoin network had about 7,400 nodes. Joseph Lubin, a co-founder, established ConsenSys, which has hired more than 50 developers to create applications on the alt.currency system. One enables music distribution while another permits a new type of financial auditing. Lubin said he became interested in Ethereum after determining it delivered on some of bitcoin's failed promise, particularly when it came to permitting new types of online markets and contracts. He said Ethereum presented the crystallization of how to deliver on the broad strokes vision that bitcoin presented. Joseph Bonneau, a Stanford computer science researcher, said Ethereum is the first system that caught his interest since bitcoin. Ethereum is nonetheless far from a certainty, Bonneau said. He said bitcoin is still most likely the safest bet, with Ethereum number two. He said Ethereum's longevity will depend on real markets developing around it. Featured image from Shutterstock.</td>\n",
       "      <td>cryptocoinsnews.com</td>\n",
       "    </tr>\n",
       "    <tr>\n",
       "      <th>1</th>\n",
       "      <td>5274322067107287523</td>\n",
       "      <td>0.547449</td>\n",
       "      <td>content_present</td>\n",
       "      <td>4340306774493623681</td>\n",
       "      <td>HTML</td>\n",
       "      <td>http://www.newsbtc.com/2016/04/02/ethereum-bitcoin-market-leaders-not-competitors/</td>\n",
       "      <td>Ethereum and Bitcoin Are Market Leaders But Not Competitors</td>\n",
       "      <td>A lot of people tend to ignore the fact that Bitcoin is not Ethereum and vice versa. Nor should they be, to be frank, as we have seen enough clones of Bitcoin over the past seven years. Ethereum is doing something entirely different, which is a welcome change in the overflowing oceans of useless altcoins. The competition between Bitcoin and Ethereum is real, but it is not taking place in the same niche market. Unlike what most people think, Ethereum and Bitcoin are not achieving the same goal per se, as the former is focusing on making the blockchain more appealing to everyday users, whereas Bitcoin is all about changing the financial sector. Both are leaders in their niche, but they are not direct competitors either. Also read: Andreas Antonopoulos on Ethereum and Bitcoin at Blockchain Meetup Berlin Bitcoin And Ethereum Are Apex Predators There is no denying both and are leading the charge in the world of digital currency and blockchain technology. Both projects have seen tremendous success and interest from investors over the past few years, which will be beneficial to further develop their respective ecosystems. But at the same time, a lot of people tend to ignore the fact that is not Ethereum and vice versa. Nor should they be, to be frank, as we have seen enough clones of Bitcoin over the past seven years. is doing something entirely different, which is a welcome change in the overflowing oceans of useless altcoins. With an adamant focus on blockchain technology , Ethereum holds its own when it comes to making this concept more appealing to enterprises and consumers alike. The addition of smart contracts - although also available in Bitcoin - and an opportunity to create are just two examples of what makes Ethereum so worthwhile. Header image courtesy of Shutterstock Bitcoin, on the other hand, is trying to the financial ecosystem, unlike anything that has come before it. The world's leading digital currency provides anyone in the world with access to financial services on a global scale, and the end user is always in full control of their finances regardless of which device they are using. In the end, it all comes down to drawing the line between these two respectable digital currencies. Bitcoin and Ethereum can peacefully coexist, and they are competing against something. Yet that something is not each other, as they are not trying to achieve the same goal in their current form. For the digital currency enthusiast, which we all are in our hearts, this is a good thing.</td>\n",
       "      <td>newsbtc.com</td>\n",
       "    </tr>\n",
       "    <tr>\n",
       "      <th>2</th>\n",
       "      <td>1485652648052127324</td>\n",
       "      <td>0.535586</td>\n",
       "      <td>content_present</td>\n",
       "      <td>4340306774493623681</td>\n",
       "      <td>HTML</td>\n",
       "      <td>http://www.coindesk.com/first-ethereum-startup-funding-investor-says/</td>\n",
       "      <td>For Blockchain VCs, the Time for Ethereum Investments Has Come - CoinDesk</td>\n",
       "      <td>Just a few months after the platform's production launch, the first Ethereum startups are already receiving interest, and in some cases, undisclosed investments, from digital currency-focused VC firms. Interviews with four of the leading blockchain and digital currency industry investors revealed that many are already performing due diligence on startups utilizing the decentralized application platform. Announced in 2014, Ethereum has gained significant traction of late following a successful hard fork and testing from major financial institutions. Travis Scher, investment associate at Digital Currency Group ( DCG ), for instance, said the New York-based firm has so far evaluated 20 to 30 startups working on Ethereum, while Blockchain Capital managing partner told CoinDesk that the firm has already made two as-yet-undisclosed investments in such startups. Stephens said that Blockchain Capital, one of the technology's most active early-stage investors, is \"bullish\" on Ethereum due to the positive feedback its technology has received from institutions. The firm has even appointed a junior associate, Jeremy Gardner, to focus on the area for its portfolio, which includes industry startups such as Coinbase and Xapo . Stephens told CoinDesk: \"We love bitcoin, we love the bitcoin blockchain, but we also see a multi-chain future. Some of the enterprise customers are interested in federated and private chains and Ethereum is pretty high on the list.\" When announced, such an investment would mark an early sign of confidence for Ethereum, which only recently launched with a limited set of features. In the months and years ahead, the platform plans a number of complex updates, including a switch from proof-of-work transaction verification to a proof-of-stake approach. Other bitcoin and blockchain-focused venture firms including DCG, Boost VC and Pantera Capital indicated they are interested in investing in Ethereum startups, but have not yet provided funding to any entrepreneurs. DCG said it expects to make its first investment in a digital currency company in Q2 or Q3 of 2016, and that \"a few\" Ethereum startups would likely join its portfolio by the year's end. By contrast, the first investment in a company working on the bitcoin protocol wasn't made until April 2012, more than three years after its first block was mined in January 2009. At the time, Draper Associates made a seed investment in the now-defunct bitcoin-focused incubator CoinLab . Investment challenges As for why investors aren't yet placing any bets, most respondents suggested they felt it was too early to tell how strong Ethereum's ecosystem will remain. Such statements coincide with long-standing statements from industry investors that the health of bitcoin's developer ecosystem is one of its most attractive attributes. \"One of the challenges in evaluating Ethereum startups is the community is still fairly small and some of the entrepreneurs are newer to the cryptocurrency ecosystem, making it difficult to navigate,\" Meltem Demirors, director of community at DCG, told CoinDesk. Demirors went on to describe the early bitcoin ecosystem as perhaps more connected and more technical than the Ethereum ecosystem of today. Others, like Brayton Williams, co-founder of Silicon Valley-based incubator Boost VC, indicated that there is perhaps a lack of mature entrepreneurs building on the technology. \"For us we need to first find great people who are out to solve a problem and that are confident Ethereum could be the solution or provide tools for the solution,\" he told CoinDesk. \"We do our best to avoid those who are just very excited about Ethereum technology and then go try to find a problem.\" Paul Veradittakit, venture investor at Pantera Capital , noted that his firm is often pegged as a bitcoin-only investor, but that it has been eager to take a multi-blockchain approach, something he suggested Ethereum now allows. Yet, he said the firm has questions about how the technology will overcome upcoming challenges. \"You want to make sure that security is well thought out, the scalability, in terms of what are the use cases,\" Veradittakit said. \"We've been monitoring it.\" Veradittakit said Pantera has no plans as of now to offer an ether fund to complement its bitcoin fund, introduced in 2014 . Bitcoin startup interest A driver factor behind the interest, respondents said, is that digital currency industry firms are paying attention to, and implementing, Ethereum as part of their market approach. Stephens noted that a number of Blockchain Capital's portfolio firms, including Bitfinex , Kraken and BitGo , are now offering Ethereum services, and that GoCoin, a payment processing firm, would soon add support. \"We're seeing a lot of companies add Ethereum. Instead of selling chocolate, now they have chocolate and vanilla,\" he said. Demirors said that some DCG portfolio companies are taking a similar path, building infrastructure for the ecosystem's service providers. \"I think many of the early movers we'll see in this ecosystem are existing bitcoin companies that can leverage their operational capabilities and strategic relationships with banks, regulators and other stakeholders to begin building a robust, global network for exchanging, holding, storing and managing ether,\" she said. Notably, such a logic has been historically used by the financial industry to suggest why it might be more able to help blockchain-based technologies reach the mass market. Growth potential As for the growth potential for Ethereum startups, respondents were mixed on projections. DCG's Scher said that a cornerstone of its investment thesis is that bitcoin is both a secure store of value and a financial rail, and that Ethereum is unlikely to compete against the bitcoin in these areas. However, Scher sees Ethereum potentially competing against bitcoin in serving as a platform for smart contracts, identity management and provenance, other potentially large and impactful areas for the technology. \"Startups building these types of products and services may opt to use Ethereum in the future because of its ease of use and other features that it possesses, and that's a terrific development for us and the blockchain ecosystem,\" he said. Demirors said she believes the Ethereum community could one day surpass bitcoin in terms of the number of developers it attracts due to an easier scripting language, but said that it's not out of the question innovators won't find solutions to these issues. Stephens noted that he sees interest in Ethereum as positive, but that VC firms are just now beginning to analyze the industry for potential investments. \"It's still early. We've met with over a dozen companies, and only a few of them in our opinion are investable,\" Stephens said, concluding: \"I think that will change.\" Disclaimer: Homestead image via Ethereum Blockchain Capital Boost VC Digital Currency Group Ethereum Pantera CoinDesk is a subsidiary of Digital Currency Group.</td>\n",
       "      <td>coindesk.com</td>\n",
       "    </tr>\n",
       "    <tr>\n",
       "      <th>3</th>\n",
       "      <td>3067875254349597654</td>\n",
       "      <td>0.459162</td>\n",
       "      <td>content_present</td>\n",
       "      <td>4340306774493623681</td>\n",
       "      <td>HTML</td>\n",
       "      <td>http://www.coindesk.com/microsoft-ethereum-3-million-developers/</td>\n",
       "      <td>Microsoft Adds Ethereum to Windows Platform For Over 3 Million Developers - CoinDesk</td>\n",
       "      <td>Millions of Microsoft developers are now able to build decentralized applications using the Ethereum blockchain thanks to a collaboration between the software giant and Consensys, announced today. By building Ethereum's Solidity programming language for writing smart contracts directly into Mircosoft's Visual Studio platform, developers will be able to build, test and deploy decentralized applications, or dapps , within an integrated environment they already know how to use. But don't think this is a money play for either Consensys, or Microsoft, at least not yet. In a conversation with CoinDesk, CEO of Consensys, Joe Lubin said that growing the number of developers using the distributed ledger technology was first and foremost about reimagining social, economic and political systems. Lubin, who is also the co-founder of Ethereum told CoinDesk: \"It's in our best interest, and in our mission, to help with the adoption of Ethereum in all its different forms - public, private, consortium - and this just makes that that much easier.\" The Consensys integration with Microsoft uses smart contract programming language Solidity to let developers run programs on the Ethereum network, also called the Ethereum Virtual Machine (EVM). Announced today at Microsoft's Build Conference in San Francisco, the new functionality was scheduled to go live this morning at 10am EST. With Ethereum's Solidity language, developers will be able to write applications using self-enforcing smart contracts that can theoretically execute as wide a range of business transactions as the coder can imagine. Ethereum's cryptocurrency, ether, powers the applications, and is currently valued at about $11.60, with a market cap of over $900m. By comparison, bitcoin's market cap is $6.3 billion. The EVM transactions - or smart contract executions as they may be more accurately called - can then be recorded on what Consensys described in a statement as a \"non-repudiable and authoritative\" record using either the public or private versions of the Ethereum blockchain. Ethereum's Room to Grow Until recently Ethereum adoption has been slow, even if it is accelerating. For example, the number of Ethereum repositories on GitHub, a reflection of how frequently developers are using the distributed ledger in their projects has grown at an exponential rate since January 2014, from less than 10 to about 460 by the end of 2015, according to analysis conducted by venture capital firm Kleiner Perkins Caufield &amp; Byers. Using the same methodology, we calculated that number has more than doubled to 997 repositories, in the past three months alone. But when compared to bitcoin, where there are currently 7,647 bitcoin repositories in GitHub, there's plenty room to grow before Ethereum becomes a serious competitor. Marley Gray, director of business development and strategy for blockchain at Microsoft thinks his company's large pool of developers could change that. As of July 2015, when Microsoft launched its most recent version of Visual Studio more than 3.2 million developers were registered on the platform, and the gallery of tools had been downloaded 13 million times in the previous year. \"This integration with Visual Studio will offer developers enterprise-grade solutions with advanced capabilities for teams working on blockchain smart contract projects of any size and complexity,\" Gray said in a statement. While Consensys' CEO said he doesn't plan on making any money directly from the collaboration, he was clear in his conversation with CoinDesk that the effort to make it easier for developers to build dapps was no act of philanthropy. Lubin said: \"We at Consesys are a for-profit entity and we are building products on [the Ethereum] platform. We are building professional services and consulting on that platform, so it makes it so much easier for us to offer that kind of an environment to our customers and using that environment we can offer further services. Business of Ethereum Based in Brooklyn, New York, the self-funded Consensys is currently generating revenue from deals it has closed with institutional clients. Consensys declined to share the names of its clients. Currently, Consensys employs about 70 people around the world, 30 of which are based at their headquarters in New York City, Keys said. He estimates that 80% of the staff work on a full-time basis and are compensated through a combined equity and payment structure. \"Everybody's a stakeholder,\" he told CoinDesk. \"It just depends on when they started.\" Consensys also isn't sharing its specific revenue numbers. But Keys said it has no intention of being profitable anytime soon. \"We just want to keep hiring people. We're at 70 now and if we find the right people we'll hire immediately,\" he said. For an idea of the growth rate the company expects, it plans to more than double the workforce by the end of 2016, employing 150 people on a full-time basis, Keys said. Symbiotic relationship Consensys' deal with Microsoft is a true collaboration, with neither party paying the other to be involved in any way, said Lubin. In fact, both companies have benefited elsewhere by working together. In November 2015, Consensys was the first company to join Microsoft's Azure cloud-computing service designed to let other companies experiment in a sandbox environment with the distributed ledger technology. As a result, Microsoft was able cut out its place in the blockchain industry as one of the largest early movers, and Consensys earned the credibility of partnering with a $427bn publicly traded company. The relationship, Lubin thinks, will continue thanks in no small part to today's news. Lubin described Visual Studio to CoinDesk: \"It's one of the best software developer tools on the planet, and this [collaboration] is like adding the vocabulary to build different kinds of programs to your development repertoire.\" ConsenSys Ethereum Microsoft Microsoft Azure</td>\n",
       "      <td>coindesk.com</td>\n",
       "    </tr>\n",
       "    <tr>\n",
       "      <th>4</th>\n",
       "      <td>-6713697716910928909</td>\n",
       "      <td>0.451286</td>\n",
       "      <td>content_present</td>\n",
       "      <td>4340306774493623681</td>\n",
       "      <td>HTML</td>\n",
       "      <td>https://blog.ethereum.org/2016/03/30/solidity-available-in-visual-studio/</td>\n",
       "      <td>Solidity Available in Visual Studio - Ethereum Blog</td>\n",
       "      <td>Consensys and Microsoft have announced that the Ethereum contract programming language Solidity will be available in Microsoft's Visual Studio integrated development environment. ConsenSys and Microsoft collaborated on this integration to enable developers to rapidly build smart contract-based applications for the public Ethereum blockchain, as well as private and consortium blockchain deployments based on Ethereum. This integration is being revealed at //Build , Microsoft's annual developer conference, in San Francisco on March 30th; Vitalik Buterin, Consensys CEO Joseph Lubin and Consensys Enterprise director Andrew Keys will be present. Vitalik, Andrew and Microsoft CEO Satya Nadella at the //Build pre-conference reception The integration comes in the form of an extension to Visual Studio that creates project scaffolding with smart contract sample code, generates ABI and binary files for deployment, supports context-sensitive menus for compilation and deployment of smart contracts, and build an automatically generated UI for contract calling for testing purposes. This is not the first time that Microsoft has expressed interest in Ethereum technologies; the Ethereum Blockchain as a Service offering has been available since November 2015 , and has expanded to include the BlockApps Strato Ethereum toolkit, as well as several Ethereum applications, including the Cetas decentralized KYC system , the Augur prediction market , and the slock.it IoT platform. We look forward to continuing to work together with Microsoft on bringing Ethereum and blockchain technology to the masses.</td>\n",
       "      <td>blog.ethereum.org</td>\n",
       "    </tr>\n",
       "    <tr>\n",
       "      <th>5</th>\n",
       "      <td>8084284001249507595</td>\n",
       "      <td>0.418759</td>\n",
       "      <td>content_present</td>\n",
       "      <td>4340306774493623681</td>\n",
       "      <td>HTML</td>\n",
       "      <td>https://news.bitcoin.com/microsoft-embrace-digital-currency/</td>\n",
       "      <td>Microsoft Continues to Embrace Ethereum &amp; Bitcoin - Bitcoin News</td>\n",
       "      <td>Microsoft Also read: Putin's Advisor: Bitcoin Legality in Other Countries is 'Fiction' is continuing to support cryptocurrency and blockchain technology within its infrastructure. Just recently, ConsenSys and Microsoft have collaborated on integrating 's programming language, Solidity into the company's Visual Studio . The tech giant company has also revealed that Excel 2016 will support Bitcoin's currency format within the MS Office suite. Microsoft Enables Thousands of Devs to Build with Ethereum The reveal of this integration was introduced at Microsoft's Build presentation with Ethereum co-founders Vitalik Buterin and Joseph Lubin attending the event. Build focuses on presenting the latest technology and tools to help developers generate innovative concepts. The implementation of the code will allow developers to create with its protocol, building decentralized applications (Dapps), smart contracts, and IoT compatibility. Through this collaboration, Windows users will be able to develop programs via the Ethereum Virtual Network (EVM). Buterin stated: What do you think about Microsoft's deep involvement with cryptocurrency and blockchain tech? Could it give them the edge the company once had? Let us know in the comments below! Images courtesy of Microsoft, Ethereum Making it easier for developers to build applications on top of Ethereum through developer tools has always been one of our primary interests and focuses, and the integration of Solidity in Visual Studio will help bring Ethereum to a very large developer community. I am looking forward to seeing the results that this collaboration will bring. Solidity is a javascript-like programming language used for developing on the EVM. With the language users can write applications \"that implement self-enforcing business logic embodied in smart contracts , leaving a non-repudiable and authoritative record of transactions.\" Visual Studio is a development environment that is used to build these programs for Windows, Android, and iOS platforms. Director of BizDev &amp; Strategy for Blockchain at Microsoft Marley Gray said of the announcement: This integration with Visual Studio will offer developers enterprise-grade solutions with advanced capabilities for teams working on blockchain Smart Contract projects of any size and complexity. We are excited to continue to support the development and innovation of the distributed ledger ecosystem. Excel 2016 will Support Bitcoin Currency Format The Bitcoin currency format was revealed in the Office 365 Roadmap , which explains the development and upcoming updates to the software suite. Microsoft Office is currently the business application used by companies. Format support is currently in \"development\" but will offer a variety of use cases when it becomes available. The Roadmap states, \"Now use Excel to track, calculate and analyze Bitcoin data using native number formatting options. The feature is first being rolled out to Excel 2016 for Windows, Excel Online, Excel Mobile for Windows and Excel Mobile for Android.\" Microsoft clearly is interested in the digital currency and with Ethereum and Bitcoin being melded into its software. Projects like the cloud-based Microsoft Azure program and the blockchain environment acceptance of this emerging technology has been profound. The company still accepts Bitcoin and is now integrating certain elements of these technologies to prepare for the future. Jamie Redman is a Bitcoin enthusiast, trader, journalist and graphic artist. For over 4 years Redman has been deeply infused in the cryptocurrency space. Creating a ton of Bitcoin visuals and articles for the community to enjoy, Redman continues his quest to be a candid evangelist for the use of the virtual currency. The mission is to bring the \"Jazz\" to Bitcoin branding and add artistic flare.</td>\n",
       "      <td>news.bitcoin.com</td>\n",
       "    </tr>\n",
       "    <tr>\n",
       "      <th>6</th>\n",
       "      <td>4849766494522371290</td>\n",
       "      <td>0.345580</td>\n",
       "      <td>content_present</td>\n",
       "      <td>4340306774493623681</td>\n",
       "      <td>HTML</td>\n",
       "      <td>http://bitcoinist.net/cashila-announces-convenient-buy-and-sell-feature-for-ethereum/</td>\n",
       "      <td>Cashila Announces Convenient Buy and Sell Feature For Ethereum</td>\n",
       "      <td>There seems to be no love lost between central banks and companies active in the world of Bitcoin and blockchain technology. But at the same time, Cashila is the world's first Bitcoin payment processor with a license by a Central Bank, showing there is a way to bridge the gap between both sides of the financial sector. The new service offered by this company lets users buy, sell, and store Ethereum in a quick and convenient way. Also read: Wheel of Doge Allows Players to Use Any Coin Through ShapeShift Cashila Ventures Into The Ethereum World It is not uncommon to see existing platforms explore the Ethereum side of things as well since there is a lot of revenue to be made from doing so. Various Bitcoin exchanges offer consumers a way to easily buy and sell Ether, the token of the Ethereum protocol. Kraken, Bitfinex, Coincheck, and Korbit are just a few of the platforms to have done so in the past year. But when it comes to payment processors, there does not seem to be any indication of them looking to embrace soon. Cashila is the first one to do, and they have big plans for expanding their service in the next few weeks. Right now, the company is best-known for enabling users to make daily payments - or direct wire transfers - to anyone in the European Union by using Bitcoin. Moreover, users can receive Bitcoin or payments denominated in EUR to their online Cashila wallet . But ever since the Ethereum developers released Homestead, there has been growing internal talk about the addition of Ether to the platform. Although it remains unclear whether or not this new service will be a standalone platform or just a part of the current services, the plan is to let Cashila users exchange between EUR and Ether on-the-go. In return, this should bring additional liquidity to both markets. Cashila Co-founder Jani Valjavec stated: \"Buying Ether is currently too hard for an average person. That's why we're building the easiest possible way for one to buy and securely store Ether.\" To make the process of buying and selling Ethereum a lot more convenient for users, the company has been actively developing a new unnamed service. Although the name remains unknown for now, we do know the new service will let users buy and sell with just one click, at a fixed price. Additionally, the new service will support both the ETH and EUR wallet , allowing for quick conversions between both types of currency. Last but not least, it will be possible for EU customers to deposit and withdraw funds through SEPA, assuming one live sin any of the countries supporting this payment method. Low Costs And No Verification Needed One of the biggest drawbacks for novice users is how they have to go through a thorough verification procedure before being able to buy Ethereum on most exchanges. Cashila is taking a different approach, as users will not need to provide any documentation to verify their identity. However, there will be an EUR 1,000 trading limit in place, which can be lifted by submitting the necessary documents. Most convenient exchange solutions charge - sometimes rather high - fees for that particular service, but Cashila wants to keep the costs a slow as possible. Based on the information we have received, there will be a 1% fee applied to trades, and conversions to SEPA can be done any working day. Moreover, storing ETH can be done through the secure online wallet , which will support 2FA for all the key actions. What are your thoughts on this new service announcement by Cashila? Are you looking forward to giving it a try? Let us know in the comments below! Source: Press Release Via Email Images courtesy of Cashila, Ethereum, Shutterstock Jp Buntinx JP Buntinx is a freelance Bitcoin writer and Bitcoin journalist for various digital currency news outlets around the world. In other notes, Jean-Pierre is an active member of the Belgian Bitcoin Association, and occasionally attends various Bitcoin Meetups in Ghent and Brussels More than 55.000 financial technology enthusiasts from all over Europe have voted for their favourite European Fi... Bitcoin ransomware has been a thorn in the eye of many digital currency enthusiasts, and security experts have had ... 30 March 2016 - Decentraleyes, a decentralized privacy addon for Firefox goes above and beyond to deliver a priva...</td>\n",
       "      <td>bitcoinist.net</td>\n",
       "    </tr>\n",
       "    <tr>\n",
       "      <th>7</th>\n",
       "      <td>-2711301039947937868</td>\n",
       "      <td>0.341974</td>\n",
       "      <td>content_present</td>\n",
       "      <td>4340306774493623681</td>\n",
       "      <td>HTML</td>\n",
       "      <td>http://www.coindesk.com/asia-exchanges-ethereum-trading/</td>\n",
       "      <td>Eyeing Volume, Asian Exchanges Add Support for Ether Trading - CoinDesk</td>\n",
       "      <td>Following Ethereum's production-ready software release earlier this month, digital currency exchanges are now adding support for the native token that powers its blockchain, ether (ETH). In recent weeks, the majority of announcements have come from Asia, where exchanges in China, Japan and South Korea have all added support for ETH trading. Such actions follow the news that Bitfinex, one of the world's largest digital currency exchanges, had added support for the digital currency on 12th March . Regional exchanges that have since announced support for ETH trading including Coincheck, CHBTC, Korbit and Quoine - exchanges that have raised upwards of $5m in combined venture funding. Quoine CEO Mario Gomez Lozada reported that his Singapore-based exchange has already seen an influx of trading activity for ether, telling CoinDesk: \"We did a few thousand ether on launch day, most of it from Japanese traders, and we reached over 1,000 BTC trading volume in ETH/BTC shortly after. Our Japanese traders immediately embraced ether.\" The announcements coincide with escalating interest in ether trading after its market capitalization rose above $1bn earlier this month. At press time, its market cap had subsided, declining to roughly $937m after a period of price volatility. The price of ether at press time was under $12 across exchanges, a figure buoyed by trader interest in the digital currency. High hopes Exchange representatives voiced enthusiasm for Ethereum, as well as their hope that it could extend the market for digital currencies by making headway on use cases where bitcoin startups have yet to find success. \"Bitcoin was all about money. We hope Ethereum will be everything other than money. Therefore, it's natural for us to support ether,\" Coincheck business development lead Kagayaki Kawabata told CoinDesk. Coincheck has since added support for leveraged ether trading, allowing traders to borrow up to five times leverage on ether trades. Kawabata indicated that interest in Ethereum remains low, but he suggested that corporate interest, on the level of a regional Microsoft lending support, could boost awareness. Further, Gomez Lozada said that he believes Ethereum is attracting new traders to his exchange and fostering interest in digital currencies and blockchain tech. \"We have seen new traders joining the platform and exclusively trading ETH,\" he said. Still, not all of the region's exchanges are ready to embrace Ethereum. Xu Qing, a spokesperson for Huobi, said it is interested in the technology developments but that it has no plans to add support for ether. Qing said: \"We still keep an open mind to outstanding [digital currencies]. Any new digital currency needs time for market validation and acceptance ranging from issuing mechanisms to market liquidity.\" Asia image via Shutterstock</td>\n",
       "      <td>coindesk.com</td>\n",
       "    </tr>\n",
       "    <tr>\n",
       "      <th>8</th>\n",
       "      <td>-9171475473795142532</td>\n",
       "      <td>0.310818</td>\n",
       "      <td>content_present</td>\n",
       "      <td>4340306774493623681</td>\n",
       "      <td>HTML</td>\n",
       "      <td>http://www.newsbtc.com/2016/03/30/decentralized-options-exchange-etheropt-uses-automated-ethereum-smart-contract/</td>\n",
       "      <td>Decentralized Options Exchange Etheropt Uses Automated Ethereum Smart Contract</td>\n",
       "      <td>The price per Ether will be taken from multiple sources, including Poloniex - the main exchange for ETH trading - and will be verified by Reality Keys. Since there is no owner running this platform, all of the trades, deposits, and withdrawals are executed automatically through an Ethereum smart contract. Decentralized autonomous trading is what digital currency was designed to do, and it is good to see new platforms pop up embracing this principle. Ethereum keeps capturing the imagination of both developers and digital currency enthusiasts all over the world. As new platforms are being announced around the clock, the ecosystem is growing into something very powerful. One of the latest announcements comes in the form of Etheropt, a platform that is live on the Ethereum mainnet which offers decentralized options exchange opportunities. Also read: Bitcoin Price Watch; A Shifted Range in Focus The Etheropt Decentralized Options Exchange Similar to , the Ethereum blockchain is all about decentralizing as many platforms as humanly possible. Although Bitcoin offers a variety of trading and exchange platforms, very few of them are decentralized at their core. Things could play out differently when Ethereum is involved, as impressive new platforms are coming to fruition. is one of those platforms, which is entirely decentralized. Moreover, this is not your everyday digital currency trading service either, as the main purpose is to exchange a variety of . What is even more interesting is how all of the options are call and put options related to the Ethereum price, denominated in US Dollar. The price per will be taken from multiple sources, including Poloniex - the main exchange for ETH trading - and will be verified by Reality Keys . Since no owner is running this platform, all of the trades, deposits, and withdrawals are executed automatically through an Ethereum smart contract . Decentralized autonomous trading is what digital currency was designed to do, and it is good to see new platforms pop up embracing this principle. What is even more appealing to potential traders is how Etheropt does not charge any fees. Unlike traditional exchange platforms, where a small portion of every trade is taken as a fee, no one will be making money from this concept other than the people successfully placing their options. Moreover, deposits and withdrawals are not subject to any fees either. Etheropt users can ether deposit funds directly in Ether, or use Shapeshift.io to convert any of the supported digital currencies into ETH. It is positive to see the Etheropt developer looking at various ways to make this platform more accessible to all kinds of digital currency enthusiasts.</td>\n",
       "      <td>newsbtc.com</td>\n",
       "    </tr>\n",
       "    <tr>\n",
       "      <th>9</th>\n",
       "      <td>1266958185239582088</td>\n",
       "      <td>0.307251</td>\n",
       "      <td>content_present</td>\n",
       "      <td>5660542693104786364</td>\n",
       "      <td>HTML</td>\n",
       "      <td>http://thefinanser.com/2016/09/are-you-a-bitcoin-denialist.html/</td>\n",
       "      <td>Are you a bitcoin denialist? - Chris Skinner's blog</td>\n",
       "      <td>Many of the people I meet believe that bitcoin is bad and will fail. It's rare to meet anyone who says that it could change the world and will succeed. But I've found one and he happens to have written a very good blog about it: Akin Fernandez, Entrepreneur Developer of Azteco . It's a long read, but worth it if you want to be informed. TL;DR If you have software that does something that is valuable, it will sell itself once people hear about it. What other people are doing wrong does not impact your software. There are some interesting and sportsmanlike debates happening around software properties and philosophy in the area of Bitcoin and the Blockchain. There are two distinct camps in this fascinating debate; the software developers and the non software developers . The non software developers can be characterized as Statist Sceptics . On top of not understanding how Bitcoin works, they do not like Bitcoin in principle , because they are Statists , and they are doubtful (without reason) that it can gain traction and spread globally. They have been Moving the Goalposts (a ) for several years in debates about Bitcoin, and have had to concede humiliating defeat many times as Bitcoin resists all their baseless nonsense and hopelessly bad predictions. First they said Bitcoin was a Ponzi Scheme, then they said it was only for \"techies\" then they said it was a bubble, then they said some other nonsense about it . Now, no one says any of those things, and they are onto the next iteration of their FUD; for example, the transaction rate is \"not fast enough\". They have conceded that Bitcoin works exactly as specified, and are running out of novel attacks. The rumblings of complete capitulation are starting to be written, and its a distinct pleasure to read them. Compounding the anti-Bitcoin proponent's frustration are voices that they recognize as deeply authoritative ( IBM ), saying that, \"The underlying technology could change everything\". Those that are retreating into that camp now say, \" And also Bitcoin \" when they talk about \"Blockchain Technology\" as the latest way to try an diminish the world changing effect Bitcoin will have. All the Bitcoin detractors have several characteristics in common. 1 They do not develop software 2 They do not understand or use cryptography 3 They do not have the language to describe cryptography 4 They have a quasi religious belief in the necessity of the State 5 Their only way in to the software world is by analogy Without an understanding of cryptography, it is not possible to understand why Bitcoin works. Without an understanding of Austrian Economics, it is not possible to understand why Bitcoin is limited to 21 million units. Without an understanding of software and its history, it is not possible to predict the future course Bitcoin will take. If you do not understand cryptography, specifically, Pretty Good Privacy , it will be difficult to understand the idea of a cryptographic signature, and its properties. Bitcoin is not a system of \"Smart Contracts\"; it is a system that uses cryptographic signatures to verify that a piece of text is now \"locked\" to the owner of a private key, who has the sole power to unlock that text and sign control over it to another owner of a different private key. All of this takes place on a public ledger. This is not at all like a contract, and neither is it \"smart\". In order to \"send\" Bitcoin to another person ( N.B. sending and receiving Bitcoin never actually happens, you simply sign an entry in the ledger and your balance, the number of entries you can sign, changes which is represented as a number ), you must use your private key to sign a message that is verified by the network. The system that controls this and verifies that the same signature on a piece of text can only be assigned to one key at a time is the breakthrough in The Double Spending problem , the explicit reason that Bitcoin was developed. This system can be used for other purposes that require registration of signed text, that is certain, but the Blockchain was developed specifically to facilitate the creation of a system of money that is free from government control, and immune to inflation. This idea, the idea of sound money, is anathema to Statists. They love government money that robs the poor and is the source of many of the troubles we face today. Do you see what I did there? I described what Bitcoin is, without using any poor analogies and stating only the facts. This is important, and I will come back to it later. Bitcoin does what it is designed to do. It does it very well. It will do it even better in the future, and this is something that non software developers do not understand; software is not fixed . The Bitcoin network we have today is not the same as the Bitcoin network at its start. There will be improvements in every area, including the speed at which the network runs. In the past, downloading the entire Blockchain was needed for every peer. Now you can download a pruned version that is smaller, and there are clients that do not require downloading the entire Blockchain at all . Anyone who presents a Straw Man Argument that Bitcoin cannot work because it takes \"too much\" time to confirm transactions, or the transaction volume is small compared to SWIFT or some other centralized system clearly cannot think , and doesn't know anything about software or its history. In the past before the global software precedents, they could have been excused for doubting the spread of any particular software or hardware, as the infamous Clifford Stoll did when he said the web \" would never take off\" but now, in 2015, we have numerous examples of devices and software that spread globally and that scale . The flash drive, which used to hold 64MB, now holds 64GB in the same form factor. There are one thousand and twenty four megabytes in one Gigabyte. That means in the picture below, the top drive has one thousand times more storage space than the bottom drive. I have no doubt that these same people, had you enthusiastically said to them, \"Your 64MB flash drive will hold a in a few years and cost \" would have scoffed at the idea. The same thing is happening with Bitcoin. Men who know nothing about software are scoffing at the idea that Bitcoin can change and improve. Its an a-historical perspective, to use parliamentary language. On IRC, they simply say, \"DERP!\". Often these people group the Blockchain and Bitcoin with tangentially related projects like Ripple, leaving out the crucial details that allow you to distinguish one from another and make a proper judgement, either by deliberate omission or ignorance. Ripple is very different to Bitcoin. It is a \"pre mined\" currency where all the tokens are created at once, by the developers. Bitcoin on the other hand, is designed quite differently. Its money creation mechanism follows a predictable curve, and is achieved through the process of competition between miners. This was done to keep the expansion of money supply under control until all the Bitcoin is generated, and is a direct result of the correct ideas in Austrian Economics. There is no boss, thankfully It is entirely right to say, \"Bitcoin is controlled by no one\". When this construction is used, it is meant to distinguish between Bitcoin and tools like Ripple, which is centrally controlled . Clearly, the Bitcoin miners control their own hardware and software, and the Bitcoin reference client is under the supervision of the man who is currently responsible for it. At the same time, the network requires consensus for it to operate properly, and it cannot be corrupted or gamed by a single entity. This is exactly what is meant by, \"controlled by no one\". It is not controversial to say this, and it is an accurate description of how the Bitcoin network operates. What the Statists do not like about Bitcoin not being under central control, is that its success is a strong, undeniable signal that control by democratic government is not needed for essential societal functions like money, and that there are better ways to organize every aspect of society that do not require government. The idea that money will no longer be the special preserve of the State and its corrupt central banks is deeply disturbing to these men, and so, they do anything they can (which is precisely nothing) and say anything they can (which is too much) to undermine the idea that Bitcoin does not need to be centrally controlled. Comparing any centralized service, like Ripple, which maintains a definitive central ledger in its offices, to Bitcoin is absurd . These two softwares are in completely different categories, and this bad comparison highlights the naked computer illiteracy of the men who make this febrile comparison. Ripple tokens, the way they were generated, who controls them and the software are all crucial pieces of information that you need to grasp before you can make a judgement about it or compare it to Bitcoin. Once you have a grasp of these, you can clearly see that Ripple is nothing at all like Bitcoin . Bitcoin, if you need to make a comparison to existing software, is more like the BitTorrent Protocol . Once again, if you have used BitTorrent, you will know what I am talking about. If you have not, you will not. There is nothing stopping anyone from making clear, detailed distinctions between different software projects. We can say that Ripple is nothing like Bitcoin, and X software is like Y software. This is useful, and shying away from the details is not; in fact, omitting the details of how software works only causes confusion, and helps spread uncertainty. GPG users and promoters are very used to the computer illiterate characters who will say things like, \"Yes! but I'm sure the government can read PGP messages, there is no way that they can't; they can do anything!\" without any evidence or knowledge of what they are talking about. It is only now that Edward Snowden has confirmed that GPG is beyond the reach of the NSA, that their ignorant anti GPG nonsense is forever dispelled as garbage. Once again, this is the Faulty Appeal to Authority fallacy ; GPG works because it works , not because someone says it works. The same is true of Bitcoin. No matter what software you are talking about, you need to make the case as to why it should be adopted by a user. If there is nothing like it to do the job your software can do, your sales pitch is easy. Bitcoin has this advantage; there is nothing like it in terms of what it does and its scale. Other software projects, have a harder case to make. Ssssssssssssssssssssssssssss! Imagine for yourself, a new software project, that wants to leverage a new technique. In order to sell the project, the facts about it need to be explained, and the software demonstrated. Anyone with experience in testing new software knows how these pitches go. They are very short and terse in the text (just as the Bitcoin White Paper is) and you are invited to run the software yourself. The install process is simple, and then the software either does what it developers claim it does, or it does not. Its all simple and straightforward. If the explanation is too long, and the software essentially unusable, then you have an indication that s omething might be wrong . Couple with that, the fact that it doesn't solve an outstanding hard or easy problem, and the second level alarm bells start ringing. BitTorrent and Bitcoin solve two very hard, distinct problems. BitTorrent solves the problem of how to share files to many people without a central server to distribute them serially. In the past, if you wanted to download a large file, you had to line up behind other people who were downloading the file one person at a time. With BitTorrent, the file is broken up into pieces and distributed out of order for re-assembly at the destinations in parallel. It is much faster than a serial download, and each person with a full or partial copy of the file can share the parts of it they have with other people who do not have those parts. Its all coordinated automagically in the software. BitTorrent is a breakthrough in how files are distributed, and was the result of many years of thought on the problem of how to distribute files without a central server. There had been other attempts at solving this problem , and it took several iterations before BitTorrent was developed by one man: Bram Cohen . Bitcoin has a similar history. For decades developers have been trying to solve the problem of creating an efficient intangible money token. After several attempts, the main problem, how to stop people spending the same token twice (a problem of synchronization) was solved in the form of Bitcoin. In each of these cases, the explanation is simple, the software solves a big problem, and you can download it and use it immediately to solve that specific hard problem. Its clear, unambiguous and instantly beneficial. Now back to our imaginary software project. This project does not solve an outstanding problem. It is designed to be a database like MySQL or PostgreSQL, usable by any organization that wants to store data. This project is trying to re-purpose the Blockchain software to do the common and simple task of a database of a kind that runs on commodity hardware and free software. There is an explicit rejection of Bitcoin by its developers and promoters and the use of Bitcoin in this project, and most importantly, they have not figured out how to create a Blockchain without Bitcoin ; they try to hide it in a sea of text and jibes describing what they are doing. What is wrong with this picture? This imaginary software that I describe is not trying to solve a real problem . Any organization can download MySQL, hire some developers, not even top flight ones, and create extremely fast applications that do everything they could imagine they need. If they have an extra requirement of being able to audit who wrote what to the database and when, by adding cryptographic signatures to all entries and changes, they could have a completely audit-able and 100% reliable system where who did what and who owns what entry could be infallibly known. I will divert quickly to describe how it could be done. In a trusted organization that requires verifiable database entries, it is possible to use GPG signatures to stamp each entry in a way that makes them unforgeable and tamper evident . To do this, you issue everyone with write access to the database, a GPG Keypair that they use to sign entries and changes. Each signer will have a GPG Keypair, and a separate machine will automatically sign all entries with its own keypair, for time stamping and authenticating entries. To understand how this works and why it is infallible, you need to understand what GPG does, what a cryptographic signature is , and how it can be used to authenticate text, enable non-repudiation of a promise and the integrity of entries that are passed through this tool. Creating a system as I describe here does not require a breakthrough in software or theory. It is doable now, and can scale, and the tools are well understood and secure. The vaunted infallible, incorruptible public ledger features of this system can be had without using the Blockchain or an experimental derivative of it. If you want a database that is filled with entries that are not corruptible, you do not need a Blockchain to achieve it, you need infallible digital signatures precisely of the kind provided by GPG. One of the tell-tale signs of what we call \" \" are features that have no meaning. Imagine a software project that made the claim that they have, \"made Blockchains controllable\" That doesn't mean anything . All software is controllable by default, by the developers who write it. This is not a new feature or a breakthrough, it is simply the way things already are . It is very suspicious that a set of men attack the idea of Bitcoin, rather than expound the value of their own offering. The world needs more software. This is a fact. If you have something that is good, then by all means promote it. Saying that another piece of software, that by your own admission does not even overlap with your use case is a bad thing, quite rightly raises serious questions and suspicions about the true motivation behind such statements, and detracts from the thing you are claiming you are trying to sell. Its complicated Bitcoin is not, \"just a database\" anyone who says this does not understand what a database is, or the achievement of solving the Double Spending Problem. Databases are everywhere, common, and have been for decades. Bitcoin is causing global excitement precisely because it is not \"just a database\" , it is profound and new breakthrough. Bitcoin users do not have a common objective, but use a common means to achieve their objectives. Saying that Bitcoin users have a common objective is like saying people who use the fiat dollar or web servers have a common objective. Clearly they do not; web servers are used to serve web pages . The objectives of the people publishing pages are expressed in the text and images the users post for the world to see. Bitcoin is nothing more than a tool, just like any other tool, and nothing can be implied or imputed onto its users simply because they use it. The Bitcoin designer had a specific aim in mind, and part of his genius was to predict the human reaction to a money that is sound. As the true nature of money is further exposed by Bitcoin's spread, more people will come to distrust and reject fiat money issued by central banks, and the creator of Bitcoin's mission will be complete. Bitcoin is designed to be decentralized. The miners and software maintainers do not have \"limited supervision\" over the network; it is ordered by its operation and doesn't require supervision or control. To say that it does, demonstrates a profound misunderstanding of how Bitcoin works. The only way you can claim that Bitcoin is supervised is to change the meaning of the word \"supervised\" and this is another thing that Bitcoin detractors do; they change the meaning of words to confuse and distract anyone who is trying to understand Bitcoin's operation as a newcomer or computer illiterate that can be swayed by bad arguments because they cannot distinguish the truth and lies about Bitcoin. Blockchains are run on software. They could also be run with pencils and paper and the mail. Blockchains are data . It is wrong to say however, that if you write the rules that you want expressed that they will \"do exactly what we tell them to do\". This is false. The Blockchain works precisely because the rules that govern its operation are finely tuned. The rules that govern its operation is the breakthrough. You cannot simply wave your hands, shout, \"die Bitcoin die\" at the top of your lungs and command that a Blockchain start exhibiting a set of features you desire. That is nonsense on stilts. Problems do not fall to the mind of man on demand. This is why they are problems . The Blockchain and by extension Bitcoin, if it were \"just a database\" or a simple matter of telling computers to \"do exactly what we tell them to do\" would have been invented at the same time that the database was invented . Blockchains are not just databases , they are something very new , and novel , and clearly, very hard to understand for some. You cannot, bearing this in mind, \"obtain the benefits of the Blockchain\" without Bitcoin. This idea, that you can have a Blockchain whilst entirely stripping away Bitcoin by simply writing some software should send up a giant red flag. It is entirely legitimate to desire and imagine and then write any manner of software you want. It may even be possible to create software that seems to be irrational on the surface, but which works. But there are some things that cannot be done , and even if they can, do not need to be done . As I described above, there is no need to use a Blockchain to secure database entries, make them infallible and trustable, and to extend that trust outside of the organization that holds the central database. No new techniques need to be developed to do this, so the question that immediately comes to mind is... Why are they doing this? Recording a cash deposit is easily done on a true database like MySQL, enforcement in a breach of contract is done by courts all the time. You cannot have software enforcement of a payment of money without the valuable token that can be confiscated by the software contract , so removing Bitcoin from your novel offering doesn't make any sense. You need the valuable token to ensure that both parties do what they promise to do. But if your philosophy is that the State should be the sole arbiter in disputes, there is no need for Blockchain contracts ; paper ones will do. It is only in the scenario that you want to replace Government courts as arbitrators in disputes, and lawyers to draft and interpret the law that Blockchain contracts have real, revolutionary utility. Adding an extra layer of complexity to the existing monopoly courts and banking system that even the promoters of the bad idea cannot explain coherently and convincingly is not a good business idea. You cannot simply \"choose to look at Blockchains as an open source database\". First of all the term \"Open Source\" refers to software licenses , not to the license that covers the content stored in them, and the Blockchain is not a simple database; it is far more than that , as I have explained. The entire idea of Blockchains and Bitcoin is that the transactions are irreversible . It is not a beneficial feature to create a Blockchain that has reversible entries on it. If you want that, you use PostgreSQL or MySQL not a hacked version of the software that runs the Bitcoin Blockchain. It is not practical from a business perspective to use tools for something other than what they were designed for, especially when there are mature tools that do exactly what you need without any risk. Take that into account and then superimpose the Procrustean idea of reversible Blockchain transactions, and essentially you are demonstrating that you have entirely missed the point and innovation of the Blockchain. The Blockchain was designed specifically to bring into being a new form of money. It literally is a money printing press. The form of money it generates is clean, ethical, anti-centralization and anti-State. This is why it rankles so many people who are invested in the idea of the State, and who are its certified gatekeepers. There is no right way to do any sort of software. Software is written to meet the needs of its users. If you want to use a database to store pictures of your navel, that is a correct use by default. There is no wrong way to use software, but there is a wrong way to use it if your goal is very specific. If you want an efficient database to be used internally in a corporation or enterprise, you do not need to re-engineer the Blockchain to remove Bitcoin from it to do so. You simply use MySQL or PostgreSQL. You use the right tool for the right job, and you do not force a tool on to a problem simply because the words that describe it are hip and fashionable. The Blockchain was specifically designed to allow Bitcoin and its properties to exist. By definition, that is the correct use case for that software; to create a decentralized, peer to peer digital money substitute without the Double Spending Problem. If you have another novel use case and you re-purpose the software used to create the Blockchain, that is good; but if you do not have a novel use case, you do not need to use the Blockchain. The Blockchain does not need anyone to be right about it, and it does not need to be defended, any more than arithmetic needs to be defended; it just is , and that is all there is to it. Its use and growth is its own defence. Its logic is its own defence. Its utility is its own defence. Most rational people do not have an objection to any software being re-purposed or re-designed. It simply doesn't matter what people choose to do with their time and what software they want to release. Software cannot attack other software. It is irrational violent men who attack other men for holding the \"wrong\" ideas , and of course, the anti Bitcoin men are very eager to physically attack Bitcoin users simply because they use Bitcoin . This is the stark difference in ethics of the evil men who are against Bitcoin and the men who are natural and normal. Software doesn't care about what view you take. It only executes as it is instructed to execute. Either your product works and achieves your aims or it does not. If it does, then you have to convince someone that your offering is worth risking their data and business on. This is the simple truth. A Blockchain is demonstrably not like any other database software. The superficial advantages that the Blockchain offers in terms of proving that something has happened at a certain time or that someone has the keys to unlock an entry, can be trivially replicated on MySQL or PostgreSQL with a GPG layer. Propagating messages in a verifiable way is easily done with SSL and GPG without a central server, using BitTorrent as the transport layer. Anyone familiar with GPG and the Web of Trust knows this. Permissions in MySQL are mature and reliable. If cost savings (and risk savings) are your aim, you would be far better off using the standard tools in an organization, which by its nature is centralized and where accountability and privacy are needed. The Blockchain is for a different purpose; its aim is to move accountability to the network and out of the hands of a central authority . If you are selling something to an organization that requires central authority, you do not need the Blockchain and its guarantees, because these are achievable by compulsion, and verification done by digital signatures. Transparent audit logs are achievable by other means than a Blockchain, and organizations more often than not, like to keep the details of their internal databases private , as they contain business sensitive data. Spreading out the database task into the public onto servers not under the control of the corporation is not something that is desirable. A product that does this is a solution to a problem no one is trying to solve looking for a client that does not exist; the complete opposite of Bitcoin and the Blockchain, which is a solution to a real problem that has been sought after for decades, that everyone needs. You do not need a consensus mechanism in a company where everyone is under centralized control. The board is the consensus mechanism. Computers today are so powerful, and storage so inexpensive, large databases can run on laptops without any problem. Distributing the load over many machines is something that is required only in \"Big Data\" Scientific applications, where the idea of the Blockchain and its record keeping abilities are simply not needed. There is a demonstration floating about from one of the \"Blockchains not Bitcoin\" companies, where they claim to have replicated Netflix on their software. Not only is this use case an example of piracy of copyrighted material, but this function is already efficiently done with BitTorrent on a global scale. These new Blockchain derivative products do not know what they want to be, and of course, Netflix does not want a distributed system in the way they devise, they want a centralized system so they can profit. The only thing they could want in terms of distributed architecture is the use of BitTorrent to stream films to their customers. Everything that is Blockchain is worthless to them...unless they start taking Bitcoin for on demand viewing of films, which of course, makes the case for Bitcoin as a transformative \"tech\". Someone said that Google could reduce their server costs with a hacked Blockchain. This is absurd. Hardware is very cheap. Re architecting Google's infrastructure to use a Blockchain offers them no advantage whatsoever. Google's needs are simple; they would pay billions for a very fast high level loss-less compression breakthrough. This would mean that their existing infrastructure could instantly have greater capacity with no hardware retrofitting. Apple just had something similar happen to them; a software developer wrote a novel image compression algorithm - they bought it and are incorporating into their software. That is real innovation ; solving specific problems that are well defined, with a novel approach. Uber, AirBnB, Spotify and the vast majority of companies all need simple databases to run their services. The true innovation that helps them is Bitcoin. It reduces the cost of processing payments, and eliminates the risk of fraudulent payments completely. This is not something to be sneered at; it is a revolution in how people pay for services , and it will completely destroy the Credit Card industry forever . What sort of man could possibly be against this? Or claim that it is anything less than one of the most profound beneficial breakthroughs in the history of computers and software? No Straw Man, Faulty Appeal to Authority, corporate gibberish or FUD can stop Bitcoin. Its use case is too obvious and compelling, the savings too great, the elimination of payer fraud too seductive. Bitcoin is real. It is not vaporware . It is here now, you can use it, benefit from it and you don't have to ask anyone's permission to do so. The permissionless nature of Bitcoin is an offence to the Statists, who openly say that every new technology or software should be exposed to scrutiny and regulation by the State, no matter what it is . Bitcoin, being immune from that sort of anti-Americanism , doesn't care what you think , or recommend; it simply is , it will do what it is meant to do, like BitTorrent does, and nothing can stop it. You are not required to like it, integrate with it, use it or even talk about it, and lying about it will not dissuade people from using it. The benefits are obvious to anyone who can think, and those who think instinctively like to save time and money and resent lining up and showing ID to use their own money. Setting up a Blockchain wallet takes literally five minutes and once its done, and you fund it , you have hand-held global access to the entire world market, as a bank, where you can send and receive an unlimited, unrestricted amount of money to anyone, anywhere, instantly. That's a good thing . This is the core of the reason why Statists dislike Bitcoin. It sets people free to do as they like with their own money. Unfortunately for them, its too late to stop Bitcoin. All the vaporware, wishful thinking and FUD in the world can't stop it. Years of bad press written by ignorant men have not stopped its growth, and every day that it grows it is going to become harder to retard. By all means, continue to write your own software, but do not believe for an instant that anything you say can stop Bitcoin. Only software can stop Bitcoin, and to do that, its function needs to be a better Bitcoin than Bitcoin , not any coin that is in any way crippled. Bitcoin has unleashed an idea into the world that will never ever go away . The world has changed. You can either deal with it, or leave it . 14rtDb46NQJkuqFJuHqZG3o6uAWwGbV58z</td>\n",
       "      <td>thefinanser.com</td>\n",
       "    </tr>\n",
       "  </tbody>\n",
       "</table>\n",
       "</div>"
      ],
      "text/plain": [
       "               item_id     score interaction_type          producer_id  \\\n",
       "0  3353902017498793780  0.844943  content_present  4340306774493623681   \n",
       "1  5274322067107287523  0.547449  content_present  4340306774493623681   \n",
       "2  1485652648052127324  0.535586  content_present  4340306774493623681   \n",
       "3  3067875254349597654  0.459162  content_present  4340306774493623681   \n",
       "4 -6713697716910928909  0.451286  content_present  4340306774493623681   \n",
       "5  8084284001249507595  0.418759  content_present  4340306774493623681   \n",
       "6  4849766494522371290  0.345580  content_present  4340306774493623681   \n",
       "7 -2711301039947937868  0.341974  content_present  4340306774493623681   \n",
       "8 -9171475473795142532  0.310818  content_present  4340306774493623681   \n",
       "9  1266958185239582088  0.307251  content_present  5660542693104786364   \n",
       "\n",
       "  item_type  \\\n",
       "0      HTML   \n",
       "1      HTML   \n",
       "2      HTML   \n",
       "3      HTML   \n",
       "4      HTML   \n",
       "5      HTML   \n",
       "6      HTML   \n",
       "7      HTML   \n",
       "8      HTML   \n",
       "9      HTML   \n",
       "\n",
       "                                                                                                            item_url  \\\n",
       "0                                               https://www.cryptocoinsnews.com/ethereum-rise-growth-new-york-times/   \n",
       "1                                 http://www.newsbtc.com/2016/04/02/ethereum-bitcoin-market-leaders-not-competitors/   \n",
       "2                                              http://www.coindesk.com/first-ethereum-startup-funding-investor-says/   \n",
       "3                                                   http://www.coindesk.com/microsoft-ethereum-3-million-developers/   \n",
       "4                                          https://blog.ethereum.org/2016/03/30/solidity-available-in-visual-studio/   \n",
       "5                                                       https://news.bitcoin.com/microsoft-embrace-digital-currency/   \n",
       "6                              http://bitcoinist.net/cashila-announces-convenient-buy-and-sell-feature-for-ethereum/   \n",
       "7                                                           http://www.coindesk.com/asia-exchanges-ethereum-trading/   \n",
       "8  http://www.newsbtc.com/2016/03/30/decentralized-options-exchange-etheropt-uses-automated-ethereum-smart-contract/   \n",
       "9                                                   http://thefinanser.com/2016/09/are-you-a-bitcoin-denialist.html/   \n",
       "\n",
       "                                                                                  title  \\\n",
       "0                              The Rise And Growth of Ethereum Gets Mainstream Coverage   \n",
       "1                           Ethereum and Bitcoin Are Market Leaders But Not Competitors   \n",
       "2             For Blockchain VCs, the Time for Ethereum Investments Has Come - CoinDesk   \n",
       "3  Microsoft Adds Ethereum to Windows Platform For Over 3 Million Developers - CoinDesk   \n",
       "4                                   Solidity Available in Visual Studio - Ethereum Blog   \n",
       "5                      Microsoft Continues to Embrace Ethereum & Bitcoin - Bitcoin News   \n",
       "6                        Cashila Announces Convenient Buy and Sell Feature For Ethereum   \n",
       "7               Eyeing Volume, Asian Exchanges Add Support for Ether Trading - CoinDesk   \n",
       "8        Decentralized Options Exchange Etheropt Uses Automated Ethereum Smart Contract   \n",
       "9                                   Are you a bitcoin denialist? - Chris Skinner's blog   \n",
       "\n",
       "                                                                                                                                                                                                                                                                                                                                                                                                                                                                                                                                                                                                                                                                                                                                                                                                                                                                                                                                                                                                                                                                                                                                                                                                                                                                                                                                                                                                                                                                                                                                                                                                                                                                                                                                                                                                                                                                                                                                                                                                                                                                                                                                                                                                                                                                                                                                                                                                                                                                                                                                                                                                                                                                                                                                                                                                                                                                                                                                                                                                                                                                                                                                                                                                                                                                                                                                                                                                                                                                                                                                                                                                                                                                                                                                                                                                                                                                                                                                                                                                                                                                                                                                                                                                                                                                                                                                                                                                                                                                                                                                                                                                                                                                                                                                                                                                                                                                                                                                                                                                                                                                                                                                                                                                                                                                                                                                                                                                                                                                                                                                                                                                                                                                                                                                                                                                                                                                                                                                                                                                                                                                                                                                                                                                                                                                                                                                                                                                                                                                                                                                                                                                                                                                                                                                                                                                                                                                                                                                                                                                                                                                                                                                                                                                                                                                                                                                                                                                                                                                                                                                                                                                                                                                                                                                                                                                                                                                                                                                                                                                                                                                                                                                                                                                                                                                                                                                                                                                                                                                                                                                                                                                                                                                                                                                                                                                                                                                                                                                                                                                                                                                                                                                                                                                                                                                                                                                                                                                                                                                                                                                                                                                                                                                                                                                                                                                                                                                                                                                                                                                                                                                                                                                                                                                                                                                                                                                                                                                                                                                                                                                                                                                                                                                                                                                                                                                                                                                                                                                                                                                                                                                                                                                                                                                                                                                                                                                                                                                                                                                                                                                                                                                                                                                                                                                                                                                                                                                                                                                                                                                                                                                                                                                                                                                                                                                                                                                                                                                                                                                                                                                                                                                                                                                                                                                                                                                                                                                                                                                                                                                                                                                                                                                                                                                                                                                                                                                                                                                                                                                                                                                                                                                                                                                                                                                                                                                                                                                                                                                                                                                                                                                                                                                                                                                                                                                                                                                                                                                                                                                                                                                                                                                                                                                                                                                                                                                                                                                                                                                                                                                                                                                                                                                                                                                                                                                                                                                                                                                                                                                                                                                                                                                                                                                                                                                                                                                                                                                                                                                                                                                                                                                                                                                                                                                                                                                                                                                                                                                                                                                                                                                                                                                                                                                                                                                                                                                                                                                                                                                                                                                                                                                                                                                                                                                                                                                                                                                                                                                                                                                                                                                                                                                                                                                                                                                                                                                                                                                                                                                                                                                                                                                                                                                                                                                                                                                                                                                                                                                                                                                                                                                                                                                                                                                                                                                                                                                                                                                                                                                                                                                                                                                                                                                                                                                                                                                                                                                                                                                                                                                                                                                                                                                                                                                                                                                                                                                                                                                                                                                                                                                                                                                                                                                                                                                                                                                                                                                                                                                                                                                                                                                                                                                                                                                                                                                                                                                                                                                                                                                                                                                                                                                                                                                                                                                                                                                                                                                                                                                                                                                                                                                                                                                                                                                                                                                                                                                                                                                                                                                                                                                                                                                                                                                                                                                                                                                                                                                                                                                                                                                                                                                                                                                                                                                                                                                                                                                                                                                                                                                                                                                                                                                                                                                                                                                                                                                                                                                                                                                                                                                                                                                                                                                                                                                                                                                                                                                                                                                                                                                                                                                                                                                                                                                                                                                                                                                                                                                                                                                                                                                                                                                                                                                                                                                                                                                                                                                                                                                                                                                                                                                                                                                                                                                                                                                                                                                                                                                                                                                                                                                                                                                                                                                                                                                                                                                                                                                                                                                                                                                                                                                                                                                                                                                                                                                                                                                                                                                                                                                                                                                                                                                                                                                                                                                                                                                                                                                                                                                                                                                                                                                                                                                                                                                                                                                                                                                                                                                                                                                                                                                                                                                                                                                                                                                                                                                                                                                                                                                                                                                                                                                                                                                                                                                                                                                                                                                                                                                                                                                                                                                                                                                                                                                                                                                                                                                                                                                                                                                                                                                                                                                                                                                                                                                                                                                                                                                                                                                                                                                                                                                                                                                                                                                                                                                                                                                                                                                                                                                                                                                                                                                                                                                                                                                                                                                                                                                                                                                                                                                                                                                                                                                                                                                                                                                                                                                                                                                                                                                                                                                                                                                                                                                                                                                                                                                                                                                                                                                                                                                                                                                                                                                                                                                                                                                                                                                                                                                                                                                                                                                                                                                                                                                                                                                                                                                                                                                                                                                                                                                                                                                                                                                                                                                                                                                                        text_description  \\\n",
       "0                                                                                                                                                                                                                                                                                                                                                                                                                                                                                                                                                                                                                                                                                                                                                                                                                                                                                                                                                                                                                                                                                                                                                                                                                                                                                                                                                                                                                                                                                                                                                                                                                                                                                                                                                                                                                                                                                                                                                                                                                                                                                                                                                                                                                                                                                                                                                                                                                                                                                                                                                                                                                                                                                                                                                                                                                                                                                                                                                                                                                                                                                                                                                                                                                                                                                                                                                                                                                                                                                                                                                                                                                                                                                                                                                                                                                                                                                                                                                                                                                                                                                                                                                                                                                                                                                                                                                                                                                                                                                                                                                                                                                                                                                                                                                                                                                                                                                                                                                                                                                                                                                                                                                                                                                                                                                                                                                                                                                                                                                                                                                                                                                                                                                                                                                                                                                                                                                                                                                                                                                                                                                                                                                                                                                                                                                                                                                                                                                                                                                                                                                                                                                                                                                                                                                                                                                                                                                                                                                                                                                                                                                                                                                                                                                                                                                                                                                                                                                                                                                                                                                                                                                                                                                                                                                                                                                                                                                                                                                                                                                                                                                                                                                                                                                                                                                                                                                                                                                                                                                                                                                                                                                                                                                                                                                                                                                                                                                                                                                                                                                                                                                                                                                                                                                                                                                                                                                                                                                                                                                                                                                                                                                                                                                                                                                                                                                                                                                                                                                                                                                                                                                                                                                                                                                                                                                                                                                                                                                                                                                                                                                                                                                                                                                                                                                                                                                                                                                                                                                                                                                                                                                                                                                                                                                                                                                                                                                                                                                                                                                                                                                                                                                                                                                                                                                                                                                                                                                                                                                                                                                                                                                                                                                                                                                                                                                                                                                                                                                                                                                                                                                                                                                                                                                                                                                                                                                                                                                                                                                                                                                                                                                                                                                                                                                                                                                                                                                                                                                                                                                                                                                                                                                                                                                                                                                                                                                                                                                                                                                                                                                                                                                                                                                                                                                                                                                                                                                                                                                                                                                                                                                                                                                                                                                                                                                                                                                                                                                                                                                                                                                                                                                                                                                                                                                                                                                                                                                                                                                                                                                                                                                                                                                                                                                                                                                                                                                                                                                                                                                                                                                                                                                                                                                                                                                                                                                                                                                                                                                                                                                                                                                                                                                                                                                                                                                                                                                                                                                                                                                                                                                                                                                                                                                                                                                                                                                                                                                                                                                                                                                                                                                                                                                                                                                                                                                                                                                                                                                                                                                                                                                                                                                                                                                                                                                                                                                                                                                                                                                                                                                                                                                                                                                                                                                                                                                                                                                                                                                                                                                                                                                                                                                                                                                                                                                                                                                                                                                                                                                                                                                                                                                                                                                                                                                                                                                                                                                                                                                                                                                                                                                                                                                                                                                                                                                                                                                                                                                                                                                                                                                                                                                                                                                                                                                                                                                                                                                                                                                                                                                                                                                                                                                                                                                                                                                                                                                                                                                                                                                                                                                                                                                                                                                                                                                                                                                                                                                                                                                                                                                                                                                                                                                                                                                                                                                                                                                                                                                                                                                                                                                                                                                                                                                                                                                                                                                                                                                                                                                                                                                                                                                                                                                                                                                                                                                                                                                                                                                                                                                                                                                                                                                                                                                                                                                                                                                                                                                                                                                                                                                                                                                                                                                                                                                                                                                                                                                                                                                                                                                                                                                                                                                                                                                                                                                                                                                                                                                                                                                                                                                                                                                                                                                                                                                                                                                                                                                                                                                                                                                                                                                                                                                                                                                                                                                                                                                                                                                                                                                                                                                                                                                                                                                                                                                                                                                                                                                                                                                                                                                                                                                                                                                                                                                                                                                                                                                                                                                                                                                                                                                                                                                                                                                                                                                                                                                                                                                                                                                                                                                                                                                Ethereum, considered by many to be the most promising altcoin, has grabbed the attention of The New York Times. The \"newspaper of record\" has run a big feature story on Ethereum, noting its value has spiraled 1,000% in the last three months and is attracting interest from major financial companies that are using it for private blockchains and smart contracts. The story notes the first public version of Ethereum was recently released. The story noted there are numerous applications built on Ethereum that allow new ways to place bets, pay bills and even launch Ponzi schemes. Some cryptocurrency observers claim Ethereum will face more security issues than bitcoin due to its more complex software. The alt. currency system has faced less testing and suffered fewer attacks than bitcoin. The unusual design could also invite more regulatory scrutiny considering some potentially fraudulent contracts can be written into the system. Capabilities Draw Interest However, the system's capabilities have drawn interest from major corporations. Last year, IBM announced it was testing the alt.currency system as a way to manage real-world objects in the Internet of Things. Microsoft has been working on various projects that make it easier to use Ethereum on its Azure computing cloud. Marley Gray, a business development and strategy director at Microsoft, said Ethereum is a platform for solving problems in different industries. He called it the most \"elegant\" solution seen to date. Private Blockchains Expand Many companies have created private blockchains using Ethereum. These private blockchains could eventually undermine the value of the Ether, the individual unit in the alt.currency system that people have been buying. Major banks have shown interest in using blockchains to make transferring and trading money more efficient. Several banks have examined how to use Ethereum. JPMorgan has developed a tool called Masala that enables its internal databases to interact with an Ethereum-blockchain. Michael Novogratz, who helped lead Fortress Investing Group invest in bitcoin, has been examining Ethereum since leaving Fortress last fall. He said he has made a significant purchase of Ether. Novogratz said in the last few months that the alt.currency is getting more validation. Ethereum Value Soars Ether's value has increased to as high as $12 from $1 since the beginning of the year, taking the value of all Ether currency to above $1 billion at times. This surpasses the value of any virtual currency besides bitcoin, which claimed more than $6 billion in value last week. Ethereum leads all altcoins in the size of its following One difference between Ethereum and bitcoin is that the latter came into being in a more transparent fashion. Where bitcoin was created by Satoshi Nakamoto, whose identity remains a mystery, Ethereum was developed by Vitalik Buterin , a 21-year-old Russian, who created it after dropping out of Waterloo University in Ontario. Aim Was Smart Contracts Ethereum's basic aim was to make it possible to program agreements into the blockchain. This is the smart contract concept. Two people could, for instance, program a sport bet directly into the Ethereum blockchain. Once a mutually-accepted source announced the final score (such as the Associated Press), the winnings would transfer automatically to the winner. Ether can be used as currency. Ether is also necessary to pay for the network power required to process the bet. Ethereum has been characterized as a single-shared computer operated by the network of users on which resources are doled out and paid for by Ether. Buterin's team raised $18 million through an Ether presale in 2014 to help fund the Ethereum Foundation, which supports the development of the software. Also read: Ether co-founder Vitalik Buterin on public and private blockchains Ethereum's Following Ethereum has attracted followers who have supported the software and hope that Ether will rise in value. There were 5,800 nodes, or computers, last week supporting the network. The bitcoin network had about 7,400 nodes. Joseph Lubin, a co-founder, established ConsenSys, which has hired more than 50 developers to create applications on the alt.currency system. One enables music distribution while another permits a new type of financial auditing. Lubin said he became interested in Ethereum after determining it delivered on some of bitcoin's failed promise, particularly when it came to permitting new types of online markets and contracts. He said Ethereum presented the crystallization of how to deliver on the broad strokes vision that bitcoin presented. Joseph Bonneau, a Stanford computer science researcher, said Ethereum is the first system that caught his interest since bitcoin. Ethereum is nonetheless far from a certainty, Bonneau said. He said bitcoin is still most likely the safest bet, with Ethereum number two. He said Ethereum's longevity will depend on real markets developing around it. Featured image from Shutterstock.   \n",
       "1                                                                                                                                                                                                                                                                                                                                                                                                                                                                                                                                                                                                                                                                                                                                                                                                                                                                                                                                                                                                                                                                                                                                                                                                                                                                                                                                                                                                                                                                                                                                                                                                                                                                                                                                                                                                                                                                                                                                                                                                                                                                                                                                                                                                                                                                                                                                                                                                                                                                                                                                                                                                                                                                                                                                                                                                                                                                                                                                                                                                                                                                                                                                                                                                                                                                                                                                                                                                                                                                                                                                                                                                                                                                                                                                                                                                                                                                                                                                                                                                                                                                                                                                                                                                                                                                                                                                                                                                                                                                                                                                                                                                                                                                                                                                                                                                                                                                                                                                                                                                                                                                                                                                                                                                                                                                                                                                                                                                                                                                                                                                                                                                                                                                                                                                                                                                                                                                                                                                                                                                                                                                                                                                                                                                                                                                                                                                                                                                                                                                                                                                                                                                                                                                                                                                                                                                                                                                                                                                                                                                                                                                                                                                                                                                                                                                                                                                                                                                                                                                                                                                                                                                                                                                                                                                                                                                                                                                                                                                                                                                                                                                                                                                                                                                                                                                                                                                                                                                                                                                                                                                                                                                                                                                                                                                                                                                                                                                                                                                                                                                                                                                                                                                                                                                                                                                                                                                                                                                                                                                                                                                                                                                                                                                                                                                                                                                                                                                                                                                                                                                                                                                                                                                                                                                                                                                                                                                                                                                                                                                                                                                                                                                                                                                                                                                                                                                                                                                                                                                                                                                                                                                                                                                                                                                                                                                                                                                                                                                                                                                                                                                                                                                                                                                                                                                                                                                                                                                                                                                                                                                                                                                                                                                                                                                                                                                                                                                                                                                                                                                                                                                                                                                                                                                                                                                                                                                                                                                                                                                                                                                                                                                                                                                                                                                                                                                                                                                                                                                                                                                                                                                                                                                                                                                                                                                                                                                                                                                                                                                                                                                                                                                                                                                                                                                                                                                                                                                                                                                                                                                                                                                                                                                                                                                                                                                                                                                                                                                                                                                                                                                                                                                                                                                                                                                                                                                                                                                                                                                                                                                                                                                                                                                                                                                                                                                                                                                                                                                                                                                                                                                                                                                                                                                                                                                                                                                                                                                                                                                                                                                                                                                                                                                                                                                                                                                                                                                                                                                                                                                                                                                                                                                                                                                                                                                                                                                                                                                                                                                                                                                                                                                                                                                                                                                                                                                                                                                                                                                                                                                                                                                                                                                                                                                                                                                                                                                                                                                                                                                                                                                                                                                                                                                                                                                                                                                                                                                                                                                                                                                                                                                                                                                                                                                                                                                                                                                                                                                                                                                                                                                                                                                                                                                                                                                                                                                                                                                                                                                                                                                                                                                                                                                                                                                                                                                                                                                                                                                                                                                                                                                                                                                                                                                                                                                                                                                                                                                                                                                                                                                                                                                                                                                                                                                                                                                                                                                                                                                                                                                                                                                                                                                                                                                                                                                                                                                                                                                                                                                                                                                                                                                                                                                                                                                                                                                                                                                                                                                                                                                                                                                                                                                                                                                                                                                                                                                                                                                                                                                                                                                                                                                                                                                                                                                                                                                                                                                                                                                                                                                                                                                                                                                                                                                                                                                                                                                                                                                                                                                                                                                                                                                                                                                                                                                                                                                                                                                                                                                                                                                                                                                                                                                                                                                                                                                                                                                                                                                                                                                                                                                                                                                                                                                                                                                                                                                                                                                                                                                                                                                                                                                                                                                                                                                                                                                                                                                                                                                                                                                                                                                                                                                                                                                                                                                                                                                                                                                                                                                                                                                                                                                                                                                                                                                                                                                                                                                                                                                                                                                                                                                                                                                                                                                                                                                                                                                                                                                                                                                                                                                                                                                                                                                                                                                                                                                                                                                                                                                                                                                                                                                                                                                                                                                                                                                                                                                                                                                                                                                                                                                                                                                                                                                                                                                                                                                                                                                                                                                                                                                                                                                                                                                                                                                                                                                                                                                                                                                                                                                                                                                                                                                                                                                                                                                                                                                                                                                                                                                                                                                                                                                                                                                                                                                                A lot of people tend to ignore the fact that Bitcoin is not Ethereum and vice versa. Nor should they be, to be frank, as we have seen enough clones of Bitcoin over the past seven years. Ethereum is doing something entirely different, which is a welcome change in the overflowing oceans of useless altcoins. The competition between Bitcoin and Ethereum is real, but it is not taking place in the same niche market. Unlike what most people think, Ethereum and Bitcoin are not achieving the same goal per se, as the former is focusing on making the blockchain more appealing to everyday users, whereas Bitcoin is all about changing the financial sector. Both are leaders in their niche, but they are not direct competitors either. Also read: Andreas Antonopoulos on Ethereum and Bitcoin at Blockchain Meetup Berlin Bitcoin And Ethereum Are Apex Predators There is no denying both and are leading the charge in the world of digital currency and blockchain technology. Both projects have seen tremendous success and interest from investors over the past few years, which will be beneficial to further develop their respective ecosystems. But at the same time, a lot of people tend to ignore the fact that is not Ethereum and vice versa. Nor should they be, to be frank, as we have seen enough clones of Bitcoin over the past seven years. is doing something entirely different, which is a welcome change in the overflowing oceans of useless altcoins. With an adamant focus on blockchain technology , Ethereum holds its own when it comes to making this concept more appealing to enterprises and consumers alike. The addition of smart contracts - although also available in Bitcoin - and an opportunity to create are just two examples of what makes Ethereum so worthwhile. Header image courtesy of Shutterstock Bitcoin, on the other hand, is trying to the financial ecosystem, unlike anything that has come before it. The world's leading digital currency provides anyone in the world with access to financial services on a global scale, and the end user is always in full control of their finances regardless of which device they are using. In the end, it all comes down to drawing the line between these two respectable digital currencies. Bitcoin and Ethereum can peacefully coexist, and they are competing against something. Yet that something is not each other, as they are not trying to achieve the same goal in their current form. For the digital currency enthusiast, which we all are in our hearts, this is a good thing.   \n",
       "2                                                                                                                                                                                                                                                                                                                                                                                                                                                                                                                                                                                                                                                                                                                                                                                                                                                                                                                                                                                                                                                                                                                                                                                                                                                                                                                                                                                                                                                                                                                                                                                                                                                                                                                                                                                                                                                                                                                                                                                                                                                                                                                                                                                                                                                                                                                                                                                                                                                                                                                                                                                                                                                                                                                                                                                                                                                                                                                                                                                                                                                                                                                                                                                                                                                                                                                                                                                                                                                                                                                                                                                                                                                                                                                                                                                                                                                                                                                                                                                                                                                                                                                                                                                                                                                                                                                                                                                                                                                                                                                                                                                                                                                                                                                                                                                                                                                                                                                                                                                                                                                                                                                                                                                                                                                                                                                                                                                                                                                                                                                                                                                                                                                                                                                                                                                                                                                                                                                                                                                                                                                                                                                                                                                                                                                                                                                                                                                                                                                                                                                                                                                                                                                                                                                                                                                                                                                                                                                                                                                                                                                                                                                                                                                                                                                                                                                                                                                                                                                                                                                                                                                                                                                                                                                                                                                                                                                                                                                                                                                                                                                                                                                                                                                                                                                                                                                                                                                                                                                                                                                                                                                                                                                                                                                                                                                                                                                                                                                                                                                                                                                                                                                                                                                                                                                                                                                                                                                                                                                                                                                                                                                                                                                                                                                                                                                                                                                                                                                                                                                                                                                                                                                                                                                                                                                                                                                                                                                                                                                                                                                                                                                                                                                                                                                                                                                                                                                                                                                                                                                                                                                                                                                                                                                                                                                                                                                                                                                                                                                                                                                                                                                                                                                                                                                                                                                                                                                                                                                                                                                                                                                                                                                                                                                                                                                                                                                                                                                                                                                                                                                                                                                                                                                                                                                                                                                                                                                                                                                                                                                                                                                                                                                                                                                                                                                                                                                                                                                                                                                                                                                                                                                                                                                                                                                                                                                                                                                                                                                                                                                                                                                                                                                                                                                                                                                                                                                                                                                                                                                                                                                                                                                                                                                                                                                                                                                                                                                                                                                                                                                                                                                                                                                                                                                                                                                                                                                                                                                                                                                                                                                                                                                                                                                                                                                                                                                                                                                                                                                                                                                                                                                                                                                                                                                                                                                                                                                                                                                                                                                                                                                                                                                                                                                                                                                                                                                                                                                                                                                                                                                                                                                                                                                                                                                                                                                                                                                                                                                                                                                                                                                                                                                                                                                                                                                                                                                                                                                                                                                                                                                                                                                                                                                                                                                                                                                                                                                                                                                                                                                                                                                                                                                                                                                                                                                                                                                                                                                                                                                                                                                                                                                                                                                                                                                                                                                                                                                                                                                                                                                                                                                                                                                                                                                                                                                                                                                                                                                                                                                                                                                                                                                                                                                                                                                                                                                                                                                                                                                                                                                                                                                                                                                                                                                                                                                                                                                                                                                                                                                                                                                                                                                                                                                                                                                                                                                                                                                                                                                                                                                                                                                                                                                                                                                                                                                                                                                                                                                                                                                                                                                                                                                                                                                                                                                                                                                                                                                                                                                                                                                                                                                                                                                                                                                                                                                                                                                                                                                                                                                                                                                                                                                                                                                                                                                                                                                                                                                                                                                                                                                                                                                                                                                                                                                                                                                                                                                                                                                                                                                                                                                                                                                                                                                                                                                                                                                                                                                                                                                                                                                                                                                                                                                                                                                                                                                                                                                                                                                                                                                                                                                                                                                                                                                                                                                                                                                                                                                                                                                                            Just a few months after the platform's production launch, the first Ethereum startups are already receiving interest, and in some cases, undisclosed investments, from digital currency-focused VC firms. Interviews with four of the leading blockchain and digital currency industry investors revealed that many are already performing due diligence on startups utilizing the decentralized application platform. Announced in 2014, Ethereum has gained significant traction of late following a successful hard fork and testing from major financial institutions. Travis Scher, investment associate at Digital Currency Group ( DCG ), for instance, said the New York-based firm has so far evaluated 20 to 30 startups working on Ethereum, while Blockchain Capital managing partner told CoinDesk that the firm has already made two as-yet-undisclosed investments in such startups. Stephens said that Blockchain Capital, one of the technology's most active early-stage investors, is \"bullish\" on Ethereum due to the positive feedback its technology has received from institutions. The firm has even appointed a junior associate, Jeremy Gardner, to focus on the area for its portfolio, which includes industry startups such as Coinbase and Xapo . Stephens told CoinDesk: \"We love bitcoin, we love the bitcoin blockchain, but we also see a multi-chain future. Some of the enterprise customers are interested in federated and private chains and Ethereum is pretty high on the list.\" When announced, such an investment would mark an early sign of confidence for Ethereum, which only recently launched with a limited set of features. In the months and years ahead, the platform plans a number of complex updates, including a switch from proof-of-work transaction verification to a proof-of-stake approach. Other bitcoin and blockchain-focused venture firms including DCG, Boost VC and Pantera Capital indicated they are interested in investing in Ethereum startups, but have not yet provided funding to any entrepreneurs. DCG said it expects to make its first investment in a digital currency company in Q2 or Q3 of 2016, and that \"a few\" Ethereum startups would likely join its portfolio by the year's end. By contrast, the first investment in a company working on the bitcoin protocol wasn't made until April 2012, more than three years after its first block was mined in January 2009. At the time, Draper Associates made a seed investment in the now-defunct bitcoin-focused incubator CoinLab . Investment challenges As for why investors aren't yet placing any bets, most respondents suggested they felt it was too early to tell how strong Ethereum's ecosystem will remain. Such statements coincide with long-standing statements from industry investors that the health of bitcoin's developer ecosystem is one of its most attractive attributes. \"One of the challenges in evaluating Ethereum startups is the community is still fairly small and some of the entrepreneurs are newer to the cryptocurrency ecosystem, making it difficult to navigate,\" Meltem Demirors, director of community at DCG, told CoinDesk. Demirors went on to describe the early bitcoin ecosystem as perhaps more connected and more technical than the Ethereum ecosystem of today. Others, like Brayton Williams, co-founder of Silicon Valley-based incubator Boost VC, indicated that there is perhaps a lack of mature entrepreneurs building on the technology. \"For us we need to first find great people who are out to solve a problem and that are confident Ethereum could be the solution or provide tools for the solution,\" he told CoinDesk. \"We do our best to avoid those who are just very excited about Ethereum technology and then go try to find a problem.\" Paul Veradittakit, venture investor at Pantera Capital , noted that his firm is often pegged as a bitcoin-only investor, but that it has been eager to take a multi-blockchain approach, something he suggested Ethereum now allows. Yet, he said the firm has questions about how the technology will overcome upcoming challenges. \"You want to make sure that security is well thought out, the scalability, in terms of what are the use cases,\" Veradittakit said. \"We've been monitoring it.\" Veradittakit said Pantera has no plans as of now to offer an ether fund to complement its bitcoin fund, introduced in 2014 . Bitcoin startup interest A driver factor behind the interest, respondents said, is that digital currency industry firms are paying attention to, and implementing, Ethereum as part of their market approach. Stephens noted that a number of Blockchain Capital's portfolio firms, including Bitfinex , Kraken and BitGo , are now offering Ethereum services, and that GoCoin, a payment processing firm, would soon add support. \"We're seeing a lot of companies add Ethereum. Instead of selling chocolate, now they have chocolate and vanilla,\" he said. Demirors said that some DCG portfolio companies are taking a similar path, building infrastructure for the ecosystem's service providers. \"I think many of the early movers we'll see in this ecosystem are existing bitcoin companies that can leverage their operational capabilities and strategic relationships with banks, regulators and other stakeholders to begin building a robust, global network for exchanging, holding, storing and managing ether,\" she said. Notably, such a logic has been historically used by the financial industry to suggest why it might be more able to help blockchain-based technologies reach the mass market. Growth potential As for the growth potential for Ethereum startups, respondents were mixed on projections. DCG's Scher said that a cornerstone of its investment thesis is that bitcoin is both a secure store of value and a financial rail, and that Ethereum is unlikely to compete against the bitcoin in these areas. However, Scher sees Ethereum potentially competing against bitcoin in serving as a platform for smart contracts, identity management and provenance, other potentially large and impactful areas for the technology. \"Startups building these types of products and services may opt to use Ethereum in the future because of its ease of use and other features that it possesses, and that's a terrific development for us and the blockchain ecosystem,\" he said. Demirors said she believes the Ethereum community could one day surpass bitcoin in terms of the number of developers it attracts due to an easier scripting language, but said that it's not out of the question innovators won't find solutions to these issues. Stephens noted that he sees interest in Ethereum as positive, but that VC firms are just now beginning to analyze the industry for potential investments. \"It's still early. We've met with over a dozen companies, and only a few of them in our opinion are investable,\" Stephens said, concluding: \"I think that will change.\" Disclaimer: Homestead image via Ethereum Blockchain Capital Boost VC Digital Currency Group Ethereum Pantera CoinDesk is a subsidiary of Digital Currency Group.   \n",
       "3                                                                                                                                                                                                                                                                                                                                                                                                                                                                                                                                                                                                                                                                                                                                                                                                                                                                                                                                                                                                                                                                                                                                                                                                                                                                                                                                                                                                                                                                                                                                                                                                                                                                                                                                                                                                                                                                                                                                                                                                                                                                                                                                                                                                                                                                                                                                                                                                                                                                                                                                                                                                                                                                                                                                                                                                                                                                                                                                                                                                                                                                                                                                                                                                                                                                                                                                                                                                                                                                                                                                                                                                                                                                                                                                                                                                                                                                                                                                                                                                                                                                                                                                                                                                                                                                                                                                                                                                                                                                                                                                                                                                                                                                                                                                                                                                                                                                                                                                                                                                                                                                                                                                                                                                                                                                                                                                                                                                                                                                                                                                                                                                                                                                                                                                                                                                                                                                                                                                                                                                                                                                                                                                                                                                                                                                                                                                                                                                                                                                                                                                                                                                                                                                                                                                                                                                                                                                                                                                                                                                                                                                                                                                                                                                                                                                                                                                                                                                                                                                                                                                                                                                                                                                                                                                                                                                                                                                                                                                                                                                                                                                                                                                                                                                                                                                                                                                                                                                                                                                                                                                                                                                                                                                                                                                                                                                                                                                                                                                                                                                                                                                                                                                                                                                                                                                                                                                                                                                                                                                                                                                                                                                                                                                                                                                                                                                                                                                                                                                                                                                                                                                                                                                                                                                                                                                                                                                                                                                                                                                                                                                                                                                                                                                                                                                                                                                                                                                                                                                                                                                                                                                                                                                                                                                                                                                                                                                                                                                                                                                                                                                                                                                                                                                                                                                                                                                                                                                                                                                                                                                                                                                                                                                                                                                                                                                                                                                                                                                                                                                                                                                                                                                                                                                                                                                                                                                                                                                                                                                                                                                                                                                                                                                                                                                                                                                                                                                                                                                                                                                                                                                                                                                                                                                                                                                                                                                                                                                                                                                                                                                                                                                                                                                                                                                                                                                                                                                                                                                                                                                                                                                                                                                                                                                                                                                                                                                                                                                                                                                                                                                                                                                                                                                                                                                                                                                                                                                                                                                                                                                                                                                                                                                                                                                                                                                                                                                                                                                                                                                                                                                                                                                                                                                                                                                                                                                                                                                                                                                                                                                                                                                                                                                                                                                                                                                                                                                                                                                                                                                                                                                                                                                                                                                                                                                                                                                                                                                                                                                                                                                                                                                                                                                                                                                                                                                                                                                                                                                                                                                                                                                                                                                                                                                                                                                                                                                                                                                                                                                                                                                                                                                                                                                                                                                                                                                                                                                                                                                                                                                                                                                                                                                                                                                                                                                                                                                                                                                                                                                                                                                                                                                                                                                                                                                                                                                                                                                                                                                                                                                                                                                                                                                                                                                                                                                                                                                                                                                                                                                                                                                                                                                                                                                                                                                                                                                                                                                                                                                                                                                                                                                                                                                                                                                                                                                                                                                                                                                                                                                                                                                                                                                                                                                                                                                                                                                                                                                                                                                                                                                                                                                                                                                                                                                                                                                                                                                                                                                                                                                                                                                                                                                                                                                                                                                                                                                                                                                                                                                                                                                                                                                                                                                                                                                                                                                                                                                                                                                                                                                                                                                                                                                                                                                                                                                                                                                                                                                                                                                                                                                                                                                                                                                                                                                                                                                                                                                                                                                                                                                                                                                                                                                                                                                                                                                                                                                                                                                                                                                                                                                                                                                                                                                                                                                                                                                                                                                                                                                                                                                                                                                                                                                                                                                                                                                                                                                                                                                                                                                                                                                                                                                                                                                                                                                                                                                                                                                                                                                                                                                                                                                                                        Millions of Microsoft developers are now able to build decentralized applications using the Ethereum blockchain thanks to a collaboration between the software giant and Consensys, announced today. By building Ethereum's Solidity programming language for writing smart contracts directly into Mircosoft's Visual Studio platform, developers will be able to build, test and deploy decentralized applications, or dapps , within an integrated environment they already know how to use. But don't think this is a money play for either Consensys, or Microsoft, at least not yet. In a conversation with CoinDesk, CEO of Consensys, Joe Lubin said that growing the number of developers using the distributed ledger technology was first and foremost about reimagining social, economic and political systems. Lubin, who is also the co-founder of Ethereum told CoinDesk: \"It's in our best interest, and in our mission, to help with the adoption of Ethereum in all its different forms - public, private, consortium - and this just makes that that much easier.\" The Consensys integration with Microsoft uses smart contract programming language Solidity to let developers run programs on the Ethereum network, also called the Ethereum Virtual Machine (EVM). Announced today at Microsoft's Build Conference in San Francisco, the new functionality was scheduled to go live this morning at 10am EST. With Ethereum's Solidity language, developers will be able to write applications using self-enforcing smart contracts that can theoretically execute as wide a range of business transactions as the coder can imagine. Ethereum's cryptocurrency, ether, powers the applications, and is currently valued at about $11.60, with a market cap of over $900m. By comparison, bitcoin's market cap is $6.3 billion. The EVM transactions - or smart contract executions as they may be more accurately called - can then be recorded on what Consensys described in a statement as a \"non-repudiable and authoritative\" record using either the public or private versions of the Ethereum blockchain. Ethereum's Room to Grow Until recently Ethereum adoption has been slow, even if it is accelerating. For example, the number of Ethereum repositories on GitHub, a reflection of how frequently developers are using the distributed ledger in their projects has grown at an exponential rate since January 2014, from less than 10 to about 460 by the end of 2015, according to analysis conducted by venture capital firm Kleiner Perkins Caufield & Byers. Using the same methodology, we calculated that number has more than doubled to 997 repositories, in the past three months alone. But when compared to bitcoin, where there are currently 7,647 bitcoin repositories in GitHub, there's plenty room to grow before Ethereum becomes a serious competitor. Marley Gray, director of business development and strategy for blockchain at Microsoft thinks his company's large pool of developers could change that. As of July 2015, when Microsoft launched its most recent version of Visual Studio more than 3.2 million developers were registered on the platform, and the gallery of tools had been downloaded 13 million times in the previous year. \"This integration with Visual Studio will offer developers enterprise-grade solutions with advanced capabilities for teams working on blockchain smart contract projects of any size and complexity,\" Gray said in a statement. While Consensys' CEO said he doesn't plan on making any money directly from the collaboration, he was clear in his conversation with CoinDesk that the effort to make it easier for developers to build dapps was no act of philanthropy. Lubin said: \"We at Consesys are a for-profit entity and we are building products on [the Ethereum] platform. We are building professional services and consulting on that platform, so it makes it so much easier for us to offer that kind of an environment to our customers and using that environment we can offer further services. Business of Ethereum Based in Brooklyn, New York, the self-funded Consensys is currently generating revenue from deals it has closed with institutional clients. Consensys declined to share the names of its clients. Currently, Consensys employs about 70 people around the world, 30 of which are based at their headquarters in New York City, Keys said. He estimates that 80% of the staff work on a full-time basis and are compensated through a combined equity and payment structure. \"Everybody's a stakeholder,\" he told CoinDesk. \"It just depends on when they started.\" Consensys also isn't sharing its specific revenue numbers. But Keys said it has no intention of being profitable anytime soon. \"We just want to keep hiring people. We're at 70 now and if we find the right people we'll hire immediately,\" he said. For an idea of the growth rate the company expects, it plans to more than double the workforce by the end of 2016, employing 150 people on a full-time basis, Keys said. Symbiotic relationship Consensys' deal with Microsoft is a true collaboration, with neither party paying the other to be involved in any way, said Lubin. In fact, both companies have benefited elsewhere by working together. In November 2015, Consensys was the first company to join Microsoft's Azure cloud-computing service designed to let other companies experiment in a sandbox environment with the distributed ledger technology. As a result, Microsoft was able cut out its place in the blockchain industry as one of the largest early movers, and Consensys earned the credibility of partnering with a $427bn publicly traded company. The relationship, Lubin thinks, will continue thanks in no small part to today's news. Lubin described Visual Studio to CoinDesk: \"It's one of the best software developer tools on the planet, and this [collaboration] is like adding the vocabulary to build different kinds of programs to your development repertoire.\" ConsenSys Ethereum Microsoft Microsoft Azure   \n",
       "4                                                                                                                                                                                                                                                                                                                                                                                                                                                                                                                                                                                                                                                                                                                                                                                                                                                                                                                                                                                                                                                                                                                                                                                                                                                                                                                                                                                                                                                                                                                                                                                                                                                                                                                                                                                                                                                                                                                                                                                                                                                                                                                                                                                                                                                                                                                                                                                                                                                                                                                                                                                                                                                                                                                                                                                                                                                                                                                                                                                                                                                                                                                                                                                                                                                                                                                                                                                                                                                                                                                                                                                                                                                                                                                                                                                                                                                                                                                                                                                                                                                                                                                                                                                                                                                                                                                                                                                                                                                                                                                                                                                                                                                                                                                                                                                                                                                                                                                                                                                                                                                                                                                                                                                                                                                                                                                                                                                                                                                                                                                                                                                                                                                                                                                                                                                                                                                                                                                                                                                                                                                                                                                                                                                                                                                                                                                                                                                                                                                                                                                                                                                                                                                                                                                                                                                                                                                                                                                                                                                                                                                                                                                                                                                                                                                                                                                                                                                                                                                                                                                                                                                                                                                                                                                                                                                                                                                                                                                                                                                                                                                                                                                                                                                                                                                                                                                                                                                                                                                                                                                                                                                                                                                                                                                                                                                                                                                                                                                                                                                                                                                                                                                                                                                                                                                                                                                                                                                                                                                                                                                                                                                                                                                                                                                                                                                                                                                                                                                                                                                                                                                                                                                                                                                                                                                                                                                                                                                                                                                                                                                                                                                                                                                                                                                                                                                                                                                                                                                                                                                                                                                                                                                                                                                                                                                                                                                                                                                                                                                                                                                                                                                                                                                                                                                                                                                                                                                                                                                                                                                                                                                                                                                                                                                                                                                                                                                                                                                                                                                                                                                                                                                                                                                                                                                                                                                                                                                                                                                                                                                                                                                                                                                                                                                                                                                                                                                                                                                                                                                                                                                                                                                                                                                                                                                                                                                                                                                                                                                                                                                                                                                                                                                                                                                                                                                                                                                                                                                                                                                                                                                                                                                                                                                                                                                                                                                                                                                                                                                                                                                                                                                                                                                                                                                                                                                                                                                                                                                                                                                                                                                                                                                                                                                                                                                                                                                                                                                                                                                                                                                                                                                                                                                                                                                                                                                                                                                                                                                                                                                                                                                                                                                                                                                                                                                                                                                                                                                                                                                                                                                                                                                                                                                                                                                                                                                                                                                                                                                                                                                                                                                                                                                                                                                                                                                                                                                                                                                                                                                                                                                                                                                                                                                                                                                                                                                                                                                                                                                                                                                                                                                                                                                                                                                                                                                                                                                                                                                                                                                                                                                                                                                                                                                                                                                                                                                                                                                                                                                                                                                                                                                                                                                                                                                                                                                                                                                                                                                                                                                                                                                                                                                                                                                                                                                                                                                                                                                                                                                                                                                                                                                                                                                                                                                                                                                                                                                                                                                                                                                                                                                                                                                                                                                                                                                                                                                                                                                                                                                                                                                                                                                                                                                                                                                                                                                                                                                                                                                                                                                                                                                                                                                                                                                                                                                                                                                                                                                                                                                                                                                                                                                                                                                                                                                                                                                                                                                                                                                                                                                                                                                                                                                                                                                                                                                                                                                                                                                                                                                                                                                                                                                                                                                                                                                                                                                                                                                                                                                                                                                                                                                                                                                                                                                                                                                                                                                                                                                                                                                                                                                                                                                                                                                                                                                                                                                                                                                                                                                                                                                                                                                                                                                                                                                                                                                                                                                                                                                                                                                                                                                                                                                                                                                                                                                                                                                                                                                                                                                                                                                                                                                                                                                                                                                                                                                                                                                                                                                                                                                                                                                                                                                                                                                                                                                                                                                                                                                                                                                                                                                                                                                                                                                                                                                                                                                                                                                                                                                                                                                                                                                                                                                                                                                                                                                                                                                                                                                                                                                                                                                                                                                                                                                                                                                                                                                                                                                                                                                                                                                                                                                                                                                                                                                                                                                                                                                                                                                                                                                                                                                                                                                                                                                                                                                                                                                                                                                                                                                                                                                                                                                                                                                                                                                                                                                                                                                                                                                                                                                                                                                                                                                                                                                                                                                                                                                                                                                                                                                                                                                                                                                                                                                                                                                                                                                                                                                                                                                                                                                                                                                                                                                                                                      Consensys and Microsoft have announced that the Ethereum contract programming language Solidity will be available in Microsoft's Visual Studio integrated development environment. ConsenSys and Microsoft collaborated on this integration to enable developers to rapidly build smart contract-based applications for the public Ethereum blockchain, as well as private and consortium blockchain deployments based on Ethereum. This integration is being revealed at //Build , Microsoft's annual developer conference, in San Francisco on March 30th; Vitalik Buterin, Consensys CEO Joseph Lubin and Consensys Enterprise director Andrew Keys will be present. Vitalik, Andrew and Microsoft CEO Satya Nadella at the //Build pre-conference reception The integration comes in the form of an extension to Visual Studio that creates project scaffolding with smart contract sample code, generates ABI and binary files for deployment, supports context-sensitive menus for compilation and deployment of smart contracts, and build an automatically generated UI for contract calling for testing purposes. This is not the first time that Microsoft has expressed interest in Ethereum technologies; the Ethereum Blockchain as a Service offering has been available since November 2015 , and has expanded to include the BlockApps Strato Ethereum toolkit, as well as several Ethereum applications, including the Cetas decentralized KYC system , the Augur prediction market , and the slock.it IoT platform. We look forward to continuing to work together with Microsoft on bringing Ethereum and blockchain technology to the masses.   \n",
       "5                                                                                                                                                                                                                                                                                                                                                                                                                                                                                                                                                                                                                                                                                                                                                                                                                                                                                                                                                                                                                                                                                                                                                                                                                                                                                                                                                                                                                                                                                                                                                                                                                                                                                                                                                                                                                                                                                                                                                                                                                                                                                                                                                                                                                                                                                                                                                                                                                                                                                                                                                                                                                                                                                                                                                                                                                                                                                                                                                                                                                                                                                                                                                                                                                                                                                                                                                                                                                                                                                                                                                                                                                                                                                                                                                                                                                                                                                                                                                                                                                                                                                                                                                                                                                                                                                                                                                                                                                                                                                                                                                                                                                                                                                                                                                                                                                                                                                                                                                                                                                                                                                                                                                                                                                                                                                                                                                                                                                                                                                                                                                                                                                                                                                                                                                                                                                                                                                                                                                                                                                                                                                                                                                                                                                                                                                                                                                                                                                                                                                                                                                                                                                                                                                                                                                                                                                                                                                                                                                                                                                                                                                                                                                                                                                                                                                                                                                                                                                                                                                                                                                                                                                                                                                                                                                                                                                                                                                                                                                                                                                                                                                                                                                                                                                                                                                                                                                                                                                                                                                                                                                                                                                                                                                                                                                                                                                                                                                                                                                                                                                                                                                                                                                                                                                                                                                                                                                                                                                                                                                                                                                                                                                                                                                                                                                                                                                                                                                                                                                                                                                                                                                                                                                                                                                                                                                                                                                                                                                                                                                                                                                                                                                                                                                                                                                                                                                                                                                                                                                                                                                                                                                                                                                                                                                                                                                                                                                                                                                                                                                                                                                                                                                                                                                                                                                                                                                                                                                                                                                                                                                                                                                                                                                                                                                                                                                                                                                                                                                                                                                                                                                                                                                                                                                                                                                                                                                                                                                                                                                                                                                                                                                                                                                                                                                                                                                                                                                                                                                                                                                                                                                                                                                                                                                                                                                                                                                                                                                                                                                                                                                                                                                                                                                                                                                                                                                                                                                                                                                                                                                                                                                                                                                                                                                                                                                                                                                                                                                                                                                                                                                                                                                                                                                                                                                                                                                                                                                                                                                                                                                                                                                                                                                                                                                                                                                                                                                                                                                                                                                                                                                                                                                                                                                                                                                                                                                                                                                                                                                                                                                                                                                                                                                                                                                                                                                                                                                                                                                                                                                                                                                                                                                                                                                                                                                                                                                                                                                                                                                                                                                                                                                                                                                                                                                                                                                                                                                                                                                                                                                                                                                                                                                                                                                                                                                                                                                                                                                                                                                                                                                                                                                                                                                                                                                                                                                                                                                                                                                                                                                                                                                                                                                                                                                                                                                                                                                                                                                                                                                                                                                                                                                                                                                                                                                                                                                                                                                                                                                                                                                                                                                                                                                                                                                                                                                                                                                                                                                                                                                                                                                                                                                                                                                                                                                                                                                                                                                                                                                                                                                                                                                                                                                                                                                                                                                                                                                                                                                                                                                                                                                                                                                                                                                                                                                                                                                                                                                                                                                                                                                                                                                                                                                                                                                                                                                                                                                                                                                                                                                                                                                                                                                                                                                                                                                                                                                                                                                                                                                                                                                                                                                                                                                                                                                                                                                                                                                                                                                                                                                                                                                                                                                                                                                                                                                                                                                                                                                                                                                                                                                                                                                                                                                                                                                                                                                                                                                                                                                                                                                                                                                                                                                                                                                                                                                                                                                                                                                                                                                                                                                                                                                                                                                                                                                                                                                                                                                                                                                                                                                                                                                                                                                                                                                                                                                                                                                                                                                                                                                                                                                                                                                                                                                                                                                                                                                                                                                                                                                                                                                                                                                                                                                                                                                                                                                                                                                                                                                                                                                                                                                                                                                                                                                                                                                                                                                                                                                                                                                                                                                                                                                                                                                                                                                                                                                                                                                                                                                                                                                                                                                                                                                                                                                                                                                                                                                                                                                                                                                                                                                                                                                                                                                                                                                                                                                                        Microsoft Also read: Putin's Advisor: Bitcoin Legality in Other Countries is 'Fiction' is continuing to support cryptocurrency and blockchain technology within its infrastructure. Just recently, ConsenSys and Microsoft have collaborated on integrating 's programming language, Solidity into the company's Visual Studio . The tech giant company has also revealed that Excel 2016 will support Bitcoin's currency format within the MS Office suite. Microsoft Enables Thousands of Devs to Build with Ethereum The reveal of this integration was introduced at Microsoft's Build presentation with Ethereum co-founders Vitalik Buterin and Joseph Lubin attending the event. Build focuses on presenting the latest technology and tools to help developers generate innovative concepts. The implementation of the code will allow developers to create with its protocol, building decentralized applications (Dapps), smart contracts, and IoT compatibility. Through this collaboration, Windows users will be able to develop programs via the Ethereum Virtual Network (EVM). Buterin stated: What do you think about Microsoft's deep involvement with cryptocurrency and blockchain tech? Could it give them the edge the company once had? Let us know in the comments below! Images courtesy of Microsoft, Ethereum Making it easier for developers to build applications on top of Ethereum through developer tools has always been one of our primary interests and focuses, and the integration of Solidity in Visual Studio will help bring Ethereum to a very large developer community. I am looking forward to seeing the results that this collaboration will bring. Solidity is a javascript-like programming language used for developing on the EVM. With the language users can write applications \"that implement self-enforcing business logic embodied in smart contracts , leaving a non-repudiable and authoritative record of transactions.\" Visual Studio is a development environment that is used to build these programs for Windows, Android, and iOS platforms. Director of BizDev & Strategy for Blockchain at Microsoft Marley Gray said of the announcement: This integration with Visual Studio will offer developers enterprise-grade solutions with advanced capabilities for teams working on blockchain Smart Contract projects of any size and complexity. We are excited to continue to support the development and innovation of the distributed ledger ecosystem. Excel 2016 will Support Bitcoin Currency Format The Bitcoin currency format was revealed in the Office 365 Roadmap , which explains the development and upcoming updates to the software suite. Microsoft Office is currently the business application used by companies. Format support is currently in \"development\" but will offer a variety of use cases when it becomes available. The Roadmap states, \"Now use Excel to track, calculate and analyze Bitcoin data using native number formatting options. The feature is first being rolled out to Excel 2016 for Windows, Excel Online, Excel Mobile for Windows and Excel Mobile for Android.\" Microsoft clearly is interested in the digital currency and with Ethereum and Bitcoin being melded into its software. Projects like the cloud-based Microsoft Azure program and the blockchain environment acceptance of this emerging technology has been profound. The company still accepts Bitcoin and is now integrating certain elements of these technologies to prepare for the future. Jamie Redman is a Bitcoin enthusiast, trader, journalist and graphic artist. For over 4 years Redman has been deeply infused in the cryptocurrency space. Creating a ton of Bitcoin visuals and articles for the community to enjoy, Redman continues his quest to be a candid evangelist for the use of the virtual currency. The mission is to bring the \"Jazz\" to Bitcoin branding and add artistic flare.   \n",
       "6                                                                                                                                                                                                                                                                                                                                                                                                                                                                                                                                                                                                                                                                                                                                                                                                                                                                                                                                                                                                                                                                                                                                                                                                                                                                                                                                                                                                                                                                                                                                                                                                                                                                                                                                                                                                                                                                                                                                                                                                                                                                                                                                                                                                                                                                                                                                                                                                                                                                                                                                                                                                                                                                                                                                                                                                                                                                                                                                                                                                                                                                                                                                                                                                                                                                                                                                                                                                                                                                                                                                                                                                                                                                                                                                                                                                                                                                                                                                                                                                                                                                                                                                                                                                                                                                                                                                                                                                                                                                                                                                                                                                                                                                                                                                                                                                                                                                                                                                                                                                                                                                                                                                                                                                                                                                                                                                                                                                                                                                                                                                                                                                                                                                                                                                                                                                                                                                                                                                                                                                                                                                                                                                                                                                                                                                                                                                                                                                                                                                                                                                                                                                                                                                                                                                                                                                                                                                                                                                                                                                                                                                                                                                                                                                                                                                                                                                                                                                                                                                                                                                                                                                                                                                                                                                                                                                                                                                                                                                                                                                                                                                                                                                                                                                                                                                                                                                                                                                                                                                                                                                                                                                                                                                                                                                                                                                                                                                                                                                                                                                                                                                                                                                                                                                                                                                                                                                                                                                                                                                                                                                                                                                                                                                                                                                                                                                                                                                                                                                                                                                                                                                                                                                                                                                                                                                                                                                                                                                                                                                                                                                                                                                                                                                                                                                                                                                                                                                                                                                                                                                                                                                                                                                                                                                                                                                                                                                                                                                                                                                                                                                                                                                                                                                                                                                                                                                                                                                                                                                                                                                                                                                                                                                                                                                                                                                                                                                                                                                                                                                                                                                                                                                                                                                                                                                                                                                                                                                                                                                                                                                                                                                                                                                                                                                                                                                                                                                                                                                                                                                                                                                                                                                                                                                                                                                                                                                                                                                                                                                                                                                                                                                                                                                                                                                                                                                                                                                                                                                                                                                                                                                                                                                                                                                                                                                                                                                                                                                                                                                                                                                                                                                                                                                                                                                                                                                                                                                                                                                                                                                                                                                                                                                                                                                                                                                                                                                                                                                                                                                                                                                                                                                                                                                                                                                                                                                                                                                                                                                                                                                                                                                                                                                                                                                                                                                                                                                                                                                                                                                                                                                                                                                                                                                                                                                                                                                                                                                                                                                                                                                                                                                                                                                                                                                                                                                                                                                                                                                                                                                                                                                                                                                                                                                                                                                                                                                                                                                                                                                                                                                                                                                                                                                                                                                                                                                                                                                                                                                                                                                                                                                                                                                                                                                                                                                                                                                                                                                                                                                                                                                                                                                                                                                                                                                                                                                                                                                                                                                                                                                                                                                                                                                                                                                                                                                                                                                                                                                                                                                                                                                                                                                                                                                                                                                                                                                                                                                                                                                                                                                                                                                                                                                                                                                                                                                                                                                                                                                                                                                                                                                                                                                                                                                                                                                                                                                                                                                                                                                                                                                                                                                                                                                                                                                                                                                                                                                                                                                                                                                                                                                                                                                                                                                                                                                                                                                                                                                                                                                                                                                                                                                                                                                                                                                                                                                                                                                                                                                                                                                                                                                                                                                                                                                                                                                                                                                                                                                                                                                                                                                                                                                                                                                                                                                                                                                                                                                                                                                                                                                                                                                                                                                                                                                                                                                                                                                                                                                                                                                                                                                                                                                                                                                                                                                                                                                                                                                                                                                                                                                                                                                                                                                                                                                                                                                                                                                                                                                                                                                                                                                                                                                                                                                                                                                                                                                                                                                                                                                                                                                                                                                                                                                                                                                                                                                                                                                                                                                                                                                                                                                                                                                                                                                                                                                                                                                                                                                                                                                                                                                                                                                                                                                                                                                                                                                                                                                                                                                                                                                                                                                                                                                                                                                                                                                                                                                     There seems to be no love lost between central banks and companies active in the world of Bitcoin and blockchain technology. But at the same time, Cashila is the world's first Bitcoin payment processor with a license by a Central Bank, showing there is a way to bridge the gap between both sides of the financial sector. The new service offered by this company lets users buy, sell, and store Ethereum in a quick and convenient way. Also read: Wheel of Doge Allows Players to Use Any Coin Through ShapeShift Cashila Ventures Into The Ethereum World It is not uncommon to see existing platforms explore the Ethereum side of things as well since there is a lot of revenue to be made from doing so. Various Bitcoin exchanges offer consumers a way to easily buy and sell Ether, the token of the Ethereum protocol. Kraken, Bitfinex, Coincheck, and Korbit are just a few of the platforms to have done so in the past year. But when it comes to payment processors, there does not seem to be any indication of them looking to embrace soon. Cashila is the first one to do, and they have big plans for expanding their service in the next few weeks. Right now, the company is best-known for enabling users to make daily payments - or direct wire transfers - to anyone in the European Union by using Bitcoin. Moreover, users can receive Bitcoin or payments denominated in EUR to their online Cashila wallet . But ever since the Ethereum developers released Homestead, there has been growing internal talk about the addition of Ether to the platform. Although it remains unclear whether or not this new service will be a standalone platform or just a part of the current services, the plan is to let Cashila users exchange between EUR and Ether on-the-go. In return, this should bring additional liquidity to both markets. Cashila Co-founder Jani Valjavec stated: \"Buying Ether is currently too hard for an average person. That's why we're building the easiest possible way for one to buy and securely store Ether.\" To make the process of buying and selling Ethereum a lot more convenient for users, the company has been actively developing a new unnamed service. Although the name remains unknown for now, we do know the new service will let users buy and sell with just one click, at a fixed price. Additionally, the new service will support both the ETH and EUR wallet , allowing for quick conversions between both types of currency. Last but not least, it will be possible for EU customers to deposit and withdraw funds through SEPA, assuming one live sin any of the countries supporting this payment method. Low Costs And No Verification Needed One of the biggest drawbacks for novice users is how they have to go through a thorough verification procedure before being able to buy Ethereum on most exchanges. Cashila is taking a different approach, as users will not need to provide any documentation to verify their identity. However, there will be an EUR 1,000 trading limit in place, which can be lifted by submitting the necessary documents. Most convenient exchange solutions charge - sometimes rather high - fees for that particular service, but Cashila wants to keep the costs a slow as possible. Based on the information we have received, there will be a 1% fee applied to trades, and conversions to SEPA can be done any working day. Moreover, storing ETH can be done through the secure online wallet , which will support 2FA for all the key actions. What are your thoughts on this new service announcement by Cashila? Are you looking forward to giving it a try? Let us know in the comments below! Source: Press Release Via Email Images courtesy of Cashila, Ethereum, Shutterstock Jp Buntinx JP Buntinx is a freelance Bitcoin writer and Bitcoin journalist for various digital currency news outlets around the world. In other notes, Jean-Pierre is an active member of the Belgian Bitcoin Association, and occasionally attends various Bitcoin Meetups in Ghent and Brussels More than 55.000 financial technology enthusiasts from all over Europe have voted for their favourite European Fi... Bitcoin ransomware has been a thorn in the eye of many digital currency enthusiasts, and security experts have had ... 30 March 2016 - Decentraleyes, a decentralized privacy addon for Firefox goes above and beyond to deliver a priva...   \n",
       "7                                                                                                                                                                                                                                                                                                                                                                                                                                                                                                                                                                                                                                                                                                                                                                                                                                                                                                                                                                                                                                                                                                                                                                                                                                                                                                                                                                                                                                                                                                                                                                                                                                                                                                                                                                                                                                                                                                                                                                                                                                                                                                                                                                                                                                                                                                                                                                                                                                                                                                                                                                                                                                                                                                                                                                                                                                                                                                                                                                                                                                                                                                                                                                                                                                                                                                                                                                                                                                                                                                                                                                                                                                                                                                                                                                                                                                                                                                                                                                                                                                                                                                                                                                                                                                                                                                                                                                                                                                                                                                                                                                                                                                                                                                                                                                                                                                                                                                                                                                                                                                                                                                                                                                                                                                                                                                                                                                                                                                                                                                                                                                                                                                                                                                                                                                                                                                                                                                                                                                                                                                                                                                                                                                                                                                                                                                                                                                                                                                                                                                                                                                                                                                                                                                                                                                                                                                                                                                                                                                                                                                                                                                                                                                                                                                                                                                                                                                                                                                                                                                                                                                                                                                                                                                                                                                                                                                                                                                                                                                                                                                                                                                                                                                                                                                                                                                                                                                                                                                                                                                                                                                                                                                                                                                                                                                                                                                                                                                                                                                                                                                                                                                                                                                                                                                                                                                                                                                                                                                                                                                                                                                                                                                                                                                                                                                                                                                                                                                                                                                                                                                                                                                                                                                                                                                                                                                                                                                                                                                                                                                                                                                                                                                                                                                                                                                                                                                                                                                                                                                                                                                                                                                                                                                                                                                                                                                                                                                                                                                                                                                                                                                                                                                                                                                                                                                                                                                                                                                                                                                                                                                                                                                                                                                                                                                                                                                                                                                                                                                                                                                                                                                                                                                                                                                                                                                                                                                                                                                                                                                                                                                                                                                                                                                                                                                                                                                                                                                                                                                                                                                                                                                                                                                                                                                                                                                                                                                                                                                                                                                                                                                                                                                                                                                                                                                                                                                                                                                                                                                                                                                                                                                                                                                                                                                                                                                                                                                                                                                                                                                                                                                                                                                                                                                                                                                                                                                                                                                                                                                                                                                                                                                                                                                                                                                                                                                                                                                                                                                                                                                                                                                                                                                                                                                                                                                                                                                                                                                                                                                                                                                                                                                                                                                                                                                                                                                                                                                                                                                                                                                                                                                                                                                                                                                                                                                                                                                                                                                                                                                                                                                                                                                                                                                                                                                                                                                                                                                                                                                                                                                                                                                                                                                                                                                                                                                                                                                                                                                                                                                                                                                                                                                                                                                                                                                                                                                                                                                                                                                                                                                                                                                                                                                                                                                                                                                                                                                                                                                                                                                                                                                                                                                                                                                                                                                                                                                                                                                                                                                                                                                                                                                                                                                                                                                                                                                                                                                                                                                                                                                                                                                                                                                                                                                                                                                                                                                                                                                                                                                                                                                                                                                                                                                                                                                                                                                                                                                                                                                                                                                                                                                                                                                                                                                                                                                                                                                                                                                                                                                                                                                                                                                                                                                                                                                                                                                                                                                                                                                                                                                                                                                                                                                                                                                                                                                                                                                                                                                                                                                                                                                                                                                                                                                                                                                                                                                                                                                                                                                                                                                                                                                                                                                                                                                                                                                                                                                                                                                                                                                                                                                                                                                                                                                                                                                                                                                                                                                                                                                                                                                                                                                                                                                                                                                                                                                                                                                                                                                                                                                                                                                                                                                                                                                                                                                                                                                                                                                                                                                                                                                                                                                                                                                                                                                                                                                                                                                                                                                                                                                                                                                                                                                                                                                                                                                                                                                                                                                                                                                                                                                                                                                                                                                                                                                                                                                                                                                                                                                                                                                                                                                                                                                                                                                                                                                                                                                                                                                                                                                                                                                                                                                                                                                                                                                                                                                                                                                                                                                                                                                                                                                                                                                                                                                                                                                                                                                                                                                                                                                                                                                                                                                                                                                                                                                                                                                                                                                                                                                                                                                                                                                                                                                                                                                                                                                                                                                                                                                                                                                                                                                                                                                                                                                                                                                                                                                                                                       Following Ethereum's production-ready software release earlier this month, digital currency exchanges are now adding support for the native token that powers its blockchain, ether (ETH). In recent weeks, the majority of announcements have come from Asia, where exchanges in China, Japan and South Korea have all added support for ETH trading. Such actions follow the news that Bitfinex, one of the world's largest digital currency exchanges, had added support for the digital currency on 12th March . Regional exchanges that have since announced support for ETH trading including Coincheck, CHBTC, Korbit and Quoine - exchanges that have raised upwards of $5m in combined venture funding. Quoine CEO Mario Gomez Lozada reported that his Singapore-based exchange has already seen an influx of trading activity for ether, telling CoinDesk: \"We did a few thousand ether on launch day, most of it from Japanese traders, and we reached over 1,000 BTC trading volume in ETH/BTC shortly after. Our Japanese traders immediately embraced ether.\" The announcements coincide with escalating interest in ether trading after its market capitalization rose above $1bn earlier this month. At press time, its market cap had subsided, declining to roughly $937m after a period of price volatility. The price of ether at press time was under $12 across exchanges, a figure buoyed by trader interest in the digital currency. High hopes Exchange representatives voiced enthusiasm for Ethereum, as well as their hope that it could extend the market for digital currencies by making headway on use cases where bitcoin startups have yet to find success. \"Bitcoin was all about money. We hope Ethereum will be everything other than money. Therefore, it's natural for us to support ether,\" Coincheck business development lead Kagayaki Kawabata told CoinDesk. Coincheck has since added support for leveraged ether trading, allowing traders to borrow up to five times leverage on ether trades. Kawabata indicated that interest in Ethereum remains low, but he suggested that corporate interest, on the level of a regional Microsoft lending support, could boost awareness. Further, Gomez Lozada said that he believes Ethereum is attracting new traders to his exchange and fostering interest in digital currencies and blockchain tech. \"We have seen new traders joining the platform and exclusively trading ETH,\" he said. Still, not all of the region's exchanges are ready to embrace Ethereum. Xu Qing, a spokesperson for Huobi, said it is interested in the technology developments but that it has no plans to add support for ether. Qing said: \"We still keep an open mind to outstanding [digital currencies]. Any new digital currency needs time for market validation and acceptance ranging from issuing mechanisms to market liquidity.\" Asia image via Shutterstock   \n",
       "8                                                                                                                                                                                                                                                                                                                                                                                                                                                                                                                                                                                                                                                                                                                                                                                                                                                                                                                                                                                                                                                                                                                                                                                                                                                                                                                                                                                                                                                                                                                                                                                                                                                                                                                                                                                                                                                                                                                                                                                                                                                                                                                                                                                                                                                                                                                                                                                                                                                                                                                                                                                                                                                                                                                                                                                                                                                                                                                                                                                                                                                                                                                                                                                                                                                                                                                                                                                                                                                                                                                                                                                                                                                                                                                                                                                                                                                                                                                                                                                                                                                                                                                                                                                                                                                                                                                                                                                                                                                                                                                                                                                                                                                                                                                                                                                                                                                                                                                                                                                                                                                                                                                                                                                                                                                                                                                                                                                                                                                                                                                                                                                                                                                                                                                                                                                                                                                                                                                                                                                                                                                                                                                                                                                                                                                                                                                                                                                                                                                                                                                                                                                                                                                                                                                                                                                                                                                                                                                                                                                                                                                                                                                                                                                                                                                                                                                                                                                                                                                                                                                                                                                                                                                                                                                                                                                                                                                                                                                                                                                                                                                                                                                                                                                                                                                                                                                                                                                                                                                                                                                                                                                                                                                                                                                                                                                                                                                                                                                                                                                                                                                                                                                                                                                                                                                                                                                                                                                                                                                                                                                                                                                                                                                                                                                                                                                                                                                                                                                                                                                                                                                                                                                                                                                                                                                                                                                                                                                                                                                                                                                                                                                                                                                                                                                                                                                                                                                                                                                                                                                                                                                                                                                                                                                                                                                                                                                                                                                                                                                                                                                                                                                                                                                                                                                                                                                                                                                                                                                                                                                                                                                                                                                                                                                                                                                                                                                                                                                                                                                                                                                                                                                                                                                                                                                                                                                                                                                                                                                                                                                                                                                                                                                                                                                                                                                                                                                                                                                                                                                                                                                                                                                                                                                                                                                                                                                                                                                                                                                                                                                                                                                                                                                                                                                                                                                                                                                                                                                                                                                                                                                                                                                                                                                                                                                                                                                                                                                                                                                                                                                                                                                                                                                                                                                                                                                                                                                                                                                                                                                                                                                                                                                                                                                                                                                                                                                                                                                                                                                                                                                                                                                                                                                                                                                                                                                                                                                                                                                                                                                                                                                                                                                                                                                                                                                                                                                                                                                                                                                                                                                                                                                                                                                                                                                                                                                                                                                                                                                                                                                                                                                                                                                                                                                                                                                                                                                                                                                                                                                                                                                                                                                                                                                                                                                                                                                                                                                                                                                                                                                                                                                                                                                                                                                                                                                                                                                                                                                                                                                                                                                                                                                                                                                                                                                                                                                                                                                                                                                                                                                                                                                                                                                                                                                                                                                                                                                                                                                                                                                                                                                                                                                                                                                                                                                                                                                                                                                                                                                                                                                                                                                                                                                                                                                                                                                                                                                                                                                                                                                                                                                                                                                                                                                                                                                                                                                                                                                                                                                                                                                                                                                                                                                                                                                                                                                                                                                                                                                                                                                                                                                                                                                                                                                                                                                                                                                                                                                                                                                                                                                                                                                                                                                                                                                                                                                                                                                                                                                                                                                                                                                                                                                                                                                                                                                                                                                                                                                                                                                                                                                                                                                                                                                                                                                                                                                                                                                                                                                                                                                                                                                                                                                                                                                                                                                                                                                                                                                                                                                                                                                                                                                                                                                                                                                                                                                                                                                                                                                                                                                                                                                                                                                                                                                                                                                                                                                                                                                                                                                                                                                                                                                                                                                                                                                                                                                                                                                                                                                                                                                                                                                                                                                                                                                                                                                                                                                                                                                                                                                                                                                                                                                                                                                                                                                                                                                                                                                                                                                                                                                                                                                                                                                                                                                                                                                                                                                                                                                                                                                                                                                                                                                                                                                                                                                                                                                                                                                                                                                                                                                                                                                                                                                                                                                                                                                                                                                                                                                                                                                                                                                                                                                                                                                                                                                                                                                                                                                                                                                                                                                                                                                                                                                                                                                                                                                                                                                                                                                                                                                                                                                                                                                                                                                                                                                                                                                                                                                                                                                                                     The price per Ether will be taken from multiple sources, including Poloniex - the main exchange for ETH trading - and will be verified by Reality Keys. Since there is no owner running this platform, all of the trades, deposits, and withdrawals are executed automatically through an Ethereum smart contract. Decentralized autonomous trading is what digital currency was designed to do, and it is good to see new platforms pop up embracing this principle. Ethereum keeps capturing the imagination of both developers and digital currency enthusiasts all over the world. As new platforms are being announced around the clock, the ecosystem is growing into something very powerful. One of the latest announcements comes in the form of Etheropt, a platform that is live on the Ethereum mainnet which offers decentralized options exchange opportunities. Also read: Bitcoin Price Watch; A Shifted Range in Focus The Etheropt Decentralized Options Exchange Similar to , the Ethereum blockchain is all about decentralizing as many platforms as humanly possible. Although Bitcoin offers a variety of trading and exchange platforms, very few of them are decentralized at their core. Things could play out differently when Ethereum is involved, as impressive new platforms are coming to fruition. is one of those platforms, which is entirely decentralized. Moreover, this is not your everyday digital currency trading service either, as the main purpose is to exchange a variety of . What is even more interesting is how all of the options are call and put options related to the Ethereum price, denominated in US Dollar. The price per will be taken from multiple sources, including Poloniex - the main exchange for ETH trading - and will be verified by Reality Keys . Since no owner is running this platform, all of the trades, deposits, and withdrawals are executed automatically through an Ethereum smart contract . Decentralized autonomous trading is what digital currency was designed to do, and it is good to see new platforms pop up embracing this principle. What is even more appealing to potential traders is how Etheropt does not charge any fees. Unlike traditional exchange platforms, where a small portion of every trade is taken as a fee, no one will be making money from this concept other than the people successfully placing their options. Moreover, deposits and withdrawals are not subject to any fees either. Etheropt users can ether deposit funds directly in Ether, or use Shapeshift.io to convert any of the supported digital currencies into ETH. It is positive to see the Etheropt developer looking at various ways to make this platform more accessible to all kinds of digital currency enthusiasts.   \n",
       "9  Many of the people I meet believe that bitcoin is bad and will fail. It's rare to meet anyone who says that it could change the world and will succeed. But I've found one and he happens to have written a very good blog about it: Akin Fernandez, Entrepreneur Developer of Azteco . It's a long read, but worth it if you want to be informed. TL;DR If you have software that does something that is valuable, it will sell itself once people hear about it. What other people are doing wrong does not impact your software. There are some interesting and sportsmanlike debates happening around software properties and philosophy in the area of Bitcoin and the Blockchain. There are two distinct camps in this fascinating debate; the software developers and the non software developers . The non software developers can be characterized as Statist Sceptics . On top of not understanding how Bitcoin works, they do not like Bitcoin in principle , because they are Statists , and they are doubtful (without reason) that it can gain traction and spread globally. They have been Moving the Goalposts (a ) for several years in debates about Bitcoin, and have had to concede humiliating defeat many times as Bitcoin resists all their baseless nonsense and hopelessly bad predictions. First they said Bitcoin was a Ponzi Scheme, then they said it was only for \"techies\" then they said it was a bubble, then they said some other nonsense about it . Now, no one says any of those things, and they are onto the next iteration of their FUD; for example, the transaction rate is \"not fast enough\". They have conceded that Bitcoin works exactly as specified, and are running out of novel attacks. The rumblings of complete capitulation are starting to be written, and its a distinct pleasure to read them. Compounding the anti-Bitcoin proponent's frustration are voices that they recognize as deeply authoritative ( IBM ), saying that, \"The underlying technology could change everything\". Those that are retreating into that camp now say, \" And also Bitcoin \" when they talk about \"Blockchain Technology\" as the latest way to try an diminish the world changing effect Bitcoin will have. All the Bitcoin detractors have several characteristics in common. 1 They do not develop software 2 They do not understand or use cryptography 3 They do not have the language to describe cryptography 4 They have a quasi religious belief in the necessity of the State 5 Their only way in to the software world is by analogy Without an understanding of cryptography, it is not possible to understand why Bitcoin works. Without an understanding of Austrian Economics, it is not possible to understand why Bitcoin is limited to 21 million units. Without an understanding of software and its history, it is not possible to predict the future course Bitcoin will take. If you do not understand cryptography, specifically, Pretty Good Privacy , it will be difficult to understand the idea of a cryptographic signature, and its properties. Bitcoin is not a system of \"Smart Contracts\"; it is a system that uses cryptographic signatures to verify that a piece of text is now \"locked\" to the owner of a private key, who has the sole power to unlock that text and sign control over it to another owner of a different private key. All of this takes place on a public ledger. This is not at all like a contract, and neither is it \"smart\". In order to \"send\" Bitcoin to another person ( N.B. sending and receiving Bitcoin never actually happens, you simply sign an entry in the ledger and your balance, the number of entries you can sign, changes which is represented as a number ), you must use your private key to sign a message that is verified by the network. The system that controls this and verifies that the same signature on a piece of text can only be assigned to one key at a time is the breakthrough in The Double Spending problem , the explicit reason that Bitcoin was developed. This system can be used for other purposes that require registration of signed text, that is certain, but the Blockchain was developed specifically to facilitate the creation of a system of money that is free from government control, and immune to inflation. This idea, the idea of sound money, is anathema to Statists. They love government money that robs the poor and is the source of many of the troubles we face today. Do you see what I did there? I described what Bitcoin is, without using any poor analogies and stating only the facts. This is important, and I will come back to it later. Bitcoin does what it is designed to do. It does it very well. It will do it even better in the future, and this is something that non software developers do not understand; software is not fixed . The Bitcoin network we have today is not the same as the Bitcoin network at its start. There will be improvements in every area, including the speed at which the network runs. In the past, downloading the entire Blockchain was needed for every peer. Now you can download a pruned version that is smaller, and there are clients that do not require downloading the entire Blockchain at all . Anyone who presents a Straw Man Argument that Bitcoin cannot work because it takes \"too much\" time to confirm transactions, or the transaction volume is small compared to SWIFT or some other centralized system clearly cannot think , and doesn't know anything about software or its history. In the past before the global software precedents, they could have been excused for doubting the spread of any particular software or hardware, as the infamous Clifford Stoll did when he said the web \" would never take off\" but now, in 2015, we have numerous examples of devices and software that spread globally and that scale . The flash drive, which used to hold 64MB, now holds 64GB in the same form factor. There are one thousand and twenty four megabytes in one Gigabyte. That means in the picture below, the top drive has one thousand times more storage space than the bottom drive. I have no doubt that these same people, had you enthusiastically said to them, \"Your 64MB flash drive will hold a in a few years and cost \" would have scoffed at the idea. The same thing is happening with Bitcoin. Men who know nothing about software are scoffing at the idea that Bitcoin can change and improve. Its an a-historical perspective, to use parliamentary language. On IRC, they simply say, \"DERP!\". Often these people group the Blockchain and Bitcoin with tangentially related projects like Ripple, leaving out the crucial details that allow you to distinguish one from another and make a proper judgement, either by deliberate omission or ignorance. Ripple is very different to Bitcoin. It is a \"pre mined\" currency where all the tokens are created at once, by the developers. Bitcoin on the other hand, is designed quite differently. Its money creation mechanism follows a predictable curve, and is achieved through the process of competition between miners. This was done to keep the expansion of money supply under control until all the Bitcoin is generated, and is a direct result of the correct ideas in Austrian Economics. There is no boss, thankfully It is entirely right to say, \"Bitcoin is controlled by no one\". When this construction is used, it is meant to distinguish between Bitcoin and tools like Ripple, which is centrally controlled . Clearly, the Bitcoin miners control their own hardware and software, and the Bitcoin reference client is under the supervision of the man who is currently responsible for it. At the same time, the network requires consensus for it to operate properly, and it cannot be corrupted or gamed by a single entity. This is exactly what is meant by, \"controlled by no one\". It is not controversial to say this, and it is an accurate description of how the Bitcoin network operates. What the Statists do not like about Bitcoin not being under central control, is that its success is a strong, undeniable signal that control by democratic government is not needed for essential societal functions like money, and that there are better ways to organize every aspect of society that do not require government. The idea that money will no longer be the special preserve of the State and its corrupt central banks is deeply disturbing to these men, and so, they do anything they can (which is precisely nothing) and say anything they can (which is too much) to undermine the idea that Bitcoin does not need to be centrally controlled. Comparing any centralized service, like Ripple, which maintains a definitive central ledger in its offices, to Bitcoin is absurd . These two softwares are in completely different categories, and this bad comparison highlights the naked computer illiteracy of the men who make this febrile comparison. Ripple tokens, the way they were generated, who controls them and the software are all crucial pieces of information that you need to grasp before you can make a judgement about it or compare it to Bitcoin. Once you have a grasp of these, you can clearly see that Ripple is nothing at all like Bitcoin . Bitcoin, if you need to make a comparison to existing software, is more like the BitTorrent Protocol . Once again, if you have used BitTorrent, you will know what I am talking about. If you have not, you will not. There is nothing stopping anyone from making clear, detailed distinctions between different software projects. We can say that Ripple is nothing like Bitcoin, and X software is like Y software. This is useful, and shying away from the details is not; in fact, omitting the details of how software works only causes confusion, and helps spread uncertainty. GPG users and promoters are very used to the computer illiterate characters who will say things like, \"Yes! but I'm sure the government can read PGP messages, there is no way that they can't; they can do anything!\" without any evidence or knowledge of what they are talking about. It is only now that Edward Snowden has confirmed that GPG is beyond the reach of the NSA, that their ignorant anti GPG nonsense is forever dispelled as garbage. Once again, this is the Faulty Appeal to Authority fallacy ; GPG works because it works , not because someone says it works. The same is true of Bitcoin. No matter what software you are talking about, you need to make the case as to why it should be adopted by a user. If there is nothing like it to do the job your software can do, your sales pitch is easy. Bitcoin has this advantage; there is nothing like it in terms of what it does and its scale. Other software projects, have a harder case to make. Ssssssssssssssssssssssssssss! Imagine for yourself, a new software project, that wants to leverage a new technique. In order to sell the project, the facts about it need to be explained, and the software demonstrated. Anyone with experience in testing new software knows how these pitches go. They are very short and terse in the text (just as the Bitcoin White Paper is) and you are invited to run the software yourself. The install process is simple, and then the software either does what it developers claim it does, or it does not. Its all simple and straightforward. If the explanation is too long, and the software essentially unusable, then you have an indication that s omething might be wrong . Couple with that, the fact that it doesn't solve an outstanding hard or easy problem, and the second level alarm bells start ringing. BitTorrent and Bitcoin solve two very hard, distinct problems. BitTorrent solves the problem of how to share files to many people without a central server to distribute them serially. In the past, if you wanted to download a large file, you had to line up behind other people who were downloading the file one person at a time. With BitTorrent, the file is broken up into pieces and distributed out of order for re-assembly at the destinations in parallel. It is much faster than a serial download, and each person with a full or partial copy of the file can share the parts of it they have with other people who do not have those parts. Its all coordinated automagically in the software. BitTorrent is a breakthrough in how files are distributed, and was the result of many years of thought on the problem of how to distribute files without a central server. There had been other attempts at solving this problem , and it took several iterations before BitTorrent was developed by one man: Bram Cohen . Bitcoin has a similar history. For decades developers have been trying to solve the problem of creating an efficient intangible money token. After several attempts, the main problem, how to stop people spending the same token twice (a problem of synchronization) was solved in the form of Bitcoin. In each of these cases, the explanation is simple, the software solves a big problem, and you can download it and use it immediately to solve that specific hard problem. Its clear, unambiguous and instantly beneficial. Now back to our imaginary software project. This project does not solve an outstanding problem. It is designed to be a database like MySQL or PostgreSQL, usable by any organization that wants to store data. This project is trying to re-purpose the Blockchain software to do the common and simple task of a database of a kind that runs on commodity hardware and free software. There is an explicit rejection of Bitcoin by its developers and promoters and the use of Bitcoin in this project, and most importantly, they have not figured out how to create a Blockchain without Bitcoin ; they try to hide it in a sea of text and jibes describing what they are doing. What is wrong with this picture? This imaginary software that I describe is not trying to solve a real problem . Any organization can download MySQL, hire some developers, not even top flight ones, and create extremely fast applications that do everything they could imagine they need. If they have an extra requirement of being able to audit who wrote what to the database and when, by adding cryptographic signatures to all entries and changes, they could have a completely audit-able and 100% reliable system where who did what and who owns what entry could be infallibly known. I will divert quickly to describe how it could be done. In a trusted organization that requires verifiable database entries, it is possible to use GPG signatures to stamp each entry in a way that makes them unforgeable and tamper evident . To do this, you issue everyone with write access to the database, a GPG Keypair that they use to sign entries and changes. Each signer will have a GPG Keypair, and a separate machine will automatically sign all entries with its own keypair, for time stamping and authenticating entries. To understand how this works and why it is infallible, you need to understand what GPG does, what a cryptographic signature is , and how it can be used to authenticate text, enable non-repudiation of a promise and the integrity of entries that are passed through this tool. Creating a system as I describe here does not require a breakthrough in software or theory. It is doable now, and can scale, and the tools are well understood and secure. The vaunted infallible, incorruptible public ledger features of this system can be had without using the Blockchain or an experimental derivative of it. If you want a database that is filled with entries that are not corruptible, you do not need a Blockchain to achieve it, you need infallible digital signatures precisely of the kind provided by GPG. One of the tell-tale signs of what we call \" \" are features that have no meaning. Imagine a software project that made the claim that they have, \"made Blockchains controllable\" That doesn't mean anything . All software is controllable by default, by the developers who write it. This is not a new feature or a breakthrough, it is simply the way things already are . It is very suspicious that a set of men attack the idea of Bitcoin, rather than expound the value of their own offering. The world needs more software. This is a fact. If you have something that is good, then by all means promote it. Saying that another piece of software, that by your own admission does not even overlap with your use case is a bad thing, quite rightly raises serious questions and suspicions about the true motivation behind such statements, and detracts from the thing you are claiming you are trying to sell. Its complicated Bitcoin is not, \"just a database\" anyone who says this does not understand what a database is, or the achievement of solving the Double Spending Problem. Databases are everywhere, common, and have been for decades. Bitcoin is causing global excitement precisely because it is not \"just a database\" , it is profound and new breakthrough. Bitcoin users do not have a common objective, but use a common means to achieve their objectives. Saying that Bitcoin users have a common objective is like saying people who use the fiat dollar or web servers have a common objective. Clearly they do not; web servers are used to serve web pages . The objectives of the people publishing pages are expressed in the text and images the users post for the world to see. Bitcoin is nothing more than a tool, just like any other tool, and nothing can be implied or imputed onto its users simply because they use it. The Bitcoin designer had a specific aim in mind, and part of his genius was to predict the human reaction to a money that is sound. As the true nature of money is further exposed by Bitcoin's spread, more people will come to distrust and reject fiat money issued by central banks, and the creator of Bitcoin's mission will be complete. Bitcoin is designed to be decentralized. The miners and software maintainers do not have \"limited supervision\" over the network; it is ordered by its operation and doesn't require supervision or control. To say that it does, demonstrates a profound misunderstanding of how Bitcoin works. The only way you can claim that Bitcoin is supervised is to change the meaning of the word \"supervised\" and this is another thing that Bitcoin detractors do; they change the meaning of words to confuse and distract anyone who is trying to understand Bitcoin's operation as a newcomer or computer illiterate that can be swayed by bad arguments because they cannot distinguish the truth and lies about Bitcoin. Blockchains are run on software. They could also be run with pencils and paper and the mail. Blockchains are data . It is wrong to say however, that if you write the rules that you want expressed that they will \"do exactly what we tell them to do\". This is false. The Blockchain works precisely because the rules that govern its operation are finely tuned. The rules that govern its operation is the breakthrough. You cannot simply wave your hands, shout, \"die Bitcoin die\" at the top of your lungs and command that a Blockchain start exhibiting a set of features you desire. That is nonsense on stilts. Problems do not fall to the mind of man on demand. This is why they are problems . The Blockchain and by extension Bitcoin, if it were \"just a database\" or a simple matter of telling computers to \"do exactly what we tell them to do\" would have been invented at the same time that the database was invented . Blockchains are not just databases , they are something very new , and novel , and clearly, very hard to understand for some. You cannot, bearing this in mind, \"obtain the benefits of the Blockchain\" without Bitcoin. This idea, that you can have a Blockchain whilst entirely stripping away Bitcoin by simply writing some software should send up a giant red flag. It is entirely legitimate to desire and imagine and then write any manner of software you want. It may even be possible to create software that seems to be irrational on the surface, but which works. But there are some things that cannot be done , and even if they can, do not need to be done . As I described above, there is no need to use a Blockchain to secure database entries, make them infallible and trustable, and to extend that trust outside of the organization that holds the central database. No new techniques need to be developed to do this, so the question that immediately comes to mind is... Why are they doing this? Recording a cash deposit is easily done on a true database like MySQL, enforcement in a breach of contract is done by courts all the time. You cannot have software enforcement of a payment of money without the valuable token that can be confiscated by the software contract , so removing Bitcoin from your novel offering doesn't make any sense. You need the valuable token to ensure that both parties do what they promise to do. But if your philosophy is that the State should be the sole arbiter in disputes, there is no need for Blockchain contracts ; paper ones will do. It is only in the scenario that you want to replace Government courts as arbitrators in disputes, and lawyers to draft and interpret the law that Blockchain contracts have real, revolutionary utility. Adding an extra layer of complexity to the existing monopoly courts and banking system that even the promoters of the bad idea cannot explain coherently and convincingly is not a good business idea. You cannot simply \"choose to look at Blockchains as an open source database\". First of all the term \"Open Source\" refers to software licenses , not to the license that covers the content stored in them, and the Blockchain is not a simple database; it is far more than that , as I have explained. The entire idea of Blockchains and Bitcoin is that the transactions are irreversible . It is not a beneficial feature to create a Blockchain that has reversible entries on it. If you want that, you use PostgreSQL or MySQL not a hacked version of the software that runs the Bitcoin Blockchain. It is not practical from a business perspective to use tools for something other than what they were designed for, especially when there are mature tools that do exactly what you need without any risk. Take that into account and then superimpose the Procrustean idea of reversible Blockchain transactions, and essentially you are demonstrating that you have entirely missed the point and innovation of the Blockchain. The Blockchain was designed specifically to bring into being a new form of money. It literally is a money printing press. The form of money it generates is clean, ethical, anti-centralization and anti-State. This is why it rankles so many people who are invested in the idea of the State, and who are its certified gatekeepers. There is no right way to do any sort of software. Software is written to meet the needs of its users. If you want to use a database to store pictures of your navel, that is a correct use by default. There is no wrong way to use software, but there is a wrong way to use it if your goal is very specific. If you want an efficient database to be used internally in a corporation or enterprise, you do not need to re-engineer the Blockchain to remove Bitcoin from it to do so. You simply use MySQL or PostgreSQL. You use the right tool for the right job, and you do not force a tool on to a problem simply because the words that describe it are hip and fashionable. The Blockchain was specifically designed to allow Bitcoin and its properties to exist. By definition, that is the correct use case for that software; to create a decentralized, peer to peer digital money substitute without the Double Spending Problem. If you have another novel use case and you re-purpose the software used to create the Blockchain, that is good; but if you do not have a novel use case, you do not need to use the Blockchain. The Blockchain does not need anyone to be right about it, and it does not need to be defended, any more than arithmetic needs to be defended; it just is , and that is all there is to it. Its use and growth is its own defence. Its logic is its own defence. Its utility is its own defence. Most rational people do not have an objection to any software being re-purposed or re-designed. It simply doesn't matter what people choose to do with their time and what software they want to release. Software cannot attack other software. It is irrational violent men who attack other men for holding the \"wrong\" ideas , and of course, the anti Bitcoin men are very eager to physically attack Bitcoin users simply because they use Bitcoin . This is the stark difference in ethics of the evil men who are against Bitcoin and the men who are natural and normal. Software doesn't care about what view you take. It only executes as it is instructed to execute. Either your product works and achieves your aims or it does not. If it does, then you have to convince someone that your offering is worth risking their data and business on. This is the simple truth. A Blockchain is demonstrably not like any other database software. The superficial advantages that the Blockchain offers in terms of proving that something has happened at a certain time or that someone has the keys to unlock an entry, can be trivially replicated on MySQL or PostgreSQL with a GPG layer. Propagating messages in a verifiable way is easily done with SSL and GPG without a central server, using BitTorrent as the transport layer. Anyone familiar with GPG and the Web of Trust knows this. Permissions in MySQL are mature and reliable. If cost savings (and risk savings) are your aim, you would be far better off using the standard tools in an organization, which by its nature is centralized and where accountability and privacy are needed. The Blockchain is for a different purpose; its aim is to move accountability to the network and out of the hands of a central authority . If you are selling something to an organization that requires central authority, you do not need the Blockchain and its guarantees, because these are achievable by compulsion, and verification done by digital signatures. Transparent audit logs are achievable by other means than a Blockchain, and organizations more often than not, like to keep the details of their internal databases private , as they contain business sensitive data. Spreading out the database task into the public onto servers not under the control of the corporation is not something that is desirable. A product that does this is a solution to a problem no one is trying to solve looking for a client that does not exist; the complete opposite of Bitcoin and the Blockchain, which is a solution to a real problem that has been sought after for decades, that everyone needs. You do not need a consensus mechanism in a company where everyone is under centralized control. The board is the consensus mechanism. Computers today are so powerful, and storage so inexpensive, large databases can run on laptops without any problem. Distributing the load over many machines is something that is required only in \"Big Data\" Scientific applications, where the idea of the Blockchain and its record keeping abilities are simply not needed. There is a demonstration floating about from one of the \"Blockchains not Bitcoin\" companies, where they claim to have replicated Netflix on their software. Not only is this use case an example of piracy of copyrighted material, but this function is already efficiently done with BitTorrent on a global scale. These new Blockchain derivative products do not know what they want to be, and of course, Netflix does not want a distributed system in the way they devise, they want a centralized system so they can profit. The only thing they could want in terms of distributed architecture is the use of BitTorrent to stream films to their customers. Everything that is Blockchain is worthless to them...unless they start taking Bitcoin for on demand viewing of films, which of course, makes the case for Bitcoin as a transformative \"tech\". Someone said that Google could reduce their server costs with a hacked Blockchain. This is absurd. Hardware is very cheap. Re architecting Google's infrastructure to use a Blockchain offers them no advantage whatsoever. Google's needs are simple; they would pay billions for a very fast high level loss-less compression breakthrough. This would mean that their existing infrastructure could instantly have greater capacity with no hardware retrofitting. Apple just had something similar happen to them; a software developer wrote a novel image compression algorithm - they bought it and are incorporating into their software. That is real innovation ; solving specific problems that are well defined, with a novel approach. Uber, AirBnB, Spotify and the vast majority of companies all need simple databases to run their services. The true innovation that helps them is Bitcoin. It reduces the cost of processing payments, and eliminates the risk of fraudulent payments completely. This is not something to be sneered at; it is a revolution in how people pay for services , and it will completely destroy the Credit Card industry forever . What sort of man could possibly be against this? Or claim that it is anything less than one of the most profound beneficial breakthroughs in the history of computers and software? No Straw Man, Faulty Appeal to Authority, corporate gibberish or FUD can stop Bitcoin. Its use case is too obvious and compelling, the savings too great, the elimination of payer fraud too seductive. Bitcoin is real. It is not vaporware . It is here now, you can use it, benefit from it and you don't have to ask anyone's permission to do so. The permissionless nature of Bitcoin is an offence to the Statists, who openly say that every new technology or software should be exposed to scrutiny and regulation by the State, no matter what it is . Bitcoin, being immune from that sort of anti-Americanism , doesn't care what you think , or recommend; it simply is , it will do what it is meant to do, like BitTorrent does, and nothing can stop it. You are not required to like it, integrate with it, use it or even talk about it, and lying about it will not dissuade people from using it. The benefits are obvious to anyone who can think, and those who think instinctively like to save time and money and resent lining up and showing ID to use their own money. Setting up a Blockchain wallet takes literally five minutes and once its done, and you fund it , you have hand-held global access to the entire world market, as a bank, where you can send and receive an unlimited, unrestricted amount of money to anyone, anywhere, instantly. That's a good thing . This is the core of the reason why Statists dislike Bitcoin. It sets people free to do as they like with their own money. Unfortunately for them, its too late to stop Bitcoin. All the vaporware, wishful thinking and FUD in the world can't stop it. Years of bad press written by ignorant men have not stopped its growth, and every day that it grows it is going to become harder to retard. By all means, continue to write your own software, but do not believe for an instant that anything you say can stop Bitcoin. Only software can stop Bitcoin, and to do that, its function needs to be a better Bitcoin than Bitcoin , not any coin that is in any way crippled. Bitcoin has unleashed an idea into the world that will never ever go away . The world has changed. You can either deal with it, or leave it . 14rtDb46NQJkuqFJuHqZG3o6uAWwGbV58z   \n",
       "\n",
       "           item_domain  \n",
       "0  cryptocoinsnews.com  \n",
       "1          newsbtc.com  \n",
       "2         coindesk.com  \n",
       "3         coindesk.com  \n",
       "4    blog.ethereum.org  \n",
       "5     news.bitcoin.com  \n",
       "6       bitcoinist.net  \n",
       "7         coindesk.com  \n",
       "8          newsbtc.com  \n",
       "9      thefinanser.com  "
      ]
     },
     "execution_count": 80,
     "metadata": {},
     "output_type": "execute_result"
    }
   ],
   "source": [
    "top10_content"
   ]
  },
  {
   "cell_type": "code",
   "execution_count": 81,
   "metadata": {},
   "outputs": [],
   "source": [
    "seearched_item = ptfmContAfterEDA.loc[ptfmCont.item_id==-4110354420726924665]\n",
    "#recommended_item = ptfmContAfterEDA.loc[ptfmCont.item_id==3353902017498793780]#"
   ]
  },
  {
   "cell_type": "code",
   "execution_count": 82,
   "metadata": {},
   "outputs": [],
   "source": [
    "pd.set_option('max_colwidth', 100)"
   ]
  },
  {
   "cell_type": "code",
   "execution_count": 83,
   "metadata": {},
   "outputs": [
    {
     "data": {
      "text/html": [
       "<div>\n",
       "<style scoped>\n",
       "    .dataframe tbody tr th:only-of-type {\n",
       "        vertical-align: middle;\n",
       "    }\n",
       "\n",
       "    .dataframe tbody tr th {\n",
       "        vertical-align: top;\n",
       "    }\n",
       "\n",
       "    .dataframe thead th {\n",
       "        text-align: right;\n",
       "    }\n",
       "</style>\n",
       "<table border=\"1\" class=\"dataframe\">\n",
       "  <thead>\n",
       "    <tr style=\"text-align: right;\">\n",
       "      <th></th>\n",
       "      <th>interaction_type</th>\n",
       "      <th>item_id</th>\n",
       "      <th>producer_id</th>\n",
       "      <th>item_type</th>\n",
       "      <th>item_url</th>\n",
       "      <th>title</th>\n",
       "      <th>text_description</th>\n",
       "      <th>item_domain</th>\n",
       "    </tr>\n",
       "  </thead>\n",
       "  <tbody>\n",
       "    <tr>\n",
       "      <th>1</th>\n",
       "      <td>content_present</td>\n",
       "      <td>-4110354420726924665</td>\n",
       "      <td>4340306774493623681</td>\n",
       "      <td>HTML</td>\n",
       "      <td>http://www.nytimes.com/2016/03/28/business/dealbook/ethereum-a-virtual-currency-enables-transact...</td>\n",
       "      <td>Ethereum, a Virtual Currency, Enables Transactions That Rival Bitcoin's</td>\n",
       "      <td>All of this work is still very early. The first full public version of the Ethereum software was...</td>\n",
       "      <td>nytimes.com</td>\n",
       "    </tr>\n",
       "  </tbody>\n",
       "</table>\n",
       "</div>"
      ],
      "text/plain": [
       "  interaction_type              item_id          producer_id item_type  \\\n",
       "1  content_present -4110354420726924665  4340306774493623681      HTML   \n",
       "\n",
       "                                                                                              item_url  \\\n",
       "1  http://www.nytimes.com/2016/03/28/business/dealbook/ethereum-a-virtual-currency-enables-transact...   \n",
       "\n",
       "                                                                     title  \\\n",
       "1  Ethereum, a Virtual Currency, Enables Transactions That Rival Bitcoin's   \n",
       "\n",
       "                                                                                      text_description  \\\n",
       "1  All of this work is still very early. The first full public version of the Ethereum software was...   \n",
       "\n",
       "   item_domain  \n",
       "1  nytimes.com  "
      ]
     },
     "execution_count": 83,
     "metadata": {},
     "output_type": "execute_result"
    }
   ],
   "source": [
    "seearched_item"
   ]
  },
  {
   "cell_type": "code",
   "execution_count": 84,
   "metadata": {},
   "outputs": [],
   "source": [
    "# For hybrid \n",
    "content_all_df = pd.DataFrame(content_all)\n",
    "\n",
    "content_all_df = content_all_df.reset_index()\n",
    "\n",
    "content_all_df.columns = ['item_id', 'score']\n",
    "\n",
    "merged_content_all = pd.merge( content_all_df,ptfmContAfterEDA, on='item_id', how='left')\n",
    "\n"
   ]
  },
  {
   "cell_type": "code",
   "execution_count": 85,
   "metadata": {},
   "outputs": [
    {
     "name": "stdout",
     "output_type": "stream",
     "text": [
      "<class 'pandas.core.frame.DataFrame'>\n",
      "Int64Index: 2211 entries, 0 to 2210\n",
      "Data columns (total 9 columns):\n",
      " #   Column            Non-Null Count  Dtype  \n",
      "---  ------            --------------  -----  \n",
      " 0   item_id           2211 non-null   int64  \n",
      " 1   score             2211 non-null   float64\n",
      " 2   interaction_type  2211 non-null   object \n",
      " 3   producer_id       2211 non-null   int64  \n",
      " 4   item_type         2211 non-null   object \n",
      " 5   item_url          2211 non-null   object \n",
      " 6   title             2211 non-null   object \n",
      " 7   text_description  2211 non-null   object \n",
      " 8   item_domain       2211 non-null   object \n",
      "dtypes: float64(1), int64(2), object(6)\n",
      "memory usage: 172.7+ KB\n"
     ]
    }
   ],
   "source": [
    "merged_content_all.info()"
   ]
  },
  {
   "cell_type": "markdown",
   "metadata": {},
   "source": [
    "# -------------------- Collaborative Filtering --------------------"
   ]
  },
  {
   "cell_type": "markdown",
   "metadata": {},
   "source": [
    "## -------------------- Memory-based collaborative filtering --------------------"
   ]
  },
  {
   "cell_type": "markdown",
   "metadata": {},
   "source": [
    "###  -------------------- User-based collaborative filtering --------------------"
   ]
  },
  {
   "cell_type": "code",
   "execution_count": 86,
   "metadata": {},
   "outputs": [],
   "source": [
    "# This is based on the simple premise that what a user is more likely to prefer is highly correlated to what the \n",
    "# other users similar to him/her have liked in the past.\n",
    "\n",
    "# To summarise the algorithm of user-based filters:\n",
    "\n",
    "#     Find users similar to the user u (called the peer users) for whom predictions are to be made using any similarity measure like the correlation coefficient.\n",
    "#     For each item m that the user has not seen, calculate the weighted average of the ratings given to m by the peer users.\n",
    "#     Recommend the top n movies to the user u."
   ]
  },
  {
   "cell_type": "code",
   "execution_count": 87,
   "metadata": {},
   "outputs": [
    {
     "data": {
      "text/html": [
       "<div>\n",
       "<style scoped>\n",
       "    .dataframe tbody tr th:only-of-type {\n",
       "        vertical-align: middle;\n",
       "    }\n",
       "\n",
       "    .dataframe tbody tr th {\n",
       "        vertical-align: top;\n",
       "    }\n",
       "\n",
       "    .dataframe thead th {\n",
       "        text-align: right;\n",
       "    }\n",
       "</style>\n",
       "<table border=\"1\" class=\"dataframe\">\n",
       "  <thead>\n",
       "    <tr style=\"text-align: right;\">\n",
       "      <th></th>\n",
       "      <th>item_id</th>\n",
       "      <th>consumer_id</th>\n",
       "      <th>rating</th>\n",
       "      <th>consumer_code</th>\n",
       "      <th>item_code</th>\n",
       "    </tr>\n",
       "  </thead>\n",
       "  <tbody>\n",
       "    <tr>\n",
       "      <th>0</th>\n",
       "      <td>-3499919498720038879</td>\n",
       "      <td>-8845298781299428018</td>\n",
       "      <td>1.0</td>\n",
       "      <td>33</td>\n",
       "      <td>933</td>\n",
       "    </tr>\n",
       "    <tr>\n",
       "      <th>1</th>\n",
       "      <td>8890720798209849691</td>\n",
       "      <td>-1032019229384696495</td>\n",
       "      <td>1.0</td>\n",
       "      <td>831</td>\n",
       "      <td>2933</td>\n",
       "    </tr>\n",
       "    <tr>\n",
       "      <th>2</th>\n",
       "      <td>310515487419366995</td>\n",
       "      <td>-1130272294246983140</td>\n",
       "      <td>1.0</td>\n",
       "      <td>826</td>\n",
       "      <td>1537</td>\n",
       "    </tr>\n",
       "    <tr>\n",
       "      <th>3</th>\n",
       "      <td>310515487419366995</td>\n",
       "      <td>344280948527967603</td>\n",
       "      <td>5.0</td>\n",
       "      <td>974</td>\n",
       "      <td>1537</td>\n",
       "    </tr>\n",
       "    <tr>\n",
       "      <th>4</th>\n",
       "      <td>-7820640624231356730</td>\n",
       "      <td>-445337111692715325</td>\n",
       "      <td>1.0</td>\n",
       "      <td>887</td>\n",
       "      <td>246</td>\n",
       "    </tr>\n",
       "  </tbody>\n",
       "</table>\n",
       "</div>"
      ],
      "text/plain": [
       "               item_id          consumer_id  rating  consumer_code  item_code\n",
       "0 -3499919498720038879 -8845298781299428018     1.0             33        933\n",
       "1  8890720798209849691 -1032019229384696495     1.0            831       2933\n",
       "2   310515487419366995 -1130272294246983140     1.0            826       1537\n",
       "3   310515487419366995   344280948527967603     5.0            974       1537\n",
       "4 -7820640624231356730  -445337111692715325     1.0            887        246"
      ]
     },
     "execution_count": 87,
     "metadata": {},
     "output_type": "execute_result"
    }
   ],
   "source": [
    "# get the data frame previously created \n",
    "consuTrxForCFilter.head()"
   ]
  },
  {
   "cell_type": "code",
   "execution_count": 88,
   "metadata": {},
   "outputs": [],
   "source": [
    "# lets remove item_id and consumer_id for now\n",
    "consuTrxFinal = consuTrxForCFilter.drop(['item_id','consumer_id'],axis=1)"
   ]
  },
  {
   "cell_type": "code",
   "execution_count": 89,
   "metadata": {},
   "outputs": [
    {
     "data": {
      "text/html": [
       "<div>\n",
       "<style scoped>\n",
       "    .dataframe tbody tr th:only-of-type {\n",
       "        vertical-align: middle;\n",
       "    }\n",
       "\n",
       "    .dataframe tbody tr th {\n",
       "        vertical-align: top;\n",
       "    }\n",
       "\n",
       "    .dataframe thead th {\n",
       "        text-align: right;\n",
       "    }\n",
       "</style>\n",
       "<table border=\"1\" class=\"dataframe\">\n",
       "  <thead>\n",
       "    <tr style=\"text-align: right;\">\n",
       "      <th></th>\n",
       "      <th>rating</th>\n",
       "      <th>consumer_code</th>\n",
       "      <th>item_code</th>\n",
       "    </tr>\n",
       "  </thead>\n",
       "  <tbody>\n",
       "    <tr>\n",
       "      <th>0</th>\n",
       "      <td>1.0</td>\n",
       "      <td>33</td>\n",
       "      <td>933</td>\n",
       "    </tr>\n",
       "    <tr>\n",
       "      <th>1</th>\n",
       "      <td>1.0</td>\n",
       "      <td>831</td>\n",
       "      <td>2933</td>\n",
       "    </tr>\n",
       "    <tr>\n",
       "      <th>2</th>\n",
       "      <td>1.0</td>\n",
       "      <td>826</td>\n",
       "      <td>1537</td>\n",
       "    </tr>\n",
       "    <tr>\n",
       "      <th>3</th>\n",
       "      <td>5.0</td>\n",
       "      <td>974</td>\n",
       "      <td>1537</td>\n",
       "    </tr>\n",
       "    <tr>\n",
       "      <th>4</th>\n",
       "      <td>1.0</td>\n",
       "      <td>887</td>\n",
       "      <td>246</td>\n",
       "    </tr>\n",
       "  </tbody>\n",
       "</table>\n",
       "</div>"
      ],
      "text/plain": [
       "   rating  consumer_code  item_code\n",
       "0     1.0             33        933\n",
       "1     1.0            831       2933\n",
       "2     1.0            826       1537\n",
       "3     5.0            974       1537\n",
       "4     1.0            887        246"
      ]
     },
     "execution_count": 89,
     "metadata": {},
     "output_type": "execute_result"
    }
   ],
   "source": [
    "consuTrxFinal.head()\n"
   ]
  },
  {
   "cell_type": "code",
   "execution_count": 90,
   "metadata": {},
   "outputs": [
    {
     "name": "stdout",
     "output_type": "stream",
     "text": [
      "<class 'pandas.core.frame.DataFrame'>\n",
      "RangeIndex: 72312 entries, 0 to 72311\n",
      "Data columns (total 3 columns):\n",
      " #   Column         Non-Null Count  Dtype  \n",
      "---  ------         --------------  -----  \n",
      " 0   rating         72312 non-null  float64\n",
      " 1   consumer_code  72312 non-null  int16  \n",
      " 2   item_code      72312 non-null  int16  \n",
      "dtypes: float64(1), int16(2)\n",
      "memory usage: 847.5 KB\n"
     ]
    }
   ],
   "source": [
    "consuTrxFinal.info()"
   ]
  },
  {
   "cell_type": "code",
   "execution_count": 91,
   "metadata": {},
   "outputs": [
    {
     "data": {
      "text/html": [
       "<div>\n",
       "<style scoped>\n",
       "    .dataframe tbody tr th:only-of-type {\n",
       "        vertical-align: middle;\n",
       "    }\n",
       "\n",
       "    .dataframe tbody tr th {\n",
       "        vertical-align: top;\n",
       "    }\n",
       "\n",
       "    .dataframe thead th {\n",
       "        text-align: right;\n",
       "    }\n",
       "</style>\n",
       "<table border=\"1\" class=\"dataframe\">\n",
       "  <thead>\n",
       "    <tr style=\"text-align: right;\">\n",
       "      <th></th>\n",
       "      <th>rating</th>\n",
       "      <th>consumer_code</th>\n",
       "      <th>item_code</th>\n",
       "    </tr>\n",
       "  </thead>\n",
       "  <tbody>\n",
       "    <tr>\n",
       "      <th>15851</th>\n",
       "      <td>1.0</td>\n",
       "      <td>2</td>\n",
       "      <td>2715</td>\n",
       "    </tr>\n",
       "    <tr>\n",
       "      <th>15852</th>\n",
       "      <td>1.0</td>\n",
       "      <td>2</td>\n",
       "      <td>2715</td>\n",
       "    </tr>\n",
       "    <tr>\n",
       "      <th>15883</th>\n",
       "      <td>2.0</td>\n",
       "      <td>2</td>\n",
       "      <td>2715</td>\n",
       "    </tr>\n",
       "    <tr>\n",
       "      <th>18109</th>\n",
       "      <td>1.0</td>\n",
       "      <td>2</td>\n",
       "      <td>98</td>\n",
       "    </tr>\n",
       "    <tr>\n",
       "      <th>18120</th>\n",
       "      <td>2.0</td>\n",
       "      <td>2</td>\n",
       "      <td>98</td>\n",
       "    </tr>\n",
       "    <tr>\n",
       "      <th>23662</th>\n",
       "      <td>1.0</td>\n",
       "      <td>2</td>\n",
       "      <td>1322</td>\n",
       "    </tr>\n",
       "    <tr>\n",
       "      <th>33149</th>\n",
       "      <td>2.0</td>\n",
       "      <td>2</td>\n",
       "      <td>785</td>\n",
       "    </tr>\n",
       "    <tr>\n",
       "      <th>34093</th>\n",
       "      <td>2.0</td>\n",
       "      <td>2</td>\n",
       "      <td>1</td>\n",
       "    </tr>\n",
       "    <tr>\n",
       "      <th>35806</th>\n",
       "      <td>1.0</td>\n",
       "      <td>2</td>\n",
       "      <td>785</td>\n",
       "    </tr>\n",
       "    <tr>\n",
       "      <th>37385</th>\n",
       "      <td>1.0</td>\n",
       "      <td>2</td>\n",
       "      <td>1</td>\n",
       "    </tr>\n",
       "    <tr>\n",
       "      <th>41636</th>\n",
       "      <td>1.0</td>\n",
       "      <td>2</td>\n",
       "      <td>1268</td>\n",
       "    </tr>\n",
       "    <tr>\n",
       "      <th>70883</th>\n",
       "      <td>1.0</td>\n",
       "      <td>2</td>\n",
       "      <td>847</td>\n",
       "    </tr>\n",
       "    <tr>\n",
       "      <th>70885</th>\n",
       "      <td>3.0</td>\n",
       "      <td>2</td>\n",
       "      <td>847</td>\n",
       "    </tr>\n",
       "    <tr>\n",
       "      <th>70887</th>\n",
       "      <td>2.0</td>\n",
       "      <td>2</td>\n",
       "      <td>847</td>\n",
       "    </tr>\n",
       "  </tbody>\n",
       "</table>\n",
       "</div>"
      ],
      "text/plain": [
       "       rating  consumer_code  item_code\n",
       "15851     1.0              2       2715\n",
       "15852     1.0              2       2715\n",
       "15883     2.0              2       2715\n",
       "18109     1.0              2         98\n",
       "18120     2.0              2         98\n",
       "23662     1.0              2       1322\n",
       "33149     2.0              2        785\n",
       "34093     2.0              2          1\n",
       "35806     1.0              2        785\n",
       "37385     1.0              2          1\n",
       "41636     1.0              2       1268\n",
       "70883     1.0              2        847\n",
       "70885     3.0              2        847\n",
       "70887     2.0              2        847"
      ]
     },
     "execution_count": 91,
     "metadata": {},
     "output_type": "execute_result"
    }
   ],
   "source": [
    "# check ratings for user\n",
    "consuTrxFinal[(consuTrxFinal['consumer_code']==2)]"
   ]
  },
  {
   "cell_type": "code",
   "execution_count": 92,
   "metadata": {},
   "outputs": [
    {
     "data": {
      "text/html": [
       "<div>\n",
       "<style scoped>\n",
       "    .dataframe tbody tr th:only-of-type {\n",
       "        vertical-align: middle;\n",
       "    }\n",
       "\n",
       "    .dataframe tbody tr th {\n",
       "        vertical-align: top;\n",
       "    }\n",
       "\n",
       "    .dataframe thead th {\n",
       "        text-align: right;\n",
       "    }\n",
       "</style>\n",
       "<table border=\"1\" class=\"dataframe\">\n",
       "  <thead>\n",
       "    <tr style=\"text-align: right;\">\n",
       "      <th></th>\n",
       "      <th>rating</th>\n",
       "      <th>consumer_code</th>\n",
       "      <th>item_code</th>\n",
       "    </tr>\n",
       "  </thead>\n",
       "  <tbody>\n",
       "    <tr>\n",
       "      <th>34093</th>\n",
       "      <td>2.0</td>\n",
       "      <td>2</td>\n",
       "      <td>1</td>\n",
       "    </tr>\n",
       "    <tr>\n",
       "      <th>37385</th>\n",
       "      <td>1.0</td>\n",
       "      <td>2</td>\n",
       "      <td>1</td>\n",
       "    </tr>\n",
       "  </tbody>\n",
       "</table>\n",
       "</div>"
      ],
      "text/plain": [
       "       rating  consumer_code  item_code\n",
       "34093     2.0              2          1\n",
       "37385     1.0              2          1"
      ]
     },
     "execution_count": 92,
     "metadata": {},
     "output_type": "execute_result"
    }
   ],
   "source": [
    "consuTrxFinal[(consuTrxFinal['consumer_code']==2) & (consuTrxFinal['item_code']==1)]"
   ]
  },
  {
   "cell_type": "code",
   "execution_count": 93,
   "metadata": {},
   "outputs": [],
   "source": [
    "# user must have intracted and also liked this item. We should provide the higest rating for user-item combination \n",
    "consuTrxGrouped = consuTrxFinal.groupby(['consumer_code','item_code'])\n",
    "\n",
    "#get maximum value of rating for each combination\n",
    "consuTrx_maxRating = consuTrxGrouped.max()\n",
    "\n",
    "#consuTrx_maxRating\n",
    "\n",
    "#resert the index \n",
    "consuTrx_maxRating = consuTrx_maxRating.reset_index()"
   ]
  },
  {
   "cell_type": "code",
   "execution_count": 94,
   "metadata": {},
   "outputs": [
    {
     "data": {
      "text/html": [
       "<div>\n",
       "<style scoped>\n",
       "    .dataframe tbody tr th:only-of-type {\n",
       "        vertical-align: middle;\n",
       "    }\n",
       "\n",
       "    .dataframe tbody tr th {\n",
       "        vertical-align: top;\n",
       "    }\n",
       "\n",
       "    .dataframe thead th {\n",
       "        text-align: right;\n",
       "    }\n",
       "</style>\n",
       "<table border=\"1\" class=\"dataframe\">\n",
       "  <thead>\n",
       "    <tr style=\"text-align: right;\">\n",
       "      <th></th>\n",
       "      <th>consumer_code</th>\n",
       "      <th>item_code</th>\n",
       "      <th>rating</th>\n",
       "    </tr>\n",
       "  </thead>\n",
       "  <tbody>\n",
       "    <tr>\n",
       "      <th>0</th>\n",
       "      <td>0</td>\n",
       "      <td>65</td>\n",
       "      <td>1.0</td>\n",
       "    </tr>\n",
       "    <tr>\n",
       "      <th>1</th>\n",
       "      <td>0</td>\n",
       "      <td>160</td>\n",
       "      <td>1.0</td>\n",
       "    </tr>\n",
       "    <tr>\n",
       "      <th>2</th>\n",
       "      <td>0</td>\n",
       "      <td>188</td>\n",
       "      <td>1.0</td>\n",
       "    </tr>\n",
       "    <tr>\n",
       "      <th>3</th>\n",
       "      <td>0</td>\n",
       "      <td>196</td>\n",
       "      <td>1.0</td>\n",
       "    </tr>\n",
       "    <tr>\n",
       "      <th>4</th>\n",
       "      <td>0</td>\n",
       "      <td>314</td>\n",
       "      <td>1.0</td>\n",
       "    </tr>\n",
       "    <tr>\n",
       "      <th>...</th>\n",
       "      <td>...</td>\n",
       "      <td>...</td>\n",
       "      <td>...</td>\n",
       "    </tr>\n",
       "    <tr>\n",
       "      <th>40705</th>\n",
       "      <td>1894</td>\n",
       "      <td>2861</td>\n",
       "      <td>5.0</td>\n",
       "    </tr>\n",
       "    <tr>\n",
       "      <th>40706</th>\n",
       "      <td>1894</td>\n",
       "      <td>2867</td>\n",
       "      <td>1.0</td>\n",
       "    </tr>\n",
       "    <tr>\n",
       "      <th>40707</th>\n",
       "      <td>1894</td>\n",
       "      <td>2922</td>\n",
       "      <td>1.0</td>\n",
       "    </tr>\n",
       "    <tr>\n",
       "      <th>40708</th>\n",
       "      <td>1894</td>\n",
       "      <td>2925</td>\n",
       "      <td>1.0</td>\n",
       "    </tr>\n",
       "    <tr>\n",
       "      <th>40709</th>\n",
       "      <td>1894</td>\n",
       "      <td>2981</td>\n",
       "      <td>1.0</td>\n",
       "    </tr>\n",
       "  </tbody>\n",
       "</table>\n",
       "<p>40710 rows × 3 columns</p>\n",
       "</div>"
      ],
      "text/plain": [
       "       consumer_code  item_code  rating\n",
       "0                  0         65     1.0\n",
       "1                  0        160     1.0\n",
       "2                  0        188     1.0\n",
       "3                  0        196     1.0\n",
       "4                  0        314     1.0\n",
       "...              ...        ...     ...\n",
       "40705           1894       2861     5.0\n",
       "40706           1894       2867     1.0\n",
       "40707           1894       2922     1.0\n",
       "40708           1894       2925     1.0\n",
       "40709           1894       2981     1.0\n",
       "\n",
       "[40710 rows x 3 columns]"
      ]
     },
     "execution_count": 94,
     "metadata": {},
     "output_type": "execute_result"
    }
   ],
   "source": [
    "consuTrx_maxRating"
   ]
  },
  {
   "cell_type": "code",
   "execution_count": 95,
   "metadata": {},
   "outputs": [
    {
     "data": {
      "text/html": [
       "<div>\n",
       "<style scoped>\n",
       "    .dataframe tbody tr th:only-of-type {\n",
       "        vertical-align: middle;\n",
       "    }\n",
       "\n",
       "    .dataframe tbody tr th {\n",
       "        vertical-align: top;\n",
       "    }\n",
       "\n",
       "    .dataframe thead th {\n",
       "        text-align: right;\n",
       "    }\n",
       "</style>\n",
       "<table border=\"1\" class=\"dataframe\">\n",
       "  <thead>\n",
       "    <tr style=\"text-align: right;\">\n",
       "      <th></th>\n",
       "      <th>consumer_code</th>\n",
       "      <th>item_code</th>\n",
       "      <th>rating</th>\n",
       "    </tr>\n",
       "  </thead>\n",
       "  <tbody>\n",
       "    <tr>\n",
       "      <th>48</th>\n",
       "      <td>2</td>\n",
       "      <td>1</td>\n",
       "      <td>2.0</td>\n",
       "    </tr>\n",
       "  </tbody>\n",
       "</table>\n",
       "</div>"
      ],
      "text/plain": [
       "    consumer_code  item_code  rating\n",
       "48              2          1     2.0"
      ]
     },
     "execution_count": 95,
     "metadata": {},
     "output_type": "execute_result"
    }
   ],
   "source": [
    "# now check if we have correect rating \n",
    "consuTrx_maxRating[(consuTrx_maxRating['consumer_code']==2) & (consuTrx_maxRating['item_code']==1)]"
   ]
  },
  {
   "cell_type": "code",
   "execution_count": 96,
   "metadata": {},
   "outputs": [
    {
     "name": "stdout",
     "output_type": "stream",
     "text": [
      "<class 'pandas.core.frame.DataFrame'>\n",
      "RangeIndex: 40710 entries, 0 to 40709\n",
      "Data columns (total 3 columns):\n",
      " #   Column         Non-Null Count  Dtype  \n",
      "---  ------         --------------  -----  \n",
      " 0   consumer_code  40710 non-null  int64  \n",
      " 1   item_code      40710 non-null  int64  \n",
      " 2   rating         40710 non-null  float64\n",
      "dtypes: float64(1), int64(2)\n",
      "memory usage: 954.3 KB\n"
     ]
    }
   ],
   "source": [
    "consuTrx_maxRating.info()"
   ]
  },
  {
   "cell_type": "code",
   "execution_count": 97,
   "metadata": {},
   "outputs": [],
   "source": [
    "num_users = consuTrx_maxRating.consumer_code.nunique()\n",
    "num_items = consuTrx_maxRating.item_code.nunique()"
   ]
  },
  {
   "cell_type": "code",
   "execution_count": 98,
   "metadata": {},
   "outputs": [
    {
     "data": {
      "text/plain": [
       "1895"
      ]
     },
     "execution_count": 98,
     "metadata": {},
     "output_type": "execute_result"
    }
   ],
   "source": [
    "num_users"
   ]
  },
  {
   "cell_type": "code",
   "execution_count": 99,
   "metadata": {},
   "outputs": [
    {
     "data": {
      "text/plain": [
       "2987"
      ]
     },
     "execution_count": 99,
     "metadata": {},
     "output_type": "execute_result"
    }
   ],
   "source": [
    "num_items"
   ]
  },
  {
   "cell_type": "code",
   "execution_count": 100,
   "metadata": {},
   "outputs": [
    {
     "data": {
      "text/html": [
       "<div>\n",
       "<style scoped>\n",
       "    .dataframe tbody tr th:only-of-type {\n",
       "        vertical-align: middle;\n",
       "    }\n",
       "\n",
       "    .dataframe tbody tr th {\n",
       "        vertical-align: top;\n",
       "    }\n",
       "\n",
       "    .dataframe thead th {\n",
       "        text-align: right;\n",
       "    }\n",
       "</style>\n",
       "<table border=\"1\" class=\"dataframe\">\n",
       "  <thead>\n",
       "    <tr style=\"text-align: right;\">\n",
       "      <th></th>\n",
       "      <th>consumer_code</th>\n",
       "      <th>item_code</th>\n",
       "      <th>rating</th>\n",
       "    </tr>\n",
       "  </thead>\n",
       "  <tbody>\n",
       "    <tr>\n",
       "      <th>29711</th>\n",
       "      <td>1323</td>\n",
       "      <td>7</td>\n",
       "      <td>2.0</td>\n",
       "    </tr>\n",
       "    <tr>\n",
       "      <th>29712</th>\n",
       "      <td>1323</td>\n",
       "      <td>18</td>\n",
       "      <td>5.0</td>\n",
       "    </tr>\n",
       "    <tr>\n",
       "      <th>29713</th>\n",
       "      <td>1323</td>\n",
       "      <td>47</td>\n",
       "      <td>1.0</td>\n",
       "    </tr>\n",
       "    <tr>\n",
       "      <th>29714</th>\n",
       "      <td>1323</td>\n",
       "      <td>61</td>\n",
       "      <td>1.0</td>\n",
       "    </tr>\n",
       "    <tr>\n",
       "      <th>29715</th>\n",
       "      <td>1323</td>\n",
       "      <td>64</td>\n",
       "      <td>1.0</td>\n",
       "    </tr>\n",
       "    <tr>\n",
       "      <th>...</th>\n",
       "      <td>...</td>\n",
       "      <td>...</td>\n",
       "      <td>...</td>\n",
       "    </tr>\n",
       "    <tr>\n",
       "      <th>30045</th>\n",
       "      <td>1323</td>\n",
       "      <td>2951</td>\n",
       "      <td>2.0</td>\n",
       "    </tr>\n",
       "    <tr>\n",
       "      <th>30046</th>\n",
       "      <td>1323</td>\n",
       "      <td>2955</td>\n",
       "      <td>1.0</td>\n",
       "    </tr>\n",
       "    <tr>\n",
       "      <th>30047</th>\n",
       "      <td>1323</td>\n",
       "      <td>2959</td>\n",
       "      <td>1.0</td>\n",
       "    </tr>\n",
       "    <tr>\n",
       "      <th>30048</th>\n",
       "      <td>1323</td>\n",
       "      <td>2960</td>\n",
       "      <td>1.0</td>\n",
       "    </tr>\n",
       "    <tr>\n",
       "      <th>30049</th>\n",
       "      <td>1323</td>\n",
       "      <td>2970</td>\n",
       "      <td>2.0</td>\n",
       "    </tr>\n",
       "  </tbody>\n",
       "</table>\n",
       "<p>339 rows × 3 columns</p>\n",
       "</div>"
      ],
      "text/plain": [
       "       consumer_code  item_code  rating\n",
       "29711           1323          7     2.0\n",
       "29712           1323         18     5.0\n",
       "29713           1323         47     1.0\n",
       "29714           1323         61     1.0\n",
       "29715           1323         64     1.0\n",
       "...              ...        ...     ...\n",
       "30045           1323       2951     2.0\n",
       "30046           1323       2955     1.0\n",
       "30047           1323       2959     1.0\n",
       "30048           1323       2960     1.0\n",
       "30049           1323       2970     2.0\n",
       "\n",
       "[339 rows x 3 columns]"
      ]
     },
     "execution_count": 100,
     "metadata": {},
     "output_type": "execute_result"
    }
   ],
   "source": [
    "consuTrx_maxRating[consuTrx_maxRating['consumer_code']==1323]"
   ]
  },
  {
   "cell_type": "markdown",
   "metadata": {},
   "source": [
    "####  ------------------------------   Dividing the dataset into train and test --------------------"
   ]
  },
  {
   "cell_type": "code",
   "execution_count": 101,
   "metadata": {},
   "outputs": [],
   "source": [
    "from sklearn.model_selection import train_test_split\n",
    "train, test = train_test_split(consuTrx_maxRating, test_size=0.30, random_state=31)"
   ]
  },
  {
   "cell_type": "code",
   "execution_count": 102,
   "metadata": {},
   "outputs": [
    {
     "name": "stdout",
     "output_type": "stream",
     "text": [
      "(28497, 3)\n",
      "(12213, 3)\n"
     ]
    }
   ],
   "source": [
    "print(train.shape)\n",
    "print(test.shape)"
   ]
  },
  {
   "cell_type": "code",
   "execution_count": 103,
   "metadata": {},
   "outputs": [
    {
     "name": "stdout",
     "output_type": "stream",
     "text": [
      "<class 'pandas.core.frame.DataFrame'>\n",
      "Int64Index: 28497 entries, 29746 to 26640\n",
      "Data columns (total 3 columns):\n",
      " #   Column         Non-Null Count  Dtype  \n",
      "---  ------         --------------  -----  \n",
      " 0   consumer_code  28497 non-null  int64  \n",
      " 1   item_code      28497 non-null  int64  \n",
      " 2   rating         28497 non-null  float64\n",
      "dtypes: float64(1), int64(2)\n",
      "memory usage: 890.5 KB\n"
     ]
    }
   ],
   "source": [
    "train.info()"
   ]
  },
  {
   "cell_type": "code",
   "execution_count": 104,
   "metadata": {},
   "outputs": [
    {
     "data": {
      "text/html": [
       "<div>\n",
       "<style scoped>\n",
       "    .dataframe tbody tr th:only-of-type {\n",
       "        vertical-align: middle;\n",
       "    }\n",
       "\n",
       "    .dataframe tbody tr th {\n",
       "        vertical-align: top;\n",
       "    }\n",
       "\n",
       "    .dataframe thead th {\n",
       "        text-align: right;\n",
       "    }\n",
       "</style>\n",
       "<table border=\"1\" class=\"dataframe\">\n",
       "  <thead>\n",
       "    <tr style=\"text-align: right;\">\n",
       "      <th></th>\n",
       "      <th>consumer_code</th>\n",
       "      <th>item_code</th>\n",
       "      <th>rating</th>\n",
       "    </tr>\n",
       "  </thead>\n",
       "  <tbody>\n",
       "    <tr>\n",
       "      <th>29746</th>\n",
       "      <td>1323</td>\n",
       "      <td>298</td>\n",
       "      <td>1.0</td>\n",
       "    </tr>\n",
       "    <tr>\n",
       "      <th>18802</th>\n",
       "      <td>861</td>\n",
       "      <td>1403</td>\n",
       "      <td>1.0</td>\n",
       "    </tr>\n",
       "    <tr>\n",
       "      <th>14516</th>\n",
       "      <td>708</td>\n",
       "      <td>2189</td>\n",
       "      <td>1.0</td>\n",
       "    </tr>\n",
       "    <tr>\n",
       "      <th>5026</th>\n",
       "      <td>226</td>\n",
       "      <td>2001</td>\n",
       "      <td>1.0</td>\n",
       "    </tr>\n",
       "    <tr>\n",
       "      <th>32796</th>\n",
       "      <td>1425</td>\n",
       "      <td>1058</td>\n",
       "      <td>1.0</td>\n",
       "    </tr>\n",
       "  </tbody>\n",
       "</table>\n",
       "</div>"
      ],
      "text/plain": [
       "       consumer_code  item_code  rating\n",
       "29746           1323        298     1.0\n",
       "18802            861       1403     1.0\n",
       "14516            708       2189     1.0\n",
       "5026             226       2001     1.0\n",
       "32796           1425       1058     1.0"
      ]
     },
     "execution_count": 104,
     "metadata": {},
     "output_type": "execute_result"
    }
   ],
   "source": [
    "train.head()"
   ]
  },
  {
   "cell_type": "code",
   "execution_count": 105,
   "metadata": {},
   "outputs": [
    {
     "name": "stdout",
     "output_type": "stream",
     "text": [
      "<class 'pandas.core.frame.DataFrame'>\n",
      "Int64Index: 12213 entries, 32395 to 37292\n",
      "Data columns (total 3 columns):\n",
      " #   Column         Non-Null Count  Dtype  \n",
      "---  ------         --------------  -----  \n",
      " 0   consumer_code  12213 non-null  int64  \n",
      " 1   item_code      12213 non-null  int64  \n",
      " 2   rating         12213 non-null  float64\n",
      "dtypes: float64(1), int64(2)\n",
      "memory usage: 381.7 KB\n"
     ]
    }
   ],
   "source": [
    "test.info()"
   ]
  },
  {
   "cell_type": "markdown",
   "metadata": {},
   "source": [
    "#### -------------------- Create empty user*item full matrix --------------------"
   ]
  },
  {
   "cell_type": "code",
   "execution_count": 106,
   "metadata": {},
   "outputs": [],
   "source": [
    "data_matrix_full = np.zeros((num_users, num_items))"
   ]
  },
  {
   "cell_type": "code",
   "execution_count": 107,
   "metadata": {},
   "outputs": [
    {
     "data": {
      "text/plain": [
       "array([[0., 0., 0., ..., 0., 0., 0.],\n",
       "       [0., 0., 0., ..., 0., 0., 0.],\n",
       "       [0., 0., 0., ..., 0., 0., 0.],\n",
       "       ...,\n",
       "       [0., 0., 0., ..., 0., 0., 0.],\n",
       "       [0., 0., 0., ..., 0., 0., 0.],\n",
       "       [0., 0., 0., ..., 0., 0., 0.]])"
      ]
     },
     "execution_count": 107,
     "metadata": {},
     "output_type": "execute_result"
    }
   ],
   "source": [
    "data_matrix_full"
   ]
  },
  {
   "cell_type": "markdown",
   "metadata": {},
   "source": [
    "#### --------------------    Populate values in user*item full matrix    --------------------"
   ]
  },
  {
   "cell_type": "code",
   "execution_count": 108,
   "metadata": {},
   "outputs": [],
   "source": [
    "\n",
    "# since we already have 0 based consumer_code and item_code\n",
    "for line in consuTrx_maxRating.itertuples():\n",
    "    data_matrix_full[line[1], line[2]] = line[3]\n"
   ]
  },
  {
   "cell_type": "code",
   "execution_count": 109,
   "metadata": {},
   "outputs": [
    {
     "data": {
      "text/plain": [
       "array([[0., 0., 0., ..., 0., 0., 0.],\n",
       "       [0., 0., 0., ..., 0., 0., 0.],\n",
       "       [0., 2., 0., ..., 0., 0., 0.],\n",
       "       ...,\n",
       "       [0., 0., 0., ..., 0., 0., 0.],\n",
       "       [0., 0., 0., ..., 0., 0., 0.],\n",
       "       [0., 0., 0., ..., 0., 0., 0.]])"
      ]
     },
     "execution_count": 109,
     "metadata": {},
     "output_type": "execute_result"
    }
   ],
   "source": [
    "data_matrix_full"
   ]
  },
  {
   "cell_type": "code",
   "execution_count": 110,
   "metadata": {},
   "outputs": [
    {
     "data": {
      "text/plain": [
       "2.0"
      ]
     },
     "execution_count": 110,
     "metadata": {},
     "output_type": "execute_result"
    }
   ],
   "source": [
    "# check if matrix is correctly created \n",
    "data_matrix_full[2][1]"
   ]
  },
  {
   "cell_type": "markdown",
   "metadata": {},
   "source": [
    "####  -------------------- Create user*item matrix for train data ------------------------"
   ]
  },
  {
   "cell_type": "code",
   "execution_count": 111,
   "metadata": {},
   "outputs": [],
   "source": [
    "data_matrix_train = np.zeros((num_users, num_items))"
   ]
  },
  {
   "cell_type": "code",
   "execution_count": 112,
   "metadata": {},
   "outputs": [
    {
     "data": {
      "text/plain": [
       "array([[0., 0., 0., ..., 0., 0., 0.],\n",
       "       [0., 0., 0., ..., 0., 0., 0.],\n",
       "       [0., 0., 0., ..., 0., 0., 0.],\n",
       "       ...,\n",
       "       [0., 0., 0., ..., 0., 0., 0.],\n",
       "       [0., 0., 0., ..., 0., 0., 0.],\n",
       "       [0., 0., 0., ..., 0., 0., 0.]])"
      ]
     },
     "execution_count": 112,
     "metadata": {},
     "output_type": "execute_result"
    }
   ],
   "source": [
    "data_matrix_train"
   ]
  },
  {
   "cell_type": "code",
   "execution_count": 113,
   "metadata": {},
   "outputs": [
    {
     "data": {
      "text/plain": [
       "(1895, 2987)"
      ]
     },
     "execution_count": 113,
     "metadata": {},
     "output_type": "execute_result"
    }
   ],
   "source": [
    "data_matrix_train.shape  "
   ]
  },
  {
   "cell_type": "markdown",
   "metadata": {},
   "source": [
    "#### -------------------- Populate values in user*item train matrix --------------------"
   ]
  },
  {
   "cell_type": "code",
   "execution_count": 114,
   "metadata": {},
   "outputs": [],
   "source": [
    "for line in train.itertuples():\n",
    "    data_matrix_train[line[1], line[2]] = line[3]"
   ]
  },
  {
   "cell_type": "code",
   "execution_count": 115,
   "metadata": {},
   "outputs": [
    {
     "data": {
      "text/plain": [
       "array([[0., 0., 0., ..., 0., 0., 0.],\n",
       "       [0., 0., 0., ..., 0., 0., 0.],\n",
       "       [0., 0., 0., ..., 0., 0., 0.],\n",
       "       ...,\n",
       "       [0., 0., 0., ..., 0., 0., 0.],\n",
       "       [0., 0., 0., ..., 0., 0., 0.],\n",
       "       [0., 0., 0., ..., 0., 0., 0.]])"
      ]
     },
     "execution_count": 115,
     "metadata": {},
     "output_type": "execute_result"
    }
   ],
   "source": [
    "data_matrix_train"
   ]
  },
  {
   "cell_type": "code",
   "execution_count": 116,
   "metadata": {},
   "outputs": [
    {
     "data": {
      "text/plain": [
       "1.0"
      ]
     },
     "execution_count": 116,
     "metadata": {},
     "output_type": "execute_result"
    }
   ],
   "source": [
    "# check if matrix is correctly created \n",
    "data_matrix_train[1323][298]"
   ]
  },
  {
   "cell_type": "markdown",
   "metadata": {},
   "source": [
    "####  -------------------------------- Create user*item matrix for test data  ------------------------------"
   ]
  },
  {
   "cell_type": "code",
   "execution_count": 117,
   "metadata": {},
   "outputs": [
    {
     "data": {
      "text/plain": [
       "array([[0., 0., 0., ..., 0., 0., 0.],\n",
       "       [0., 0., 0., ..., 0., 0., 0.],\n",
       "       [0., 0., 0., ..., 0., 0., 0.],\n",
       "       ...,\n",
       "       [0., 0., 0., ..., 0., 0., 0.],\n",
       "       [0., 0., 0., ..., 0., 0., 0.],\n",
       "       [0., 0., 0., ..., 0., 0., 0.]])"
      ]
     },
     "execution_count": 117,
     "metadata": {},
     "output_type": "execute_result"
    }
   ],
   "source": [
    "data_matrix_test = np.zeros((num_users, num_items))\n",
    "data_matrix_test"
   ]
  },
  {
   "cell_type": "code",
   "execution_count": 118,
   "metadata": {},
   "outputs": [
    {
     "data": {
      "text/plain": [
       "(1895, 2987)"
      ]
     },
     "execution_count": 118,
     "metadata": {},
     "output_type": "execute_result"
    }
   ],
   "source": [
    "data_matrix_test.shape  "
   ]
  },
  {
   "cell_type": "markdown",
   "metadata": {},
   "source": [
    "#### ------------------------------ Populate values in user*item test matrix -----------------------------"
   ]
  },
  {
   "cell_type": "code",
   "execution_count": 119,
   "metadata": {},
   "outputs": [],
   "source": [
    "for line in test.itertuples():\n",
    "    data_matrix_test[line[1], line[2]] = line[3]"
   ]
  },
  {
   "cell_type": "code",
   "execution_count": 120,
   "metadata": {},
   "outputs": [
    {
     "data": {
      "text/plain": [
       "array([[0., 0., 0., ..., 0., 0., 0.],\n",
       "       [0., 0., 0., ..., 0., 0., 0.],\n",
       "       [0., 2., 0., ..., 0., 0., 0.],\n",
       "       ...,\n",
       "       [0., 0., 0., ..., 0., 0., 0.],\n",
       "       [0., 0., 0., ..., 0., 0., 0.],\n",
       "       [0., 0., 0., ..., 0., 0., 0.]])"
      ]
     },
     "execution_count": 120,
     "metadata": {},
     "output_type": "execute_result"
    }
   ],
   "source": [
    "data_matrix_test"
   ]
  },
  {
   "cell_type": "markdown",
   "metadata": {},
   "source": [
    "## ------------------------ Similarity Matrices ----------------------"
   ]
  },
  {
   "cell_type": "markdown",
   "metadata": {},
   "source": [
    "### ------------------------------ User Similarity by pariwise distance --------------------------"
   ]
  },
  {
   "cell_type": "code",
   "execution_count": 121,
   "metadata": {},
   "outputs": [],
   "source": [
    "from sklearn.metrics.pairwise import pairwise_distances "
   ]
  },
  {
   "cell_type": "code",
   "execution_count": 122,
   "metadata": {},
   "outputs": [],
   "source": [
    "user_similarity = 1- pairwise_distances(data_matrix_train, metric='cosine')"
   ]
  },
  {
   "cell_type": "code",
   "execution_count": 123,
   "metadata": {},
   "outputs": [
    {
     "data": {
      "text/plain": [
       "(1895, 1895)"
      ]
     },
     "execution_count": 123,
     "metadata": {},
     "output_type": "execute_result"
    }
   ],
   "source": [
    "user_similarity.shape"
   ]
  },
  {
   "cell_type": "markdown",
   "metadata": {},
   "source": [
    "### ------------------------------- Item Similarity by pariwise distance -------------------------------"
   ]
  },
  {
   "cell_type": "code",
   "execution_count": 124,
   "metadata": {},
   "outputs": [
    {
     "data": {
      "text/plain": [
       "(2987, 1895)"
      ]
     },
     "execution_count": 124,
     "metadata": {},
     "output_type": "execute_result"
    }
   ],
   "source": [
    "# for item-user matrix we will take the transpose of data_matrix_train\n",
    "data_matrix_train.T.shape"
   ]
  },
  {
   "cell_type": "code",
   "execution_count": 125,
   "metadata": {},
   "outputs": [
    {
     "data": {
      "text/plain": [
       "(1895, 2987)"
      ]
     },
     "execution_count": 125,
     "metadata": {},
     "output_type": "execute_result"
    }
   ],
   "source": [
    "data_matrix_train.shape"
   ]
  },
  {
   "cell_type": "code",
   "execution_count": 126,
   "metadata": {},
   "outputs": [],
   "source": [
    "item_similarity = 1-pairwise_distances(data_matrix_train.T, metric='cosine')"
   ]
  },
  {
   "cell_type": "code",
   "execution_count": 127,
   "metadata": {},
   "outputs": [
    {
     "data": {
      "text/plain": [
       "array([[1.        , 0.        , 0.        , ..., 0.        , 0.        ,\n",
       "        0.        ],\n",
       "       [0.        , 1.        , 0.        , ..., 0.        , 0.        ,\n",
       "        0.        ],\n",
       "       [0.        , 0.        , 1.        , ..., 0.        , 0.        ,\n",
       "        0.        ],\n",
       "       ...,\n",
       "       [0.        , 0.        , 0.        , ..., 1.        , 0.05129892,\n",
       "        0.11470787],\n",
       "       [0.        , 0.        , 0.        , ..., 0.05129892, 1.        ,\n",
       "        0.        ],\n",
       "       [0.        , 0.        , 0.        , ..., 0.11470787, 0.        ,\n",
       "        1.        ]])"
      ]
     },
     "execution_count": 127,
     "metadata": {},
     "output_type": "execute_result"
    }
   ],
   "source": [
    "item_similarity"
   ]
  },
  {
   "cell_type": "markdown",
   "metadata": {},
   "source": [
    "## -------------------- Item Prediction using user similarity -------------------------"
   ]
  },
  {
   "cell_type": "code",
   "execution_count": 128,
   "metadata": {},
   "outputs": [],
   "source": [
    "item_prediction = np.dot(user_similarity, data_matrix_test)"
   ]
  },
  {
   "cell_type": "code",
   "execution_count": 129,
   "metadata": {},
   "outputs": [
    {
     "data": {
      "text/plain": [
       "array([[1.06448346, 0.07443229, 0.10229994, ..., 0.37769666, 0.36311942,\n",
       "        0.        ],\n",
       "       [0.        , 0.        , 0.01964186, ..., 0.01715996, 0.16556788,\n",
       "        0.09622504],\n",
       "       [0.        , 2.55445369, 0.        , ..., 0.        , 0.1477615 ,\n",
       "        0.        ],\n",
       "       ...,\n",
       "       [0.1203919 , 0.43643578, 0.10238691, ..., 0.05067411, 0.1752337 ,\n",
       "        0.        ],\n",
       "       [0.3000493 , 0.42640143, 0.03745102, ..., 0.1093659 , 0.29539405,\n",
       "        0.05802589],\n",
       "       [0.07904833, 0.        , 0.5475892 , ..., 0.01049804, 0.20492476,\n",
       "        0.        ]])"
      ]
     },
     "execution_count": 129,
     "metadata": {},
     "output_type": "execute_result"
    }
   ],
   "source": [
    "item_prediction"
   ]
  },
  {
   "cell_type": "code",
   "execution_count": 130,
   "metadata": {},
   "outputs": [
    {
     "data": {
      "text/plain": [
       "(1895, 2987)"
      ]
     },
     "execution_count": 130,
     "metadata": {},
     "output_type": "execute_result"
    }
   ],
   "source": [
    "item_prediction.shape"
   ]
  },
  {
   "cell_type": "code",
   "execution_count": null,
   "metadata": {},
   "outputs": [],
   "source": []
  },
  {
   "cell_type": "code",
   "execution_count": null,
   "metadata": {},
   "outputs": [],
   "source": []
  },
  {
   "cell_type": "code",
   "execution_count": null,
   "metadata": {},
   "outputs": [],
   "source": []
  },
  {
   "cell_type": "code",
   "execution_count": 131,
   "metadata": {},
   "outputs": [],
   "source": [
    "prediction_df = pd.DataFrame(item_prediction)"
   ]
  },
  {
   "cell_type": "code",
   "execution_count": 132,
   "metadata": {},
   "outputs": [
    {
     "data": {
      "text/html": [
       "<div>\n",
       "<style scoped>\n",
       "    .dataframe tbody tr th:only-of-type {\n",
       "        vertical-align: middle;\n",
       "    }\n",
       "\n",
       "    .dataframe tbody tr th {\n",
       "        vertical-align: top;\n",
       "    }\n",
       "\n",
       "    .dataframe thead th {\n",
       "        text-align: right;\n",
       "    }\n",
       "</style>\n",
       "<table border=\"1\" class=\"dataframe\">\n",
       "  <thead>\n",
       "    <tr style=\"text-align: right;\">\n",
       "      <th></th>\n",
       "      <th>0</th>\n",
       "      <th>1</th>\n",
       "      <th>2</th>\n",
       "      <th>3</th>\n",
       "      <th>4</th>\n",
       "      <th>5</th>\n",
       "      <th>6</th>\n",
       "      <th>7</th>\n",
       "      <th>8</th>\n",
       "      <th>9</th>\n",
       "      <th>...</th>\n",
       "      <th>2977</th>\n",
       "      <th>2978</th>\n",
       "      <th>2979</th>\n",
       "      <th>2980</th>\n",
       "      <th>2981</th>\n",
       "      <th>2982</th>\n",
       "      <th>2983</th>\n",
       "      <th>2984</th>\n",
       "      <th>2985</th>\n",
       "      <th>2986</th>\n",
       "    </tr>\n",
       "  </thead>\n",
       "  <tbody>\n",
       "    <tr>\n",
       "      <th>0</th>\n",
       "      <td>1.064483</td>\n",
       "      <td>0.074432</td>\n",
       "      <td>0.102300</td>\n",
       "      <td>0.833468</td>\n",
       "      <td>0.070083</td>\n",
       "      <td>0.481707</td>\n",
       "      <td>0.0</td>\n",
       "      <td>0.356882</td>\n",
       "      <td>0.023607</td>\n",
       "      <td>0.113531</td>\n",
       "      <td>...</td>\n",
       "      <td>0.000000</td>\n",
       "      <td>0.093518</td>\n",
       "      <td>0.144056</td>\n",
       "      <td>0.095699</td>\n",
       "      <td>0.178115</td>\n",
       "      <td>0.076208</td>\n",
       "      <td>0.236835</td>\n",
       "      <td>0.377697</td>\n",
       "      <td>0.363119</td>\n",
       "      <td>0.000000</td>\n",
       "    </tr>\n",
       "    <tr>\n",
       "      <th>1</th>\n",
       "      <td>0.000000</td>\n",
       "      <td>0.000000</td>\n",
       "      <td>0.019642</td>\n",
       "      <td>0.052385</td>\n",
       "      <td>0.000000</td>\n",
       "      <td>0.136328</td>\n",
       "      <td>0.0</td>\n",
       "      <td>0.088388</td>\n",
       "      <td>0.000000</td>\n",
       "      <td>0.000000</td>\n",
       "      <td>...</td>\n",
       "      <td>0.000000</td>\n",
       "      <td>0.017160</td>\n",
       "      <td>0.017160</td>\n",
       "      <td>0.000000</td>\n",
       "      <td>0.019642</td>\n",
       "      <td>0.014681</td>\n",
       "      <td>0.061085</td>\n",
       "      <td>0.017160</td>\n",
       "      <td>0.165568</td>\n",
       "      <td>0.096225</td>\n",
       "    </tr>\n",
       "    <tr>\n",
       "      <th>2</th>\n",
       "      <td>0.000000</td>\n",
       "      <td>2.554454</td>\n",
       "      <td>0.000000</td>\n",
       "      <td>0.036226</td>\n",
       "      <td>0.060746</td>\n",
       "      <td>0.273051</td>\n",
       "      <td>0.0</td>\n",
       "      <td>0.040927</td>\n",
       "      <td>0.000000</td>\n",
       "      <td>0.000000</td>\n",
       "      <td>...</td>\n",
       "      <td>0.244339</td>\n",
       "      <td>0.000000</td>\n",
       "      <td>0.025683</td>\n",
       "      <td>0.000000</td>\n",
       "      <td>0.000000</td>\n",
       "      <td>0.020761</td>\n",
       "      <td>0.000000</td>\n",
       "      <td>0.000000</td>\n",
       "      <td>0.147761</td>\n",
       "      <td>0.000000</td>\n",
       "    </tr>\n",
       "    <tr>\n",
       "      <th>3</th>\n",
       "      <td>0.659611</td>\n",
       "      <td>0.081111</td>\n",
       "      <td>0.016137</td>\n",
       "      <td>0.067780</td>\n",
       "      <td>0.000000</td>\n",
       "      <td>0.088631</td>\n",
       "      <td>0.0</td>\n",
       "      <td>0.189182</td>\n",
       "      <td>0.000000</td>\n",
       "      <td>0.061859</td>\n",
       "      <td>...</td>\n",
       "      <td>0.000000</td>\n",
       "      <td>0.044887</td>\n",
       "      <td>0.075634</td>\n",
       "      <td>0.012997</td>\n",
       "      <td>0.000000</td>\n",
       "      <td>0.020761</td>\n",
       "      <td>0.033696</td>\n",
       "      <td>0.076255</td>\n",
       "      <td>0.073320</td>\n",
       "      <td>0.000000</td>\n",
       "    </tr>\n",
       "    <tr>\n",
       "      <th>4</th>\n",
       "      <td>0.169516</td>\n",
       "      <td>0.000000</td>\n",
       "      <td>0.128666</td>\n",
       "      <td>0.187669</td>\n",
       "      <td>0.000000</td>\n",
       "      <td>0.119931</td>\n",
       "      <td>0.0</td>\n",
       "      <td>0.000000</td>\n",
       "      <td>0.021693</td>\n",
       "      <td>0.000000</td>\n",
       "      <td>...</td>\n",
       "      <td>0.000000</td>\n",
       "      <td>0.030697</td>\n",
       "      <td>0.030697</td>\n",
       "      <td>0.000000</td>\n",
       "      <td>0.165691</td>\n",
       "      <td>0.039392</td>\n",
       "      <td>0.000000</td>\n",
       "      <td>0.030697</td>\n",
       "      <td>0.039392</td>\n",
       "      <td>0.000000</td>\n",
       "    </tr>\n",
       "  </tbody>\n",
       "</table>\n",
       "<p>5 rows × 2987 columns</p>\n",
       "</div>"
      ],
      "text/plain": [
       "       0         1         2         3         4         5     6         7     \\\n",
       "0  1.064483  0.074432  0.102300  0.833468  0.070083  0.481707   0.0  0.356882   \n",
       "1  0.000000  0.000000  0.019642  0.052385  0.000000  0.136328   0.0  0.088388   \n",
       "2  0.000000  2.554454  0.000000  0.036226  0.060746  0.273051   0.0  0.040927   \n",
       "3  0.659611  0.081111  0.016137  0.067780  0.000000  0.088631   0.0  0.189182   \n",
       "4  0.169516  0.000000  0.128666  0.187669  0.000000  0.119931   0.0  0.000000   \n",
       "\n",
       "       8         9     ...      2977      2978      2979      2980      2981  \\\n",
       "0  0.023607  0.113531  ...  0.000000  0.093518  0.144056  0.095699  0.178115   \n",
       "1  0.000000  0.000000  ...  0.000000  0.017160  0.017160  0.000000  0.019642   \n",
       "2  0.000000  0.000000  ...  0.244339  0.000000  0.025683  0.000000  0.000000   \n",
       "3  0.000000  0.061859  ...  0.000000  0.044887  0.075634  0.012997  0.000000   \n",
       "4  0.021693  0.000000  ...  0.000000  0.030697  0.030697  0.000000  0.165691   \n",
       "\n",
       "       2982      2983      2984      2985      2986  \n",
       "0  0.076208  0.236835  0.377697  0.363119  0.000000  \n",
       "1  0.014681  0.061085  0.017160  0.165568  0.096225  \n",
       "2  0.020761  0.000000  0.000000  0.147761  0.000000  \n",
       "3  0.020761  0.033696  0.076255  0.073320  0.000000  \n",
       "4  0.039392  0.000000  0.030697  0.039392  0.000000  \n",
       "\n",
       "[5 rows x 2987 columns]"
      ]
     },
     "execution_count": 132,
     "metadata": {},
     "output_type": "execute_result"
    }
   ],
   "source": [
    "prediction_df.head()"
   ]
  },
  {
   "cell_type": "markdown",
   "metadata": {},
   "source": [
    "### ------------------------------------- Predict items for given user --------------------"
   ]
  },
  {
   "cell_type": "code",
   "execution_count": 133,
   "metadata": {},
   "outputs": [],
   "source": [
    "#1323"
   ]
  },
  {
   "cell_type": "code",
   "execution_count": 134,
   "metadata": {},
   "outputs": [
    {
     "name": "stdout",
     "output_type": "stream",
     "text": [
      "<class 'pandas.core.frame.DataFrame'>\n",
      "RangeIndex: 2987 entries, 0 to 2986\n",
      "Data columns (total 2 columns):\n",
      " #   Column     Non-Null Count  Dtype\n",
      "---  ------     --------------  -----\n",
      " 0   item_id    2987 non-null   int64\n",
      " 1   item_code  2987 non-null   int64\n",
      "dtypes: int64(2)\n",
      "memory usage: 46.8 KB\n"
     ]
    }
   ],
   "source": [
    "original_grouped.info()"
   ]
  },
  {
   "cell_type": "code",
   "execution_count": 135,
   "metadata": {},
   "outputs": [
    {
     "data": {
      "text/html": [
       "<div>\n",
       "<style scoped>\n",
       "    .dataframe tbody tr th:only-of-type {\n",
       "        vertical-align: middle;\n",
       "    }\n",
       "\n",
       "    .dataframe tbody tr th {\n",
       "        vertical-align: top;\n",
       "    }\n",
       "\n",
       "    .dataframe thead th {\n",
       "        text-align: right;\n",
       "    }\n",
       "</style>\n",
       "<table border=\"1\" class=\"dataframe\">\n",
       "  <thead>\n",
       "    <tr style=\"text-align: right;\">\n",
       "      <th></th>\n",
       "      <th>item_id</th>\n",
       "      <th>item_code</th>\n",
       "    </tr>\n",
       "  </thead>\n",
       "  <tbody>\n",
       "    <tr>\n",
       "      <th>1323</th>\n",
       "      <td>-958925381525830552</td>\n",
       "      <td>1323</td>\n",
       "    </tr>\n",
       "  </tbody>\n",
       "</table>\n",
       "</div>"
      ],
      "text/plain": [
       "                 item_id  item_code\n",
       "1323 -958925381525830552       1323"
      ]
     },
     "execution_count": 135,
     "metadata": {},
     "output_type": "execute_result"
    }
   ],
   "source": [
    "original_grouped[original_grouped['item_code'] == 1323]"
   ]
  },
  {
   "cell_type": "code",
   "execution_count": 136,
   "metadata": {},
   "outputs": [
    {
     "data": {
      "text/plain": [
       "(2987, 2)"
      ]
     },
     "execution_count": 136,
     "metadata": {},
     "output_type": "execute_result"
    }
   ],
   "source": [
    "original_grouped.shape"
   ]
  },
  {
   "cell_type": "code",
   "execution_count": 137,
   "metadata": {},
   "outputs": [],
   "source": [
    "def recommendItemForUser(consumer_id):\n",
    "    consumer_code=user_grouped.loc[consumer_id].consumer_code\n",
    "    prediction_df_user_sorted = pd.DataFrame(prediction_df.iloc[consumer_code].sort_values(ascending=False))\n",
    "    prediction_df_user_sorted.reset_index(inplace=True)\n",
    "    prediction_df_user_sorted.columns = ['item_code', 'score']\n",
    "    df_user = pd.DataFrame(data_matrix_full[consumer_code], columns=['rating_mtx'])\n",
    "    df_user = df_user.reset_index()\n",
    "    df_user.columns = ['item_code', 'rating_mtx']\n",
    "    merged_score = pd.merge( df_user,prediction_df_user_sorted, on='item_code', how='left')\n",
    "    #Merge recommended items codes with original item ids\n",
    "    merged_custTxn = pd.merge(merged_score, original_grouped, on=['item_code'],how='left')\n",
    "    #now since we have item ids we can merge it with platform data , so that we can remove pulled out content\n",
    "    merged_custTxn_title = pd.merge(merged_custTxn, ptfmCont_to_merge, on='item_id', how='left')\n",
    "    # remove all the content which is watched by user \n",
    "    merged_custTxn_title = merged_custTxn_title.drop(merged_custTxn_title[merged_custTxn_title['rating_mtx']>0].index)\n",
    "    # remove all the content wching pulled out\n",
    "    merged_custTxn_title = merged_custTxn_title.drop(merged_custTxn_title[merged_custTxn_title['interaction_type']!='content_present'].index)\n",
    "    # sort vales based on score\n",
    "    merged_custTxn_title = merged_custTxn_title.sort_values(by='score',ascending=False)\n",
    "    return (merged_custTxn_title.head(10),merged_custTxn_title)"
   ]
  },
  {
   "cell_type": "markdown",
   "metadata": {},
   "source": [
    "### ------------ Top 10 recommandation based on User based collaborative filtering ------------"
   ]
  },
  {
   "cell_type": "code",
   "execution_count": 138,
   "metadata": {},
   "outputs": [],
   "source": [
    "predForUser, content_user_collb_all = recommendItemForUser(3636910968448833585)"
   ]
  },
  {
   "cell_type": "code",
   "execution_count": 139,
   "metadata": {},
   "outputs": [
    {
     "data": {
      "text/plain": [
       "(10, 8)"
      ]
     },
     "execution_count": 139,
     "metadata": {},
     "output_type": "execute_result"
    }
   ],
   "source": [
    "predForUser.shape"
   ]
  },
  {
   "cell_type": "code",
   "execution_count": 140,
   "metadata": {},
   "outputs": [
    {
     "data": {
      "text/html": [
       "<div>\n",
       "<style scoped>\n",
       "    .dataframe tbody tr th:only-of-type {\n",
       "        vertical-align: middle;\n",
       "    }\n",
       "\n",
       "    .dataframe tbody tr th {\n",
       "        vertical-align: top;\n",
       "    }\n",
       "\n",
       "    .dataframe thead th {\n",
       "        text-align: right;\n",
       "    }\n",
       "</style>\n",
       "<table border=\"1\" class=\"dataframe\">\n",
       "  <thead>\n",
       "    <tr style=\"text-align: right;\">\n",
       "      <th></th>\n",
       "      <th>item_code</th>\n",
       "      <th>rating_mtx</th>\n",
       "      <th>score</th>\n",
       "      <th>item_id</th>\n",
       "      <th>interaction_type</th>\n",
       "      <th>title</th>\n",
       "      <th>item_domain</th>\n",
       "      <th>text_description</th>\n",
       "    </tr>\n",
       "  </thead>\n",
       "  <tbody>\n",
       "    <tr>\n",
       "      <th>840</th>\n",
       "      <td>840</td>\n",
       "      <td>0.0</td>\n",
       "      <td>2.865483</td>\n",
       "      <td>-4084394822880420062</td>\n",
       "      <td>content_present</td>\n",
       "      <td>Android Studio 2.2</td>\n",
       "      <td>android-developers.blogspot.com.br</td>\n",
       "      <td>By Jamal Eason , Product Manager, Android Android Studio 2.2 is available to download today. Pre...</td>\n",
       "    </tr>\n",
       "    <tr>\n",
       "      <th>796</th>\n",
       "      <td>796</td>\n",
       "      <td>0.0</td>\n",
       "      <td>2.864305</td>\n",
       "      <td>-4333957157636611418</td>\n",
       "      <td>content_present</td>\n",
       "      <td>Why Programmers Want Private Offices</td>\n",
       "      <td>business.stackoverflow.com</td>\n",
       "      <td>Ask any of your employees or coworkers what they think makes a workplace attractive and you're b...</td>\n",
       "    </tr>\n",
       "    <tr>\n",
       "      <th>1464</th>\n",
       "      <td>1464</td>\n",
       "      <td>0.0</td>\n",
       "      <td>2.602643</td>\n",
       "      <td>-78066964941874046</td>\n",
       "      <td>content_present</td>\n",
       "      <td>Microservices testing</td>\n",
       "      <td>testdetective.com</td>\n",
       "      <td>Modern software engineering is all about scalability, product delivery time and cross-platform a...</td>\n",
       "    </tr>\n",
       "    <tr>\n",
       "      <th>2900</th>\n",
       "      <td>2900</td>\n",
       "      <td>0.0</td>\n",
       "      <td>2.592456</td>\n",
       "      <td>8729086959762650511</td>\n",
       "      <td>content_present</td>\n",
       "      <td>What do you mean by \"Event-Driven\"?</td>\n",
       "      <td>martinfowler.com</td>\n",
       "      <td>Towards the end of last year I attended a workshop with my colleagues in ThoughtWorks to discuss...</td>\n",
       "    </tr>\n",
       "    <tr>\n",
       "      <th>2245</th>\n",
       "      <td>2245</td>\n",
       "      <td>0.0</td>\n",
       "      <td>2.524577</td>\n",
       "      <td>4761910285123871012</td>\n",
       "      <td>content_present</td>\n",
       "      <td>Bot Engine</td>\n",
       "      <td>wit.ai</td>\n",
       "      <td>Today we are releasing the first step of our vision for conversational bots: an early beta of Bo...</td>\n",
       "    </tr>\n",
       "    <tr>\n",
       "      <th>1833</th>\n",
       "      <td>1833</td>\n",
       "      <td>0.0</td>\n",
       "      <td>2.428282</td>\n",
       "      <td>2280365999288629014</td>\n",
       "      <td>content_present</td>\n",
       "      <td>The Best Linux Distros of 2016</td>\n",
       "      <td>linux.com</td>\n",
       "      <td>2015 was a very important year for Linux, both in the enterprise as well as in the consumer spac...</td>\n",
       "    </tr>\n",
       "    <tr>\n",
       "      <th>1140</th>\n",
       "      <td>1140</td>\n",
       "      <td>0.0</td>\n",
       "      <td>2.409319</td>\n",
       "      <td>-2097075598039554565</td>\n",
       "      <td>content_present</td>\n",
       "      <td>The Languages, Frameworks and Tools You Should Learn in 2017</td>\n",
       "      <td>tutorialzine.com</td>\n",
       "      <td>The Languages, Frameworks and Tools You Should Learn in 2017 Martin Angelov The software develop...</td>\n",
       "    </tr>\n",
       "    <tr>\n",
       "      <th>263</th>\n",
       "      <td>263</td>\n",
       "      <td>0.0</td>\n",
       "      <td>2.396448</td>\n",
       "      <td>-7681408188643141872</td>\n",
       "      <td>content_present</td>\n",
       "      <td>The End Of Apps As We Know Them - Inside Intercom</td>\n",
       "      <td>blog.intercom.stfi.re</td>\n",
       "      <td>The experience of our primary mobile screen being a bank of app icons that lead to independent d...</td>\n",
       "    </tr>\n",
       "    <tr>\n",
       "      <th>1073</th>\n",
       "      <td>1073</td>\n",
       "      <td>0.0</td>\n",
       "      <td>2.356694</td>\n",
       "      <td>-2479936301516183562</td>\n",
       "      <td>content_present</td>\n",
       "      <td>GitLab launches Issue Boards, an open-source task management tool that resembles Trello</td>\n",
       "      <td>venturebeat.com</td>\n",
       "      <td>Source code repository software startup GitLab today is introducing Issue Boards, an open-source...</td>\n",
       "    </tr>\n",
       "    <tr>\n",
       "      <th>2434</th>\n",
       "      <td>2434</td>\n",
       "      <td>0.0</td>\n",
       "      <td>2.331725</td>\n",
       "      <td>5854206600849997966</td>\n",
       "      <td>content_present</td>\n",
       "      <td>The hardest thing in computer science</td>\n",
       "      <td>blog.kaczmarzyk.net</td>\n",
       "      <td>I firmly believe that the hardest thing in computer science is naming things . I saw it many tim...</td>\n",
       "    </tr>\n",
       "  </tbody>\n",
       "</table>\n",
       "</div>"
      ],
      "text/plain": [
       "      item_code  rating_mtx     score              item_id interaction_type  \\\n",
       "840         840         0.0  2.865483 -4084394822880420062  content_present   \n",
       "796         796         0.0  2.864305 -4333957157636611418  content_present   \n",
       "1464       1464         0.0  2.602643   -78066964941874046  content_present   \n",
       "2900       2900         0.0  2.592456  8729086959762650511  content_present   \n",
       "2245       2245         0.0  2.524577  4761910285123871012  content_present   \n",
       "1833       1833         0.0  2.428282  2280365999288629014  content_present   \n",
       "1140       1140         0.0  2.409319 -2097075598039554565  content_present   \n",
       "263         263         0.0  2.396448 -7681408188643141872  content_present   \n",
       "1073       1073         0.0  2.356694 -2479936301516183562  content_present   \n",
       "2434       2434         0.0  2.331725  5854206600849997966  content_present   \n",
       "\n",
       "                                                                                        title  \\\n",
       "840                                                                        Android Studio 2.2   \n",
       "796                                                      Why Programmers Want Private Offices   \n",
       "1464                                                                    Microservices testing   \n",
       "2900                                                      What do you mean by \"Event-Driven\"?   \n",
       "2245                                                                               Bot Engine   \n",
       "1833                                                           The Best Linux Distros of 2016   \n",
       "1140                             The Languages, Frameworks and Tools You Should Learn in 2017   \n",
       "263                                         The End Of Apps As We Know Them - Inside Intercom   \n",
       "1073  GitLab launches Issue Boards, an open-source task management tool that resembles Trello   \n",
       "2434                                                    The hardest thing in computer science   \n",
       "\n",
       "                             item_domain  \\\n",
       "840   android-developers.blogspot.com.br   \n",
       "796           business.stackoverflow.com   \n",
       "1464                   testdetective.com   \n",
       "2900                    martinfowler.com   \n",
       "2245                              wit.ai   \n",
       "1833                           linux.com   \n",
       "1140                    tutorialzine.com   \n",
       "263                blog.intercom.stfi.re   \n",
       "1073                     venturebeat.com   \n",
       "2434                 blog.kaczmarzyk.net   \n",
       "\n",
       "                                                                                         text_description  \n",
       "840   By Jamal Eason , Product Manager, Android Android Studio 2.2 is available to download today. Pre...  \n",
       "796   Ask any of your employees or coworkers what they think makes a workplace attractive and you're b...  \n",
       "1464  Modern software engineering is all about scalability, product delivery time and cross-platform a...  \n",
       "2900  Towards the end of last year I attended a workshop with my colleagues in ThoughtWorks to discuss...  \n",
       "2245  Today we are releasing the first step of our vision for conversational bots: an early beta of Bo...  \n",
       "1833  2015 was a very important year for Linux, both in the enterprise as well as in the consumer spac...  \n",
       "1140  The Languages, Frameworks and Tools You Should Learn in 2017 Martin Angelov The software develop...  \n",
       "263   The experience of our primary mobile screen being a bank of app icons that lead to independent d...  \n",
       "1073  Source code repository software startup GitLab today is introducing Issue Boards, an open-source...  \n",
       "2434  I firmly believe that the hardest thing in computer science is naming things . I saw it many tim...  "
      ]
     },
     "execution_count": 140,
     "metadata": {},
     "output_type": "execute_result"
    }
   ],
   "source": [
    "predForUser"
   ]
  },
  {
   "cell_type": "markdown",
   "metadata": {},
   "source": [
    "## ------------------------------------ Evaluation ------------------------------------"
   ]
  },
  {
   "cell_type": "code",
   "execution_count": 141,
   "metadata": {},
   "outputs": [],
   "source": [
    "from sklearn.metrics import mean_squared_error\n",
    "from sklearn.metrics import mean_absolute_error\n",
    "from sklearn.metrics import accuracy_score\n",
    "from math import sqrt"
   ]
  },
  {
   "cell_type": "code",
   "execution_count": 142,
   "metadata": {},
   "outputs": [],
   "source": [
    "### Lets compare all the ratings provided by our model  "
   ]
  },
  {
   "cell_type": "code",
   "execution_count": 143,
   "metadata": {},
   "outputs": [
    {
     "data": {
      "text/plain": [
       "array([[0., 0., 0., ..., 0., 0., 0.],\n",
       "       [0., 0., 0., ..., 0., 0., 0.],\n",
       "       [0., 0., 0., ..., 0., 0., 0.],\n",
       "       ...,\n",
       "       [0., 0., 0., ..., 0., 0., 0.],\n",
       "       [0., 0., 0., ..., 0., 0., 0.],\n",
       "       [0., 0., 0., ..., 0., 0., 0.]])"
      ]
     },
     "execution_count": 143,
     "metadata": {},
     "output_type": "execute_result"
    }
   ],
   "source": [
    "data_matrix_train"
   ]
  },
  {
   "cell_type": "code",
   "execution_count": 144,
   "metadata": {},
   "outputs": [
    {
     "data": {
      "text/plain": [
       "array([[0., 0., 0., ..., 0., 0., 0.],\n",
       "       [0., 0., 0., ..., 0., 0., 0.],\n",
       "       [0., 2., 0., ..., 0., 0., 0.],\n",
       "       ...,\n",
       "       [0., 0., 0., ..., 0., 0., 0.],\n",
       "       [0., 0., 0., ..., 0., 0., 0.],\n",
       "       [0., 0., 0., ..., 0., 0., 0.]])"
      ]
     },
     "execution_count": 144,
     "metadata": {},
     "output_type": "execute_result"
    }
   ],
   "source": [
    "data_matrix_test"
   ]
  },
  {
   "cell_type": "code",
   "execution_count": 145,
   "metadata": {},
   "outputs": [
    {
     "data": {
      "text/plain": [
       "array([[1.06448346, 0.07443229, 0.10229994, ..., 0.37769666, 0.36311942,\n",
       "        0.        ],\n",
       "       [0.        , 0.        , 0.01964186, ..., 0.01715996, 0.16556788,\n",
       "        0.09622504],\n",
       "       [0.        , 2.55445369, 0.        , ..., 0.        , 0.1477615 ,\n",
       "        0.        ],\n",
       "       ...,\n",
       "       [0.1203919 , 0.43643578, 0.10238691, ..., 0.05067411, 0.1752337 ,\n",
       "        0.        ],\n",
       "       [0.3000493 , 0.42640143, 0.03745102, ..., 0.1093659 , 0.29539405,\n",
       "        0.05802589],\n",
       "       [0.07904833, 0.        , 0.5475892 , ..., 0.01049804, 0.20492476,\n",
       "        0.        ]])"
      ]
     },
     "execution_count": 145,
     "metadata": {},
     "output_type": "execute_result"
    }
   ],
   "source": [
    "item_prediction"
   ]
  },
  {
   "cell_type": "code",
   "execution_count": 146,
   "metadata": {},
   "outputs": [],
   "source": [
    "## RMSE: Root Mean Squared Error\n",
    "# Root Mean Squared Error (RMSE): RMSE  is typically used to evaluate regression problems where \n",
    "# the output (a predicted scalar value) is compared with the true scalar value output for a given data point.\n",
    "\n",
    "def rmse(prediction, ground_truth):\n",
    "    prediction = prediction[ground_truth.nonzero()]\n",
    "    ground_truth = ground_truth[ground_truth.nonzero()]\n",
    "    return sqrt(mean_squared_error(prediction, ground_truth))"
   ]
  },
  {
   "cell_type": "code",
   "execution_count": 147,
   "metadata": {},
   "outputs": [
    {
     "data": {
      "text/plain": [
       "0.9226017619770445"
      ]
     },
     "execution_count": 147,
     "metadata": {},
     "output_type": "execute_result"
    }
   ],
   "source": [
    "rmse(item_prediction, data_matrix_test)"
   ]
  },
  {
   "cell_type": "code",
   "execution_count": null,
   "metadata": {},
   "outputs": [],
   "source": []
  },
  {
   "cell_type": "code",
   "execution_count": null,
   "metadata": {},
   "outputs": [],
   "source": []
  },
  {
   "cell_type": "markdown",
   "metadata": {},
   "source": [
    "### --------------------------------- Item-Based Collaborative Filtering ---------------------------------"
   ]
  },
  {
   "cell_type": "code",
   "execution_count": 148,
   "metadata": {},
   "outputs": [],
   "source": [
    "#  In this type of filtering, the relationship between items is explored based on user ratings.\n",
    "\n",
    "# To reiterate the item-based filtering procedure, the following steps are followed in sequence to predict the rating a user u will give to a movie m:\n",
    "\n",
    "#     Find items similar to the movie m (often called peer group of items) using a similarity measure like cosine. \n",
    "#     Calculate the rating that the user will give to the movie m using the weighted average of the ratings given to the nearest movies by the user.\n",
    "#     Recommend the top-n movies to the user."
   ]
  },
  {
   "cell_type": "code",
   "execution_count": 149,
   "metadata": {},
   "outputs": [
    {
     "data": {
      "text/plain": [
       "array([[1.        , 0.        , 0.        , ..., 0.        , 0.        ,\n",
       "        0.        ],\n",
       "       [0.        , 1.        , 0.        , ..., 0.        , 0.        ,\n",
       "        0.        ],\n",
       "       [0.        , 0.        , 1.        , ..., 0.        , 0.        ,\n",
       "        0.        ],\n",
       "       ...,\n",
       "       [0.        , 0.        , 0.        , ..., 1.        , 0.05129892,\n",
       "        0.11470787],\n",
       "       [0.        , 0.        , 0.        , ..., 0.05129892, 1.        ,\n",
       "        0.        ],\n",
       "       [0.        , 0.        , 0.        , ..., 0.11470787, 0.        ,\n",
       "        1.        ]])"
      ]
     },
     "execution_count": 149,
     "metadata": {},
     "output_type": "execute_result"
    }
   ],
   "source": [
    "# item similarity that we calculated before \n",
    "item_similarity"
   ]
  },
  {
   "cell_type": "code",
   "execution_count": 150,
   "metadata": {},
   "outputs": [
    {
     "data": {
      "text/plain": [
       "(2987, 2987)"
      ]
     },
     "execution_count": 150,
     "metadata": {},
     "output_type": "execute_result"
    }
   ],
   "source": [
    "item_similarity.shape"
   ]
  },
  {
   "cell_type": "markdown",
   "metadata": {},
   "source": [
    "#### ------------------------------------ User rating Prediction using item similarity ------------------------------------"
   ]
  },
  {
   "cell_type": "code",
   "execution_count": 151,
   "metadata": {},
   "outputs": [
    {
     "data": {
      "text/plain": [
       "(2987, 1895)"
      ]
     },
     "execution_count": 151,
     "metadata": {},
     "output_type": "execute_result"
    }
   ],
   "source": [
    "data_matrix_test.T.shape"
   ]
  },
  {
   "cell_type": "code",
   "execution_count": 152,
   "metadata": {},
   "outputs": [],
   "source": [
    "user_prediction = np.dot(item_similarity, data_matrix_test.T)"
   ]
  },
  {
   "cell_type": "code",
   "execution_count": 153,
   "metadata": {},
   "outputs": [
    {
     "data": {
      "text/plain": [
       "(2987, 1895)"
      ]
     },
     "execution_count": 153,
     "metadata": {},
     "output_type": "execute_result"
    }
   ],
   "source": [
    "user_prediction.shape"
   ]
  },
  {
   "cell_type": "code",
   "execution_count": 154,
   "metadata": {},
   "outputs": [],
   "source": [
    "prediction_df = pd.DataFrame(user_prediction)"
   ]
  },
  {
   "cell_type": "code",
   "execution_count": 155,
   "metadata": {},
   "outputs": [
    {
     "data": {
      "text/html": [
       "<div>\n",
       "<style scoped>\n",
       "    .dataframe tbody tr th:only-of-type {\n",
       "        vertical-align: middle;\n",
       "    }\n",
       "\n",
       "    .dataframe tbody tr th {\n",
       "        vertical-align: top;\n",
       "    }\n",
       "\n",
       "    .dataframe thead th {\n",
       "        text-align: right;\n",
       "    }\n",
       "</style>\n",
       "<table border=\"1\" class=\"dataframe\">\n",
       "  <thead>\n",
       "    <tr style=\"text-align: right;\">\n",
       "      <th></th>\n",
       "      <th>0</th>\n",
       "      <th>1</th>\n",
       "      <th>2</th>\n",
       "      <th>3</th>\n",
       "      <th>4</th>\n",
       "      <th>5</th>\n",
       "      <th>6</th>\n",
       "      <th>7</th>\n",
       "      <th>8</th>\n",
       "      <th>9</th>\n",
       "      <th>...</th>\n",
       "      <th>1885</th>\n",
       "      <th>1886</th>\n",
       "      <th>1887</th>\n",
       "      <th>1888</th>\n",
       "      <th>1889</th>\n",
       "      <th>1890</th>\n",
       "      <th>1891</th>\n",
       "      <th>1892</th>\n",
       "      <th>1893</th>\n",
       "      <th>1894</th>\n",
       "    </tr>\n",
       "  </thead>\n",
       "  <tbody>\n",
       "    <tr>\n",
       "      <th>0</th>\n",
       "      <td>0.179605</td>\n",
       "      <td>0.000000</td>\n",
       "      <td>0.000000</td>\n",
       "      <td>0.963572</td>\n",
       "      <td>0.000000</td>\n",
       "      <td>0.000000</td>\n",
       "      <td>0.000000</td>\n",
       "      <td>0.000000</td>\n",
       "      <td>0.000000</td>\n",
       "      <td>0.000000</td>\n",
       "      <td>...</td>\n",
       "      <td>0.0</td>\n",
       "      <td>0.000000</td>\n",
       "      <td>0.000000</td>\n",
       "      <td>0.550230</td>\n",
       "      <td>0.0</td>\n",
       "      <td>0.000000</td>\n",
       "      <td>0.000000</td>\n",
       "      <td>0.000000</td>\n",
       "      <td>0.000000</td>\n",
       "      <td>1.091089</td>\n",
       "    </tr>\n",
       "    <tr>\n",
       "      <th>1</th>\n",
       "      <td>0.118345</td>\n",
       "      <td>0.382158</td>\n",
       "      <td>2.028989</td>\n",
       "      <td>0.000000</td>\n",
       "      <td>0.000000</td>\n",
       "      <td>0.000000</td>\n",
       "      <td>0.000000</td>\n",
       "      <td>0.000000</td>\n",
       "      <td>0.000000</td>\n",
       "      <td>0.000000</td>\n",
       "      <td>...</td>\n",
       "      <td>0.0</td>\n",
       "      <td>0.000000</td>\n",
       "      <td>0.000000</td>\n",
       "      <td>0.587682</td>\n",
       "      <td>0.0</td>\n",
       "      <td>0.000000</td>\n",
       "      <td>0.023783</td>\n",
       "      <td>0.000000</td>\n",
       "      <td>0.000000</td>\n",
       "      <td>0.454754</td>\n",
       "    </tr>\n",
       "    <tr>\n",
       "      <th>2</th>\n",
       "      <td>0.299189</td>\n",
       "      <td>0.000000</td>\n",
       "      <td>0.000000</td>\n",
       "      <td>0.000000</td>\n",
       "      <td>0.290909</td>\n",
       "      <td>0.037043</td>\n",
       "      <td>0.633049</td>\n",
       "      <td>0.035411</td>\n",
       "      <td>0.127657</td>\n",
       "      <td>0.170320</td>\n",
       "      <td>...</td>\n",
       "      <td>0.0</td>\n",
       "      <td>0.121746</td>\n",
       "      <td>0.237483</td>\n",
       "      <td>3.441809</td>\n",
       "      <td>0.0</td>\n",
       "      <td>0.606806</td>\n",
       "      <td>0.406970</td>\n",
       "      <td>0.036726</td>\n",
       "      <td>0.080583</td>\n",
       "      <td>1.721898</td>\n",
       "    </tr>\n",
       "    <tr>\n",
       "      <th>3</th>\n",
       "      <td>0.450959</td>\n",
       "      <td>0.000000</td>\n",
       "      <td>0.240993</td>\n",
       "      <td>0.045787</td>\n",
       "      <td>0.263824</td>\n",
       "      <td>0.267679</td>\n",
       "      <td>0.591553</td>\n",
       "      <td>2.125127</td>\n",
       "      <td>0.070933</td>\n",
       "      <td>1.657368</td>\n",
       "      <td>...</td>\n",
       "      <td>0.0</td>\n",
       "      <td>0.566809</td>\n",
       "      <td>0.507003</td>\n",
       "      <td>1.988117</td>\n",
       "      <td>0.0</td>\n",
       "      <td>1.106626</td>\n",
       "      <td>0.595966</td>\n",
       "      <td>0.173667</td>\n",
       "      <td>0.271218</td>\n",
       "      <td>3.095620</td>\n",
       "    </tr>\n",
       "    <tr>\n",
       "      <th>4</th>\n",
       "      <td>0.000000</td>\n",
       "      <td>0.000000</td>\n",
       "      <td>0.000000</td>\n",
       "      <td>0.000000</td>\n",
       "      <td>0.000000</td>\n",
       "      <td>0.000000</td>\n",
       "      <td>0.000000</td>\n",
       "      <td>0.000000</td>\n",
       "      <td>0.060858</td>\n",
       "      <td>0.297722</td>\n",
       "      <td>...</td>\n",
       "      <td>0.0</td>\n",
       "      <td>0.000000</td>\n",
       "      <td>0.000000</td>\n",
       "      <td>0.074125</td>\n",
       "      <td>0.0</td>\n",
       "      <td>0.000000</td>\n",
       "      <td>0.000000</td>\n",
       "      <td>0.000000</td>\n",
       "      <td>0.000000</td>\n",
       "      <td>0.051031</td>\n",
       "    </tr>\n",
       "  </tbody>\n",
       "</table>\n",
       "<p>5 rows × 1895 columns</p>\n",
       "</div>"
      ],
      "text/plain": [
       "       0         1         2         3         4         5         6     \\\n",
       "0  0.179605  0.000000  0.000000  0.963572  0.000000  0.000000  0.000000   \n",
       "1  0.118345  0.382158  2.028989  0.000000  0.000000  0.000000  0.000000   \n",
       "2  0.299189  0.000000  0.000000  0.000000  0.290909  0.037043  0.633049   \n",
       "3  0.450959  0.000000  0.240993  0.045787  0.263824  0.267679  0.591553   \n",
       "4  0.000000  0.000000  0.000000  0.000000  0.000000  0.000000  0.000000   \n",
       "\n",
       "       7         8         9     ...  1885      1886      1887      1888  \\\n",
       "0  0.000000  0.000000  0.000000  ...   0.0  0.000000  0.000000  0.550230   \n",
       "1  0.000000  0.000000  0.000000  ...   0.0  0.000000  0.000000  0.587682   \n",
       "2  0.035411  0.127657  0.170320  ...   0.0  0.121746  0.237483  3.441809   \n",
       "3  2.125127  0.070933  1.657368  ...   0.0  0.566809  0.507003  1.988117   \n",
       "4  0.000000  0.060858  0.297722  ...   0.0  0.000000  0.000000  0.074125   \n",
       "\n",
       "   1889      1890      1891      1892      1893      1894  \n",
       "0   0.0  0.000000  0.000000  0.000000  0.000000  1.091089  \n",
       "1   0.0  0.000000  0.023783  0.000000  0.000000  0.454754  \n",
       "2   0.0  0.606806  0.406970  0.036726  0.080583  1.721898  \n",
       "3   0.0  1.106626  0.595966  0.173667  0.271218  3.095620  \n",
       "4   0.0  0.000000  0.000000  0.000000  0.000000  0.051031  \n",
       "\n",
       "[5 rows x 1895 columns]"
      ]
     },
     "execution_count": 155,
     "metadata": {},
     "output_type": "execute_result"
    }
   ],
   "source": [
    "prediction_df.head()"
   ]
  },
  {
   "cell_type": "markdown",
   "metadata": {},
   "source": [
    "### ------------------------------------- Predict items for given user -------------------------------"
   ]
  },
  {
   "cell_type": "code",
   "execution_count": 158,
   "metadata": {},
   "outputs": [],
   "source": [
    "def recommendOnItemSimilarity(customer_id):\n",
    "    consumer_code=user_grouped.loc[customer_id].consumer_code\n",
    "    recommended_items = pd.DataFrame(prediction_df[consumer_code].sort_values(ascending=False))\n",
    "    recommended_items.reset_index(inplace=True)\n",
    "    recommended_items.columns = ['item_code', 'score']\n",
    "    # Remove allready watched and pulled out content\n",
    "    df_user = pd.DataFrame(data_matrix_full[consumer_code], columns=['rating_mtx'])\n",
    "    df_user = df_user.reset_index()\n",
    "    df_user.columns = ['item_code', 'rating_mtx']\n",
    "    # Merge rating and score dataframe\n",
    "    merged_score = pd.merge( df_user,recommended_items, on='item_code', how='left')\n",
    "    # Merge to get item id for items\n",
    "    merged_custTxn = pd.merge(merged_score, original_grouped, on=['item_code'],how='left')\n",
    "    # Merge this df with platform dataframe to get content available\n",
    "    merged_custTxn_title = pd.merge(merged_custTxn, ptfmCont_to_merge, on='item_id', how='left')\n",
    "    # remove all the watchec content\n",
    "    merged_custTxn_title = merged_custTxn_title.drop(merged_custTxn_title[merged_custTxn_title['rating_mtx']>0].index)\n",
    "    # Remove pulled out content\n",
    "    merged_custTxn_title = merged_custTxn_title.drop(merged_custTxn_title[merged_custTxn_title['interaction_type']!='content_present'].index)\n",
    "    # sort values on score\n",
    "    merged_custTxn_title = merged_custTxn_title.sort_values(by='score',ascending=False)\n",
    "    return merged_custTxn_title.head(10)\n"
   ]
  },
  {
   "cell_type": "markdown",
   "metadata": {},
   "source": [
    "### --------------------- Top 10 recommandation based of collaborative filtering ---------------------"
   ]
  },
  {
   "cell_type": "code",
   "execution_count": 159,
   "metadata": {},
   "outputs": [],
   "source": [
    "onItem = recommendOnItemSimilarity(3636910968448833585)"
   ]
  },
  {
   "cell_type": "code",
   "execution_count": 162,
   "metadata": {},
   "outputs": [
    {
     "data": {
      "text/html": [
       "<div>\n",
       "<style scoped>\n",
       "    .dataframe tbody tr th:only-of-type {\n",
       "        vertical-align: middle;\n",
       "    }\n",
       "\n",
       "    .dataframe tbody tr th {\n",
       "        vertical-align: top;\n",
       "    }\n",
       "\n",
       "    .dataframe thead th {\n",
       "        text-align: right;\n",
       "    }\n",
       "</style>\n",
       "<table border=\"1\" class=\"dataframe\">\n",
       "  <thead>\n",
       "    <tr style=\"text-align: right;\">\n",
       "      <th></th>\n",
       "      <th>item_id</th>\n",
       "      <th>title</th>\n",
       "      <th>text_description</th>\n",
       "    </tr>\n",
       "  </thead>\n",
       "  <tbody>\n",
       "    <tr>\n",
       "      <th>1360</th>\n",
       "      <td>-724699218170106849</td>\n",
       "      <td>Tensorflow wins</td>\n",
       "      <td>Tensorflow wins We started with the development of Leaf briefly before Google released Tensorflo...</td>\n",
       "    </tr>\n",
       "    <tr>\n",
       "      <th>2685</th>\n",
       "      <td>7395435905985567130</td>\n",
       "      <td>The AI business landscape</td>\n",
       "      <td>A data-driven analysis of companies that are adopting artificial intelligence. (source: Pexels )...</td>\n",
       "    </tr>\n",
       "    <tr>\n",
       "      <th>1577</th>\n",
       "      <td>524776334673868069</td>\n",
       "      <td>Graph-powered Machine Learning at Google</td>\n",
       "      <td>Recently, there have been significant advances in Machine Learning that enable computer systems ...</td>\n",
       "    </tr>\n",
       "    <tr>\n",
       "      <th>1784</th>\n",
       "      <td>1954074927376897165</td>\n",
       "      <td>Swarm A.I. Correctly Predicts the Kentucky Derby, Accurately Picking all Four Horses of the Supe...</td>\n",
       "      <td>SAN FRANCISCO, CA--(Marketwired - May 9, 2016) - If you've been following the predictions made b...</td>\n",
       "    </tr>\n",
       "    <tr>\n",
       "      <th>1292</th>\n",
       "      <td>-1137602700803601559</td>\n",
       "      <td>Polly.ai raises $1.2 million to help companies poll their employees</td>\n",
       "      <td>Makers of Polly, a poll-making bot that is the most popular in the Bot category of the Slack App...</td>\n",
       "    </tr>\n",
       "    <tr>\n",
       "      <th>902</th>\n",
       "      <td>-3697359635590244386</td>\n",
       "      <td>Google I/O 2016 preview: Android N, Android VR, Project Chirp, Play Store on Chromebooks and more!</td>\n",
       "      <td>What to expect from the biggest Google conference ever. It's Google I/O time! The 2016 installme...</td>\n",
       "    </tr>\n",
       "    <tr>\n",
       "      <th>1781</th>\n",
       "      <td>1920899299418335515</td>\n",
       "      <td>AI Revolution 101 - AI Revolution</td>\n",
       "      <td>AI Revolution 101 Our last invention, greatest nightmare, or pathway to utopia? About This essay...</td>\n",
       "    </tr>\n",
       "    <tr>\n",
       "      <th>731</th>\n",
       "      <td>-4765711818183276269</td>\n",
       "      <td>Google lags behind Amazon and Microsoft's cloud in one important area</td>\n",
       "      <td>Thomson Reuters Google's cloud service may want to spent a lot more on hiring enterprise sales p...</td>\n",
       "    </tr>\n",
       "    <tr>\n",
       "      <th>1136</th>\n",
       "      <td>-2118981143119783447</td>\n",
       "      <td>What readers think about computer-generated texts</td>\n",
       "      <td>Media research München, 05/03/2016 An experimental study carried out by LMU media researchers ha...</td>\n",
       "    </tr>\n",
       "    <tr>\n",
       "      <th>1667</th>\n",
       "      <td>1137471872769164371</td>\n",
       "      <td>Google Calendar for Android can now find meeting times that work for everyone</td>\n",
       "      <td>Google today announced a new feature for its Google Calendar application on Android that should ...</td>\n",
       "    </tr>\n",
       "  </tbody>\n",
       "</table>\n",
       "</div>"
      ],
      "text/plain": [
       "                  item_id  \\\n",
       "1360  -724699218170106849   \n",
       "2685  7395435905985567130   \n",
       "1577   524776334673868069   \n",
       "1784  1954074927376897165   \n",
       "1292 -1137602700803601559   \n",
       "902  -3697359635590244386   \n",
       "1781  1920899299418335515   \n",
       "731  -4765711818183276269   \n",
       "1136 -2118981143119783447   \n",
       "1667  1137471872769164371   \n",
       "\n",
       "                                                                                                    title  \\\n",
       "1360                                                                                      Tensorflow wins   \n",
       "2685                                                                            The AI business landscape   \n",
       "1577                                                             Graph-powered Machine Learning at Google   \n",
       "1784  Swarm A.I. Correctly Predicts the Kentucky Derby, Accurately Picking all Four Horses of the Supe...   \n",
       "1292                                  Polly.ai raises $1.2 million to help companies poll their employees   \n",
       "902    Google I/O 2016 preview: Android N, Android VR, Project Chirp, Play Store on Chromebooks and more!   \n",
       "1781                                                                    AI Revolution 101 - AI Revolution   \n",
       "731                                 Google lags behind Amazon and Microsoft's cloud in one important area   \n",
       "1136                                                    What readers think about computer-generated texts   \n",
       "1667                        Google Calendar for Android can now find meeting times that work for everyone   \n",
       "\n",
       "                                                                                         text_description  \n",
       "1360  Tensorflow wins We started with the development of Leaf briefly before Google released Tensorflo...  \n",
       "2685  A data-driven analysis of companies that are adopting artificial intelligence. (source: Pexels )...  \n",
       "1577  Recently, there have been significant advances in Machine Learning that enable computer systems ...  \n",
       "1784  SAN FRANCISCO, CA--(Marketwired - May 9, 2016) - If you've been following the predictions made b...  \n",
       "1292  Makers of Polly, a poll-making bot that is the most popular in the Bot category of the Slack App...  \n",
       "902   What to expect from the biggest Google conference ever. It's Google I/O time! The 2016 installme...  \n",
       "1781  AI Revolution 101 Our last invention, greatest nightmare, or pathway to utopia? About This essay...  \n",
       "731   Thomson Reuters Google's cloud service may want to spent a lot more on hiring enterprise sales p...  \n",
       "1136  Media research München, 05/03/2016 An experimental study carried out by LMU media researchers ha...  \n",
       "1667  Google today announced a new feature for its Google Calendar application on Android that should ...  "
      ]
     },
     "execution_count": 162,
     "metadata": {},
     "output_type": "execute_result"
    }
   ],
   "source": [
    "onItem[['item_id','title','text_description']]"
   ]
  },
  {
   "cell_type": "markdown",
   "metadata": {},
   "source": [
    "## ------------------------------------ Evaluation ------------------------------------"
   ]
  },
  {
   "cell_type": "code",
   "execution_count": 163,
   "metadata": {},
   "outputs": [],
   "source": [
    "## RMSE: Root Mean Squared Error\n",
    "# Root Mean Squared Error (RMSE): RMSE  is typically used to evaluate regression problems where \n",
    "# the output (a predicted scalar value) is compared with the true scalar value output for a given data point.\n"
   ]
  },
  {
   "cell_type": "code",
   "execution_count": 164,
   "metadata": {},
   "outputs": [
    {
     "data": {
      "text/plain": [
       "7.16780780674295"
      ]
     },
     "execution_count": 164,
     "metadata": {},
     "output_type": "execute_result"
    }
   ],
   "source": [
    "rmse(user_prediction, data_matrix_test.T)"
   ]
  },
  {
   "cell_type": "markdown",
   "metadata": {},
   "source": [
    "# Model-Based Approach\n",
    "Model-based collaborative filtering algorithms provide item recommendations by first developing a model of user ratings.\n",
    "\n",
    "The main drawback of the memory-based technique is the requirement of loading a large amount of in-line memory. The problem becomes serious when the rating matrix becomes so huge in a situation that there is an extremely large number of people using the system. A lot of computational resources are consumed and system performance declines, and, thus, the system cannot respond to user requests immediately.  The model-based approach intends to solve such problems."
   ]
  },
  {
   "cell_type": "markdown",
   "metadata": {},
   "source": [
    "# ------------------------------ ALS ------------------------------\n",
    "\n",
    "Alternating least squares (ALS) is a matrix factorization algorithm that separates the user-rating matrix (which you learned about in the previous segment) into two matrices: the user matrix and the item matrix."
   ]
  },
  {
   "cell_type": "code",
   "execution_count": 165,
   "metadata": {},
   "outputs": [
    {
     "data": {
      "text/html": [
       "<div>\n",
       "<style scoped>\n",
       "    .dataframe tbody tr th:only-of-type {\n",
       "        vertical-align: middle;\n",
       "    }\n",
       "\n",
       "    .dataframe tbody tr th {\n",
       "        vertical-align: top;\n",
       "    }\n",
       "\n",
       "    .dataframe thead th {\n",
       "        text-align: right;\n",
       "    }\n",
       "</style>\n",
       "<table border=\"1\" class=\"dataframe\">\n",
       "  <thead>\n",
       "    <tr style=\"text-align: right;\">\n",
       "      <th></th>\n",
       "      <th>item_id</th>\n",
       "      <th>consumer_id</th>\n",
       "      <th>rating</th>\n",
       "      <th>consumer_code</th>\n",
       "      <th>item_code</th>\n",
       "    </tr>\n",
       "  </thead>\n",
       "  <tbody>\n",
       "    <tr>\n",
       "      <th>0</th>\n",
       "      <td>-3499919498720038879</td>\n",
       "      <td>-8845298781299428018</td>\n",
       "      <td>1.0</td>\n",
       "      <td>33</td>\n",
       "      <td>933</td>\n",
       "    </tr>\n",
       "    <tr>\n",
       "      <th>1</th>\n",
       "      <td>8890720798209849691</td>\n",
       "      <td>-1032019229384696495</td>\n",
       "      <td>1.0</td>\n",
       "      <td>831</td>\n",
       "      <td>2933</td>\n",
       "    </tr>\n",
       "    <tr>\n",
       "      <th>2</th>\n",
       "      <td>310515487419366995</td>\n",
       "      <td>-1130272294246983140</td>\n",
       "      <td>1.0</td>\n",
       "      <td>826</td>\n",
       "      <td>1537</td>\n",
       "    </tr>\n",
       "    <tr>\n",
       "      <th>3</th>\n",
       "      <td>310515487419366995</td>\n",
       "      <td>344280948527967603</td>\n",
       "      <td>5.0</td>\n",
       "      <td>974</td>\n",
       "      <td>1537</td>\n",
       "    </tr>\n",
       "    <tr>\n",
       "      <th>4</th>\n",
       "      <td>-7820640624231356730</td>\n",
       "      <td>-445337111692715325</td>\n",
       "      <td>1.0</td>\n",
       "      <td>887</td>\n",
       "      <td>246</td>\n",
       "    </tr>\n",
       "  </tbody>\n",
       "</table>\n",
       "</div>"
      ],
      "text/plain": [
       "               item_id          consumer_id  rating  consumer_code  item_code\n",
       "0 -3499919498720038879 -8845298781299428018     1.0             33        933\n",
       "1  8890720798209849691 -1032019229384696495     1.0            831       2933\n",
       "2   310515487419366995 -1130272294246983140     1.0            826       1537\n",
       "3   310515487419366995   344280948527967603     5.0            974       1537\n",
       "4 -7820640624231356730  -445337111692715325     1.0            887        246"
      ]
     },
     "execution_count": 165,
     "metadata": {},
     "output_type": "execute_result"
    }
   ],
   "source": [
    "consuTrxForCFilter.head()"
   ]
  },
  {
   "cell_type": "code",
   "execution_count": 166,
   "metadata": {},
   "outputs": [
    {
     "name": "stdout",
     "output_type": "stream",
     "text": [
      "<class 'pandas.core.frame.DataFrame'>\n",
      "RangeIndex: 72312 entries, 0 to 72311\n",
      "Data columns (total 5 columns):\n",
      " #   Column         Non-Null Count  Dtype  \n",
      "---  ------         --------------  -----  \n",
      " 0   item_id        72312 non-null  int64  \n",
      " 1   consumer_id    72312 non-null  int64  \n",
      " 2   rating         72312 non-null  float64\n",
      " 3   consumer_code  72312 non-null  int16  \n",
      " 4   item_code      72312 non-null  int16  \n",
      "dtypes: float64(1), int16(2), int64(2)\n",
      "memory usage: 1.9 MB\n"
     ]
    }
   ],
   "source": [
    "consuTrxForCFilter.info()"
   ]
  },
  {
   "cell_type": "code",
   "execution_count": 167,
   "metadata": {},
   "outputs": [],
   "source": [
    "consuTrxForALS = consuTrxForCFilter[['consumer_code','item_code','rating']]"
   ]
  },
  {
   "cell_type": "code",
   "execution_count": 168,
   "metadata": {},
   "outputs": [
    {
     "name": "stdout",
     "output_type": "stream",
     "text": [
      "<class 'pandas.core.frame.DataFrame'>\n",
      "RangeIndex: 72312 entries, 0 to 72311\n",
      "Data columns (total 3 columns):\n",
      " #   Column         Non-Null Count  Dtype  \n",
      "---  ------         --------------  -----  \n",
      " 0   consumer_code  72312 non-null  int16  \n",
      " 1   item_code      72312 non-null  int16  \n",
      " 2   rating         72312 non-null  float64\n",
      "dtypes: float64(1), int16(2)\n",
      "memory usage: 847.5 KB\n"
     ]
    }
   ],
   "source": [
    "consuTrxForALS.info()"
   ]
  },
  {
   "cell_type": "code",
   "execution_count": 169,
   "metadata": {},
   "outputs": [
    {
     "data": {
      "text/html": [
       "<div>\n",
       "<style scoped>\n",
       "    .dataframe tbody tr th:only-of-type {\n",
       "        vertical-align: middle;\n",
       "    }\n",
       "\n",
       "    .dataframe tbody tr th {\n",
       "        vertical-align: top;\n",
       "    }\n",
       "\n",
       "    .dataframe thead th {\n",
       "        text-align: right;\n",
       "    }\n",
       "</style>\n",
       "<table border=\"1\" class=\"dataframe\">\n",
       "  <thead>\n",
       "    <tr style=\"text-align: right;\">\n",
       "      <th></th>\n",
       "      <th>consumer_code</th>\n",
       "      <th>item_code</th>\n",
       "      <th>rating</th>\n",
       "    </tr>\n",
       "  </thead>\n",
       "  <tbody>\n",
       "    <tr>\n",
       "      <th>0</th>\n",
       "      <td>0</td>\n",
       "      <td>65</td>\n",
       "      <td>1.0</td>\n",
       "    </tr>\n",
       "    <tr>\n",
       "      <th>1</th>\n",
       "      <td>0</td>\n",
       "      <td>160</td>\n",
       "      <td>1.0</td>\n",
       "    </tr>\n",
       "    <tr>\n",
       "      <th>2</th>\n",
       "      <td>0</td>\n",
       "      <td>188</td>\n",
       "      <td>1.0</td>\n",
       "    </tr>\n",
       "    <tr>\n",
       "      <th>3</th>\n",
       "      <td>0</td>\n",
       "      <td>196</td>\n",
       "      <td>1.0</td>\n",
       "    </tr>\n",
       "    <tr>\n",
       "      <th>4</th>\n",
       "      <td>0</td>\n",
       "      <td>314</td>\n",
       "      <td>1.0</td>\n",
       "    </tr>\n",
       "  </tbody>\n",
       "</table>\n",
       "</div>"
      ],
      "text/plain": [
       "   consumer_code  item_code  rating\n",
       "0              0         65     1.0\n",
       "1              0        160     1.0\n",
       "2              0        188     1.0\n",
       "3              0        196     1.0\n",
       "4              0        314     1.0"
      ]
     },
     "execution_count": 169,
     "metadata": {},
     "output_type": "execute_result"
    }
   ],
   "source": [
    "consuTrxForALS_grp  = consuTrxForALS.groupby(['consumer_code','item_code'])\n",
    "\n",
    "consuTrxForALS_grp = consuTrxForALS_grp.max()\n",
    "\n",
    "consuTrxForALS_grp = consuTrxForALS_grp.reset_index()\n",
    "\n",
    "consuTrxForALS_grp.head()"
   ]
  },
  {
   "cell_type": "code",
   "execution_count": 170,
   "metadata": {},
   "outputs": [
    {
     "name": "stdout",
     "output_type": "stream",
     "text": [
      "<class 'pandas.core.frame.DataFrame'>\n",
      "RangeIndex: 40710 entries, 0 to 40709\n",
      "Data columns (total 3 columns):\n",
      " #   Column         Non-Null Count  Dtype  \n",
      "---  ------         --------------  -----  \n",
      " 0   consumer_code  40710 non-null  int64  \n",
      " 1   item_code      40710 non-null  int64  \n",
      " 2   rating         40710 non-null  float64\n",
      "dtypes: float64(1), int64(2)\n",
      "memory usage: 954.3 KB\n"
     ]
    }
   ],
   "source": [
    "consuTrxForALS_grp.info()"
   ]
  },
  {
   "cell_type": "code",
   "execution_count": 171,
   "metadata": {},
   "outputs": [
    {
     "data": {
      "text/plain": [
       "1895"
      ]
     },
     "execution_count": 171,
     "metadata": {},
     "output_type": "execute_result"
    }
   ],
   "source": [
    "consuTrxForALS_grp['consumer_code'].nunique()"
   ]
  },
  {
   "cell_type": "code",
   "execution_count": 172,
   "metadata": {},
   "outputs": [
    {
     "data": {
      "text/plain": [
       "2987"
      ]
     },
     "execution_count": 172,
     "metadata": {},
     "output_type": "execute_result"
    }
   ],
   "source": [
    "consuTrxForALS_grp['item_code'].nunique()"
   ]
  },
  {
   "cell_type": "code",
   "execution_count": 173,
   "metadata": {},
   "outputs": [
    {
     "data": {
      "text/plain": [
       "40710"
      ]
     },
     "execution_count": 173,
     "metadata": {},
     "output_type": "execute_result"
    }
   ],
   "source": [
    "consuTrxForALS_grp.shape[0]"
   ]
  },
  {
   "cell_type": "markdown",
   "metadata": {},
   "source": [
    "## -------------------- Create Sparse User-Item Matrix --------------------"
   ]
  },
  {
   "cell_type": "code",
   "execution_count": 174,
   "metadata": {},
   "outputs": [],
   "source": [
    "from scipy.sparse import csr_matrix"
   ]
  },
  {
   "cell_type": "code",
   "execution_count": 175,
   "metadata": {},
   "outputs": [],
   "source": [
    "alpha = 40"
   ]
  },
  {
   "cell_type": "code",
   "execution_count": 176,
   "metadata": {},
   "outputs": [],
   "source": [
    "sparse_user_item = csr_matrix( ([alpha]*consuTrxForALS.shape[0], (consuTrxForALS['consumer_code'], consuTrxForALS['item_code']) ))"
   ]
  },
  {
   "cell_type": "code",
   "execution_count": 177,
   "metadata": {},
   "outputs": [
    {
     "data": {
      "text/plain": [
       "<1895x2987 sparse matrix of type '<class 'numpy.intc'>'\n",
       "\twith 40710 stored elements in Compressed Sparse Row format>"
      ]
     },
     "execution_count": 177,
     "metadata": {},
     "output_type": "execute_result"
    }
   ],
   "source": [
    "sparse_user_item"
   ]
  },
  {
   "cell_type": "code",
   "execution_count": 178,
   "metadata": {},
   "outputs": [
    {
     "data": {
      "text/plain": [
       "(1895, 2987)"
      ]
     },
     "execution_count": 178,
     "metadata": {},
     "output_type": "execute_result"
    }
   ],
   "source": [
    "sparse_user_item.shape"
   ]
  },
  {
   "cell_type": "code",
   "execution_count": 179,
   "metadata": {},
   "outputs": [],
   "source": [
    "csr_user_array = sparse_user_item.toarray()"
   ]
  },
  {
   "cell_type": "code",
   "execution_count": 180,
   "metadata": {},
   "outputs": [
    {
     "data": {
      "text/plain": [
       "array([[ 0,  0,  0, ...,  0,  0,  0],\n",
       "       [ 0,  0,  0, ...,  0,  0,  0],\n",
       "       [ 0, 80,  0, ...,  0,  0,  0],\n",
       "       ...,\n",
       "       [ 0,  0,  0, ...,  0,  0,  0],\n",
       "       [ 0,  0,  0, ...,  0,  0,  0],\n",
       "       [ 0,  0,  0, ...,  0,  0,  0]], dtype=int32)"
      ]
     },
     "execution_count": 180,
     "metadata": {},
     "output_type": "execute_result"
    }
   ],
   "source": [
    "csr_user_array"
   ]
  },
  {
   "cell_type": "code",
   "execution_count": 181,
   "metadata": {},
   "outputs": [
    {
     "data": {
      "text/plain": [
       "(1895, 2987, 80)"
      ]
     },
     "execution_count": 181,
     "metadata": {},
     "output_type": "execute_result"
    }
   ],
   "source": [
    "len(csr_user_array), len(csr_user_array[0]), csr_user_array[2][1]"
   ]
  },
  {
   "cell_type": "code",
   "execution_count": 182,
   "metadata": {},
   "outputs": [
    {
     "name": "stdout",
     "output_type": "stream",
     "text": [
      "  (0, 65)\t40\n",
      "  (0, 160)\t40\n",
      "  (0, 188)\t40\n",
      "  (0, 196)\t40\n",
      "  (0, 314)\t320\n",
      "  (0, 328)\t40\n",
      "  (0, 386)\t40\n",
      "  (0, 417)\t40\n",
      "  (0, 443)\t40\n",
      "  (0, 451)\t80\n",
      "  (0, 453)\t80\n",
      "  (0, 465)\t40\n",
      "  (0, 570)\t40\n",
      "  (0, 702)\t80\n",
      "  (0, 769)\t40\n",
      "  (0, 813)\t40\n",
      "  (0, 819)\t80\n",
      "  (0, 864)\t40\n",
      "  (0, 890)\t40\n",
      "  (0, 1087)\t80\n",
      "  (0, 1358)\t40\n",
      "  (0, 1390)\t80\n",
      "  (0, 1411)\t120\n",
      "  (0, 1618)\t40\n",
      "  (0, 1632)\t40\n",
      "  :\t:\n",
      "  (1894, 1977)\t160\n",
      "  (1894, 2023)\t40\n",
      "  (1894, 2027)\t40\n",
      "  (1894, 2071)\t640\n",
      "  (1894, 2080)\t80\n",
      "  (1894, 2190)\t40\n",
      "  (1894, 2253)\t80\n",
      "  (1894, 2334)\t40\n",
      "  (1894, 2349)\t40\n",
      "  (1894, 2451)\t40\n",
      "  (1894, 2470)\t40\n",
      "  (1894, 2538)\t80\n",
      "  (1894, 2608)\t40\n",
      "  (1894, 2676)\t80\n",
      "  (1894, 2696)\t120\n",
      "  (1894, 2719)\t40\n",
      "  (1894, 2772)\t80\n",
      "  (1894, 2809)\t40\n",
      "  (1894, 2814)\t80\n",
      "  (1894, 2845)\t40\n",
      "  (1894, 2861)\t160\n",
      "  (1894, 2867)\t40\n",
      "  (1894, 2922)\t40\n",
      "  (1894, 2925)\t40\n",
      "  (1894, 2981)\t40\n"
     ]
    }
   ],
   "source": [
    "print(sparse_user_item)"
   ]
  },
  {
   "cell_type": "markdown",
   "metadata": {},
   "source": [
    "### -------------------------------- Create item-user sparse matrix -------------------------------"
   ]
  },
  {
   "cell_type": "code",
   "execution_count": 183,
   "metadata": {},
   "outputs": [],
   "source": [
    "sparse_item_user = sparse_user_item.T.tocsr()"
   ]
  },
  {
   "cell_type": "code",
   "execution_count": 184,
   "metadata": {},
   "outputs": [
    {
     "data": {
      "text/plain": [
       "(2987, 1895)"
      ]
     },
     "execution_count": 184,
     "metadata": {},
     "output_type": "execute_result"
    }
   ],
   "source": [
    "sparse_item_user.shape"
   ]
  },
  {
   "cell_type": "code",
   "execution_count": 185,
   "metadata": {},
   "outputs": [],
   "source": [
    "csr_item_array = sparse_item_user.toarray()"
   ]
  },
  {
   "cell_type": "code",
   "execution_count": 186,
   "metadata": {},
   "outputs": [
    {
     "data": {
      "text/plain": [
       "array([[ 0,  0,  0, ...,  0,  0,  0],\n",
       "       [ 0,  0, 80, ...,  0,  0,  0],\n",
       "       [ 0,  0,  0, ...,  0,  0,  0],\n",
       "       ...,\n",
       "       [ 0,  0,  0, ...,  0,  0,  0],\n",
       "       [ 0,  0,  0, ...,  0,  0,  0],\n",
       "       [ 0,  0,  0, ...,  0,  0,  0]], dtype=int32)"
      ]
     },
     "execution_count": 186,
     "metadata": {},
     "output_type": "execute_result"
    }
   ],
   "source": [
    "csr_item_array"
   ]
  },
  {
   "cell_type": "code",
   "execution_count": 187,
   "metadata": {},
   "outputs": [
    {
     "name": "stdout",
     "output_type": "stream",
     "text": [
      "  (0, 226)\t40\n",
      "  (0, 333)\t280\n",
      "  (0, 831)\t280\n",
      "  (0, 1142)\t320\n",
      "  (0, 1867)\t120\n",
      "  (1, 2)\t80\n",
      "  (1, 130)\t40\n",
      "  (1, 210)\t120\n",
      "  (1, 555)\t40\n",
      "  (1, 941)\t40\n",
      "  (1, 946)\t120\n",
      "  (1, 1149)\t120\n",
      "  (1, 1235)\t200\n",
      "  (1, 1499)\t40\n",
      "  (1, 1532)\t40\n",
      "  (2, 40)\t40\n",
      "  (2, 159)\t40\n",
      "  (2, 197)\t40\n",
      "  (2, 334)\t40\n",
      "  (2, 630)\t40\n",
      "  (2, 651)\t40\n",
      "  (2, 820)\t160\n",
      "  (2, 906)\t40\n",
      "  (2, 935)\t120\n",
      "  (2, 1004)\t40\n",
      "  :\t:\n",
      "  (2985, 798)\t40\n",
      "  (2985, 908)\t40\n",
      "  (2985, 978)\t40\n",
      "  (2985, 1079)\t40\n",
      "  (2985, 1136)\t40\n",
      "  (2985, 1221)\t40\n",
      "  (2985, 1248)\t40\n",
      "  (2985, 1263)\t160\n",
      "  (2985, 1319)\t40\n",
      "  (2985, 1334)\t40\n",
      "  (2985, 1343)\t40\n",
      "  (2985, 1383)\t80\n",
      "  (2985, 1404)\t120\n",
      "  (2985, 1405)\t40\n",
      "  (2985, 1527)\t40\n",
      "  (2985, 1597)\t40\n",
      "  (2985, 1728)\t240\n",
      "  (2985, 1833)\t120\n",
      "  (2985, 1874)\t40\n",
      "  (2985, 1888)\t80\n",
      "  (2986, 170)\t40\n",
      "  (2986, 588)\t40\n",
      "  (2986, 1004)\t40\n",
      "  (2986, 1237)\t40\n",
      "  (2986, 1597)\t40\n"
     ]
    }
   ],
   "source": [
    "print(sparse_item_user)"
   ]
  },
  {
   "cell_type": "markdown",
   "metadata": {},
   "source": [
    "## -------------------- Create train, test data --------------------"
   ]
  },
  {
   "cell_type": "code",
   "execution_count": 188,
   "metadata": {},
   "outputs": [],
   "source": [
    "from implicit.evaluation import train_test_split"
   ]
  },
  {
   "cell_type": "code",
   "execution_count": 189,
   "metadata": {},
   "outputs": [],
   "source": [
    "train, test = train_test_split(sparse_item_user, train_percentage=0.8)"
   ]
  },
  {
   "cell_type": "code",
   "execution_count": 190,
   "metadata": {},
   "outputs": [
    {
     "data": {
      "text/plain": [
       "<2987x1895 sparse matrix of type '<class 'numpy.intc'>'\n",
       "\twith 32585 stored elements in Compressed Sparse Row format>"
      ]
     },
     "execution_count": 190,
     "metadata": {},
     "output_type": "execute_result"
    }
   ],
   "source": [
    "train"
   ]
  },
  {
   "cell_type": "code",
   "execution_count": 191,
   "metadata": {},
   "outputs": [
    {
     "data": {
      "text/plain": [
       "<2987x1895 sparse matrix of type '<class 'numpy.intc'>'\n",
       "\twith 8125 stored elements in Compressed Sparse Row format>"
      ]
     },
     "execution_count": 191,
     "metadata": {},
     "output_type": "execute_result"
    }
   ],
   "source": [
    "test"
   ]
  },
  {
   "cell_type": "code",
   "execution_count": 192,
   "metadata": {},
   "outputs": [
    {
     "data": {
      "text/plain": [
       "<2987x1895 sparse matrix of type '<class 'numpy.intc'>'\n",
       "\twith 8125 stored elements in Compressed Sparse Row format>"
      ]
     },
     "execution_count": 192,
     "metadata": {},
     "output_type": "execute_result"
    }
   ],
   "source": [
    "test"
   ]
  },
  {
   "cell_type": "markdown",
   "metadata": {},
   "source": [
    "## -------------------- Building ALS Model --------------------"
   ]
  },
  {
   "cell_type": "code",
   "execution_count": 193,
   "metadata": {},
   "outputs": [],
   "source": [
    "#! pip install implicit"
   ]
  },
  {
   "cell_type": "code",
   "execution_count": 194,
   "metadata": {},
   "outputs": [],
   "source": [
    "import implicit"
   ]
  },
  {
   "cell_type": "code",
   "execution_count": 195,
   "metadata": {},
   "outputs": [
    {
     "name": "stderr",
     "output_type": "stream",
     "text": [
      "WARNING:root:OpenBLAS detected. Its highly recommend to set the environment variable 'export OPENBLAS_NUM_THREADS=1' to disable its internal multithreading\n"
     ]
    }
   ],
   "source": [
    "model = implicit.als.AlternatingLeastSquares(factors=100, regularization=0.1, iterations=20, calculate_training_loss=True)\n"
   ]
  },
  {
   "cell_type": "code",
   "execution_count": 196,
   "metadata": {},
   "outputs": [
    {
     "data": {
      "text/plain": [
       "<implicit.als.AlternatingLeastSquares at 0x1df2129a1c8>"
      ]
     },
     "execution_count": 196,
     "metadata": {},
     "output_type": "execute_result"
    }
   ],
   "source": [
    "model"
   ]
  },
  {
   "cell_type": "markdown",
   "metadata": {},
   "source": [
    "### ------------------------- Train the Model -----------------------"
   ]
  },
  {
   "cell_type": "code",
   "execution_count": 197,
   "metadata": {},
   "outputs": [
    {
     "data": {
      "application/vnd.jupyter.widget-view+json": {
       "model_id": "45f0d8a54e954e45b1dd27589d4702ac",
       "version_major": 2,
       "version_minor": 0
      },
      "text/plain": [
       "HBox(children=(FloatProgress(value=0.0, max=20.0), HTML(value='')))"
      ]
     },
     "metadata": {},
     "output_type": "display_data"
    },
    {
     "name": "stdout",
     "output_type": "stream",
     "text": [
      "\n"
     ]
    }
   ],
   "source": [
    "model.fit(train, show_progress=True)"
   ]
  },
  {
   "cell_type": "markdown",
   "metadata": {},
   "source": [
    "## ---------------- Generating recommendations for a user_id --------------------"
   ]
  },
  {
   "cell_type": "code",
   "execution_count": 213,
   "metadata": {},
   "outputs": [],
   "source": [
    "def remommendALS(customer_id):\n",
    "    consumer_code=user_grouped.loc[customer_id].consumer_code\n",
    "    output_30 = model.recommend(consumer_code, sparse_user_item, N=30)\n",
    "    output_df = pd.DataFrame(output_30, columns=['item_code', 'als_score'])\n",
    "    # Merge recomended data to get item_id\n",
    "    merged_ALS = pd.merge(output_df, original_grouped, on=['item_code'],how='left')\n",
    "    # Merge with platform content to remove pulled out content\n",
    "    merged_ALS_title = pd.merge(merged_ALS, ptfmCont_to_merge, on='item_id', how='left')\n",
    "    # remove content that is pulled out\n",
    "    merged_ALS_title = merged_ALS_title[merged_ALS_title['interaction_type'] == 'content_present']\n",
    "    # sort values on score\n",
    "    #merged_ALS_title = merged_ALS_title.sort_values(by='als_score',ascending=False)\n",
    "    return merged_ALS_title[:10]"
   ]
  },
  {
   "cell_type": "markdown",
   "metadata": {},
   "source": [
    "## --------------- Top 10 recommandation from ALS ---------------"
   ]
  },
  {
   "cell_type": "code",
   "execution_count": 226,
   "metadata": {},
   "outputs": [],
   "source": [
    "als_top10 = remommendALS(3636910968448833585)"
   ]
  },
  {
   "cell_type": "code",
   "execution_count": 228,
   "metadata": {},
   "outputs": [
    {
     "data": {
      "text/html": [
       "<div>\n",
       "<style scoped>\n",
       "    .dataframe tbody tr th:only-of-type {\n",
       "        vertical-align: middle;\n",
       "    }\n",
       "\n",
       "    .dataframe tbody tr th {\n",
       "        vertical-align: top;\n",
       "    }\n",
       "\n",
       "    .dataframe thead th {\n",
       "        text-align: right;\n",
       "    }\n",
       "</style>\n",
       "<table border=\"1\" class=\"dataframe\">\n",
       "  <thead>\n",
       "    <tr style=\"text-align: right;\">\n",
       "      <th></th>\n",
       "      <th>item_id</th>\n",
       "      <th>title</th>\n",
       "      <th>text_description</th>\n",
       "    </tr>\n",
       "  </thead>\n",
       "  <tbody>\n",
       "    <tr>\n",
       "      <th>1</th>\n",
       "      <td>1873952032843878490</td>\n",
       "      <td>Hype Driven Development</td>\n",
       "      <td>Software development teams often make decisions about software architecture or technological sta...</td>\n",
       "    </tr>\n",
       "    <tr>\n",
       "      <th>2</th>\n",
       "      <td>5338677278233757627</td>\n",
       "      <td>How to Get a Job at Google</td>\n",
       "      <td>MOUNTAIN VIEW, Calif. - LAST June, in an interview with Adam Bryant of The Times, Laszlo Bock, t...</td>\n",
       "    </tr>\n",
       "    <tr>\n",
       "      <th>3</th>\n",
       "      <td>-2479936301516183562</td>\n",
       "      <td>GitLab launches Issue Boards, an open-source task management tool that resembles Trello</td>\n",
       "      <td>Source code repository software startup GitLab today is introducing Issue Boards, an open-source...</td>\n",
       "    </tr>\n",
       "    <tr>\n",
       "      <th>4</th>\n",
       "      <td>-4338308747999225618</td>\n",
       "      <td>How the queen of Silicon Valley is helping Google go after Amazon's most profitable business</td>\n",
       "      <td>Google The first thing to understand about Diane Greene, the woman Google acqui-hired in Novembe...</td>\n",
       "    </tr>\n",
       "    <tr>\n",
       "      <th>6</th>\n",
       "      <td>5533752987392101383</td>\n",
       "      <td>7 Questions to Ask Before Your Next Digital Transformation</td>\n",
       "      <td>Although digital investment is almost unquestionably the right course of action for most firms, ...</td>\n",
       "    </tr>\n",
       "    <tr>\n",
       "      <th>7</th>\n",
       "      <td>-8277924497842156608</td>\n",
       "      <td>GitHub on BigQuery: Analyze all the open source code</td>\n",
       "      <td>Google, in collaboration with GitHub, is releasing an incredible new open dataset on Google BigQ...</td>\n",
       "    </tr>\n",
       "    <tr>\n",
       "      <th>9</th>\n",
       "      <td>-1483274517395674620</td>\n",
       "      <td>Test and deploy to Google App Engine with the new Maven and Gradle plugins</td>\n",
       "      <td>Here at Google, we strive to make it easy for developers to use Google Cloud Platform (GCP). Tod...</td>\n",
       "    </tr>\n",
       "    <tr>\n",
       "      <th>10</th>\n",
       "      <td>-8992803137960175254</td>\n",
       "      <td>4 Reasons Managers Should Spend More Time on Coaching</td>\n",
       "      <td>There are managers who coach and managers who don't. Leaders in the latter category are not nece...</td>\n",
       "    </tr>\n",
       "    <tr>\n",
       "      <th>11</th>\n",
       "      <td>1286723199785027310</td>\n",
       "      <td>The Skills You'll Need and the Salary You Can Expect as a Data Scientist</td>\n",
       "      <td>Data science is a growing career field that pays well. If you are interested in programming, mat...</td>\n",
       "    </tr>\n",
       "    <tr>\n",
       "      <th>12</th>\n",
       "      <td>-8717945432162716060</td>\n",
       "      <td>7 Vital SEO Trends for Google Rankings in 2017 | Digital Current</td>\n",
       "      <td>Use these seven SEO trends to improve your Google search rankings in 2017. Let's face it: Develo...</td>\n",
       "    </tr>\n",
       "  </tbody>\n",
       "</table>\n",
       "</div>"
      ],
      "text/plain": [
       "                item_id  \\\n",
       "1   1873952032843878490   \n",
       "2   5338677278233757627   \n",
       "3  -2479936301516183562   \n",
       "4  -4338308747999225618   \n",
       "6   5533752987392101383   \n",
       "7  -8277924497842156608   \n",
       "9  -1483274517395674620   \n",
       "10 -8992803137960175254   \n",
       "11  1286723199785027310   \n",
       "12 -8717945432162716060   \n",
       "\n",
       "                                                                                           title  \\\n",
       "1                                                                        Hype Driven Development   \n",
       "2                                                                     How to Get a Job at Google   \n",
       "3        GitLab launches Issue Boards, an open-source task management tool that resembles Trello   \n",
       "4   How the queen of Silicon Valley is helping Google go after Amazon's most profitable business   \n",
       "6                                     7 Questions to Ask Before Your Next Digital Transformation   \n",
       "7                                           GitHub on BigQuery: Analyze all the open source code   \n",
       "9                     Test and deploy to Google App Engine with the new Maven and Gradle plugins   \n",
       "10                                         4 Reasons Managers Should Spend More Time on Coaching   \n",
       "11                      The Skills You'll Need and the Salary You Can Expect as a Data Scientist   \n",
       "12                              7 Vital SEO Trends for Google Rankings in 2017 | Digital Current   \n",
       "\n",
       "                                                                                       text_description  \n",
       "1   Software development teams often make decisions about software architecture or technological sta...  \n",
       "2   MOUNTAIN VIEW, Calif. - LAST June, in an interview with Adam Bryant of The Times, Laszlo Bock, t...  \n",
       "3   Source code repository software startup GitLab today is introducing Issue Boards, an open-source...  \n",
       "4   Google The first thing to understand about Diane Greene, the woman Google acqui-hired in Novembe...  \n",
       "6   Although digital investment is almost unquestionably the right course of action for most firms, ...  \n",
       "7   Google, in collaboration with GitHub, is releasing an incredible new open dataset on Google BigQ...  \n",
       "9   Here at Google, we strive to make it easy for developers to use Google Cloud Platform (GCP). Tod...  \n",
       "10  There are managers who coach and managers who don't. Leaders in the latter category are not nece...  \n",
       "11  Data science is a growing career field that pays well. If you are interested in programming, mat...  \n",
       "12  Use these seven SEO trends to improve your Google search rankings in 2017. Let's face it: Develo...  "
      ]
     },
     "execution_count": 228,
     "metadata": {},
     "output_type": "execute_result"
    }
   ],
   "source": [
    "als_top10[['item_id','title','text_description']]"
   ]
  },
  {
   "cell_type": "markdown",
   "metadata": {},
   "source": [
    "## ---------------- Generating recommendations for given item_id -----------------"
   ]
  },
  {
   "cell_type": "code",
   "execution_count": 230,
   "metadata": {},
   "outputs": [],
   "source": [
    "def recommendSimilarItemsALS(item_id):\n",
    "    item_code = original_grouped[original_grouped['item_id']==item_id].index[0]\n",
    "    similar = model.similar_items(item_code, 20)\n",
    "    similar_df = pd.DataFrame(similar, columns=['item_code', 'score'])\n",
    "    # merge to get item_id\n",
    "    merged_ALS_item = pd.merge(similar_df, original_grouped, on=['item_code'],how='left')\n",
    "    # get item titles and description \n",
    "    merged_ALS_similar_title = pd.merge(merged_ALS_item, ptfmCont_to_merge, on='item_id', how='left')\n",
    "    # remove content that is pulled out\n",
    "    merged_ALS_similar_title = merged_ALS_similar_title[merged_ALS_similar_title['interaction_type'] == 'content_present']\n",
    "    # drop the item for which we searhced\n",
    "    merged_ALS_similar_title = merged_ALS_similar_title[merged_ALS_similar_title['item_code'] != item_code]\n",
    "    return merged_ALS_similar_title[:10]"
   ]
  },
  {
   "cell_type": "markdown",
   "metadata": {},
   "source": [
    "## ------------- Top 10 similar items based on ALS ---------------"
   ]
  },
  {
   "cell_type": "code",
   "execution_count": 233,
   "metadata": {},
   "outputs": [],
   "source": [
    "# Recommandation based on item clicked by user\n",
    "topAls = recommendSimilarItemsALS(5338677278233757627)"
   ]
  },
  {
   "cell_type": "code",
   "execution_count": 235,
   "metadata": {},
   "outputs": [
    {
     "data": {
      "text/html": [
       "<div>\n",
       "<style scoped>\n",
       "    .dataframe tbody tr th:only-of-type {\n",
       "        vertical-align: middle;\n",
       "    }\n",
       "\n",
       "    .dataframe tbody tr th {\n",
       "        vertical-align: top;\n",
       "    }\n",
       "\n",
       "    .dataframe thead th {\n",
       "        text-align: right;\n",
       "    }\n",
       "</style>\n",
       "<table border=\"1\" class=\"dataframe\">\n",
       "  <thead>\n",
       "    <tr style=\"text-align: right;\">\n",
       "      <th></th>\n",
       "      <th>item_id</th>\n",
       "      <th>title</th>\n",
       "      <th>text_description</th>\n",
       "    </tr>\n",
       "  </thead>\n",
       "  <tbody>\n",
       "    <tr>\n",
       "      <th>1</th>\n",
       "      <td>-4754223659064624252</td>\n",
       "      <td>Effective learning through code workshops | Box Blog</td>\n",
       "      <td>At Box, we're very interested in the quality of our code, which is why we're constantly evaluati...</td>\n",
       "    </tr>\n",
       "    <tr>\n",
       "      <th>2</th>\n",
       "      <td>8522523292310933696</td>\n",
       "      <td>Coca-Cola Is Paying $575 Million for Unilever's Soy Drink Business</td>\n",
       "      <td>Coca-Cola and its largest bottler have agreed to acquire a soy-based beverage maker for $575 mil...</td>\n",
       "    </tr>\n",
       "    <tr>\n",
       "      <th>3</th>\n",
       "      <td>-8194774279664546436</td>\n",
       "      <td>Linking the customer experience to value</td>\n",
       "      <td>Many customer-experience transformations stall because leaders can't show how these efforts crea...</td>\n",
       "    </tr>\n",
       "    <tr>\n",
       "      <th>4</th>\n",
       "      <td>3151804887212279872</td>\n",
       "      <td>Manhattan CRE prices spark a mass exodus of startups to Brooklyn</td>\n",
       "      <td>Manhattan, once the mecca for technology and innovation on the east coast, is now losing ground ...</td>\n",
       "    </tr>\n",
       "    <tr>\n",
       "      <th>5</th>\n",
       "      <td>8881733945001664941</td>\n",
       "      <td>Configuring OSGi</td>\n",
       "      <td>For run mode specific configurations, multiple run modes can be combined. For example, you can c...</td>\n",
       "    </tr>\n",
       "    <tr>\n",
       "      <th>6</th>\n",
       "      <td>6765368095966422513</td>\n",
       "      <td>What is Affective Computing And How Could Emotional Machines Change Our Lives?</td>\n",
       "      <td>12,923 Views How would your computer respond if you looked frustrated or upset? Could your phone...</td>\n",
       "    </tr>\n",
       "    <tr>\n",
       "      <th>8</th>\n",
       "      <td>-5170198873410718233</td>\n",
       "      <td>NTT to buy Dell's services division for $3.05 billion</td>\n",
       "      <td>You may know Dell as a computer and server maker, but Dell also operates a substantial IT servic...</td>\n",
       "    </tr>\n",
       "    <tr>\n",
       "      <th>9</th>\n",
       "      <td>549631724393582960</td>\n",
       "      <td>Optimize Your Agile Growth Strategy with Cloud</td>\n",
       "      <td>It was Thomas Edison who said, \"Genius is 1% inspiration and 99% perspiration.\" As a man with ov...</td>\n",
       "    </tr>\n",
       "    <tr>\n",
       "      <th>10</th>\n",
       "      <td>-4239579488204604851</td>\n",
       "      <td>Announcing pricing for Google Stackdriver</td>\n",
       "      <td>We recently announced beta availability of Google Stackdriver , an integrated monitoring, loggin...</td>\n",
       "    </tr>\n",
       "    <tr>\n",
       "      <th>11</th>\n",
       "      <td>-6993279786012379694</td>\n",
       "      <td>Everything you need to know about the big changes coming to Newark airport</td>\n",
       "      <td>In the fall, thefederal government will lift the cap on the number of hourly takeoffs and landin...</td>\n",
       "    </tr>\n",
       "  </tbody>\n",
       "</table>\n",
       "</div>"
      ],
      "text/plain": [
       "                item_id  \\\n",
       "1  -4754223659064624252   \n",
       "2   8522523292310933696   \n",
       "3  -8194774279664546436   \n",
       "4   3151804887212279872   \n",
       "5   8881733945001664941   \n",
       "6   6765368095966422513   \n",
       "8  -5170198873410718233   \n",
       "9    549631724393582960   \n",
       "10 -4239579488204604851   \n",
       "11 -6993279786012379694   \n",
       "\n",
       "                                                                             title  \\\n",
       "1                             Effective learning through code workshops | Box Blog   \n",
       "2               Coca-Cola Is Paying $575 Million for Unilever's Soy Drink Business   \n",
       "3                                         Linking the customer experience to value   \n",
       "4                 Manhattan CRE prices spark a mass exodus of startups to Brooklyn   \n",
       "5                                                                 Configuring OSGi   \n",
       "6   What is Affective Computing And How Could Emotional Machines Change Our Lives?   \n",
       "8                            NTT to buy Dell's services division for $3.05 billion   \n",
       "9                                   Optimize Your Agile Growth Strategy with Cloud   \n",
       "10                                       Announcing pricing for Google Stackdriver   \n",
       "11      Everything you need to know about the big changes coming to Newark airport   \n",
       "\n",
       "                                                                                       text_description  \n",
       "1   At Box, we're very interested in the quality of our code, which is why we're constantly evaluati...  \n",
       "2   Coca-Cola and its largest bottler have agreed to acquire a soy-based beverage maker for $575 mil...  \n",
       "3   Many customer-experience transformations stall because leaders can't show how these efforts crea...  \n",
       "4   Manhattan, once the mecca for technology and innovation on the east coast, is now losing ground ...  \n",
       "5   For run mode specific configurations, multiple run modes can be combined. For example, you can c...  \n",
       "6   12,923 Views How would your computer respond if you looked frustrated or upset? Could your phone...  \n",
       "8   You may know Dell as a computer and server maker, but Dell also operates a substantial IT servic...  \n",
       "9   It was Thomas Edison who said, \"Genius is 1% inspiration and 99% perspiration.\" As a man with ov...  \n",
       "10  We recently announced beta availability of Google Stackdriver , an integrated monitoring, loggin...  \n",
       "11  In the fall, thefederal government will lift the cap on the number of hourly takeoffs and landin...  "
      ]
     },
     "execution_count": 235,
     "metadata": {},
     "output_type": "execute_result"
    }
   ],
   "source": [
    "topAls[['item_id','title','text_description']]"
   ]
  },
  {
   "cell_type": "code",
   "execution_count": null,
   "metadata": {},
   "outputs": [],
   "source": []
  },
  {
   "cell_type": "markdown",
   "metadata": {},
   "source": [
    "# -------------------- Evaluate ALS -----------------------"
   ]
  },
  {
   "cell_type": "code",
   "execution_count": 236,
   "metadata": {},
   "outputs": [],
   "source": [
    "from implicit.evaluation import ranking_metrics_at_k"
   ]
  },
  {
   "cell_type": "code",
   "execution_count": 237,
   "metadata": {},
   "outputs": [
    {
     "data": {
      "application/vnd.jupyter.widget-view+json": {
       "model_id": "603fbd473110482e85479c2a5782534a",
       "version_major": 2,
       "version_minor": 0
      },
      "text/plain": [
       "HBox(children=(FloatProgress(value=0.0, max=1895.0), HTML(value='')))"
      ]
     },
     "metadata": {},
     "output_type": "display_data"
    },
    {
     "name": "stdout",
     "output_type": "stream",
     "text": [
      "\n"
     ]
    },
    {
     "data": {
      "text/plain": [
       "{'precision': 0.12707398008979115,\n",
       " 'map': 0.06191045321251344,\n",
       " 'ndcg': 0.1039180975548511,\n",
       " 'auc': 0.5650835823453499}"
      ]
     },
     "execution_count": 237,
     "metadata": {},
     "output_type": "execute_result"
    }
   ],
   "source": [
    "# Looking at the implicit code i came up with this evaluation metrics and it provides pricision@k,map,auc,etcc\n",
    "ranking_metrics_at_k(model,train.T,test.T)"
   ]
  },
  {
   "cell_type": "markdown",
   "metadata": {},
   "source": [
    "# ----------- Hybrid : Collaborative + content based ---------------"
   ]
  },
  {
   "cell_type": "markdown",
   "metadata": {},
   "source": [
    "### Collaborative user based data"
   ]
  },
  {
   "cell_type": "code",
   "execution_count": 238,
   "metadata": {},
   "outputs": [],
   "source": [
    "predForUser, content_user_collb_all = recommendItemForUser(3636910968448833585)"
   ]
  },
  {
   "cell_type": "code",
   "execution_count": 239,
   "metadata": {},
   "outputs": [],
   "source": [
    "collab_output_for_hybrid = content_user_collb_all[['item_id','title','score']]"
   ]
  },
  {
   "cell_type": "code",
   "execution_count": 240,
   "metadata": {},
   "outputs": [
    {
     "data": {
      "text/html": [
       "<div>\n",
       "<style scoped>\n",
       "    .dataframe tbody tr th:only-of-type {\n",
       "        vertical-align: middle;\n",
       "    }\n",
       "\n",
       "    .dataframe tbody tr th {\n",
       "        vertical-align: top;\n",
       "    }\n",
       "\n",
       "    .dataframe thead th {\n",
       "        text-align: right;\n",
       "    }\n",
       "</style>\n",
       "<table border=\"1\" class=\"dataframe\">\n",
       "  <thead>\n",
       "    <tr style=\"text-align: right;\">\n",
       "      <th></th>\n",
       "      <th>item_id</th>\n",
       "      <th>title</th>\n",
       "      <th>score</th>\n",
       "    </tr>\n",
       "  </thead>\n",
       "  <tbody>\n",
       "    <tr>\n",
       "      <th>798</th>\n",
       "      <td>-4320251915347436672</td>\n",
       "      <td>Trooly is using machine learning to judge trustworthiness from digital footprints</td>\n",
       "      <td>22.602103</td>\n",
       "    </tr>\n",
       "    <tr>\n",
       "      <th>831</th>\n",
       "      <td>-4130193294870737688</td>\n",
       "      <td>Game of Loans</td>\n",
       "      <td>18.461753</td>\n",
       "    </tr>\n",
       "    <tr>\n",
       "      <th>858</th>\n",
       "      <td>-3951274083288934897</td>\n",
       "      <td>Digital Leadership Is Not an Optional Part of Being a CEO</td>\n",
       "      <td>14.305706</td>\n",
       "    </tr>\n",
       "    <tr>\n",
       "      <th>1319</th>\n",
       "      <td>-986193709330758766</td>\n",
       "      <td>System Code Geeks are giving away a FREE Sublime Text Editor License</td>\n",
       "      <td>13.848119</td>\n",
       "    </tr>\n",
       "    <tr>\n",
       "      <th>926</th>\n",
       "      <td>-3544655814153481738</td>\n",
       "      <td>New Africa Trend Briefing from TrendWatching | THE FUTURE OF AFRICONNECTION</td>\n",
       "      <td>11.356745</td>\n",
       "    </tr>\n",
       "  </tbody>\n",
       "</table>\n",
       "</div>"
      ],
      "text/plain": [
       "                  item_id  \\\n",
       "798  -4320251915347436672   \n",
       "831  -4130193294870737688   \n",
       "858  -3951274083288934897   \n",
       "1319  -986193709330758766   \n",
       "926  -3544655814153481738   \n",
       "\n",
       "                                                                                  title  \\\n",
       "798   Trooly is using machine learning to judge trustworthiness from digital footprints   \n",
       "831                                                                       Game of Loans   \n",
       "858                           Digital Leadership Is Not an Optional Part of Being a CEO   \n",
       "1319               System Code Geeks are giving away a FREE Sublime Text Editor License   \n",
       "926         New Africa Trend Briefing from TrendWatching | THE FUTURE OF AFRICONNECTION   \n",
       "\n",
       "          score  \n",
       "798   22.602103  \n",
       "831   18.461753  \n",
       "858   14.305706  \n",
       "1319  13.848119  \n",
       "926   11.356745  "
      ]
     },
     "execution_count": 240,
     "metadata": {},
     "output_type": "execute_result"
    }
   ],
   "source": [
    "collab_output_for_hybrid.head()"
   ]
  },
  {
   "cell_type": "code",
   "execution_count": 241,
   "metadata": {},
   "outputs": [
    {
     "name": "stdout",
     "output_type": "stream",
     "text": [
      "<class 'pandas.core.frame.DataFrame'>\n",
      "Int64Index: 1879 entries, 798 to 2986\n",
      "Data columns (total 3 columns):\n",
      " #   Column   Non-Null Count  Dtype  \n",
      "---  ------   --------------  -----  \n",
      " 0   item_id  1879 non-null   int64  \n",
      " 1   title    1879 non-null   object \n",
      " 2   score    1176 non-null   float64\n",
      "dtypes: float64(1), int64(1), object(1)\n",
      "memory usage: 58.7+ KB\n"
     ]
    }
   ],
   "source": [
    "collab_output_for_hybrid.info()"
   ]
  },
  {
   "cell_type": "code",
   "execution_count": 242,
   "metadata": {},
   "outputs": [
    {
     "name": "stderr",
     "output_type": "stream",
     "text": [
      "C:\\Users\\Admin\\anaconda3\\lib\\site-packages\\ipykernel_launcher.py:1: SettingWithCopyWarning: \n",
      "A value is trying to be set on a copy of a slice from a DataFrame.\n",
      "Try using .loc[row_indexer,col_indexer] = value instead\n",
      "\n",
      "See the caveats in the documentation: https://pandas.pydata.org/pandas-docs/stable/user_guide/indexing.html#returning-a-view-versus-a-copy\n",
      "  \"\"\"Entry point for launching an IPython kernel.\n"
     ]
    }
   ],
   "source": [
    "collab_output_for_hybrid['collaborative_score_normalized'] = (collab_output_for_hybrid['score']-min(collab_output_for_hybrid['score']))/(max(collab_output_for_hybrid['score'])-min(collab_output_for_hybrid['score']))"
   ]
  },
  {
   "cell_type": "code",
   "execution_count": 243,
   "metadata": {},
   "outputs": [
    {
     "data": {
      "text/html": [
       "<div>\n",
       "<style scoped>\n",
       "    .dataframe tbody tr th:only-of-type {\n",
       "        vertical-align: middle;\n",
       "    }\n",
       "\n",
       "    .dataframe tbody tr th {\n",
       "        vertical-align: top;\n",
       "    }\n",
       "\n",
       "    .dataframe thead th {\n",
       "        text-align: right;\n",
       "    }\n",
       "</style>\n",
       "<table border=\"1\" class=\"dataframe\">\n",
       "  <thead>\n",
       "    <tr style=\"text-align: right;\">\n",
       "      <th></th>\n",
       "      <th>item_id</th>\n",
       "      <th>title</th>\n",
       "      <th>score</th>\n",
       "      <th>collaborative_score_normalized</th>\n",
       "    </tr>\n",
       "  </thead>\n",
       "  <tbody>\n",
       "    <tr>\n",
       "      <th>798</th>\n",
       "      <td>-4320251915347436672</td>\n",
       "      <td>Trooly is using machine learning to judge trustworthiness from digital footprints</td>\n",
       "      <td>22.602103</td>\n",
       "      <td>1.000000</td>\n",
       "    </tr>\n",
       "    <tr>\n",
       "      <th>831</th>\n",
       "      <td>-4130193294870737688</td>\n",
       "      <td>Game of Loans</td>\n",
       "      <td>18.461753</td>\n",
       "      <td>0.816816</td>\n",
       "    </tr>\n",
       "    <tr>\n",
       "      <th>858</th>\n",
       "      <td>-3951274083288934897</td>\n",
       "      <td>Digital Leadership Is Not an Optional Part of Being a CEO</td>\n",
       "      <td>14.305706</td>\n",
       "      <td>0.632937</td>\n",
       "    </tr>\n",
       "    <tr>\n",
       "      <th>1319</th>\n",
       "      <td>-986193709330758766</td>\n",
       "      <td>System Code Geeks are giving away a FREE Sublime Text Editor License</td>\n",
       "      <td>13.848119</td>\n",
       "      <td>0.612692</td>\n",
       "    </tr>\n",
       "    <tr>\n",
       "      <th>926</th>\n",
       "      <td>-3544655814153481738</td>\n",
       "      <td>New Africa Trend Briefing from TrendWatching | THE FUTURE OF AFRICONNECTION</td>\n",
       "      <td>11.356745</td>\n",
       "      <td>0.502464</td>\n",
       "    </tr>\n",
       "  </tbody>\n",
       "</table>\n",
       "</div>"
      ],
      "text/plain": [
       "                  item_id  \\\n",
       "798  -4320251915347436672   \n",
       "831  -4130193294870737688   \n",
       "858  -3951274083288934897   \n",
       "1319  -986193709330758766   \n",
       "926  -3544655814153481738   \n",
       "\n",
       "                                                                                  title  \\\n",
       "798   Trooly is using machine learning to judge trustworthiness from digital footprints   \n",
       "831                                                                       Game of Loans   \n",
       "858                           Digital Leadership Is Not an Optional Part of Being a CEO   \n",
       "1319               System Code Geeks are giving away a FREE Sublime Text Editor License   \n",
       "926         New Africa Trend Briefing from TrendWatching | THE FUTURE OF AFRICONNECTION   \n",
       "\n",
       "          score  collaborative_score_normalized  \n",
       "798   22.602103                        1.000000  \n",
       "831   18.461753                        0.816816  \n",
       "858   14.305706                        0.632937  \n",
       "1319  13.848119                        0.612692  \n",
       "926   11.356745                        0.502464  "
      ]
     },
     "execution_count": 243,
     "metadata": {},
     "output_type": "execute_result"
    }
   ],
   "source": [
    "collab_output_for_hybrid.head()"
   ]
  },
  {
   "cell_type": "code",
   "execution_count": null,
   "metadata": {},
   "outputs": [],
   "source": []
  },
  {
   "cell_type": "markdown",
   "metadata": {},
   "source": [
    "### -------------------- Content based data with score --------------------"
   ]
  },
  {
   "cell_type": "code",
   "execution_count": 244,
   "metadata": {},
   "outputs": [
    {
     "data": {
      "text/html": [
       "<div>\n",
       "<style scoped>\n",
       "    .dataframe tbody tr th:only-of-type {\n",
       "        vertical-align: middle;\n",
       "    }\n",
       "\n",
       "    .dataframe tbody tr th {\n",
       "        vertical-align: top;\n",
       "    }\n",
       "\n",
       "    .dataframe thead th {\n",
       "        text-align: right;\n",
       "    }\n",
       "</style>\n",
       "<table border=\"1\" class=\"dataframe\">\n",
       "  <thead>\n",
       "    <tr style=\"text-align: right;\">\n",
       "      <th></th>\n",
       "      <th>item_id</th>\n",
       "      <th>score</th>\n",
       "      <th>interaction_type</th>\n",
       "      <th>producer_id</th>\n",
       "      <th>item_type</th>\n",
       "      <th>item_url</th>\n",
       "      <th>title</th>\n",
       "      <th>text_description</th>\n",
       "      <th>item_domain</th>\n",
       "    </tr>\n",
       "  </thead>\n",
       "  <tbody>\n",
       "    <tr>\n",
       "      <th>0</th>\n",
       "      <td>-4110354420726924665</td>\n",
       "      <td>1.000000</td>\n",
       "      <td>content_present</td>\n",
       "      <td>4340306774493623681</td>\n",
       "      <td>HTML</td>\n",
       "      <td>http://www.nytimes.com/2016/03/28/business/dealbook/ethereum-a-virtual-currency-enables-transact...</td>\n",
       "      <td>Ethereum, a Virtual Currency, Enables Transactions That Rival Bitcoin's</td>\n",
       "      <td>All of this work is still very early. The first full public version of the Ethereum software was...</td>\n",
       "      <td>nytimes.com</td>\n",
       "    </tr>\n",
       "    <tr>\n",
       "      <th>1</th>\n",
       "      <td>-7292285110016212249</td>\n",
       "      <td>0.022316</td>\n",
       "      <td>content_present</td>\n",
       "      <td>4340306774493623681</td>\n",
       "      <td>HTML</td>\n",
       "      <td>http://cointelegraph.com/news/bitcoin-future-when-gbpcoin-of-branson-wins-over-usdcoin-of-trump</td>\n",
       "      <td>Bitcoin Future: When GBPcoin of Branson Wins Over USDcoin of Trump</td>\n",
       "      <td>The alarm clock wakes me at 8:00 with stream of advert-free broadcasting, charged at one satoshi...</td>\n",
       "      <td>cointelegraph.com</td>\n",
       "    </tr>\n",
       "    <tr>\n",
       "      <th>2</th>\n",
       "      <td>-6151852268067518688</td>\n",
       "      <td>0.011867</td>\n",
       "      <td>content_present</td>\n",
       "      <td>3891637997717104548</td>\n",
       "      <td>HTML</td>\n",
       "      <td>https://cloudplatform.googleblog.com/2016/03/Google-Data-Center-360-Tour.html</td>\n",
       "      <td>Google Data Center 360° Tour</td>\n",
       "      <td>We're excited to share the Google Data Center 360° Tour - a YouTube 360° video that gives you an...</td>\n",
       "      <td>cloudplatform.googleblog.com</td>\n",
       "    </tr>\n",
       "    <tr>\n",
       "      <th>3</th>\n",
       "      <td>2448026894306402386</td>\n",
       "      <td>0.193428</td>\n",
       "      <td>content_present</td>\n",
       "      <td>4340306774493623681</td>\n",
       "      <td>HTML</td>\n",
       "      <td>https://bitcoinmagazine.com/articles/ibm-wants-to-evolve-the-internet-with-blockchain-technology...</td>\n",
       "      <td>IBM Wants to \"Evolve the Internet\" With Blockchain Technology</td>\n",
       "      <td>The Aite Group projects the blockchain market could be valued at $400 million by 2019. For that ...</td>\n",
       "      <td>bitcoinmagazine.com</td>\n",
       "    </tr>\n",
       "    <tr>\n",
       "      <th>4</th>\n",
       "      <td>-2826566343807132236</td>\n",
       "      <td>0.080382</td>\n",
       "      <td>content_present</td>\n",
       "      <td>4340306774493623681</td>\n",
       "      <td>HTML</td>\n",
       "      <td>http://www.coindesk.com/ieee-blockchain-oxford-cloud-computing/</td>\n",
       "      <td>IEEE to Talk Blockchain at Cloud Computing Oxford-Con - CoinDesk</td>\n",
       "      <td>One of the largest and oldest organizations for computing professionals will kick off its annual...</td>\n",
       "      <td>coindesk.com</td>\n",
       "    </tr>\n",
       "  </tbody>\n",
       "</table>\n",
       "</div>"
      ],
      "text/plain": [
       "               item_id     score interaction_type          producer_id  \\\n",
       "0 -4110354420726924665  1.000000  content_present  4340306774493623681   \n",
       "1 -7292285110016212249  0.022316  content_present  4340306774493623681   \n",
       "2 -6151852268067518688  0.011867  content_present  3891637997717104548   \n",
       "3  2448026894306402386  0.193428  content_present  4340306774493623681   \n",
       "4 -2826566343807132236  0.080382  content_present  4340306774493623681   \n",
       "\n",
       "  item_type  \\\n",
       "0      HTML   \n",
       "1      HTML   \n",
       "2      HTML   \n",
       "3      HTML   \n",
       "4      HTML   \n",
       "\n",
       "                                                                                              item_url  \\\n",
       "0  http://www.nytimes.com/2016/03/28/business/dealbook/ethereum-a-virtual-currency-enables-transact...   \n",
       "1      http://cointelegraph.com/news/bitcoin-future-when-gbpcoin-of-branson-wins-over-usdcoin-of-trump   \n",
       "2                        https://cloudplatform.googleblog.com/2016/03/Google-Data-Center-360-Tour.html   \n",
       "3  https://bitcoinmagazine.com/articles/ibm-wants-to-evolve-the-internet-with-blockchain-technology...   \n",
       "4                                      http://www.coindesk.com/ieee-blockchain-oxford-cloud-computing/   \n",
       "\n",
       "                                                                     title  \\\n",
       "0  Ethereum, a Virtual Currency, Enables Transactions That Rival Bitcoin's   \n",
       "1       Bitcoin Future: When GBPcoin of Branson Wins Over USDcoin of Trump   \n",
       "2                                             Google Data Center 360° Tour   \n",
       "3            IBM Wants to \"Evolve the Internet\" With Blockchain Technology   \n",
       "4         IEEE to Talk Blockchain at Cloud Computing Oxford-Con - CoinDesk   \n",
       "\n",
       "                                                                                      text_description  \\\n",
       "0  All of this work is still very early. The first full public version of the Ethereum software was...   \n",
       "1  The alarm clock wakes me at 8:00 with stream of advert-free broadcasting, charged at one satoshi...   \n",
       "2  We're excited to share the Google Data Center 360° Tour - a YouTube 360° video that gives you an...   \n",
       "3  The Aite Group projects the blockchain market could be valued at $400 million by 2019. For that ...   \n",
       "4  One of the largest and oldest organizations for computing professionals will kick off its annual...   \n",
       "\n",
       "                    item_domain  \n",
       "0                   nytimes.com  \n",
       "1             cointelegraph.com  \n",
       "2  cloudplatform.googleblog.com  \n",
       "3           bitcoinmagazine.com  \n",
       "4                  coindesk.com  "
      ]
     },
     "execution_count": 244,
     "metadata": {},
     "output_type": "execute_result"
    }
   ],
   "source": [
    "# Dataframe of contet based\n",
    "merged_content_all.head()"
   ]
  },
  {
   "cell_type": "code",
   "execution_count": 245,
   "metadata": {},
   "outputs": [],
   "source": [
    "content_df = merged_content_all[['item_id','title','score',]]"
   ]
  },
  {
   "cell_type": "code",
   "execution_count": 246,
   "metadata": {},
   "outputs": [
    {
     "data": {
      "text/html": [
       "<div>\n",
       "<style scoped>\n",
       "    .dataframe tbody tr th:only-of-type {\n",
       "        vertical-align: middle;\n",
       "    }\n",
       "\n",
       "    .dataframe tbody tr th {\n",
       "        vertical-align: top;\n",
       "    }\n",
       "\n",
       "    .dataframe thead th {\n",
       "        text-align: right;\n",
       "    }\n",
       "</style>\n",
       "<table border=\"1\" class=\"dataframe\">\n",
       "  <thead>\n",
       "    <tr style=\"text-align: right;\">\n",
       "      <th></th>\n",
       "      <th>item_id</th>\n",
       "      <th>title</th>\n",
       "      <th>score</th>\n",
       "    </tr>\n",
       "  </thead>\n",
       "  <tbody>\n",
       "    <tr>\n",
       "      <th>0</th>\n",
       "      <td>-4110354420726924665</td>\n",
       "      <td>Ethereum, a Virtual Currency, Enables Transactions That Rival Bitcoin's</td>\n",
       "      <td>1.000000</td>\n",
       "    </tr>\n",
       "    <tr>\n",
       "      <th>1</th>\n",
       "      <td>-7292285110016212249</td>\n",
       "      <td>Bitcoin Future: When GBPcoin of Branson Wins Over USDcoin of Trump</td>\n",
       "      <td>0.022316</td>\n",
       "    </tr>\n",
       "    <tr>\n",
       "      <th>2</th>\n",
       "      <td>-6151852268067518688</td>\n",
       "      <td>Google Data Center 360° Tour</td>\n",
       "      <td>0.011867</td>\n",
       "    </tr>\n",
       "    <tr>\n",
       "      <th>3</th>\n",
       "      <td>2448026894306402386</td>\n",
       "      <td>IBM Wants to \"Evolve the Internet\" With Blockchain Technology</td>\n",
       "      <td>0.193428</td>\n",
       "    </tr>\n",
       "    <tr>\n",
       "      <th>4</th>\n",
       "      <td>-2826566343807132236</td>\n",
       "      <td>IEEE to Talk Blockchain at Cloud Computing Oxford-Con - CoinDesk</td>\n",
       "      <td>0.080382</td>\n",
       "    </tr>\n",
       "    <tr>\n",
       "      <th>...</th>\n",
       "      <td>...</td>\n",
       "      <td>...</td>\n",
       "      <td>...</td>\n",
       "    </tr>\n",
       "    <tr>\n",
       "      <th>2206</th>\n",
       "      <td>4675505028897335428</td>\n",
       "      <td>Swift Top 10 Articles For The Past Year (v.2017)</td>\n",
       "      <td>0.005957</td>\n",
       "    </tr>\n",
       "    <tr>\n",
       "      <th>2207</th>\n",
       "      <td>-3295913657316686039</td>\n",
       "      <td>Amazon takes on Skype and GoToMeeting with its Chime video conferencing app</td>\n",
       "      <td>0.015825</td>\n",
       "    </tr>\n",
       "    <tr>\n",
       "      <th>2208</th>\n",
       "      <td>3618271604906293310</td>\n",
       "      <td>Code.org 2016 Annual Report</td>\n",
       "      <td>0.034200</td>\n",
       "    </tr>\n",
       "    <tr>\n",
       "      <th>2209</th>\n",
       "      <td>6607431762270322325</td>\n",
       "      <td>JPMorgan Software Does in Seconds What Took Lawyers 360,000 Hours</td>\n",
       "      <td>0.060572</td>\n",
       "    </tr>\n",
       "    <tr>\n",
       "      <th>2210</th>\n",
       "      <td>4109618890343020064</td>\n",
       "      <td>The 2017 Acquia Partners of the Year</td>\n",
       "      <td>0.012883</td>\n",
       "    </tr>\n",
       "  </tbody>\n",
       "</table>\n",
       "<p>2211 rows × 3 columns</p>\n",
       "</div>"
      ],
      "text/plain": [
       "                  item_id  \\\n",
       "0    -4110354420726924665   \n",
       "1    -7292285110016212249   \n",
       "2    -6151852268067518688   \n",
       "3     2448026894306402386   \n",
       "4    -2826566343807132236   \n",
       "...                   ...   \n",
       "2206  4675505028897335428   \n",
       "2207 -3295913657316686039   \n",
       "2208  3618271604906293310   \n",
       "2209  6607431762270322325   \n",
       "2210  4109618890343020064   \n",
       "\n",
       "                                                                            title  \\\n",
       "0         Ethereum, a Virtual Currency, Enables Transactions That Rival Bitcoin's   \n",
       "1              Bitcoin Future: When GBPcoin of Branson Wins Over USDcoin of Trump   \n",
       "2                                                    Google Data Center 360° Tour   \n",
       "3                   IBM Wants to \"Evolve the Internet\" With Blockchain Technology   \n",
       "4                IEEE to Talk Blockchain at Cloud Computing Oxford-Con - CoinDesk   \n",
       "...                                                                           ...   \n",
       "2206                             Swift Top 10 Articles For The Past Year (v.2017)   \n",
       "2207  Amazon takes on Skype and GoToMeeting with its Chime video conferencing app   \n",
       "2208                                                  Code.org 2016 Annual Report   \n",
       "2209            JPMorgan Software Does in Seconds What Took Lawyers 360,000 Hours   \n",
       "2210                                         The 2017 Acquia Partners of the Year   \n",
       "\n",
       "         score  \n",
       "0     1.000000  \n",
       "1     0.022316  \n",
       "2     0.011867  \n",
       "3     0.193428  \n",
       "4     0.080382  \n",
       "...        ...  \n",
       "2206  0.005957  \n",
       "2207  0.015825  \n",
       "2208  0.034200  \n",
       "2209  0.060572  \n",
       "2210  0.012883  \n",
       "\n",
       "[2211 rows x 3 columns]"
      ]
     },
     "execution_count": 246,
     "metadata": {},
     "output_type": "execute_result"
    }
   ],
   "source": [
    "content_df"
   ]
  },
  {
   "cell_type": "code",
   "execution_count": 247,
   "metadata": {},
   "outputs": [
    {
     "name": "stderr",
     "output_type": "stream",
     "text": [
      "C:\\Users\\Admin\\anaconda3\\lib\\site-packages\\ipykernel_launcher.py:2: SettingWithCopyWarning: \n",
      "A value is trying to be set on a copy of a slice from a DataFrame.\n",
      "Try using .loc[row_indexer,col_indexer] = value instead\n",
      "\n",
      "See the caveats in the documentation: https://pandas.pydata.org/pandas-docs/stable/user_guide/indexing.html#returning-a-view-versus-a-copy\n",
      "  \n"
     ]
    }
   ],
   "source": [
    "# Normalize content based score\n",
    "content_df['content_score_normalized'] = (content_df['score']-min(content_df['score'])) / (max(content_df['score']) - min(content_df['score']))"
   ]
  },
  {
   "cell_type": "markdown",
   "metadata": {},
   "source": [
    "## -------------------- Hybrid: Combine two Models --------------------"
   ]
  },
  {
   "cell_type": "code",
   "execution_count": 251,
   "metadata": {},
   "outputs": [],
   "source": [
    "hybrid_output = pd.merge(collab_output_for_hybrid,content_df, how='left', on='item_id')"
   ]
  },
  {
   "cell_type": "code",
   "execution_count": 252,
   "metadata": {},
   "outputs": [
    {
     "data": {
      "text/html": [
       "<div>\n",
       "<style scoped>\n",
       "    .dataframe tbody tr th:only-of-type {\n",
       "        vertical-align: middle;\n",
       "    }\n",
       "\n",
       "    .dataframe tbody tr th {\n",
       "        vertical-align: top;\n",
       "    }\n",
       "\n",
       "    .dataframe thead th {\n",
       "        text-align: right;\n",
       "    }\n",
       "</style>\n",
       "<table border=\"1\" class=\"dataframe\">\n",
       "  <thead>\n",
       "    <tr style=\"text-align: right;\">\n",
       "      <th></th>\n",
       "      <th>item_id</th>\n",
       "      <th>title_x</th>\n",
       "      <th>score_x</th>\n",
       "      <th>collaborative_score_normalized</th>\n",
       "      <th>title_y</th>\n",
       "      <th>score_y</th>\n",
       "      <th>content_score_normalized</th>\n",
       "    </tr>\n",
       "  </thead>\n",
       "  <tbody>\n",
       "    <tr>\n",
       "      <th>0</th>\n",
       "      <td>-4320251915347436672</td>\n",
       "      <td>Trooly is using machine learning to judge trustworthiness from digital footprints</td>\n",
       "      <td>22.602103</td>\n",
       "      <td>1.000000</td>\n",
       "      <td>Trooly is using machine learning to judge trustworthiness from digital footprints</td>\n",
       "      <td>0.028578</td>\n",
       "      <td>0.028353</td>\n",
       "    </tr>\n",
       "    <tr>\n",
       "      <th>1</th>\n",
       "      <td>-4130193294870737688</td>\n",
       "      <td>Game of Loans</td>\n",
       "      <td>18.461753</td>\n",
       "      <td>0.816816</td>\n",
       "      <td>Game of Loans</td>\n",
       "      <td>0.014538</td>\n",
       "      <td>0.014309</td>\n",
       "    </tr>\n",
       "    <tr>\n",
       "      <th>2</th>\n",
       "      <td>-3951274083288934897</td>\n",
       "      <td>Digital Leadership Is Not an Optional Part of Being a CEO</td>\n",
       "      <td>14.305706</td>\n",
       "      <td>0.632937</td>\n",
       "      <td>Digital Leadership Is Not an Optional Part of Being a CEO</td>\n",
       "      <td>0.025116</td>\n",
       "      <td>0.024890</td>\n",
       "    </tr>\n",
       "    <tr>\n",
       "      <th>3</th>\n",
       "      <td>-986193709330758766</td>\n",
       "      <td>System Code Geeks are giving away a FREE Sublime Text Editor License</td>\n",
       "      <td>13.848119</td>\n",
       "      <td>0.612692</td>\n",
       "      <td>System Code Geeks are giving away a FREE Sublime Text Editor License</td>\n",
       "      <td>0.006765</td>\n",
       "      <td>0.006534</td>\n",
       "    </tr>\n",
       "    <tr>\n",
       "      <th>4</th>\n",
       "      <td>-3544655814153481738</td>\n",
       "      <td>New Africa Trend Briefing from TrendWatching | THE FUTURE OF AFRICONNECTION</td>\n",
       "      <td>11.356745</td>\n",
       "      <td>0.502464</td>\n",
       "      <td>New Africa Trend Briefing from TrendWatching | THE FUTURE OF AFRICONNECTION</td>\n",
       "      <td>0.015627</td>\n",
       "      <td>0.015398</td>\n",
       "    </tr>\n",
       "  </tbody>\n",
       "</table>\n",
       "</div>"
      ],
      "text/plain": [
       "               item_id  \\\n",
       "0 -4320251915347436672   \n",
       "1 -4130193294870737688   \n",
       "2 -3951274083288934897   \n",
       "3  -986193709330758766   \n",
       "4 -3544655814153481738   \n",
       "\n",
       "                                                                             title_x  \\\n",
       "0  Trooly is using machine learning to judge trustworthiness from digital footprints   \n",
       "1                                                                      Game of Loans   \n",
       "2                          Digital Leadership Is Not an Optional Part of Being a CEO   \n",
       "3               System Code Geeks are giving away a FREE Sublime Text Editor License   \n",
       "4        New Africa Trend Briefing from TrendWatching | THE FUTURE OF AFRICONNECTION   \n",
       "\n",
       "     score_x  collaborative_score_normalized  \\\n",
       "0  22.602103                        1.000000   \n",
       "1  18.461753                        0.816816   \n",
       "2  14.305706                        0.632937   \n",
       "3  13.848119                        0.612692   \n",
       "4  11.356745                        0.502464   \n",
       "\n",
       "                                                                             title_y  \\\n",
       "0  Trooly is using machine learning to judge trustworthiness from digital footprints   \n",
       "1                                                                      Game of Loans   \n",
       "2                          Digital Leadership Is Not an Optional Part of Being a CEO   \n",
       "3               System Code Geeks are giving away a FREE Sublime Text Editor License   \n",
       "4        New Africa Trend Briefing from TrendWatching | THE FUTURE OF AFRICONNECTION   \n",
       "\n",
       "    score_y  content_score_normalized  \n",
       "0  0.028578                  0.028353  \n",
       "1  0.014538                  0.014309  \n",
       "2  0.025116                  0.024890  \n",
       "3  0.006765                  0.006534  \n",
       "4  0.015627                  0.015398  "
      ]
     },
     "execution_count": 252,
     "metadata": {},
     "output_type": "execute_result"
    }
   ],
   "source": [
    "hybrid_output.head()"
   ]
  },
  {
   "cell_type": "code",
   "execution_count": 253,
   "metadata": {},
   "outputs": [],
   "source": [
    "hybrid_output['final_score'] = (hybrid_output['collaborative_score_normalized'] + hybrid_output['content_score_normalized'])/2"
   ]
  },
  {
   "cell_type": "code",
   "execution_count": 254,
   "metadata": {},
   "outputs": [],
   "source": [
    "hybrid_output = hybrid_output[['title_x','final_score','item_id']]"
   ]
  },
  {
   "cell_type": "code",
   "execution_count": 255,
   "metadata": {},
   "outputs": [
    {
     "data": {
      "text/html": [
       "<div>\n",
       "<style scoped>\n",
       "    .dataframe tbody tr th:only-of-type {\n",
       "        vertical-align: middle;\n",
       "    }\n",
       "\n",
       "    .dataframe tbody tr th {\n",
       "        vertical-align: top;\n",
       "    }\n",
       "\n",
       "    .dataframe thead th {\n",
       "        text-align: right;\n",
       "    }\n",
       "</style>\n",
       "<table border=\"1\" class=\"dataframe\">\n",
       "  <thead>\n",
       "    <tr style=\"text-align: right;\">\n",
       "      <th></th>\n",
       "      <th>title_x</th>\n",
       "      <th>final_score</th>\n",
       "      <th>item_id</th>\n",
       "    </tr>\n",
       "  </thead>\n",
       "  <tbody>\n",
       "    <tr>\n",
       "      <th>0</th>\n",
       "      <td>Trooly is using machine learning to judge trustworthiness from digital footprints</td>\n",
       "      <td>0.514176</td>\n",
       "      <td>-4320251915347436672</td>\n",
       "    </tr>\n",
       "    <tr>\n",
       "      <th>550</th>\n",
       "      <td>Ethereum, a Virtual Currency, Enables Transactions That Rival Bitcoin's</td>\n",
       "      <td>0.502387</td>\n",
       "      <td>-4110354420726924665</td>\n",
       "    </tr>\n",
       "    <tr>\n",
       "      <th>1</th>\n",
       "      <td>Game of Loans</td>\n",
       "      <td>0.415562</td>\n",
       "      <td>-4130193294870737688</td>\n",
       "    </tr>\n",
       "    <tr>\n",
       "      <th>2</th>\n",
       "      <td>Digital Leadership Is Not an Optional Part of Being a CEO</td>\n",
       "      <td>0.328913</td>\n",
       "      <td>-3951274083288934897</td>\n",
       "    </tr>\n",
       "    <tr>\n",
       "      <th>3</th>\n",
       "      <td>System Code Geeks are giving away a FREE Sublime Text Editor License</td>\n",
       "      <td>0.309613</td>\n",
       "      <td>-986193709330758766</td>\n",
       "    </tr>\n",
       "    <tr>\n",
       "      <th>793</th>\n",
       "      <td>For Blockchain VCs, the Time for Ethereum Investments Has Come - CoinDesk</td>\n",
       "      <td>0.267739</td>\n",
       "      <td>1485652648052127324</td>\n",
       "    </tr>\n",
       "    <tr>\n",
       "      <th>4</th>\n",
       "      <td>New Africa Trend Briefing from TrendWatching | THE FUTURE OF AFRICONNECTION</td>\n",
       "      <td>0.258931</td>\n",
       "      <td>-3544655814153481738</td>\n",
       "    </tr>\n",
       "    <tr>\n",
       "      <th>193</th>\n",
       "      <td>Solidity Available in Visual Studio - Ethereum Blog</td>\n",
       "      <td>0.240011</td>\n",
       "      <td>-6713697716910928909</td>\n",
       "    </tr>\n",
       "    <tr>\n",
       "      <th>5</th>\n",
       "      <td>Research at Google</td>\n",
       "      <td>0.233613</td>\n",
       "      <td>-5679427141235752819</td>\n",
       "    </tr>\n",
       "    <tr>\n",
       "      <th>6</th>\n",
       "      <td>Farmers Demand Right to Fix Their Own Dang Tractors - Modern Farmer</td>\n",
       "      <td>0.230929</td>\n",
       "      <td>-2929967869758467182</td>\n",
       "    </tr>\n",
       "  </tbody>\n",
       "</table>\n",
       "</div>"
      ],
      "text/plain": [
       "                                                                               title_x  \\\n",
       "0    Trooly is using machine learning to judge trustworthiness from digital footprints   \n",
       "550            Ethereum, a Virtual Currency, Enables Transactions That Rival Bitcoin's   \n",
       "1                                                                        Game of Loans   \n",
       "2                            Digital Leadership Is Not an Optional Part of Being a CEO   \n",
       "3                 System Code Geeks are giving away a FREE Sublime Text Editor License   \n",
       "793          For Blockchain VCs, the Time for Ethereum Investments Has Come - CoinDesk   \n",
       "4          New Africa Trend Briefing from TrendWatching | THE FUTURE OF AFRICONNECTION   \n",
       "193                                Solidity Available in Visual Studio - Ethereum Blog   \n",
       "5                                                                   Research at Google   \n",
       "6                  Farmers Demand Right to Fix Their Own Dang Tractors - Modern Farmer   \n",
       "\n",
       "     final_score              item_id  \n",
       "0       0.514176 -4320251915347436672  \n",
       "550     0.502387 -4110354420726924665  \n",
       "1       0.415562 -4130193294870737688  \n",
       "2       0.328913 -3951274083288934897  \n",
       "3       0.309613  -986193709330758766  \n",
       "793     0.267739  1485652648052127324  \n",
       "4       0.258931 -3544655814153481738  \n",
       "193     0.240011 -6713697716910928909  \n",
       "5       0.233613 -5679427141235752819  \n",
       "6       0.230929 -2929967869758467182  "
      ]
     },
     "execution_count": 255,
     "metadata": {},
     "output_type": "execute_result"
    }
   ],
   "source": [
    "hybrid_output.sort_values(by='final_score', ascending=False)[:10]"
   ]
  },
  {
   "cell_type": "markdown",
   "metadata": {},
   "source": [
    "## Other Type of offline evaluation techniques\n"
   ]
  },
  {
   "cell_type": "code",
   "execution_count": null,
   "metadata": {},
   "outputs": [],
   "source": [
    "#     Mean Absolute Error (MAE)\n",
    "#     Root Mean Square Error (RMSE)\n",
    "#     Hit Rate (HR)\n",
    "#     Average Reciprocal Hit Rate (ARHR)\n",
    "#     Cumulative Hit Rate (cHR)\n",
    "#     Rating Hit Rate (rHR)\n",
    "#     Coverage\n",
    "#     Diversity\n",
    "#     Novelty\n",
    "#     Churn\n",
    "#     Responsiveness\n",
    "# "
   ]
  },
  {
   "cell_type": "code",
   "execution_count": null,
   "metadata": {},
   "outputs": [],
   "source": []
  }
 ],
 "metadata": {
  "kernelspec": {
   "display_name": "Python 3",
   "language": "python",
   "name": "python3"
  },
  "language_info": {
   "codemirror_mode": {
    "name": "ipython",
    "version": 3
   },
   "file_extension": ".py",
   "mimetype": "text/x-python",
   "name": "python",
   "nbconvert_exporter": "python",
   "pygments_lexer": "ipython3",
   "version": "3.7.6"
  }
 },
 "nbformat": 4,
 "nbformat_minor": 4
}
